{
 "cells": [
  {
   "cell_type": "markdown",
   "metadata": {},
   "source": [
    "# Plot Raw Brain Images\n",
    "This script plots/displays multiple structural and functional MRI files for quick and easy checking. For my use-case, I'm checking the structural images for distortions and motion, and the functional images for alignment. The plots can also be interactive using the function: `view_img()`."
   ]
  },
  {
   "cell_type": "code",
   "execution_count": 14,
   "metadata": {},
   "outputs": [],
   "source": [
    "from os import listdir\n",
    "from os.path import isfile, join\n",
    "\n",
    "import numpy as np\n",
    "from nilearn import plotting, image\n",
    "from common.data import get_subjects"
   ]
  },
  {
   "cell_type": "markdown",
   "metadata": {},
   "source": [
    "## Plot Structural Images"
   ]
  },
  {
   "cell_type": "code",
   "execution_count": 15,
   "metadata": {},
   "outputs": [
    {
     "name": "stdout",
     "output_type": "stream",
     "text": [
      "Num subjects: 22\n"
     ]
    }
   ],
   "source": [
    "release = 8\n",
    "age = 10\n",
    "subject_folder = f'/imaging3/owenlab/wilson/MovieData/Release{release}/Age{age}'\n",
    "\n",
    "# subject_folder = f'/imaging3/owenlab/wilson/Healthy'\n",
    "# desired_subjects = [\n",
    "#     'sub-NDARAC904DMU', 'sub-NDARAE012DGA', 'sub-NDARMC759CX3', 'sub-NDARXT792GY8', \n",
    "#     'sub-NDARAP522AFK', 'sub-NDARBK082PDD', 'sub-NDARBW268XPY', 'sub-NDARCW963FP9', \n",
    "#     'sub-NDAREW661NZJ', 'sub-NDAREX065KJU', 'sub-NDARGD507TDZ', 'sub-NDARKN509RP9', \n",
    "#     'sub-NDARKT811ATJ', 'sub-NDARLJ886BFK', 'sub-NDARMF508PA2', 'sub-NDARTC527WPZ', \n",
    "#     'sub-NDARUY549PGQ'\n",
    "# ]\n",
    "\n",
    "subjects = get_subjects(subject_folder)\n",
    "print(\"Num subjects:\", len(subjects))"
   ]
  },
  {
   "cell_type": "code",
   "execution_count": null,
   "metadata": {},
   "outputs": [],
   "source": [
    "# For each subject, display their T1w scan\n",
    "for subject in subjects:\n",
    "    t1w_path = join(subject_folder, subject, \"sub-*_T1w.nii\")\n",
    "    img = image.load_img(t1w_path)\n",
    "    plotting.plot_anat(img, title=subject, cut_coords=(0, 0, 0), dim=-1, cmap='bone')"
   ]
  },
  {
   "cell_type": "markdown",
   "metadata": {},
   "source": [
    "## Plot Functional Images"
   ]
  },
  {
   "cell_type": "code",
   "execution_count": 19,
   "metadata": {},
   "outputs": [
    {
     "name": "stdout",
     "output_type": "stream",
     "text": [
      "Num subjects: 24\n"
     ]
    }
   ],
   "source": [
    "release = 8\n",
    "age = 10\n",
    "subject_folder = f'/imaging3/owenlab/wilson/MovieData/Release{release}/Age{age}/BioBank_Analysis_All/aamod_norm_write_00001'\n",
    "\n",
    "# subject_folder = f'/imaging3/owenlab/wilson/Healthy/BioBank_Analysis_All/aamod_norm_write_00001'\n",
    "# desired_subjects = [\n",
    "#     'sub-NDARAE012DGA', 'sub-NDARAP522AFK', 'sub-NDARBK082PDD', 'sub-NDARBW268XPY', \n",
    "#     'sub-NDARCW963FP9', 'sub-NDAREW661NZJ', 'sub-NDAREX065KJU', 'sub-NDARGD507TDZ', \n",
    "#     'sub-NDARKN509RP9', 'sub-NDARKT811ATJ', 'sub-NDARLJ886BFK', 'sub-NDARTC527WPZ',\n",
    "# ]\n",
    "\n",
    "subjects = get_subjects(subject_folder)\n",
    "print(\"Num subjects:\", len(subjects))"
   ]
  },
  {
   "cell_type": "code",
   "execution_count": null,
   "metadata": {},
   "outputs": [],
   "source": [
    "nifti_file_num = 10  # Which fMRI file to display\n",
    "\n",
    "for subject in subjects[:3]:\n",
    "    subject_path = join(subject_folder, subject)\n",
    "    subject_nifti = [join(subject_path, f) for f in listdir(subject_path) \n",
    "                     if isfile(join(subject_path, f)) and f.startswith('wrsub')][nifti_file_num]\n",
    "    plotting.plot_glass_brain(subject_nifti, title=subject, threshold=None, display_mode='lzr')"
   ]
  },
  {
   "cell_type": "markdown",
   "metadata": {},
   "source": [
    "### Display single fMRI"
   ]
  },
  {
   "cell_type": "code",
   "execution_count": null,
   "metadata": {},
   "outputs": [],
   "source": [
    "subject_path = '/imaging3/owenlab/wilson/MovieData/Release8/Age10/BioBank_Analysis_All/aamod_norm_write_00001/sub-NDARPL406KX4'\n",
    "\n",
    "files = [join(subject_path, f) for f in listdir(subject_path) \n",
    "         if isfile(join(subject_path, f)) and f.startswith('wrsub') and f.endswith('.nii')]\n",
    "concat_file = image.concat_imgs(files)\n",
    "print(files[0])"
   ]
  },
  {
   "cell_type": "code",
   "execution_count": 12,
   "metadata": {},
   "outputs": [],
   "source": [
    "selected_volumes = image.index_img(concat_file, slice(3, 5))\n",
    "\n",
    "for img in image.iter_img(selected_volumes):\n",
    "    plotting.view_img(img)"
   ]
  },
  {
   "cell_type": "code",
   "execution_count": null,
   "metadata": {},
   "outputs": [],
   "source": [
    "plotting.plot_glass_brain(image.mean_img(concat_file), threshold=None, display_mode='lzr')"
   ]
  }
 ],
 "metadata": {
  "kernelspec": {
   "display_name": "venv",
   "language": "python",
   "name": "venv"
  },
  "language_info": {
   "codemirror_mode": {
    "name": "ipython",
    "version": 3
   },
   "file_extension": ".py",
   "mimetype": "text/x-python",
   "name": "python",
   "nbconvert_exporter": "python",
   "pygments_lexer": "ipython3",
   "version": "3.8.13"
  }
 },
 "nbformat": 4,
 "nbformat_minor": 4
}
