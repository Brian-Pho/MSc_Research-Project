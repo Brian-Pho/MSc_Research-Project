{
 "cells": [
  {
   "cell_type": "markdown",
   "metadata": {},
   "source": [
    "# Plot Functional Connectivity\n",
    "\n",
    "This script plots the Power-based functional connectivity. The plot can take many forms such as a matrix, glass brain, or circular graph. This was used to check many functional connectivities simultaneously for artifacts and problems."
   ]
  },
  {
   "cell_type": "code",
   "execution_count": 1,
   "metadata": {},
   "outputs": [],
   "source": [
    "import pandas as pd\n",
    "import numpy as np\n",
    "\n",
    "%load_ext autoreload\n",
    "%autoreload 2\n",
    "\n",
    "import matplotlib.pyplot as plt\n",
    "%matplotlib inline\n",
    "\n",
    "from common.data import get_subject_id_from_path, get_fc_data, get_data\n",
    "from common.paths import HEALTHY, ADHD\n",
    "from common.plotting import plot_connections, plot_fc_matrix\n",
    "from common.power_atlas import to_power_fc_matrix\n",
    "from sklearn.preprocessing import StandardScaler"
   ]
  },
  {
   "cell_type": "markdown",
   "metadata": {},
   "source": [
    "## Plot One Power FC"
   ]
  },
  {
   "cell_type": "code",
   "execution_count": 9,
   "metadata": {},
   "outputs": [
    {
     "name": "stdout",
     "output_type": "stream",
     "text": [
      "Number of functional connectivity: 880\n",
      "Number of features (connections): (34716,)\n"
     ]
    }
   ],
   "source": [
    "sample_subject_id = \"NDARAP912JK3\"\n",
    "fcs = get_fc_data()\n",
    "\n",
    "print(\"Number of functional connectivity:\", len(fcs))\n",
    "print(\"Number of features (connections):\", fcs[sample_subject_id].shape)"
   ]
  },
  {
   "cell_type": "code",
   "execution_count": null,
   "metadata": {},
   "outputs": [],
   "source": [
    "plot_connections(fcs[sample_subject_id], -1, 1, \"99.5%\", True, True, False)"
   ]
  },
  {
   "cell_type": "markdown",
   "metadata": {},
   "source": [
    "## Plot Multiple Power FC"
   ]
  },
  {
   "cell_type": "code",
   "execution_count": 11,
   "metadata": {},
   "outputs": [
    {
     "name": "stdout",
     "output_type": "stream",
     "text": [
      "X: (373, 34716) | Y: 6 | Population: adhd\n"
     ]
    }
   ],
   "source": [
    "# NOTE: MUST MODIFY get_data() TO RETURN SUBJECT IDS OTHERWISE THIS FAILS\n",
    "X, Y, demographics, population, X_ids = get_data(label_path=ADHD)\n",
    "X = StandardScaler().fit_transform(X)\n",
    "\n",
    "print(f'X: {X.shape} | Y: {len(Y.keys())} | Population: {population} | IDs: {len(X_ids)}')"
   ]
  },
  {
   "cell_type": "code",
   "execution_count": 15,
   "metadata": {},
   "outputs": [],
   "source": [
    "filter_list = ['NDARKH171DG8', 'NDARJG298YVA', 'NDARFY009MNL', 'NDARPZ720WKW', \n",
    "               'NDARVC821LP9', 'NDARVC956HHP', 'NDARHD507TEF']\n",
    "\n",
    "for fc, fc_id in zip(X_t, X_ids_t):\n",
    "    print(fc_id)\n",
    "    if fc_id not in filter_list:\n",
    "        continue\n",
    "    plot_fc_matrix(to_power_fc_matrix(fc), -1, 1, title=fc_id))"
   ]
  },
  {
   "cell_type": "code",
   "execution_count": null,
   "metadata": {},
   "outputs": [],
   "source": []
  }
 ],
 "metadata": {
  "kernelspec": {
   "display_name": "venv",
   "language": "python",
   "name": "venv"
  },
  "language_info": {
   "codemirror_mode": {
    "name": "ipython",
    "version": 3
   },
   "file_extension": ".py",
   "mimetype": "text/x-python",
   "name": "python",
   "nbconvert_exporter": "python",
   "pygments_lexer": "ipython3",
   "version": "3.8.13"
  }
 },
 "nbformat": 4,
 "nbformat_minor": 4
}
