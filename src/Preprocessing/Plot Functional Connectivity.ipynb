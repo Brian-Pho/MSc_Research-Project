{
 "cells": [
  {
   "cell_type": "markdown",
   "metadata": {},
   "source": [
    "# Plot Functional Connectivity"
   ]
  },
  {
   "cell_type": "code",
   "execution_count": 5,
   "metadata": {},
   "outputs": [
    {
     "name": "stdout",
     "output_type": "stream",
     "text": [
      "The autoreload extension is already loaded. To reload it, use:\n",
      "  %reload_ext autoreload\n"
     ]
    },
    {
     "ename": "ModuleNotFoundError",
     "evalue": "No module named 'mne_connectivity'",
     "output_type": "error",
     "traceback": [
      "\u001b[0;31m---------------------------------------------------------------------------\u001b[0m",
      "\u001b[0;31mModuleNotFoundError\u001b[0m                       Traceback (most recent call last)",
      "Input \u001b[0;32mIn [5]\u001b[0m, in \u001b[0;36m<cell line: 20>\u001b[0;34m()\u001b[0m\n\u001b[1;32m     18\u001b[0m \u001b[38;5;28;01mfrom\u001b[39;00m \u001b[38;5;21;01mcommon\u001b[39;00m\u001b[38;5;21;01m.\u001b[39;00m\u001b[38;5;21;01mdata\u001b[39;00m \u001b[38;5;28;01mimport\u001b[39;00m get_subject_id_from_path, get_fc_data, get_data\n\u001b[1;32m     19\u001b[0m \u001b[38;5;28;01mfrom\u001b[39;00m \u001b[38;5;21;01mcommon\u001b[39;00m\u001b[38;5;21;01m.\u001b[39;00m\u001b[38;5;21;01mpaths\u001b[39;00m \u001b[38;5;28;01mimport\u001b[39;00m HEALTHY, ADHD\n\u001b[0;32m---> 20\u001b[0m \u001b[38;5;28;01mfrom\u001b[39;00m \u001b[38;5;21;01mcommon\u001b[39;00m\u001b[38;5;21;01m.\u001b[39;00m\u001b[38;5;21;01mplotting\u001b[39;00m \u001b[38;5;28;01mimport\u001b[39;00m plot_connections, plot_fc_matrix\n\u001b[1;32m     21\u001b[0m \u001b[38;5;28;01mfrom\u001b[39;00m \u001b[38;5;21;01mcommon\u001b[39;00m\u001b[38;5;21;01m.\u001b[39;00m\u001b[38;5;21;01mpower_atlas\u001b[39;00m \u001b[38;5;28;01mimport\u001b[39;00m to_power_fc_matrix\n\u001b[1;32m     22\u001b[0m \u001b[38;5;28;01mfrom\u001b[39;00m \u001b[38;5;21;01msklearn\u001b[39;00m\u001b[38;5;21;01m.\u001b[39;00m\u001b[38;5;21;01mpreprocessing\u001b[39;00m \u001b[38;5;28;01mimport\u001b[39;00m StandardScaler\n",
      "File \u001b[0;32m~/Documents/MSc_Research-Project/src/common/plotting.py:6\u001b[0m, in \u001b[0;36m<module>\u001b[0;34m\u001b[0m\n\u001b[1;32m      4\u001b[0m \u001b[38;5;28;01mimport\u001b[39;00m \u001b[38;5;21;01mmatplotlib\u001b[39;00m\u001b[38;5;21;01m.\u001b[39;00m\u001b[38;5;21;01mpyplot\u001b[39;00m \u001b[38;5;28;01mas\u001b[39;00m \u001b[38;5;21;01mplt\u001b[39;00m\n\u001b[1;32m      5\u001b[0m \u001b[38;5;28;01mfrom\u001b[39;00m \u001b[38;5;21;01mmne\u001b[39;00m\u001b[38;5;21;01m.\u001b[39;00m\u001b[38;5;21;01mviz\u001b[39;00m \u001b[38;5;28;01mimport\u001b[39;00m circular_layout, plot_connectivity_circle\n\u001b[0;32m----> 6\u001b[0m \u001b[38;5;28;01mfrom\u001b[39;00m \u001b[38;5;21;01mnilearn\u001b[39;00m \u001b[38;5;28;01mimport\u001b[39;00m plotting, datasets\n\u001b[1;32m      8\u001b[0m \u001b[38;5;28;01mfrom\u001b[39;00m \u001b[38;5;21;01mcommon\u001b[39;00m\u001b[38;5;21;01m.\u001b[39;00m\u001b[38;5;21;01mpaths\u001b[39;00m \u001b[38;5;28;01mimport\u001b[39;00m POWER\n\u001b[1;32m      9\u001b[0m \u001b[38;5;28;01mfrom\u001b[39;00m \u001b[38;5;21;01mcommon\u001b[39;00m\u001b[38;5;21;01m.\u001b[39;00m\u001b[38;5;21;01mpower_atlas\u001b[39;00m \u001b[38;5;28;01mimport\u001b[39;00m POWER_DATASET, POWER_COORDS, POWER_LABELS, POWER_LEGEND, POWER_NODE_COLORS, to_power_fc_matrix\n",
      "\u001b[0;31mModuleNotFoundError\u001b[0m: No module named 'mne_connectivity'"
     ]
    }
   ],
   "source": [
    "import pandas as pd\n",
    "import numpy as np\n",
    "\n",
    "%load_ext autoreload\n",
    "%autoreload 2\n",
    "\n",
    "import matplotlib.pyplot as plt\n",
    "%matplotlib inline\n",
    "\n",
    "# import seaborn as sns\n",
    "# sns.set_theme(\n",
    "#     context=\"paper\", \n",
    "#     style=\"whitegrid\", \n",
    "#     font_scale=1.2,\n",
    "#     rc={'figure.figsize': (10, 10), 'figure.dpi': 300}\n",
    "# )\n",
    "\n",
    "from common.data import get_subject_id_from_path, get_fc_data, get_data\n",
    "from common.paths import HEALTHY, ADHD\n",
    "from common.plotting import plot_connections, plot_fc_matrix\n",
    "from common.power_atlas import to_power_fc_matrix\n",
    "from sklearn.preprocessing import StandardScaler"
   ]
  },
  {
   "cell_type": "markdown",
   "metadata": {},
   "source": [
    "## Plot One Power FC"
   ]
  },
  {
   "cell_type": "code",
   "execution_count": 9,
   "metadata": {},
   "outputs": [
    {
     "name": "stdout",
     "output_type": "stream",
     "text": [
      "Number of functional connectivity: 880\n",
      "Number of features (connections): (34716,)\n"
     ]
    }
   ],
   "source": [
    "sample_subject_id = \"NDARAP912JK3\"\n",
    "fcs = get_fc_data()\n",
    "\n",
    "print(\"Number of functional connectivity:\", len(fcs))\n",
    "print(\"Number of features (connections):\", fcs[sample_subject_id].shape)"
   ]
  },
  {
   "cell_type": "code",
   "execution_count": null,
   "metadata": {},
   "outputs": [],
   "source": [
    "plot_connections(fcs[sample_subject_id], -1, 1, \"99.5%\", True, True, False)"
   ]
  },
  {
   "cell_type": "markdown",
   "metadata": {},
   "source": [
    "## Plot Multiple Power FC"
   ]
  },
  {
   "cell_type": "code",
   "execution_count": 11,
   "metadata": {},
   "outputs": [
    {
     "name": "stdout",
     "output_type": "stream",
     "text": [
      "X: (373, 34716) | Y: 6 | Population: adhd\n"
     ]
    }
   ],
   "source": [
    "X, Y, demographics, population, X_ids = get_data(label_path=ADHD)\n",
    "# X, Y, demographics, population = get_data(label_path=ADHD)\n",
    "X = StandardScaler().fit_transform(X)\n",
    "\n",
    "print(f'X: {X.shape} | Y: {len(Y.keys())} | Population: {population} | IDs: {len(X_ids)}')\n",
    "# print(f'X: {X.shape} | Y: {len(Y.keys())} | Population: {population}')"
   ]
  },
  {
   "cell_type": "code",
   "execution_count": 14,
   "metadata": {},
   "outputs": [],
   "source": [
    "start = 0\n",
    "end = 373\n",
    "X_t, X_ids_t = X[start:end], X_ids[start:end]"
   ]
  },
  {
   "cell_type": "code",
   "execution_count": 15,
   "metadata": {},
   "outputs": [],
   "source": [
    "filter_list = ['NDARKH171DG8', 'NDARJG298YVA', 'NDARFY009MNL', 'NDARPZ720WKW', \n",
    "               'NDARVC821LP9', 'NDARVC956HHP', 'NDARHD507TEF']\n",
    "\n",
    "for fc, fc_id in zip(X_t, X_ids_t):\n",
    "#     print(fc_id)\n",
    "#     if fc_id not in filter_list:\n",
    "#         continue\n",
    "    plot_fc_matrix(to_power_fc_matrix(fc), -1, 1, title=fc_id))"
   ]
  },
  {
   "cell_type": "code",
   "execution_count": null,
   "metadata": {},
   "outputs": [],
   "source": []
  }
 ],
 "metadata": {
  "kernelspec": {
   "display_name": "venv",
   "language": "python",
   "name": "venv"
  },
  "language_info": {
   "codemirror_mode": {
    "name": "ipython",
    "version": 3
   },
   "file_extension": ".py",
   "mimetype": "text/x-python",
   "name": "python",
   "nbconvert_exporter": "python",
   "pygments_lexer": "ipython3",
   "version": "3.8.13"
  }
 },
 "nbformat": 4,
 "nbformat_minor": 4
}
