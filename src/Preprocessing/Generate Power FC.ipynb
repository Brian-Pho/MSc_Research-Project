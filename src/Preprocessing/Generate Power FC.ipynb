{
 "cells": [
  {
   "cell_type": "markdown",
   "metadata": {},
   "source": [
    "# Generate Power Functional Connectivity\n",
    "This script performs further processing on the data by generating the functional connectivities from the preprocessed data. We take in data from the final output of AA in the `aamod_firstlevel_modelestimate_saveresids_00001` folder and generate functional connectivity from the NIfTI files using the Power et al. brain atlas composed of 264 ROIs.\n",
    "\n",
    "I'm following the guide here: <https://nilearn.github.io/auto_examples/03_connectivity/plot_sphere_based_connectome.html>"
   ]
  },
  {
   "cell_type": "markdown",
   "metadata": {},
   "source": [
    "## Set up imports"
   ]
  },
  {
   "cell_type": "code",
   "execution_count": 2,
   "metadata": {},
   "outputs": [],
   "source": [
    "from os import listdir, makedirs\n",
    "from os.path import isfile, join, exists\n",
    "import time\n",
    "\n",
    "import numpy as np\n",
    "from nilearn import image\n",
    "from common.paths import POWER_FC\n",
    "from common.power_atlas import generate_power_fc_matrix"
   ]
  },
  {
   "cell_type": "markdown",
   "metadata": {},
   "source": [
    "## Set up input and output"
   ]
  },
  {
   "cell_type": "code",
   "execution_count": 3,
   "metadata": {},
   "outputs": [],
   "source": [
    "aa_folder = 'BioBank_Analysis_All/'\n",
    "saveresids_folder = 'aamod_firstlevel_modelestimate_saveresids_00001/'\n",
    "python_fc_folder = 'python_power_fc'"
   ]
  },
  {
   "cell_type": "markdown",
   "metadata": {},
   "source": [
    "## Generate FCs"
   ]
  },
  {
   "cell_type": "code",
   "execution_count": null,
   "metadata": {},
   "outputs": [],
   "source": [
    "for age in range(7, 8):\n",
    "    print(\"Processing age:\", age)\n",
    "#     age_dir = f'/imaging/owenlab/klyons/fMRI/CBS_DevCog/BioBankData/Age{age}Data/'\n",
    "    age_dir = '/imaging3/owenlab/wilson/Healthy'\n",
    "\n",
    "    input_path = join(age_dir, aa_folder, saveresids_folder)\n",
    "    output_path = join(POWER_FC, 'Healthy')\n",
    "\n",
    "    # Grab all subjects\n",
    "    subjects = [folder for folder in listdir(input_path) if folder.startswith(\"sub-\")]\n",
    "\n",
    "    for subject in subjects:\n",
    "        print(\"Processing subject:\", subject)\n",
    "        start_time = time.time()\n",
    "        subject_input_path = join(input_path, subject)\n",
    "        subject_output_path = join(output_path, subject)\n",
    "\n",
    "        # Check if we've already generated the FC for this subject\n",
    "        if exists(subject_output_path):\n",
    "            print(\"  Skipping subject due to already generated FC.\")\n",
    "            continue\n",
    "\n",
    "        subject_niftis = [join(subject_input_path, f) for f in listdir(subject_input_path) \n",
    "                          if isfile(join(subject_input_path, f)) and f.startswith('ResI')]\n",
    "\n",
    "        if len(subject_niftis) != 745:\n",
    "            print(\"  Incomplete subject niftis:\", len(subject_niftis))\n",
    "            continue\n",
    "\n",
    "        subject_concat_image = image.concat_imgs(subject_niftis)\n",
    "        subject_corr_matrix = generate_power_fc_matrix()\n",
    "\n",
    "        makedirs(subject_output_path)\n",
    "        subject_corr_filename = join(subject_output_path, 'power_fc.npy')\n",
    "        np.save(subject_corr_filename, subject_corr_matrix)\n",
    "        print(\"  Time elapsed:\", time.time() - start_time)"
   ]
  },
  {
   "cell_type": "code",
   "execution_count": null,
   "metadata": {},
   "outputs": [],
   "source": []
  }
 ],
 "metadata": {
  "kernelspec": {
   "display_name": "venv",
   "language": "python",
   "name": "venv"
  },
  "language_info": {
   "codemirror_mode": {
    "name": "ipython",
    "version": 3
   },
   "file_extension": ".py",
   "mimetype": "text/x-python",
   "name": "python",
   "nbconvert_exporter": "python",
   "pygments_lexer": "ipython3",
   "version": "3.7.10"
  }
 },
 "nbformat": 4,
 "nbformat_minor": 4
}
