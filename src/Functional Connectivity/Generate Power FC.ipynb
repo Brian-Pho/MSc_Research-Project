{
 "cells": [
  {
   "cell_type": "markdown",
   "metadata": {},
   "source": [
    "# Generate Power Functional Connectivity\n",
    "This script performs further processing on the data by generating the functional connectivities from the preprocessed data. We take in data from the final output of AA in the `aamod_firstlevel_modelestimate_saveresids_00001` folder and generate functional connectivity from the NIfTI files using the Power et al. brain atlas composed of 264 ROIs.\n",
    "\n",
    "I'm following the guide here: <https://nilearn.github.io/auto_examples/03_connectivity/plot_sphere_based_connectome.html>"
   ]
  },
  {
   "cell_type": "markdown",
   "metadata": {},
   "source": [
    "## Set up imports"
   ]
  },
  {
   "cell_type": "code",
   "execution_count": 1,
   "metadata": {},
   "outputs": [],
   "source": [
    "from os import listdir, makedirs\n",
    "from os.path import isfile, join, exists\n",
    "import time\n",
    "\n",
    "from nilearn import plotting, image, datasets\n",
    "from nilearn.input_data import NiftiSpheresMasker\n",
    "from nilearn.connectome import ConnectivityMeasure\n",
    "import numpy as np"
   ]
  },
  {
   "cell_type": "markdown",
   "metadata": {},
   "source": [
    "## Set up input and output"
   ]
  },
  {
   "cell_type": "code",
   "execution_count": 2,
   "metadata": {},
   "outputs": [],
   "source": [
    "aa_folder = 'BioBank_Analysis/'\n",
    "saveresids_folder = 'aamod_firstlevel_modelestimate_saveresids_00001/'\n",
    "python_fc_folder = 'python_power_fc'"
   ]
  },
  {
   "cell_type": "markdown",
   "metadata": {},
   "source": [
    "## Set up FC functions"
   ]
  },
  {
   "cell_type": "code",
   "execution_count": 3,
   "metadata": {},
   "outputs": [],
   "source": [
    "power = datasets.fetch_coords_power_2011()\n",
    "coords = np.vstack((power.rois['x'], power.rois['y'], power.rois['z'])).T\n",
    "\n",
    "spheres_masker = NiftiSpheresMasker(\n",
    "    seeds=coords, smoothing_fwhm=6, radius=5., standardize=True)\n",
    "\n",
    "def generate_power_fc(file):\n",
    "    time_series = spheres_masker.fit_transform(file)\n",
    "    \n",
    "    correlation_measure = ConnectivityMeasure(kind='correlation')\n",
    "    correlation_matrix = correlation_measure.fit_transform([time_series])[0]\n",
    "    \n",
    "    return correlation_matrix"
   ]
  },
  {
   "cell_type": "code",
   "execution_count": 4,
   "metadata": {},
   "outputs": [],
   "source": [
    "def visualize_corr_matrix(corr_matrix):\n",
    "    np.fill_diagonal(corr_matrix, 0)\n",
    "    plotting.plot_matrix(corr_matrix, vmin=-1., vmax=1., colorbar=True, figure=(20, 20),\n",
    "                     title='Power correlation matrix')\n",
    "#     plotting.plot_connectome(corr_matrix, coords, title='Power correlation graph',\n",
    "#                          edge_threshold='98.0%', node_size=20, colorbar=True)"
   ]
  },
  {
   "cell_type": "markdown",
   "metadata": {},
   "source": [
    "## Generate FCs"
   ]
  },
  {
   "cell_type": "code",
   "execution_count": 7,
   "metadata": {},
   "outputs": [
    {
     "name": "stdout",
     "output_type": "stream",
     "text": [
      "Processing age: 18\n",
      "  Processing subject: sub-NDARRJ989YPA\n",
      "  Time elapsed: 95.42229318618774\n",
      "  Processing subject: sub-NDAREP505XAD\n",
      "  Time elapsed: 94.71648669242859\n",
      "  Processing subject: sub-NDARFV061AR5\n",
      "  Time elapsed: 94.10099744796753\n",
      "  Processing subject: sub-NDARMR039JV5\n",
      "  Time elapsed: 94.61761903762817\n",
      "  Processing subject: sub-NDARGB441VVD\n",
      "  Time elapsed: 93.4177131652832\n",
      "  Processing subject: sub-NDARPN886HH9\n",
      "  Time elapsed: 93.43469619750977\n",
      "  Processing subject: sub-NDAREL410HHK\n",
      "  Time elapsed: 93.80072379112244\n",
      "  Processing subject: sub-NDARYF728BEP\n",
      "  Time elapsed: 97.86800289154053\n",
      "  Processing subject: sub-NDARKM784VA7\n",
      "  Time elapsed: 120.15167307853699\n",
      "  Processing subject: sub-NDARPY478YM0\n",
      "  Time elapsed: 93.65082240104675\n",
      "  Processing subject: sub-NDARYF368WEA\n",
      "  Time elapsed: 97.21884632110596\n",
      "  Processing subject: sub-NDARUV578DU2\n",
      "  Incomplete subject niftis: 0\n",
      "  Processing subject: sub-NDARHL164JHH\n",
      "  Time elapsed: 94.91461110115051\n",
      "  Processing subject: sub-NDARZP630WYL\n",
      "  Time elapsed: 99.50134110450745\n",
      "  Processing subject: sub-NDARFA737TG6\n",
      "  Time elapsed: 94.48462724685669\n",
      "  Processing subject: sub-NDARCV154DB9\n",
      "  Time elapsed: 94.88421583175659\n",
      "  Processing subject: sub-NDARJG740PM8\n",
      "  Time elapsed: 93.7839367389679\n",
      "  Processing subject: sub-NDARKG697CEW\n",
      "  Time elapsed: 95.31851863861084\n",
      "  Processing subject: sub-NDAREV342ABE\n",
      "  Time elapsed: 94.1342031955719\n",
      "  Processing subject: sub-NDARHP841RMR\n",
      "  Time elapsed: 94.41819977760315\n",
      "  Processing subject: sub-NDARGY622NG6\n",
      "  Time elapsed: 94.71703815460205\n",
      "  Processing subject: sub-NDARVN920VHJ\n",
      "  Time elapsed: 101.23398494720459\n",
      "  Processing subject: sub-NDARZK753WGR\n",
      "  Time elapsed: 98.40290331840515\n",
      "  Processing subject: sub-NDARKY667THK\n",
      "  Time elapsed: 94.60051488876343\n",
      "  Processing subject: sub-NDARBF851NH6\n",
      "  Time elapsed: 94.48400235176086\n",
      "  Processing subject: sub-NDARDC987BMU\n",
      "  Time elapsed: 94.11885714530945\n",
      "  Processing subject: sub-NDARYE850ZVD\n",
      "  Time elapsed: 101.76731181144714\n",
      "  Processing subject: sub-NDARRK545WNM\n",
      "  Time elapsed: 102.66791582107544\n",
      "  Processing subject: sub-NDARMV319CAT\n",
      "  Time elapsed: 94.55079174041748\n",
      "  Processing subject: sub-NDARUM791WPF\n",
      "  Time elapsed: 98.2509696483612\n",
      "  Processing subject: sub-NDARAT581NDH\n",
      "  Time elapsed: 94.5692663192749\n"
     ]
    }
   ],
   "source": [
    "for age in range(18, 19):\n",
    "    print(\"Processing age:\", age)\n",
    "    age_dir = f'/imaging2/owenlab/wilson/MovieData/Age{age}'\n",
    "\n",
    "    input_path = join(age_dir, aa_folder, saveresids_folder)\n",
    "    output_path = join(age_dir, aa_folder, python_fc_folder)\n",
    "\n",
    "    # Grab all subjects\n",
    "    subjects = [folder for folder in listdir(input_path) if folder.startswith(\"sub-\")]\n",
    "\n",
    "    for subject in subjects:\n",
    "        print(\"  Processing subject:\", subject)\n",
    "        start_time = time.time()\n",
    "        subject_input_path = join(input_path, subject)\n",
    "        subject_output_path = join(output_path, subject)\n",
    "\n",
    "        # Check if we've already generated the FC for this subject\n",
    "        if exists(subject_output_path):\n",
    "            print(\"  Skipping subject due to already generated FC.\")\n",
    "            continue\n",
    "\n",
    "        subject_niftis = [join(subject_input_path, f) for f in listdir(subject_input_path) \n",
    "                          if isfile(join(subject_input_path, f)) and f.startswith('ResI')]\n",
    "\n",
    "        if len(subject_niftis) != 745:\n",
    "            print(\"  Incomplete subject niftis:\", len(subject_niftis))\n",
    "            continue\n",
    "\n",
    "        subject_concat_image = image.concat_imgs(subject_niftis)\n",
    "        subject_corr_matrix = generate_power_fc(subject_concat_image)\n",
    "\n",
    "        makedirs(subject_output_path)\n",
    "        subject_corr_filename = join(subject_output_path, 'power_fc.npy')\n",
    "        np.save(subject_corr_filename, subject_corr_matrix)\n",
    "        print(\"  Time elapsed:\", time.time() - start_time)\n",
    "    #     visualize_corr_matrix(subject_corr_matrix)"
   ]
  },
  {
   "cell_type": "code",
   "execution_count": null,
   "metadata": {},
   "outputs": [],
   "source": []
  }
 ],
 "metadata": {
  "kernelspec": {
   "display_name": "Python 3",
   "language": "python",
   "name": "python3"
  },
  "language_info": {
   "codemirror_mode": {
    "name": "ipython",
    "version": 3
   },
   "file_extension": ".py",
   "mimetype": "text/x-python",
   "name": "python",
   "nbconvert_exporter": "python",
   "pygments_lexer": "ipython3",
   "version": "3.8.3"
  }
 },
 "nbformat": 4,
 "nbformat_minor": 4
}
