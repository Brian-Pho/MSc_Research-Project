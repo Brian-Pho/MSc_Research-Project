{
 "cells": [
  {
   "cell_type": "markdown",
   "metadata": {},
   "source": [
    "# Neural Network\n",
    "This script uses a neural network to model the relationship between brains and cognition."
   ]
  },
  {
   "cell_type": "code",
   "execution_count": 4,
   "metadata": {},
   "outputs": [],
   "source": [
    "import glob\n",
    "import os\n",
    "\n",
    "import tensorflow as tf\n",
    "from tensorflow import keras\n",
    "from tensorflow.keras import layers\n",
    "import pandas as pd\n",
    "import numpy as np\n",
    "import matplotlib.pyplot as plt"
   ]
  },
  {
   "cell_type": "markdown",
   "metadata": {},
   "source": [
    "## Get Data"
   ]
  },
  {
   "cell_type": "code",
   "execution_count": 5,
   "metadata": {},
   "outputs": [],
   "source": [
    "def get_subject_from_path(path):\n",
    "    normalized_path = os.path.normpath(path)\n",
    "    path_components = normalized_path.split(os.sep)\n",
    "    return path_components[-2][4:]"
   ]
  },
  {
   "cell_type": "code",
   "execution_count": 6,
   "metadata": {},
   "outputs": [
    {
     "name": "stdout",
     "output_type": "stream",
     "text": [
      "Number of functional connectivity: 722\n",
      "Number of features (connections): 34716\n"
     ]
    }
   ],
   "source": [
    "# Search for all functional connectivity files and read them\n",
    "fc_path = '/imaging3/owenlab/bpho/python_power_fc'\n",
    "fc_paths = glob.glob(fc_path + '/**/power_fc.npy', recursive=True)\n",
    "\n",
    "fcs = {}\n",
    "for path in fc_paths:\n",
    "    subject_id = get_subject_from_path(path)\n",
    "    # print(subject_id)\n",
    "    subject_fc = np.load(path)\n",
    "    fcs[subject_id] = subject_fc[np.triu_indices(264, k=1)]\n",
    "print(\"Number of functional connectivity:\", len(fcs))\n",
    "print(\"Number of features (connections):\", fcs[\"NDARAP912JK3\"].shape[0])"
   ]
  },
  {
   "cell_type": "markdown",
   "metadata": {},
   "source": [
    "## Get Labels"
   ]
  },
  {
   "cell_type": "code",
   "execution_count": 7,
   "metadata": {},
   "outputs": [],
   "source": [
    "wisc_label_path = \"/imaging3/owenlab/bpho/Biobank Labels/Subjects_with_WISC.csv\"\n",
    "wisc_labels = pd.read_csv(wisc_label_path, index_col='assessment WISC,EID')\n",
    "# display(wisc_labels)"
   ]
  },
  {
   "cell_type": "code",
   "execution_count": 19,
   "metadata": {},
   "outputs": [
    {
     "name": "stdout",
     "output_type": "stream",
     "text": [
      "Num subjects with measures: 577\n"
     ]
    }
   ],
   "source": [
    "subject_ids = wisc_labels.index\n",
    "# measure_text = \"WISC_FW_Scaled\"\n",
    "# measure_col = f'assessment WISC,{measure_text}'\n",
    "measure_text = \"Age\"\n",
    "measure_col = 'assessment Basic_Demos,Age'\n",
    "\n",
    "fc_matrices = []\n",
    "measures = []\n",
    "\n",
    "for subject_id in subject_ids:\n",
    "    if subject_id not in fcs:\n",
    "        continue\n",
    "    \n",
    "    fc_matrices.append(fcs[subject_id])\n",
    "    measures.append(wisc_labels.at[subject_id, measure_col])\n",
    "    \n",
    "print(\"Num subjects with measures:\", len(measures))"
   ]
  },
  {
   "cell_type": "code",
   "execution_count": 20,
   "metadata": {},
   "outputs": [
    {
     "name": "stdout",
     "output_type": "stream",
     "text": [
      "X shape: (577, 34716) y shape: (577,)\n"
     ]
    }
   ],
   "source": [
    "X = np.array(fc_matrices)\n",
    "y = np.array(measures)\n",
    "\n",
    "print(\"X shape:\", X.shape, \"y shape:\", y.shape)"
   ]
  },
  {
   "cell_type": "markdown",
   "metadata": {},
   "source": [
    "## Dense Neural Network"
   ]
  },
  {
   "cell_type": "code",
   "execution_count": 27,
   "metadata": {},
   "outputs": [
    {
     "name": "stdout",
     "output_type": "stream",
     "text": [
      "Model: \"functional_13\"\n",
      "_________________________________________________________________\n",
      "Layer (type)                 Output Shape              Param #   \n",
      "=================================================================\n",
      "input_7 (InputLayer)         [(None, 34716)]           0         \n",
      "_________________________________________________________________\n",
      "dense_24 (Dense)             (None, 5000)              173585000 \n",
      "_________________________________________________________________\n",
      "dense_25 (Dense)             (None, 5000)              25005000  \n",
      "_________________________________________________________________\n",
      "dense_26 (Dense)             (None, 1000)              5001000   \n",
      "_________________________________________________________________\n",
      "dense_27 (Dense)             (None, 1)                 1001      \n",
      "=================================================================\n",
      "Total params: 203,592,001\n",
      "Trainable params: 203,592,001\n",
      "Non-trainable params: 0\n",
      "_________________________________________________________________\n"
     ]
    }
   ],
   "source": [
    "input_layer = layers.Input((34716,))\n",
    "layer_1 = layers.Dense(5000, activation='relu')(input_layer)\n",
    "layer_2 = layers.Dense(5000, activation='relu')(layer_1)\n",
    "layer_3 = layers.Dense(1000, activation='relu')(layer_2)\n",
    "output_layer = layers.Dense(1, activation=None)(layer_3)\n",
    "model = keras.models.Model(input_layer, output_layer)\n",
    "model.summary()"
   ]
  },
  {
   "cell_type": "code",
   "execution_count": 28,
   "metadata": {},
   "outputs": [
    {
     "name": "stdout",
     "output_type": "stream",
     "text": [
      "Epoch 1/10\n",
      "15/15 [==============================] - 13s 878ms/step - loss: 33085.7070 - accuracy: 0.0000e+00 - val_loss: 18.9126 - val_accuracy: 0.0000e+00\n",
      "Epoch 2/10\n",
      "15/15 [==============================] - 12s 802ms/step - loss: 17.8775 - accuracy: 0.0000e+00 - val_loss: 9.5831 - val_accuracy: 0.0000e+00\n",
      "Epoch 3/10\n",
      "15/15 [==============================] - 12s 796ms/step - loss: 19.0055 - accuracy: 0.0000e+00 - val_loss: 18.6999 - val_accuracy: 0.0000e+00\n",
      "Epoch 4/10\n",
      "15/15 [==============================] - 12s 794ms/step - loss: 128.9484 - accuracy: 0.0000e+00 - val_loss: 10.5662 - val_accuracy: 0.0000e+00\n",
      "Epoch 5/10\n",
      "15/15 [==============================] - 12s 796ms/step - loss: 5.0997 - accuracy: 0.0000e+00 - val_loss: 8.1498 - val_accuracy: 0.0000e+00\n",
      "Epoch 6/10\n",
      "15/15 [==============================] - 12s 798ms/step - loss: 15.7198 - accuracy: 0.0000e+00 - val_loss: 11.7792 - val_accuracy: 0.0000e+00\n",
      "Epoch 7/10\n",
      "15/15 [==============================] - 12s 804ms/step - loss: 8.0736 - accuracy: 0.0000e+00 - val_loss: 9.9065 - val_accuracy: 0.0000e+00\n",
      "Epoch 8/10\n",
      "15/15 [==============================] - 12s 802ms/step - loss: 3.1416 - accuracy: 0.0000e+00 - val_loss: 7.5145 - val_accuracy: 0.0000e+00\n",
      "Epoch 9/10\n",
      "15/15 [==============================] - 12s 804ms/step - loss: 2.3377 - accuracy: 0.0000e+00 - val_loss: 5.4428 - val_accuracy: 0.0000e+00\n",
      "Epoch 10/10\n",
      "15/15 [==============================] - 12s 796ms/step - loss: 1.9466 - accuracy: 0.0000e+00 - val_loss: 7.1434 - val_accuracy: 0.0000e+00\n"
     ]
    }
   ],
   "source": [
    "model.compile(loss='mse', optimizer='adam', metrics=['accuracy'])\n",
    "history = model.fit(X, y, batch_size=32, epochs=10, \n",
    "          validation_split=0.2, shuffle=True)"
   ]
  },
  {
   "cell_type": "code",
   "execution_count": 29,
   "metadata": {},
   "outputs": [
    {
     "data": {
      "image/png": "[encoded data removed]",
      "text/plain": [
       "<Figure size 432x288 with 1 Axes>"
      ]
     },
     "metadata": {
      "needs_background": "light"
     },
     "output_type": "display_data"
    },
    {
     "data": {
      "image/png": "[encoded data removed]",
      "text/plain": [
       "<Figure size 432x288 with 1 Axes>"
      ]
     },
     "metadata": {
      "needs_background": "light"
     },
     "output_type": "display_data"
    }
   ],
   "source": [
    "# Plot training & validation accuracy values\n",
    "plt.plot(history.history['accuracy'])\n",
    "plt.plot(history.history['val_accuracy'])\n",
    "plt.title('Model accuracy')\n",
    "plt.ylabel('Accuracy')\n",
    "plt.xlabel('Epoch')\n",
    "plt.legend(['Train', 'Validation'], loc='upper left')\n",
    "plt.show()\n",
    "\n",
    "# Plot training & validation loss values\n",
    "plt.plot(history.history['loss'])\n",
    "plt.plot(history.history['val_loss'])\n",
    "plt.title('Model loss')\n",
    "plt.ylabel('Loss')\n",
    "plt.xlabel('Epoch')\n",
    "plt.legend(['Train', 'Validation'], loc='upper left')\n",
    "plt.show()"
   ]
  },
  {
   "cell_type": "markdown",
   "metadata": {},
   "source": [
    "## Convolutional Neural Network"
   ]
  },
  {
   "cell_type": "code",
   "execution_count": null,
   "metadata": {},
   "outputs": [],
   "source": []
  }
 ],
 "metadata": {
  "kernelspec": {
   "display_name": "venv",
   "language": "python",
   "name": "venv"
  },
  "language_info": {
   "codemirror_mode": {
    "name": "ipython",
    "version": 3
   },
   "file_extension": ".py",
   "mimetype": "text/x-python",
   "name": "python",
   "nbconvert_exporter": "python",
   "pygments_lexer": "ipython3",
   "version": "3.7.9"
  }
 },
 "nbformat": 4,
 "nbformat_minor": 4
}
