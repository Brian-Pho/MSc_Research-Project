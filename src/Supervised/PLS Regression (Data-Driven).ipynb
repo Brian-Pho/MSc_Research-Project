{
 "cells": [
  {
   "cell_type": "markdown",
   "metadata": {},
   "source": [
    "# PLS Regression\n",
    "I'm following this paper: <https://www.sciencedirect.com/science/article/pii/S1878929316301074?via%3Dihub>"
   ]
  },
  {
   "cell_type": "code",
   "execution_count": 1,
   "metadata": {},
   "outputs": [],
   "source": [
    "import glob\n",
    "import os\n",
    "\n",
    "import pandas as pd\n",
    "import numpy as np\n",
    "from scipy import stats\n",
    "import matplotlib.pyplot as plt"
   ]
  },
  {
   "cell_type": "markdown",
   "metadata": {},
   "source": [
    "## Get Data"
   ]
  },
  {
   "cell_type": "code",
   "execution_count": 2,
   "metadata": {},
   "outputs": [],
   "source": [
    "def get_subject_from_path(path):\n",
    "    normalized_path = os.path.normpath(path)\n",
    "    path_components = normalized_path.split(os.sep)\n",
    "    return path_components[-2][4:]"
   ]
  },
  {
   "cell_type": "code",
   "execution_count": 5,
   "metadata": {},
   "outputs": [
    {
     "name": "stdout",
     "output_type": "stream",
     "text": [
      "Number of functional connectivity: 825\n",
      "Number of features (connections): 34716\n"
     ]
    }
   ],
   "source": [
    "# Search for all functional connectivity files and read them\n",
    "fc_path = '/imaging3/owenlab/bpho/python_power_fc'\n",
    "fc_paths = glob.glob(fc_path + '/**/power_fc.npy', recursive=True)\n",
    "\n",
    "fcs = {}\n",
    "for path in fc_paths:\n",
    "    subject_id = get_subject_from_path(path)\n",
    "    subject_fc = np.load(path)\n",
    "    fcs[subject_id] = subject_fc[np.triu_indices(264, k=1)]\n",
    "print(\"Number of functional connectivity:\", len(fcs))\n",
    "print(\"Number of features (connections):\", fcs[\"NDARAP912JK3\"].shape[0])"
   ]
  },
  {
   "cell_type": "markdown",
   "metadata": {},
   "source": [
    "## Get Labels"
   ]
  },
  {
   "cell_type": "code",
   "execution_count": 6,
   "metadata": {},
   "outputs": [],
   "source": [
    "wisc_label_path = \"/imaging3/owenlab/bpho/Biobank Labels/Subjects_with_WISC.csv\"\n",
    "wisc_labels = pd.read_csv(wisc_label_path, index_col='assessment WISC,EID')\n",
    "# display(wisc_labels)"
   ]
  },
  {
   "cell_type": "code",
   "execution_count": 27,
   "metadata": {},
   "outputs": [
    {
     "name": "stdout",
     "output_type": "stream",
     "text": [
      "Num subjects with measures: 577\n"
     ]
    }
   ],
   "source": [
    "subject_ids = wisc_labels.index\n",
    "wisc_scaled_measure = [\n",
    "    'WISC_BD_Scaled', \n",
    "    'WISC_Similarities_Scaled', \n",
    "    'WISC_MR_Scaled',\n",
    "    'WISC_DS_Scaled',\n",
    "    'WISC_Coding_Scaled',\n",
    "    'WISC_Vocab_Scaled',\n",
    "    'WISC_FW_Scaled',\n",
    "    'WISC_VP_Scaled',\n",
    "    'WISC_PS_Scaled',\n",
    "    'WISC_SS_Scaled',\n",
    "    'WISC_FSIQ',\n",
    "]\n",
    "age_col = 'assessment Basic_Demos,Age'\n",
    "\n",
    "fc_matrices = []\n",
    "ages = []\n",
    "measures = {measure: [] for measure in wisc_scaled_measure}\n",
    "\n",
    "for subject_id in subject_ids:\n",
    "    if subject_id not in fcs:\n",
    "        continue\n",
    "    \n",
    "    fc_matrices.append(fcs[subject_id])\n",
    "    ages.append(wisc_labels.at[subject_id, age_col])\n",
    "    \n",
    "    for measure in wisc_scaled_measure:\n",
    "        measures[measure].append(\n",
    "            wisc_labels.at[subject_id, f'assessment WISC,{measure}'])\n",
    "\n",
    "ages = np.array(ages)\n",
    "print(\"Num subjects with measures:\", len(ages))"
   ]
  },
  {
   "cell_type": "code",
   "execution_count": 58,
   "metadata": {},
   "outputs": [
    {
     "name": "stdout",
     "output_type": "stream",
     "text": [
      "X shape: (577, 34716) y shape: (577,)\n"
     ]
    }
   ],
   "source": [
    "X = np.array(fc_matrices)\n",
    "\n",
    "selected_measure = \"WISC_FSIQ\"\n",
    "y = np.array(measures[selected_measure])\n",
    "# y = np.array(list(measures.values())).T\n",
    "\n",
    "print(\"X shape:\", X.shape, \"y shape:\", y.shape)"
   ]
  },
  {
   "cell_type": "markdown",
   "metadata": {},
   "source": [
    "## Feature selection"
   ]
  },
  {
   "cell_type": "markdown",
   "metadata": {},
   "source": [
    "### Age Binning"
   ]
  },
  {
   "cell_type": "code",
   "execution_count": 59,
   "metadata": {},
   "outputs": [
    {
     "name": "stdout",
     "output_type": "stream",
     "text": [
      "Bin 1: 175 | Bin 2: 202 | Bin 3: 200\n"
     ]
    }
   ],
   "source": [
    "def bin_by_age(X, y, indices):\n",
    "    return X[indices], y[indices]\n",
    "\n",
    "X_bin_1, y_bin_1 = bin_by_age(X, y, np.where(ages <= 9))\n",
    "X_bin_2, y_bin_2 = bin_by_age(X, y, np.where(\n",
    "    np.logical_and(ages <= 12, ages > 9)))\n",
    "X_bin_3, y_bin_3 = bin_by_age(X, y, np.where(ages > 12))\n",
    "\n",
    "print(\"Bin 1:\", len(X_bin_1), \"|\",\n",
    "      \"Bin 2:\", len(X_bin_2), \"|\",\n",
    "      \"Bin 3:\", len(X_bin_3),)\n",
    "\n",
    "X = X_bin_2\n",
    "y = y_bin_2"
   ]
  },
  {
   "cell_type": "markdown",
   "metadata": {},
   "source": [
    "### Variance Threshold"
   ]
  },
  {
   "cell_type": "code",
   "execution_count": null,
   "metadata": {},
   "outputs": [],
   "source": [
    "from sklearn.feature_selection import VarianceThreshold\n",
    "sel = VarianceThreshold(0.055)\n",
    "X = sel.fit_transform(X)\n",
    "print(\"X shape:\", X.shape)"
   ]
  },
  {
   "cell_type": "markdown",
   "metadata": {},
   "source": [
    "### Mutual Information"
   ]
  },
  {
   "cell_type": "code",
   "execution_count": 60,
   "metadata": {},
   "outputs": [
    {
     "name": "stdout",
     "output_type": "stream",
     "text": [
      "X shape: (202, 1500)\n"
     ]
    }
   ],
   "source": [
    "from sklearn.feature_selection import (\n",
    "    SelectKBest, mutual_info_regression)\n",
    "X = SelectKBest(mutual_info_regression, k=1500).fit_transform(X, y)\n",
    "print(\"X shape:\", X.shape)"
   ]
  },
  {
   "cell_type": "markdown",
   "metadata": {},
   "source": [
    "### Select k strongest connections"
   ]
  },
  {
   "cell_type": "code",
   "execution_count": null,
   "metadata": {},
   "outputs": [],
   "source": [
    "from sklearn.feature_selection import SelectKBest\n",
    "def score_fc(X, y):\n",
    "    # Take the strongest correlations regardless of sign\n",
    "    sum_fc = np.absolute(np.sum(X, axis=0))\n",
    "    return sum_fc\n",
    "\n",
    "X = SelectKBest(score_fc, k=3400).fit_transform(X, y)\n",
    "print(\"X shape:\", X.shape)"
   ]
  },
  {
   "cell_type": "markdown",
   "metadata": {},
   "source": [
    "## Train PLS Regression"
   ]
  },
  {
   "cell_type": "markdown",
   "metadata": {},
   "source": [
    "### Determine optimal number of components"
   ]
  },
  {
   "cell_type": "code",
   "execution_count": 23,
   "metadata": {},
   "outputs": [],
   "source": [
    "from scipy import stats\n",
    "from sklearn.cross_decomposition import PLSRegression, PLSCanonical\n",
    "from sklearn.linear_model import LinearRegression\n",
    "from sklearn.model_selection import KFold, train_test_split\n",
    "from sklearn.metrics import r2_score"
   ]
  },
  {
   "cell_type": "code",
   "execution_count": 61,
   "metadata": {},
   "outputs": [
    {
     "name": "stdout",
     "output_type": "stream",
     "text": [
      "Avg train score: 0.5824844397781328\n",
      "Avg test score: 0.16262050833435443\n"
     ]
    }
   ],
   "source": [
    "num_component = 2\n",
    "kf = KFold(n_splits=10)\n",
    "train_scores = []\n",
    "test_scores = []\n",
    "\n",
    "for train_index, test_index in kf.split(X):\n",
    "    X_train, X_test = X[train_index], X[test_index]\n",
    "    y_train, y_test = y[train_index], y[test_index]\n",
    "    \n",
    "    pls = PLSRegression(n_components=num_component)\n",
    "    pls.fit(X_train, y_train)\n",
    "    \n",
    "    train_scores.append(pls.score(X_train, y_train))\n",
    "    test_scores.append(pls.score(X_test, y_test))\n",
    "\n",
    "print(\"Avg train score:\", np.mean(train_scores))\n",
    "print(\"Avg test score:\", np.mean(test_scores))"
   ]
  },
  {
   "cell_type": "markdown",
   "metadata": {},
   "source": [
    "### Use PLS to predict scores"
   ]
  },
  {
   "cell_type": "code",
   "execution_count": 62,
   "metadata": {},
   "outputs": [
    {
     "name": "stdout",
     "output_type": "stream",
     "text": [
      "Train r^2: 0.6247221850793687\n",
      "Test r^2: 0.15081611159839442\n"
     ]
    }
   ],
   "source": [
    "train_scores = []\n",
    "test_scores = []\n",
    "\n",
    "for i in range(0, 5000):\n",
    "    X_train, X_test, y_train, y_test = train_test_split(\n",
    "        X, y, test_size=0.3)\n",
    "    \n",
    "    pls = PLSRegression(n_components=num_component)\n",
    "    pls.fit(X_train, y_train)\n",
    "\n",
    "    y_train_pred = pls.predict(X_train)\n",
    "    y_test_pred = pls.predict(X_test)\n",
    "    \n",
    "    train_scores.append(r2_score(y_train, y_train_pred))\n",
    "    test_scores.append(r2_score(y_test, y_test_pred))\n",
    "\n",
    "avg_train_score = np.mean(train_scores)\n",
    "avg_test_score = np.mean(test_scores)\n",
    "\n",
    "print(\"Train r^2:\", avg_train_score)\n",
    "print(\"Test r^2:\", avg_test_score)"
   ]
  },
  {
   "cell_type": "code",
   "execution_count": 63,
   "metadata": {},
   "outputs": [
    {
     "name": "stdout",
     "output_type": "stream",
     "text": [
      "Train r^2: 0.575109995484266\n",
      "Test r^2: 0.31086050119469766\n"
     ]
    }
   ],
   "source": [
    "y_train = y_train.reshape(-1, 1)\n",
    "y_test = y_test.reshape(-1, 1)\n",
    "\n",
    "lin_reg_train = LinearRegression().fit(y_train, y_train_pred)\n",
    "y_train_pred_lin_reg = lin_reg_train.predict(y_train)\n",
    "\n",
    "lin_reg_test = LinearRegression().fit(y_test, y_test_pred)\n",
    "y_test_pred_lin_reg = lin_reg_test.predict(y_test)\n",
    "\n",
    "lin_reg_train_score = lin_reg_train.score(y_train, y_train_pred)\n",
    "lin_reg_test_score = lin_reg_test.score(y_test, y_test_pred)\n",
    "print(\"Train r^2:\", lin_reg_train_score)\n",
    "print(\"Test r^2:\", lin_reg_test_score)"
   ]
  },
  {
   "cell_type": "code",
   "execution_count": 64,
   "metadata": {},
   "outputs": [
    {
     "ename": "NameError",
     "evalue": "name 'measure_text' is not defined",
     "output_type": "error",
     "traceback": [
      "\u001b[0;31m---------------------------------------------------------------------------\u001b[0m",
      "\u001b[0;31mNameError\u001b[0m                                 Traceback (most recent call last)",
      "\u001b[0;32m<ipython-input-64-33974bee1951>\u001b[0m in \u001b[0;36m<module>\u001b[0;34m\u001b[0m\n\u001b[1;32m      3\u001b[0m \u001b[0mplt\u001b[0m\u001b[0;34m.\u001b[0m\u001b[0mplot\u001b[0m\u001b[0;34m(\u001b[0m\u001b[0my_train\u001b[0m\u001b[0;34m,\u001b[0m \u001b[0my_train_pred_lin_reg\u001b[0m\u001b[0;34m,\u001b[0m \u001b[0mcolor\u001b[0m\u001b[0;34m=\u001b[0m\u001b[0;34m'orange'\u001b[0m\u001b[0;34m)\u001b[0m\u001b[0;34m\u001b[0m\u001b[0;34m\u001b[0m\u001b[0m\n\u001b[1;32m      4\u001b[0m \u001b[0mplt\u001b[0m\u001b[0;34m.\u001b[0m\u001b[0mtitle\u001b[0m\u001b[0;34m(\u001b[0m\u001b[0;34m\"Training Set\"\u001b[0m\u001b[0;34m)\u001b[0m\u001b[0;34m\u001b[0m\u001b[0;34m\u001b[0m\u001b[0m\n\u001b[0;32m----> 5\u001b[0;31m \u001b[0mplt\u001b[0m\u001b[0;34m.\u001b[0m\u001b[0mxlabel\u001b[0m\u001b[0;34m(\u001b[0m\u001b[0;34mf'True {measure_text}'\u001b[0m\u001b[0;34m)\u001b[0m\u001b[0;34m\u001b[0m\u001b[0;34m\u001b[0m\u001b[0m\n\u001b[0m\u001b[1;32m      6\u001b[0m \u001b[0mplt\u001b[0m\u001b[0;34m.\u001b[0m\u001b[0mylabel\u001b[0m\u001b[0;34m(\u001b[0m\u001b[0;34mf'Predicted {measure_text}'\u001b[0m\u001b[0;34m)\u001b[0m\u001b[0;34m\u001b[0m\u001b[0;34m\u001b[0m\u001b[0m\n\u001b[1;32m      7\u001b[0m \u001b[0;31m# plt.annotate(f\"r-squared = {avg_train_score:.3f}\", (6, 16))\u001b[0m\u001b[0;34m\u001b[0m\u001b[0;34m\u001b[0m\u001b[0;34m\u001b[0m\u001b[0m\n",
      "\u001b[0;31mNameError\u001b[0m: name 'measure_text' is not defined"
     ]
    },
    {
     "data": {
      "image/png": "[encoded data removed]",
      "text/plain": [
       "<Figure size 720x720 with 1 Axes>"
      ]
     },
     "metadata": {
      "needs_background": "light"
     },
     "output_type": "display_data"
    }
   ],
   "source": [
    "plt.figure(1, figsize=(10, 10))\n",
    "plt.scatter(y_train, y_train_pred, alpha=0.3)\n",
    "plt.plot(y_train, y_train_pred_lin_reg, color='orange')\n",
    "plt.title(\"Training Set\")\n",
    "plt.xlabel(f'True {measure_text}')\n",
    "plt.ylabel(f'Predicted {measure_text}')\n",
    "# plt.annotate(f\"r-squared = {avg_train_score:.3f}\", (6, 16))\n",
    "plt.show()"
   ]
  },
  {
   "cell_type": "code",
   "execution_count": null,
   "metadata": {},
   "outputs": [],
   "source": [
    "plt.figure(1, figsize=(10, 10))\n",
    "plt.scatter(y_test, y_test_pred, alpha=0.3)\n",
    "plt.plot(y_test, y_test_pred_lin_reg, color='orange')\n",
    "plt.title(\"Testing Set\")\n",
    "plt.xlabel(f'True {measure_text}')\n",
    "plt.ylabel(f'Predicted {measure_text}')\n",
    "# plt.annotate(f\"r-squared = {avg_test_score:.3f}\", (6, 16))\n",
    "plt.show()"
   ]
  },
  {
   "cell_type": "code",
   "execution_count": null,
   "metadata": {},
   "outputs": [],
   "source": [
    "plt.figure(1, figsize=(10, 10))\n",
    "plt.hist(x=test_scores)\n",
    "plt.title(\"Test Score Distribution\")\n",
    "plt.xlabel('Score')\n",
    "plt.ylabel('Number of Scores')\n",
    "plt.show()"
   ]
  },
  {
   "cell_type": "code",
   "execution_count": null,
   "metadata": {},
   "outputs": [],
   "source": []
  }
 ],
 "metadata": {
  "kernelspec": {
   "display_name": "venv",
   "language": "python",
   "name": "venv"
  },
  "language_info": {
   "codemirror_mode": {
    "name": "ipython",
    "version": 3
   },
   "file_extension": ".py",
   "mimetype": "text/x-python",
   "name": "python",
   "nbconvert_exporter": "python",
   "pygments_lexer": "ipython3",
   "version": "3.7.10"
  }
 },
 "nbformat": 4,
 "nbformat_minor": 4
}
