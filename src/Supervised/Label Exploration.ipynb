{
 "cells": [
  {
   "cell_type": "markdown",
   "metadata": {},
   "source": [
    "# Label Exploration"
   ]
  },
  {
   "cell_type": "markdown",
   "metadata": {},
   "source": [
    "## Count the number of subjects with labels"
   ]
  },
  {
   "cell_type": "code",
   "execution_count": 1,
   "metadata": {},
   "outputs": [],
   "source": [
    "import csv\n",
    "from os import listdir\n",
    "from os.path import exists\n",
    "\n",
    "from scipy import stats\n",
    "import numpy as np\n",
    "import pandas as pd\n",
    "import matplotlib.pyplot as plt"
   ]
  },
  {
   "cell_type": "markdown",
   "metadata": {},
   "source": [
    "### Read in HBN label CSV"
   ]
  },
  {
   "cell_type": "code",
   "execution_count": 2,
   "metadata": {},
   "outputs": [
    {
     "name": "stdout",
     "output_type": "stream",
     "text": [
      "Number of unique WISC subjects: 2936\n"
     ]
    }
   ],
   "source": [
    "label_file_path = r\"/imaging3/owenlab/bpho/Biobank Labels/Labels_Feb2_2021.csv\"\n",
    "labels = pd.read_csv(label_file_path, index_col='Identifiers', \n",
    "                     dtype='str')\n",
    "label_subject_ids = labels['assessment WISC,EID']\n",
    "\n",
    "print(\"Number of unique WISC subjects:\", label_subject_ids.nunique())"
   ]
  },
  {
   "cell_type": "markdown",
   "metadata": {},
   "source": [
    "### Read in subject IDs with FC"
   ]
  },
  {
   "cell_type": "code",
   "execution_count": 3,
   "metadata": {},
   "outputs": [
    {
     "name": "stdout",
     "output_type": "stream",
     "text": [
      "Number of Power FC subjects: 722\n"
     ]
    }
   ],
   "source": [
    "data_subject_ids = set()\n",
    "\n",
    "for age in range(5, 19):\n",
    "    age_dir = f'/imaging3/owenlab/bpho/python_power_fc/Age{age}'\n",
    "    \n",
    "    if not exists(age_dir):\n",
    "        continue\n",
    "    \n",
    "    data_subject_ids = data_subject_ids.union(\n",
    "        {folder[4:] for folder in listdir(age_dir) if folder.startswith(\"sub-\")})\n",
    "\n",
    "data = pd.DataFrame(data_subject_ids, columns=[\"subject_id\"])\n",
    "data = data.set_index(\"subject_id\")\n",
    "# display(data)\n",
    "print(\"Number of Power FC subjects:\", len(data_subject_ids))"
   ]
  },
  {
   "cell_type": "markdown",
   "metadata": {},
   "source": [
    "## Clean labels"
   ]
  },
  {
   "cell_type": "markdown",
   "metadata": {},
   "source": [
    "### Filter for age and WISC"
   ]
  },
  {
   "cell_type": "code",
   "execution_count": 4,
   "metadata": {},
   "outputs": [],
   "source": [
    "ages = labels[\"assessment Basic_Demos,Age\"]\n",
    "wisc_labels = labels.filter(like=\"WISC\").join(ages)\n",
    "wisc_labels = wisc_labels[\n",
    "    wisc_labels['assessment WISC,WISC_complete'] == '1']\n",
    "wisc_labels = wisc_labels.set_index(\"assessment WISC,EID\")\n",
    "# display(wisc_labels)"
   ]
  },
  {
   "cell_type": "markdown",
   "metadata": {},
   "source": [
    "### Get the list of bad subjects and remove them"
   ]
  },
  {
   "cell_type": "code",
   "execution_count": 5,
   "metadata": {},
   "outputs": [],
   "source": [
    "bad_subject_file_path = r\"/home/bpho/Documents/MSc_Research-Project/scratch_data/bad_subjects.csv\"\n",
    "bad_subjects = pd.read_csv(bad_subject_file_path, index_col='subject_id')\n",
    "# display(bad_subjects)\n",
    "\n",
    "clean_labels = wisc_labels[~wisc_labels.index.isin(bad_subjects.index)]\n",
    "# display(clean_labels)"
   ]
  },
  {
   "cell_type": "markdown",
   "metadata": {},
   "source": [
    "### Filter for subjects with FC data"
   ]
  },
  {
   "cell_type": "code",
   "execution_count": 6,
   "metadata": {},
   "outputs": [
    {
     "name": "stdout",
     "output_type": "stream",
     "text": [
      "Index(['assessment WISC,Administration', 'assessment WISC,Comment_ID',\n",
      "       'assessment WISC,Data_entry', 'assessment WISC,Days_Baseline',\n",
      "       'assessment WISC,PSCID', 'assessment WISC,START_DATE',\n",
      "       'assessment WISC,Season', 'assessment WISC,Site',\n",
      "       'assessment WISC,Study', 'assessment WISC,Visit_label',\n",
      "       'assessment WISC,WISC_BD_Raw', 'assessment WISC,WISC_BD_Scaled',\n",
      "       'assessment WISC,WISC_Coding_Raw', 'assessment WISC,WISC_Coding_Scaled',\n",
      "       'assessment WISC,WISC_DS_Raw', 'assessment WISC,WISC_DS_Scaled',\n",
      "       'assessment WISC,WISC_FRI', 'assessment WISC,WISC_FRI_Percentile',\n",
      "       'assessment WISC,WISC_FRI_Sum', 'assessment WISC,WISC_FSIQ',\n",
      "       'assessment WISC,WISC_FSIQ_Percentile', 'assessment WISC,WISC_FSIQ_Sum',\n",
      "       'assessment WISC,WISC_FW_Raw', 'assessment WISC,WISC_FW_Scaled',\n",
      "       'assessment WISC,WISC_MR_Raw', 'assessment WISC,WISC_MR_Scaled',\n",
      "       'assessment WISC,WISC_PSI', 'assessment WISC,WISC_PSI_Percentile',\n",
      "       'assessment WISC,WISC_PSI_Sum', 'assessment WISC,WISC_PS_Raw',\n",
      "       'assessment WISC,WISC_PS_Scaled', 'assessment WISC,WISC_SS_Raw',\n",
      "       'assessment WISC,WISC_SS_Scaled',\n",
      "       'assessment WISC,WISC_Similarities_Raw',\n",
      "       'assessment WISC,WISC_Similarities_Scaled', 'assessment WISC,WISC_VCI',\n",
      "       'assessment WISC,WISC_VCI_Percentile', 'assessment WISC,WISC_VCI_Sum',\n",
      "       'assessment WISC,WISC_VP_Raw', 'assessment WISC,WISC_VP_Scaled',\n",
      "       'assessment WISC,WISC_VSI', 'assessment WISC,WISC_VSI_Percentile',\n",
      "       'assessment WISC,WISC_VSI_Sum', 'assessment WISC,WISC_Vocab_Raw',\n",
      "       'assessment WISC,WISC_Vocab_Scaled', 'assessment WISC,WISC_WMI',\n",
      "       'assessment WISC,WISC_WMI_Percentile', 'assessment WISC,WISC_WMI_Sum',\n",
      "       'assessment WISC,WISC_complete',\n",
      "       'assessment WISC,WISC_incomplete_reason', 'assessment WISC,Year',\n",
      "       'assessment Basic_Demos,Age'],\n",
      "      dtype='object')\n"
     ]
    }
   ],
   "source": [
    "subjects_with_labels = clean_labels.merge(\n",
    "    data, left_index=True, right_index=True)\n",
    "# display(subjects_with_labels)\n",
    "subjects_with_labels.index.rename(\"assessment WISC,EID\", inplace=True)\n",
    "print(subjects_with_labels.columns)"
   ]
  },
  {
   "cell_type": "markdown",
   "metadata": {},
   "source": [
    "## Write labels to CSV"
   ]
  },
  {
   "cell_type": "code",
   "execution_count": 7,
   "metadata": {},
   "outputs": [
    {
     "name": "stdout",
     "output_type": "stream",
     "text": [
      "Number of subjects with WISC labels: 577\n"
     ]
    }
   ],
   "source": [
    "print(\"Number of subjects with WISC labels:\", len(subjects_with_labels))"
   ]
  },
  {
   "cell_type": "code",
   "execution_count": 8,
   "metadata": {},
   "outputs": [],
   "source": [
    "csv_output_path = \"/imaging3/owenlab/bpho/Biobank Labels/Subjects_with_WISC.csv\"\n",
    "subjects_with_labels.to_csv(csv_output_path)"
   ]
  },
  {
   "cell_type": "markdown",
   "metadata": {},
   "source": [
    "## Plot label distribution"
   ]
  },
  {
   "cell_type": "code",
   "execution_count": 11,
   "metadata": {},
   "outputs": [
    {
     "data": {
      "image/png": "[encoded data removed]",
      "text/plain": [
       "<Figure size 720x720 with 1 Axes>"
      ]
     },
     "metadata": {
      "needs_background": "light"
     },
     "output_type": "display_data"
    }
   ],
   "source": [
    "plt.figure(1, figsize=(10, 10))\n",
    "plt.hist(x=subjects_with_labels['assessment WISC,WISC_FSIQ'].astype(float), bins=range(40, 160, 5))\n",
    "plt.title(\"IQ Distribution\")\n",
    "plt.xlabel('IQ (Raw)')\n",
    "plt.ylabel('Number of Subjects')\n",
    "plt.show()"
   ]
  },
  {
   "cell_type": "code",
   "execution_count": 11,
   "metadata": {},
   "outputs": [
    {
     "data": {
      "image/png": "[encoded data removed]",
      "text/plain": [
       "<Figure size 720x720 with 1 Axes>"
      ]
     },
     "metadata": {
      "needs_background": "light"
     },
     "output_type": "display_data"
    }
   ],
   "source": [
    "plt.figure(1, figsize=(10, 10))\n",
    "plt.hist(x=subjects_with_labels['assessment Basic_Demos,Age'].astype(float), bins=range(6, 17, 1))\n",
    "plt.title(\"Age Distribution\")\n",
    "plt.xlabel('Age')\n",
    "plt.ylabel('Number of Subjects')\n",
    "plt.show()"
   ]
  },
  {
   "cell_type": "markdown",
   "metadata": {},
   "source": [
    "## Check relationship between Age and WISC"
   ]
  },
  {
   "cell_type": "code",
   "execution_count": 13,
   "metadata": {},
   "outputs": [],
   "source": [
    "# Clean the original set of labels\n",
    "clean_labels = labels[labels['assessment Basic_Demos,Age'] != \".\"]\n",
    "clean_labels = clean_labels[clean_labels['assessment WISC,WISC_complete'] == '1']\n",
    "clean_labels = clean_labels.dropna(axis='columns', how='all')"
   ]
  },
  {
   "cell_type": "markdown",
   "metadata": {},
   "source": [
    "### Check WISC FSIQ"
   ]
  },
  {
   "cell_type": "code",
   "execution_count": 11,
   "metadata": {},
   "outputs": [
    {
     "name": "stdout",
     "output_type": "stream",
     "text": [
      "(2623,) (2623,) Avg IQ: 98.1422035836828\n",
      "Slope: -0.6618316693912518, r2: 0.01175281679331119, p: 2.606101918286009e-08\n"
     ]
    },
    {
     "data": {
      "image/png": "[encoded data removed]",
      "text/plain": [
       "<Figure size 720x720 with 1 Axes>"
      ]
     },
     "metadata": {
      "needs_background": "light"
     },
     "output_type": "display_data"
    }
   ],
   "source": [
    "clean_labels = clean_labels.dropna(subset=['assessment WISC,WISC_FSIQ'])\n",
    "wisc_fsiq = clean_labels['assessment WISC,WISC_FSIQ'].astype(int)\n",
    "age = clean_labels['assessment Basic_Demos,Age'].astype(float)\n",
    "print(age.shape, wisc_fsiq.shape, f\"Avg IQ: {np.mean(wisc_fsiq)}\")\n",
    "\n",
    "m, b, r, p, stderr = stats.linregress(age, wisc_fsiq)\n",
    "print(f\"Slope: {m}, r2: {r**2}, p: {p}\")\n",
    "\n",
    "plt.figure(1, figsize=(10, 10))\n",
    "plt.plot(age, wisc_fsiq, '.', color='silver')\n",
    "plt.plot(age, (m * age) + b, '-', color='black')\n",
    "plt.title(\"Age vs IQ\")\n",
    "plt.xlabel('Age')\n",
    "plt.ylabel('IQ')\n",
    "plt.annotate(f\"y = {m:.2f}x + {b:.2f}\", (6, 45))\n",
    "plt.annotate(f\"r^2 = {r**2:.2f}\", (6, 41))\n",
    "plt.show()"
   ]
  },
  {
   "cell_type": "markdown",
   "metadata": {},
   "source": [
    "### Check WISC subtests"
   ]
  },
  {
   "cell_type": "code",
   "execution_count": 12,
   "metadata": {},
   "outputs": [
    {
     "name": "stdout",
     "output_type": "stream",
     "text": [
      "Num WISC measures: 20\n",
      "Num subjects: 2734\n"
     ]
    }
   ],
   "source": [
    "# Grab columns\n",
    "wisc_col = 'assessment WISC'\n",
    "wisc_raw_measures = [\n",
    "    'WISC_BD_Raw', \n",
    "    'WISC_Similarities_Raw', \n",
    "    'WISC_MR_Raw',\n",
    "    'WISC_DS_Raw',\n",
    "    'WISC_Coding_Raw',\n",
    "    'WISC_Vocab_Raw',\n",
    "    'WISC_FW_Raw',\n",
    "    'WISC_VP_Raw',\n",
    "    'WISC_PS_Raw',\n",
    "    'WISC_SS_Raw',\n",
    "]\n",
    "wisc_scaled_measure = [\n",
    "    'WISC_BD_Scaled', \n",
    "    'WISC_Similarities_Scaled', \n",
    "    'WISC_MR_Scaled',\n",
    "    'WISC_DS_Scaled',\n",
    "    'WISC_Coding_Scaled',\n",
    "    'WISC_Vocab_Scaled',\n",
    "    'WISC_FW_Scaled',\n",
    "    'WISC_VP_Scaled',\n",
    "    'WISC_PS_Scaled',\n",
    "    'WISC_SS_Scaled',\n",
    "]\n",
    "wisc_measures = np.array([wisc_raw_measures, wisc_scaled_measure]).flatten('F')\n",
    "\n",
    "clean_labels = clean_labels.dropna(subset=[f'assessment WISC,{measure}' for measure in wisc_measures])\n",
    "wisc_measures_data = {measure: clean_labels[f'{wisc_col},{measure}'].astype(int).to_numpy() \n",
    "                      for measure in wisc_measures}\n",
    "age = clean_labels['assessment Basic_Demos,Age'].astype(float)\n",
    "\n",
    "print(\"Num WISC measures:\", len(wisc_measures_data))\n",
    "print(\"Num subjects:\", len(age))"
   ]
  },
  {
   "cell_type": "code",
   "execution_count": 14,
   "metadata": {},
   "outputs": [
    {
     "name": "stdout",
     "output_type": "stream",
     "text": [
      "WISC_BD_Raw r-squared:: 0.2690\n",
      "WISC_BD_Raw p-value: 3.4735864988208293e-188\n",
      "--------------------------------------------\n",
      "WISC_BD_Scaled r-squared:: 0.0097\n",
      "WISC_BD_Scaled p-value: 2.6293729163658773e-07\n",
      "--------------------------------------------\n",
      "WISC_Similarities_Raw r-squared:: 0.3797\n",
      "WISC_Similarities_Raw p-value: 1.34023132102074e-285\n",
      "--------------------------------------------\n",
      "WISC_Similarities_Scaled r-squared:: 0.0125\n",
      "WISC_Similarities_Scaled p-value: 4.376204194825878e-09\n",
      "--------------------------------------------\n",
      "WISC_MR_Raw r-squared:: 0.3045\n",
      "WISC_MR_Raw p-value: 1.0965902551838532e-217\n",
      "--------------------------------------------\n",
      "WISC_MR_Scaled r-squared:: 0.0000\n",
      "WISC_MR_Scaled p-value: 0.739732448678067\n",
      "--------------------------------------------\n",
      "WISC_DS_Raw r-squared:: 0.3099\n",
      "WISC_DS_Raw p-value: 2.3167530683376688e-222\n",
      "--------------------------------------------\n",
      "WISC_DS_Scaled r-squared:: 0.0002\n",
      "WISC_DS_Scaled p-value: 0.5069587352886207\n",
      "--------------------------------------------\n",
      "WISC_Coding_Raw r-squared:: 0.4198\n",
      "WISC_Coding_Raw p-value: 0.0\n",
      "--------------------------------------------\n",
      "WISC_Coding_Scaled r-squared:: 0.0191\n",
      "WISC_Coding_Scaled p-value: 3.933136737677347e-13\n",
      "--------------------------------------------\n",
      "WISC_Vocab_Raw r-squared:: 0.4476\n",
      "WISC_Vocab_Raw p-value: 0.0\n",
      "--------------------------------------------\n",
      "WISC_Vocab_Scaled r-squared:: 0.0085\n",
      "WISC_Vocab_Scaled p-value: 1.3379968364000193e-06\n",
      "--------------------------------------------\n",
      "WISC_FW_Raw r-squared:: 0.2643\n",
      "WISC_FW_Raw p-value: 2.473212781139545e-184\n",
      "--------------------------------------------\n",
      "WISC_FW_Scaled r-squared:: 0.0155\n",
      "WISC_FW_Scaled p-value: 6.083431332500227e-11\n",
      "--------------------------------------------\n",
      "WISC_VP_Raw r-squared:: 0.2186\n",
      "WISC_VP_Raw p-value: 1.3856403566747823e-148\n",
      "--------------------------------------------\n",
      "WISC_VP_Scaled r-squared:: 0.0251\n",
      "WISC_VP_Scaled p-value: 7.834000084318388e-17\n",
      "--------------------------------------------\n",
      "WISC_PS_Raw r-squared:: 0.2676\n",
      "WISC_PS_Raw p-value: 5.385278960218914e-187\n",
      "--------------------------------------------\n",
      "WISC_PS_Scaled r-squared:: 0.0004\n",
      "WISC_PS_Scaled p-value: 0.28585987356542886\n",
      "--------------------------------------------\n",
      "WISC_SS_Raw r-squared:: 0.1643\n",
      "WISC_SS_Raw p-value: 1.3455964766491084e-108\n",
      "--------------------------------------------\n",
      "WISC_SS_Scaled r-squared:: 0.0059\n",
      "WISC_SS_Scaled p-value: 6.0309657748572854e-05\n",
      "--------------------------------------------\n"
     ]
    }
   ],
   "source": [
    "for measure, data in wisc_measures_data.items():\n",
    "    lin_reg = stats.linregress(age, data)\n",
    "    print(f\"{measure} r-squared:: {lin_reg.rvalue**2:.4f}\")\n",
    "    print(f\"{measure} p-value: {lin_reg.pvalue}\")\n",
    "    print(\"--------------------------------------------\")"
   ]
  },
  {
   "cell_type": "code",
   "execution_count": 1,
   "metadata": {},
   "outputs": [
    {
     "ename": "NameError",
     "evalue": "name 'plt' is not defined",
     "output_type": "error",
     "traceback": [
      "\u001b[0;31m---------------------------------------------------------------------------\u001b[0m",
      "\u001b[0;31mNameError\u001b[0m                                 Traceback (most recent call last)",
      "\u001b[0;32m<ipython-input-1-c7b4b13f132e>\u001b[0m in \u001b[0;36m<module>\u001b[0;34m\u001b[0m\n\u001b[0;32m----> 1\u001b[0;31m \u001b[0mplt\u001b[0m\u001b[0;34m.\u001b[0m\u001b[0mfigure\u001b[0m\u001b[0;34m(\u001b[0m\u001b[0;36m1\u001b[0m\u001b[0;34m,\u001b[0m \u001b[0mfigsize\u001b[0m\u001b[0;34m=\u001b[0m\u001b[0;34m(\u001b[0m\u001b[0;36m10\u001b[0m\u001b[0;34m,\u001b[0m \u001b[0;36m10\u001b[0m\u001b[0;34m)\u001b[0m\u001b[0;34m)\u001b[0m\u001b[0;34m\u001b[0m\u001b[0;34m\u001b[0m\u001b[0m\n\u001b[0m\u001b[1;32m      2\u001b[0m \u001b[0mplt\u001b[0m\u001b[0;34m.\u001b[0m\u001b[0mscatter\u001b[0m\u001b[0;34m(\u001b[0m\u001b[0mage\u001b[0m\u001b[0;34m,\u001b[0m \u001b[0mwisc_measures_data\u001b[0m\u001b[0;34m[\u001b[0m\u001b[0;34m'WISC_Coding_Raw'\u001b[0m\u001b[0;34m]\u001b[0m\u001b[0;34m)\u001b[0m\u001b[0;34m\u001b[0m\u001b[0;34m\u001b[0m\u001b[0m\n\u001b[1;32m      3\u001b[0m \u001b[0mplt\u001b[0m\u001b[0;34m.\u001b[0m\u001b[0mscatter\u001b[0m\u001b[0;34m(\u001b[0m\u001b[0mage\u001b[0m\u001b[0;34m,\u001b[0m \u001b[0mwisc_measures_data\u001b[0m\u001b[0;34m[\u001b[0m\u001b[0;34m'WISC_Coding_Scaled'\u001b[0m\u001b[0;34m]\u001b[0m\u001b[0;34m)\u001b[0m\u001b[0;34m\u001b[0m\u001b[0;34m\u001b[0m\u001b[0m\n\u001b[1;32m      4\u001b[0m \u001b[0mplt\u001b[0m\u001b[0;34m.\u001b[0m\u001b[0mtitle\u001b[0m\u001b[0;34m(\u001b[0m\u001b[0;34m\"Age vs WISC Measure\"\u001b[0m\u001b[0;34m)\u001b[0m\u001b[0;34m\u001b[0m\u001b[0;34m\u001b[0m\u001b[0m\n\u001b[1;32m      5\u001b[0m \u001b[0mplt\u001b[0m\u001b[0;34m.\u001b[0m\u001b[0mxlabel\u001b[0m\u001b[0;34m(\u001b[0m\u001b[0;34m'Age'\u001b[0m\u001b[0;34m)\u001b[0m\u001b[0;34m\u001b[0m\u001b[0;34m\u001b[0m\u001b[0m\n",
      "\u001b[0;31mNameError\u001b[0m: name 'plt' is not defined"
     ]
    }
   ],
   "source": [
    "plt.figure(1, figsize=(10, 10))\n",
    "plt.scatter(age, wisc_measures_data['WISC_Coding_Raw'])\n",
    "plt.scatter(age, wisc_measures_data['WISC_Coding_Scaled'])\n",
    "plt.title(\"Age vs WISC Measure\")\n",
    "plt.xlabel('Age')\n",
    "plt.ylabel('WISC_Vocab_Raw')\n",
    "plt.show()"
   ]
  },
  {
   "cell_type": "code",
   "execution_count": null,
   "metadata": {},
   "outputs": [],
   "source": []
  }
 ],
 "metadata": {
  "kernelspec": {
   "display_name": "Python 3",
   "language": "python",
   "name": "python3"
  },
  "language_info": {
   "codemirror_mode": {
    "name": "ipython",
    "version": 3
   },
   "file_extension": ".py",
   "mimetype": "text/x-python",
   "name": "python",
   "nbconvert_exporter": "python",
   "pygments_lexer": "ipython3",
   "version": "3.8.3"
  }
 },
 "nbformat": 4,
 "nbformat_minor": 4
}
