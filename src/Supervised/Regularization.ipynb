{
 "cells": [
  {
   "cell_type": "markdown",
   "metadata": {},
   "source": [
    "# Regularization"
   ]
  },
  {
   "cell_type": "code",
   "execution_count": 2,
   "metadata": {},
   "outputs": [
    {
     "name": "stdout",
     "output_type": "stream",
     "text": [
      "The autoreload extension is already loaded. To reload it, use:\n",
      "  %reload_ext autoreload\n"
     ]
    }
   ],
   "source": [
    "import pandas as pd\n",
    "import numpy as np\n",
    "\n",
    "%load_ext autoreload\n",
    "%autoreload 2\n",
    "\n",
    "import matplotlib.pyplot as plt\n",
    "%matplotlib inline\n",
    "\n",
    "import seaborn as sns\n",
    "sns.set_theme(\n",
    "    context=\"paper\", \n",
    "    style=\"whitegrid\", \n",
    "    font_scale=1.2,\n",
    "    rc={'figure.figsize': (10, 10), 'figure.dpi': 300}\n",
    ")"
   ]
  },
  {
   "cell_type": "markdown",
   "metadata": {},
   "source": [
    "## Get Data"
   ]
  },
  {
   "cell_type": "code",
   "execution_count": 5,
   "metadata": {},
   "outputs": [
    {
     "name": "stdout",
     "output_type": "stream",
     "text": [
      "X: (65, 34716) | Y: 16 | Age: (65,) | Sex: (65,)\n"
     ]
    }
   ],
   "source": [
    "from common.data import get_data\n",
    "\n",
    "X, Y, demographics = get_data()\n",
    "ages, sexes = demographics['Age'], demographics['Sex']\n",
    "\n",
    "print(f'X: {X.shape} | Y: {len(Y.keys())} | Age: {ages.shape} | Sex: {sexes.shape}')"
   ]
  },
  {
   "cell_type": "code",
   "execution_count": 10,
   "metadata": {},
   "outputs": [],
   "source": [
    "from scipy import stats\n",
    "from sklearn.linear_model import Ridge, RidgeCV\n",
    "from sklearn.model_selection import RepeatedKFold, cross_validate, permutation_test_score\n",
    "from sklearn.preprocessing import StandardScaler\n",
    "from sklearn.pipeline import make_pipeline"
   ]
  },
  {
   "cell_type": "markdown",
   "metadata": {},
   "source": [
    "## Run for one target, one age bin"
   ]
  },
  {
   "cell_type": "code",
   "execution_count": 70,
   "metadata": {},
   "outputs": [
    {
     "name": "stdout",
     "output_type": "stream",
     "text": [
      "y: (51,)\n"
     ]
    }
   ],
   "source": [
    "selected_target = \"WISC_PSI\"\n",
    "y = Y[selected_target]\n",
    "\n",
    "print(f'y: {y.shape}')"
   ]
  },
  {
   "cell_type": "code",
   "execution_count": 71,
   "metadata": {
    "collapsed": true,
    "jupyter": {
     "outputs_hidden": true
    }
   },
   "outputs": [
    {
     "name": "stdout",
     "output_type": "stream",
     "text": [
      "Bin 0 Range: 6.22 -> 8.80\n",
      "Bin 1 Range: 9.34 -> 11.97\n",
      "Bin 2 Range: 12.50 -> 15.87\n",
      "---\n",
      "Bin 0 Range: 80.00 -> 144.00\n",
      "Bin 1 Range: 86.00 -> 123.00\n",
      "Bin 2 Range: 66.00 -> 126.00\n",
      "---\n",
      "Bin 1: (19, 34716) | Bin 2: (16, 34716) | Bin 3: (16, 34716)\n"
     ]
    }
   ],
   "source": [
    "from common.binning import bin_by_age\n",
    "\n",
    "bins = bin_by_age(X, y, ages, y)\n",
    "bin_1, bin_2, bin_3 = bins[0], bins[1], bins[2]\n",
    "print(f'Bin 1: {bin_1[0].shape} | Bin 2: {bin_2[0].shape} | Bin 3: {bin_3[0].shape}')"
   ]
  },
  {
   "cell_type": "markdown",
   "metadata": {},
   "source": [
    "### Set up the model pipeline, metrics, and cross-validation approach"
   ]
  },
  {
   "cell_type": "code",
   "execution_count": 54,
   "metadata": {},
   "outputs": [],
   "source": [
    "def regression_scorer(reg, X, y):\n",
    "    y_pred = reg.predict(X)\n",
    "    return stats.pearsonr(y, y_pred)[0]\n",
    "\n",
    "scoring = ['train_score', 'test_score']\n",
    "rkf = RepeatedKFold(n_splits=5, n_repeats=1, random_state=251183)"
   ]
  },
  {
   "cell_type": "code",
   "execution_count": 78,
   "metadata": {},
   "outputs": [
    {
     "name": "stdout",
     "output_type": "stream",
     "text": [
      "Best alpha: 50000\n",
      "Best score: 0.10\n"
     ]
    }
   ],
   "source": [
    "# X_cv = bin_1[0]\n",
    "# y_cv = bin_1[1]\n",
    "X_cv = X\n",
    "y_cv = y\n",
    "\n",
    "estimators = [StandardScaler(), RidgeCV(alphas=[a for a in range(5000, 55000, 5000)], \n",
    "                                        scoring=regression_scorer, cv=rkf)]\n",
    "pipe = make_pipeline(*estimators)\n",
    "pipe.fit(X_cv, y_cv)\n",
    "ridge_cv = pipe['ridgecv']\n",
    "\n",
    "print(f'Best alpha: {ridge_cv.alpha_}')\n",
    "print(f'Best score: {ridge_cv.best_score_:.2f}')\n",
    "\n",
    "estimators = [StandardScaler(), Ridge(alpha=ridge_cv.alpha_)]\n",
    "pipe = make_pipeline(*estimators)"
   ]
  },
  {
   "cell_type": "markdown",
   "metadata": {},
   "source": [
    "### Run cross-validation"
   ]
  },
  {
   "cell_type": "code",
   "execution_count": 8,
   "metadata": {
    "collapsed": true,
    "jupyter": {
     "outputs_hidden": true,
     "source_hidden": true
    }
   },
   "outputs": [
    {
     "name": "stdout",
     "output_type": "stream",
     "text": [
      "Target: WISC_FSIQ\n",
      "Avg train_r2: 0.641\n",
      "Avg test_r2: 0.144\n",
      "Avg test_pearsonr: 0.405\n",
      "Avg test_spearmanr: 0.419\n",
      "CPU times: user 1.82 s, sys: 1.14 s, total: 2.96 s\n",
      "Wall time: 26.3 s\n"
     ]
    }
   ],
   "source": [
    "%%time\n",
    "X_cv = X\n",
    "y_cv = y\n",
    "\n",
    "scores = cross_validate(pipe, X_cv, y_cv, cv=rkf, scoring=regression_scorer, n_jobs=-1, \n",
    "                        return_train_score=True, return_estimator=True)\n",
    "\n",
    "coefs = [estimator['ridge'].coef_ for estimator in scores['estimator']]\n",
    "avg_coef = np.mean(coefs, axis=0)\n",
    "\n",
    "print(f'Target: {selected_target}')\n",
    "for metric in scoring:\n",
    "    metric_values = scores[metric]\n",
    "    print(f'Avg {metric}: {np.mean(metric_values):.3f}')"
   ]
  },
  {
   "cell_type": "code",
   "execution_count": 9,
   "metadata": {
    "jupyter": {
     "source_hidden": true
    }
   },
   "outputs": [],
   "source": [
    "from common.paths import RIDGE_WEIGHTS\n",
    "\n",
    "np.save(RIDGE_WEIGHTS, avg_coef)"
   ]
  },
  {
   "cell_type": "markdown",
   "metadata": {},
   "source": [
    "### Run permutation statistic"
   ]
  },
  {
   "cell_type": "code",
   "execution_count": 79,
   "metadata": {
    "collapsed": true,
    "jupyter": {
     "outputs_hidden": true,
     "source_hidden": true
    }
   },
   "outputs": [
    {
     "name": "stdout",
     "output_type": "stream",
     "text": [
      "Target: WISC_PSI\n",
      "Alpha: 50000 | Score: 0.10 | p-value: 0.3382\n",
      "CPU times: user 31.6 s, sys: 1.31 s, total: 32.9 s\n",
      "Wall time: 3min 3s\n"
     ]
    }
   ],
   "source": [
    "%%time\n",
    "score, _, pvalue = permutation_test_score(\n",
    "    pipe, X_cv, y_cv, cv=rkf, scoring=regression_scorer, n_permutations=3000, n_jobs=-1)\n",
    "\n",
    "print(f'Target: {selected_target}')\n",
    "print(f'Alpha: {ridge_cv.alpha_} | Score: {score:.2f} | p-value: {pvalue:.4f}')"
   ]
  },
  {
   "cell_type": "markdown",
   "metadata": {},
   "source": [
    "## Run for all targets, all age bins"
   ]
  },
  {
   "cell_type": "code",
   "execution_count": 8,
   "metadata": {},
   "outputs": [],
   "source": [
    "def regression_scorer(reg, X, y):\n",
    "    y_pred = reg.predict(X)\n",
    "    return stats.pearsonr(y, y_pred)[0]\n",
    "\n",
    "scoring = ['train_score', 'test_score']\n",
    "rkf = RepeatedKFold(n_splits=5, n_repeats=1, random_state=251183)"
   ]
  },
  {
   "cell_type": "code",
   "execution_count": null,
   "metadata": {},
   "outputs": [],
   "source": [
    "%%time\n",
    "from common.binning import bin_by_age\n",
    "from common.wisc import FSIQ, PRIMARY_INDICES\n",
    "\n",
    "targets = FSIQ + PRIMARY_INDICES\n",
    "\n",
    "for target in targets:\n",
    "    y = Y[target]\n",
    "    bins = bin_by_age(X, y, ages, y)\n",
    "    bin_1, bin_2, bin_3 = bins[0], bins[1], bins[2]\n",
    "    X_all = [X, bin_1[0], bin_2[0], bin_3[0]]\n",
    "    y_all = [y, bin_1[1], bin_2[1], bin_3[1]]\n",
    "    age_bin_label = [\"All  \", \"Bin 1\", \"Bin 2\", \"Bin 3\"]\n",
    "    \n",
    "    for X_cv, y_cv, bin_label in zip(X_all, y_all, age_bin_label):\n",
    "        # Find best alpha\n",
    "        estimators = [StandardScaler(), RidgeCV(alphas=[a for a in range(5000, 70000, 5000)], \n",
    "                                        scoring=regression_scorer, cv=rkf)]\n",
    "        pipe = make_pipeline(*estimators).fit(X_cv, y_cv)\n",
    "        \n",
    "        # Do permutation test\n",
    "        estimators = [StandardScaler(), Ridge(alpha=pipe['ridgecv'].alpha_)]\n",
    "        pipe = make_pipeline(*estimators)\n",
    "        \n",
    "        score, _, pvalue = permutation_test_score(\n",
    "            pipe, X_cv, y_cv, cv=rkf, scoring=regression_scorer, n_permutations=3000, n_jobs=-1)\n",
    "        print(f'Bin: {bin_label} | Target: {target} | Alpha: {ridge_cv.alpha_} | Score: {score:.2f} | p-value: {pvalue:.4f}')\n",
    "    print('---')"
   ]
  },
  {
   "cell_type": "code",
   "execution_count": null,
   "metadata": {},
   "outputs": [],
   "source": []
  }
 ],
 "metadata": {
  "kernelspec": {
   "display_name": "venv",
   "language": "python",
   "name": "venv"
  },
  "language_info": {
   "codemirror_mode": {
    "name": "ipython",
    "version": 3
   },
   "file_extension": ".py",
   "mimetype": "text/x-python",
   "name": "python",
   "nbconvert_exporter": "python",
   "pygments_lexer": "ipython3",
   "version": "3.7.10"
  }
 },
 "nbformat": 4,
 "nbformat_minor": 4
}
