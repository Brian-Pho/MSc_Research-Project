{
 "cells": [
  {
   "cell_type": "markdown",
   "metadata": {},
   "source": [
    "# Regularization\n",
    "I'm following the guide here: <https://scikit-learn.org/stable/auto_examples/inspection/plot_linear_model_coefficient_interpretation.html>."
   ]
  },
  {
   "cell_type": "markdown",
   "metadata": {},
   "source": [
    "## Load Data"
   ]
  },
  {
   "cell_type": "code",
   "execution_count": null,
   "metadata": {},
   "outputs": [],
   "source": [
    "import glob\n",
    "import os\n",
    "\n",
    "import pandas as pd\n",
    "import numpy as np\n",
    "import matplotlib.pyplot as plt"
   ]
  },
  {
   "cell_type": "code",
   "execution_count": null,
   "metadata": {},
   "outputs": [],
   "source": [
    "def get_subject_from_path(path):\n",
    "    normalized_path = os.path.normpath(path)\n",
    "    path_components = normalized_path.split(os.sep)\n",
    "    return path_components[-2][4:]"
   ]
  },
  {
   "cell_type": "code",
   "execution_count": null,
   "metadata": {},
   "outputs": [],
   "source": [
    "# Search for all functional connectivity files and read them into a\n",
    "# numpy array.\n",
    "fc_path = '/imaging3/owenlab/bpho/python_power_fc'\n",
    "fc_paths = glob.glob(fc_path + '/**/power_fc.npy', recursive=True)\n",
    "\n",
    "fcs = {}\n",
    "for path in fc_paths:\n",
    "    subject_id = get_subject_from_path(path)\n",
    "    # print(subject_id)\n",
    "    subject_fc = np.load(path)\n",
    "    fcs[subject_id] = subject_fc[np.triu_indices(264, k=1)]\n",
    "print(\"Number of functional connectivities:\", len(fcs))"
   ]
  },
  {
   "cell_type": "code",
   "execution_count": null,
   "metadata": {},
   "outputs": [],
   "source": [
    "print(\"Number of features (connections):\", fcs[\"NDARAP912JK3\"].shape[0])"
   ]
  },
  {
   "cell_type": "code",
   "execution_count": null,
   "metadata": {},
   "outputs": [],
   "source": [
    "wisc_label_path = \"/imaging3/owenlab/bpho/Biobank Labels/Subjects with WISC.csv\"\n",
    "wisc_labels = pd.read_csv(wisc_label_path)\n",
    "wisc_labels.set_index(keys='assessment WISC,EID', inplace=True)\n",
    "display(wisc_labels)"
   ]
  },
  {
   "cell_type": "code",
   "execution_count": null,
   "metadata": {},
   "outputs": [],
   "source": [
    "label_subject_ids = wisc_labels.index\n",
    "subject_ages = wisc_labels[\"assessment Basic_Demos,Age\"].to_numpy()\n",
    "subjects_with_wisc = {}\n",
    "\n",
    "for subject_id in label_subject_ids:\n",
    "    if subject_id not in fcs:\n",
    "        continue\n",
    "    \n",
    "    subject_wisc_fsiq_sum = wisc_labels.at[subject_id, 'assessment WISC,WISC_FSIQ_Sum']\n",
    "    subjects_with_wisc[subject_id] = (fcs[subject_id], subject_wisc_fsiq_sum)\n",
    "\n",
    "print(subjects_with_wisc['NDARAC331VEH'])"
   ]
  },
  {
   "cell_type": "code",
   "execution_count": null,
   "metadata": {},
   "outputs": [],
   "source": [
    "fc_matrices = []\n",
    "wisc_measure = []\n",
    "\n",
    "for features in subjects_with_wisc.values():\n",
    "    fc_matrices.append(features[0])\n",
    "    wisc_measure.append(features[1])\n",
    "\n",
    "X = np.array(fc_matrices)\n",
    "y = np.array(wisc_measure)\n",
    "\n",
    "print(\"X shape:\", X.shape, \"y shape:\", y.shape)"
   ]
  },
  {
   "cell_type": "markdown",
   "metadata": {},
   "source": [
    "## Train Ridge Model"
   ]
  },
  {
   "cell_type": "code",
   "execution_count": null,
   "metadata": {},
   "outputs": [],
   "source": [
    "from sklearn.linear_model import Ridge\n",
    "from sklearn.metrics import median_absolute_error"
   ]
  },
  {
   "cell_type": "code",
   "execution_count": null,
   "metadata": {},
   "outputs": [],
   "source": [
    "ridge = Ridge()\n",
    "ridge.fit(X, y)\n",
    "\n",
    "y_ridge = ridge.predict(X)\n",
    "mae = median_absolute_error(y, y_ridge)\n",
    "print(\"MAE:\", mae)\n",
    "print(\"Ridge r^2:\", ridge.score(X, y))"
   ]
  },
  {
   "cell_type": "code",
   "execution_count": null,
   "metadata": {},
   "outputs": [],
   "source": [
    "plt.scatter(y, y_ridge)"
   ]
  },
  {
   "cell_type": "code",
   "execution_count": null,
   "metadata": {},
   "outputs": [],
   "source": [
    "print(np.amin(ridge.coef_), np.amax(ridge.coef_))\n",
    "coefs = pd.DataFrame(ridge.coef_)\n",
    "display(coefs)"
   ]
  }
 ],
 "metadata": {
  "kernelspec": {
   "display_name": "venv",
   "language": "python",
   "name": "venv"
  },
  "language_info": {
   "codemirror_mode": {
    "name": "ipython",
    "version": 3
   },
   "file_extension": ".py",
   "mimetype": "text/x-python",
   "name": "python",
   "nbconvert_exporter": "python",
   "pygments_lexer": "ipython3",
   "version": "3.7.10"
  }
 },
 "nbformat": 4,
 "nbformat_minor": 4
}
