{
 "cells": [
  {
   "cell_type": "markdown",
   "metadata": {},
   "source": [
    "# PLS Regression\n",
    "I'm following this paper: <https://www.sciencedirect.com/science/article/pii/S1878929316301074?via%3Dihub>"
   ]
  },
  {
   "cell_type": "code",
   "execution_count": 51,
   "metadata": {},
   "outputs": [],
   "source": [
    "import glob\n",
    "import os\n",
    "\n",
    "import pandas as pd\n",
    "import numpy as np\n",
    "from scipy import stats\n",
    "import matplotlib.pyplot as plt"
   ]
  },
  {
   "cell_type": "markdown",
   "metadata": {},
   "source": [
    "## Get Data"
   ]
  },
  {
   "cell_type": "code",
   "execution_count": 2,
   "metadata": {},
   "outputs": [],
   "source": [
    "def get_subject_from_path(path):\n",
    "    normalized_path = os.path.normpath(path)\n",
    "    path_components = normalized_path.split(os.sep)\n",
    "    return path_components[-2][4:]"
   ]
  },
  {
   "cell_type": "code",
   "execution_count": 3,
   "metadata": {},
   "outputs": [
    {
     "name": "stdout",
     "output_type": "stream",
     "text": [
      "Number of functional connectivities: 722\n",
      "Number of features (connections): 34716\n"
     ]
    }
   ],
   "source": [
    "# Search for all functional connectivity files and read them into a\n",
    "# numpy array.\n",
    "fc_path = '/imaging3/owenlab/bpho/python_power_fc'\n",
    "fc_paths = glob.glob(fc_path + '/**/power_fc.npy', recursive=True)\n",
    "\n",
    "fcs = {}\n",
    "for path in fc_paths:\n",
    "    subject_id = get_subject_from_path(path)\n",
    "    # print(subject_id)\n",
    "    subject_fc = np.load(path)\n",
    "    fcs[subject_id] = subject_fc[np.triu_indices(264, k=1)]\n",
    "print(\"Number of functional connectivities:\", len(fcs))\n",
    "print(\"Number of features (connections):\", fcs[\"NDARAP912JK3\"].shape[0])"
   ]
  },
  {
   "cell_type": "markdown",
   "metadata": {},
   "source": [
    "## Get Labels"
   ]
  },
  {
   "cell_type": "code",
   "execution_count": 55,
   "metadata": {},
   "outputs": [],
   "source": [
    "wisc_label_path = \"/imaging3/owenlab/bpho/Biobank Labels/Subjects with WISC.csv\"\n",
    "wisc_labels = pd.read_csv(wisc_label_path)\n",
    "wisc_labels.set_index(keys='assessment WISC,EID', inplace=True)\n",
    "# display(wisc_labels)"
   ]
  },
  {
   "cell_type": "code",
   "execution_count": 37,
   "metadata": {},
   "outputs": [
    {
     "name": "stdout",
     "output_type": "stream",
     "text": [
      "425\n"
     ]
    }
   ],
   "source": [
    "label_subject_ids = wisc_labels.index\n",
    "subject_ages = wisc_labels[\"assessment Basic_Demos,Age\"].to_numpy()\n",
    "subjects_with_wisc = {}\n",
    "\n",
    "for subject_id in label_subject_ids:\n",
    "    if subject_id not in fcs:\n",
    "        continue\n",
    "    \n",
    "    subject_wisc_fsiq_sum = wisc_labels.at[subject_id, 'assessment WISC,WISC_FSIQ']\n",
    "#     if subject_wisc_fsiq_sum < 40:\n",
    "#         continue\n",
    "    \n",
    "    subjects_with_wisc[subject_id] = (fcs[subject_id], subject_wisc_fsiq_sum)\n",
    "\n",
    "print(len(subjects_with_wisc))"
   ]
  },
  {
   "cell_type": "code",
   "execution_count": 42,
   "metadata": {},
   "outputs": [
    {
     "name": "stdout",
     "output_type": "stream",
     "text": [
      "X shape: (425, 34716) y shape: (425,)\n"
     ]
    }
   ],
   "source": [
    "fc_matrices = []\n",
    "wisc_measure = []\n",
    "\n",
    "for features in subjects_with_wisc.values():\n",
    "    fc_matrices.append(features[0])\n",
    "    wisc_measure.append(features[1])\n",
    "\n",
    "X = np.array(fc_matrices)\n",
    "y = np.array(wisc_measure)\n",
    "# y = np.array(subject_ages)\n",
    "\n",
    "print(\"X shape:\", X.shape, \"y shape:\", y.shape)"
   ]
  },
  {
   "cell_type": "markdown",
   "metadata": {},
   "source": [
    "## Train PLS Regression"
   ]
  },
  {
   "cell_type": "markdown",
   "metadata": {},
   "source": [
    "### Determine optimal number of components"
   ]
  },
  {
   "cell_type": "code",
   "execution_count": 7,
   "metadata": {},
   "outputs": [],
   "source": [
    "from sklearn.cross_decomposition import PLSRegression\n",
    "from sklearn.model_selection import KFold, train_test_split\n",
    "from sklearn.metrics import r2_score\n",
    "\n",
    "kf = KFold(n_splits=10)"
   ]
  },
  {
   "cell_type": "code",
   "execution_count": 28,
   "metadata": {},
   "outputs": [],
   "source": [
    "pls = PLSRegression(n_components=5)\n",
    "\n",
    "train_scores = []\n",
    "test_scores = []"
   ]
  },
  {
   "cell_type": "code",
   "execution_count": 29,
   "metadata": {},
   "outputs": [
    {
     "name": "stdout",
     "output_type": "stream",
     "text": [
      "Avg train score: 0.7695676699176808\n",
      "Avg test score: 0.12598885221782558\n"
     ]
    }
   ],
   "source": [
    "for train_index, test_index in kf.split(X):\n",
    "    X_train, X_test = X[train_index], X[test_index]\n",
    "    y_train, y_test = y[train_index], y[test_index]\n",
    "    \n",
    "    pls.fit(X_train, y_train)\n",
    "    X_pls, y_pls = pls.transform(X, y)\n",
    "    \n",
    "    train_scores.append(pls.score(X_train, y_train))\n",
    "    test_scores.append(pls.score(X_test, y_test))\n",
    "\n",
    "print(\"Avg train score:\", np.mean(train_scores))\n",
    "print(\"Avg test score:\", np.mean(test_scores))"
   ]
  },
  {
   "cell_type": "code",
   "execution_count": 14,
   "metadata": {},
   "outputs": [
    {
     "name": "stdout",
     "output_type": "stream",
     "text": [
      "(34716, 5) (34716, 1)\n"
     ]
    }
   ],
   "source": [
    "# Y = X @ coef_\n",
    "print(pls.x_weights_.shape, pls.coef_.shape)"
   ]
  },
  {
   "cell_type": "markdown",
   "metadata": {},
   "source": [
    "### Explained Variance\n",
    "1 component = 0.065 / -0.035\n",
    "2 component = 0.368 /  0.013\n",
    "3 component = 0.527 / -0.003\n",
    "4 component = 0.665 /  0.023\n",
    "5 component = 0.791 / -0.026\n",
    "6 component = 0.862 / -0.043\n",
    "7 component = 0.916 / -0.056"
   ]
  },
  {
   "cell_type": "markdown",
   "metadata": {},
   "source": [
    "### Use PLS to predict scores"
   ]
  },
  {
   "cell_type": "code",
   "execution_count": 33,
   "metadata": {},
   "outputs": [],
   "source": [
    "X_train, X_test, y_train, y_test = train_test_split(\n",
    "    X, y, test_size=0.3)"
   ]
  },
  {
   "cell_type": "code",
   "execution_count": 44,
   "metadata": {},
   "outputs": [
    {
     "name": "stdout",
     "output_type": "stream",
     "text": [
      "Train r^2: 0.841684508458011\n",
      "Test r^2: 0.061177917463166774\n"
     ]
    }
   ],
   "source": [
    "train_scores = []\n",
    "test_scores = []\n",
    "\n",
    "for i in range(0, 1000):\n",
    "    X_train, X_test, y_train, y_test = train_test_split(\n",
    "    X, y, test_size=0.3)\n",
    "    \n",
    "    pls = PLSRegression(n_components=5)\n",
    "    pls.fit(X_train, y_train)\n",
    "\n",
    "    y_train_pred = pls.predict(X_train)\n",
    "    y_test_pred = pls.predict(X_test)\n",
    "    \n",
    "    train_scores.append(r2_score(y_train, y_train_pred))\n",
    "    test_scores.append(r2_score(y_test, y_test_pred))\n",
    "\n",
    "print(\"Train r^2:\", np.mean(train_scores))\n",
    "print(\"Test r^2:\", np.mean(test_scores))\n",
    "    \n",
    "# print(\"Train r^2:\", r2_score(y_train, y_train_pred))\n",
    "# print(\"Test r^2:\", r2_score(y_test, y_test_pred))"
   ]
  },
  {
   "cell_type": "code",
   "execution_count": 46,
   "metadata": {},
   "outputs": [
    {
     "name": "stdout",
     "output_type": "stream",
     "text": [
      "Train r^2: 0.8340202949925268\n",
      "Test r^2: 0.06916211235221303\n"
     ]
    }
   ],
   "source": [
    "print(\"Train r^2:\", np.median(train_scores))\n",
    "print(\"Test r^2:\", np.median(test_scores))"
   ]
  },
  {
   "cell_type": "code",
   "execution_count": 45,
   "metadata": {},
   "outputs": [
    {
     "data": {
      "image/png": "[encoded data removed]",
      "text/plain": [
       "<Figure size 720x720 with 1 Axes>"
      ]
     },
     "metadata": {
      "needs_background": "light"
     },
     "output_type": "display_data"
    }
   ],
   "source": [
    "plt.figure(1, figsize=(10, 10))\n",
    "plt.hist(x=test_scores)\n",
    "plt.title(\"\")\n",
    "plt.xlabel('')\n",
    "plt.ylabel('')\n",
    "plt.show()"
   ]
  },
  {
   "cell_type": "code",
   "execution_count": 92,
   "metadata": {},
   "outputs": [
    {
     "data": {
      "image/png": "[encoded data removed]",
      "text/plain": [
       "<Figure size 720x720 with 1 Axes>"
      ]
     },
     "metadata": {
      "needs_background": "light"
     },
     "output_type": "display_data"
    }
   ],
   "source": [
    "plt.figure(1, figsize=(10, 10))\n",
    "plt.scatter(y_train, y_train_pred, alpha=0.3)\n",
    "plt.title(\"Training Set\")\n",
    "plt.xlabel('True IQ')\n",
    "plt.ylabel('Predicted IQ')\n",
    "plt.show()"
   ]
  },
  {
   "cell_type": "code",
   "execution_count": 93,
   "metadata": {},
   "outputs": [
    {
     "data": {
      "image/png": "[encoded data removed]",
      "text/plain": [
       "<Figure size 720x720 with 1 Axes>"
      ]
     },
     "metadata": {
      "needs_background": "light"
     },
     "output_type": "display_data"
    }
   ],
   "source": [
    "plt.figure(1, figsize=(10, 10))\n",
    "plt.scatter(y_test, y_test_pred, alpha=0.3)\n",
    "plt.title(\"Testing Set\")\n",
    "plt.xlabel('True IQ')\n",
    "plt.ylabel('Predicted IQ')\n",
    "plt.show()"
   ]
  },
  {
   "cell_type": "code",
   "execution_count": null,
   "metadata": {},
   "outputs": [],
   "source": []
  }
 ],
 "metadata": {
  "kernelspec": {
   "display_name": "Python (venv)",
   "language": "python",
   "name": "venv"
  },
  "language_info": {
   "codemirror_mode": {
    "name": "ipython",
    "version": 3
   },
   "file_extension": ".py",
   "mimetype": "text/x-python",
   "name": "python",
   "nbconvert_exporter": "python",
   "pygments_lexer": "ipython3",
   "version": "3.7.9"
  }
 },
 "nbformat": 4,
 "nbformat_minor": 4
}
