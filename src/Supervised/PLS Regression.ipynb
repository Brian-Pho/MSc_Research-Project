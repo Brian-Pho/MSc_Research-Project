{
 "cells": [
  {
   "cell_type": "markdown",
   "metadata": {},
   "source": [
    "# PLS Regression"
   ]
  },
  {
   "cell_type": "code",
   "execution_count": 3,
   "metadata": {},
   "outputs": [],
   "source": [
    "import pandas as pd\n",
    "import numpy as np\n",
    "\n",
    "%load_ext autoreload\n",
    "%autoreload 2\n",
    "\n",
    "import matplotlib.pyplot as plt\n",
    "%matplotlib inline\n",
    "\n",
    "import seaborn as sns\n",
    "sns.set_theme(\n",
    "    context=\"paper\", \n",
    "    style=\"whitegrid\", \n",
    "    font_scale=1.2,\n",
    "    rc={'figure.figsize': (10, 10), 'figure.dpi': 300}\n",
    ")"
   ]
  },
  {
   "cell_type": "markdown",
   "metadata": {},
   "source": [
    "## Get Data"
   ]
  },
  {
   "cell_type": "code",
   "execution_count": 4,
   "metadata": {},
   "outputs": [
    {
     "name": "stdout",
     "output_type": "stream",
     "text": [
      "X: (390, 34716) | Y: 16 | Age: (390,) | Sex: (390,)\n"
     ]
    }
   ],
   "source": [
    "from common.data import get_data\n",
    "\n",
    "X, Y, demographics = get_data()\n",
    "ages, sexes = demographics['Age'], demographics['Sex']\n",
    "\n",
    "print(f'X: {X.shape} | Y: {len(Y.keys())} | Age: {ages.shape} | Sex: {sexes.shape}')"
   ]
  },
  {
   "cell_type": "code",
   "execution_count": 5,
   "metadata": {},
   "outputs": [],
   "source": [
    "from scipy import stats\n",
    "from sklearn.cross_decomposition import PLSRegression\n",
    "from sklearn.linear_model import LinearRegression\n",
    "from sklearn.model_selection import RepeatedKFold, cross_validate, permutation_test_score\n",
    "from sklearn.preprocessing import StandardScaler\n",
    "from sklearn.pipeline import make_pipeline"
   ]
  },
  {
   "cell_type": "markdown",
   "metadata": {},
   "source": [
    "## Run for one target, one age bin"
   ]
  },
  {
   "cell_type": "code",
   "execution_count": 6,
   "metadata": {},
   "outputs": [
    {
     "name": "stdout",
     "output_type": "stream",
     "text": [
      "y: (390,)\n"
     ]
    }
   ],
   "source": [
    "selected_target = \"WISC_FSIQ\"\n",
    "y = Y[selected_target]\n",
    "\n",
    "print(f'y: {y.shape}')"
   ]
  },
  {
   "cell_type": "code",
   "execution_count": 42,
   "metadata": {
    "collapsed": true,
    "jupyter": {
     "outputs_hidden": true
    }
   },
   "outputs": [
    {
     "name": "stdout",
     "output_type": "stream",
     "text": [
      "Bin 0 Range: 6.22 -> 8.80\n",
      "Bin 1 Range: 9.34 -> 11.97\n",
      "Bin 2 Range: 12.50 -> 15.87\n",
      "---\n",
      "Bin 0 Range: 80.00 -> 144.00\n",
      "Bin 1 Range: 86.00 -> 123.00\n",
      "Bin 2 Range: 66.00 -> 126.00\n",
      "---\n",
      "Bin 1: (19, 34716) | Bin 2: (16, 34716) | Bin 3: (16, 34716)\n"
     ]
    }
   ],
   "source": [
    "from common.binning import bin_by_age\n",
    "\n",
    "bins = bin_by_age(X, y, ages, y, True)\n",
    "bin_1, bin_2, bin_3 = bins[0], bins[1], bins[2]\n",
    "print(f'Bin 1: {bin_1[0].shape} | Bin 2: {bin_2[0].shape} | Bin 3: {bin_3[0].shape}')"
   ]
  },
  {
   "cell_type": "markdown",
   "metadata": {},
   "source": [
    "### Set up the model pipeline, metrics, and cross-validation approach"
   ]
  },
  {
   "cell_type": "code",
   "execution_count": 49,
   "metadata": {},
   "outputs": [],
   "source": [
    "def regression_scorer(reg, X, y):\n",
    "    y_pred = reg.predict(X)[:, 0]\n",
    "    return stats.pearsonr(y, y_pred)[0]\n",
    "\n",
    "estimators = [StandardScaler(), PLSRegression(n_components=4)]\n",
    "pipe = make_pipeline(*estimators)\n",
    "\n",
    "scoring = ['train_score', 'test_score']\n",
    "rkf = RepeatedKFold(n_splits=10, n_repeats=100, random_state=251183)"
   ]
  },
  {
   "cell_type": "markdown",
   "metadata": {},
   "source": [
    "### Run cross-validation"
   ]
  },
  {
   "cell_type": "code",
   "execution_count": 50,
   "metadata": {},
   "outputs": [
    {
     "name": "stdout",
     "output_type": "stream",
     "text": [
      "Target: WISC_FSIQ\n",
      "Avg train_score: 0.84\n",
      "Avg test_score: 0.35\n",
      "CPU times: user 21.9 s, sys: 7.47 s, total: 29.4 s\n",
      "Wall time: 3min 43s\n"
     ]
    }
   ],
   "source": [
    "%%time\n",
    "# X_cv = bin_3[0]\n",
    "# y_cv = bin_3[1]\n",
    "X_cv = X\n",
    "y_cv = y\n",
    "\n",
    "scores = cross_validate(pipe, X_cv, y_cv, cv=rkf, scoring=regression_scorer, n_jobs=-1, \n",
    "                        return_train_score=True, return_estimator=True)\n",
    "\n",
    "coefs = np.array([estimator['plsregression'].coef_ for estimator in scores['estimator']])\n",
    "coefs = np.squeeze(coefs, axis=2)\n",
    "avg_coef = np.mean(coefs, axis=0)\n",
    "\n",
    "print(f'Target: {selected_target}')\n",
    "for metric in scoring:\n",
    "    metric_values = scores[metric]\n",
    "    print(f'Avg {metric}: {np.mean(metric_values):.2f}')"
   ]
  },
  {
   "cell_type": "code",
   "execution_count": 44,
   "metadata": {},
   "outputs": [],
   "source": [
    "from common.paths import PLS_WEIGHTS\n",
    "\n",
    "np.save(PLS_WEIGHTS, avg_coef)"
   ]
  },
  {
   "cell_type": "markdown",
   "metadata": {},
   "source": [
    "#### ICC"
   ]
  },
  {
   "cell_type": "code",
   "execution_count": 51,
   "metadata": {},
   "outputs": [
    {
     "name": "stdout",
     "output_type": "stream",
     "text": [
      "(1000, 34716)\n"
     ]
    }
   ],
   "source": [
    "print(coefs.shape)\n",
    "icc_data = pd.DataFrame(coefs).melt(\n",
    "    var_name='connection', value_name='weight', ignore_index=False)\n",
    "icc_data['cv_run_num'] = icc_data.index"
   ]
  },
  {
   "cell_type": "code",
   "execution_count": 52,
   "metadata": {},
   "outputs": [
    {
     "data": {
      "text/html": [
       "<div>\n",
       "<style scoped>\n",
       "    .dataframe tbody tr th:only-of-type {\n",
       "        vertical-align: middle;\n",
       "    }\n",
       "\n",
       "    .dataframe tbody tr th {\n",
       "        vertical-align: top;\n",
       "    }\n",
       "\n",
       "    .dataframe thead th {\n",
       "        text-align: right;\n",
       "    }\n",
       "</style>\n",
       "<table border=\"1\" class=\"dataframe\">\n",
       "  <thead>\n",
       "    <tr style=\"text-align: right;\">\n",
       "      <th></th>\n",
       "      <th>connection</th>\n",
       "      <th>weight</th>\n",
       "      <th>cv_run_num</th>\n",
       "    </tr>\n",
       "  </thead>\n",
       "  <tbody>\n",
       "    <tr>\n",
       "      <th>0</th>\n",
       "      <td>0</td>\n",
       "      <td>0.005839</td>\n",
       "      <td>0</td>\n",
       "    </tr>\n",
       "    <tr>\n",
       "      <th>1</th>\n",
       "      <td>0</td>\n",
       "      <td>0.003551</td>\n",
       "      <td>1</td>\n",
       "    </tr>\n",
       "    <tr>\n",
       "      <th>2</th>\n",
       "      <td>0</td>\n",
       "      <td>0.004353</td>\n",
       "      <td>2</td>\n",
       "    </tr>\n",
       "    <tr>\n",
       "      <th>3</th>\n",
       "      <td>0</td>\n",
       "      <td>0.001609</td>\n",
       "      <td>3</td>\n",
       "    </tr>\n",
       "    <tr>\n",
       "      <th>4</th>\n",
       "      <td>0</td>\n",
       "      <td>0.004748</td>\n",
       "      <td>4</td>\n",
       "    </tr>\n",
       "    <tr>\n",
       "      <th>...</th>\n",
       "      <td>...</td>\n",
       "      <td>...</td>\n",
       "      <td>...</td>\n",
       "    </tr>\n",
       "    <tr>\n",
       "      <th>995</th>\n",
       "      <td>34715</td>\n",
       "      <td>0.000678</td>\n",
       "      <td>995</td>\n",
       "    </tr>\n",
       "    <tr>\n",
       "      <th>996</th>\n",
       "      <td>34715</td>\n",
       "      <td>-0.000795</td>\n",
       "      <td>996</td>\n",
       "    </tr>\n",
       "    <tr>\n",
       "      <th>997</th>\n",
       "      <td>34715</td>\n",
       "      <td>0.003425</td>\n",
       "      <td>997</td>\n",
       "    </tr>\n",
       "    <tr>\n",
       "      <th>998</th>\n",
       "      <td>34715</td>\n",
       "      <td>0.003388</td>\n",
       "      <td>998</td>\n",
       "    </tr>\n",
       "    <tr>\n",
       "      <th>999</th>\n",
       "      <td>34715</td>\n",
       "      <td>0.001246</td>\n",
       "      <td>999</td>\n",
       "    </tr>\n",
       "  </tbody>\n",
       "</table>\n",
       "<p>34716000 rows × 3 columns</p>\n",
       "</div>"
      ],
      "text/plain": [
       "     connection    weight  cv_run_num\n",
       "0             0  0.005839           0\n",
       "1             0  0.003551           1\n",
       "2             0  0.004353           2\n",
       "3             0  0.001609           3\n",
       "4             0  0.004748           4\n",
       "..          ...       ...         ...\n",
       "995       34715  0.000678         995\n",
       "996       34715 -0.000795         996\n",
       "997       34715  0.003425         997\n",
       "998       34715  0.003388         998\n",
       "999       34715  0.001246         999\n",
       "\n",
       "[34716000 rows x 3 columns]"
      ]
     },
     "metadata": {},
     "output_type": "display_data"
    }
   ],
   "source": [
    "display(icc_data)"
   ]
  },
  {
   "cell_type": "code",
   "execution_count": null,
   "metadata": {},
   "outputs": [],
   "source": [
    "%%time\n",
    "\n",
    "import pingouin as pg\n",
    "\n",
    "icc = pg.intraclass_corr(data=icc_data, targets='connection', raters='cv_run_num',\n",
    "                         ratings='weight').round(3)\n",
    "icc.set_index(\"Type\")"
   ]
  },
  {
   "cell_type": "markdown",
   "metadata": {},
   "source": [
    "### Run permutation statistic"
   ]
  },
  {
   "cell_type": "code",
   "execution_count": 46,
   "metadata": {},
   "outputs": [
    {
     "name": "stdout",
     "output_type": "stream",
     "text": [
      "Target: WISC_PSI\n",
      "Score: 0.06 | p-value: 0.3949\n",
      "CPU times: user 29.5 s, sys: 1.13 s, total: 30.7 s\n",
      "Wall time: 4min 43s\n"
     ]
    }
   ],
   "source": [
    "%%time\n",
    "# X_cv = bin_1[0]\n",
    "# y_cv = bin_1[1]\n",
    "X_cv = X\n",
    "y_cv = y\n",
    "\n",
    "score, _, pvalue = permutation_test_score(\n",
    "    pipe, X_cv, y_cv, cv=rkf, scoring=regression_scorer, n_permutations=3000, n_jobs=-1)\n",
    "\n",
    "print(f'Target: {selected_target}')\n",
    "print(f'Score: {score:.2f} | p-value: {pvalue:.4f}')"
   ]
  },
  {
   "cell_type": "markdown",
   "metadata": {},
   "source": [
    "## Run for all targets, all age bins"
   ]
  },
  {
   "cell_type": "code",
   "execution_count": 38,
   "metadata": {},
   "outputs": [],
   "source": [
    "def regression_scorer(reg, X, y):\n",
    "    y_pred = reg.predict(X)[:, 0]\n",
    "    return stats.pearsonr(y, y_pred)[0]\n",
    "\n",
    "scoring = ['train_score', 'test_score']\n",
    "rkf = RepeatedKFold(n_splits=5, n_repeats=1, random_state=251183)\n",
    "\n",
    "estimators = [StandardScaler(), PLSRegression(n_components=4)]\n",
    "pipe = make_pipeline(*estimators)"
   ]
  },
  {
   "cell_type": "code",
   "execution_count": 39,
   "metadata": {},
   "outputs": [
    {
     "name": "stdout",
     "output_type": "stream",
     "text": [
      "Bin: All   | Target: WISC_FSIQ | Score: 0.36 | p-value: 0.0133\n",
      "Bin: Bin 1 | Target: WISC_FSIQ | Score: -0.03 | p-value: 0.5475\n",
      "Bin: Bin 2 | Target: WISC_FSIQ | Score: 0.22 | p-value: 0.2459\n",
      "Bin: Bin 3 | Target: WISC_FSIQ | Score: -0.07 | p-value: 0.6015\n",
      "---\n",
      "Bin: All   | Target: WISC_VSI | Score: 0.34 | p-value: 0.0210\n",
      "Bin: Bin 1 | Target: WISC_VSI | Score: -0.34 | p-value: 0.8254\n",
      "Bin: Bin 2 | Target: WISC_VSI | Score: 0.15 | p-value: 0.3159\n",
      "Bin: Bin 3 | Target: WISC_VSI | Score: 0.25 | p-value: 0.2206\n",
      "---\n",
      "Bin: All   | Target: WISC_FRI | Score: 0.20 | p-value: 0.1123\n",
      "Bin: Bin 1 | Target: WISC_FRI | Score: -0.03 | p-value: 0.5315\n",
      "Bin: Bin 2 | Target: WISC_FRI | Score: 0.23 | p-value: 0.2423\n",
      "Bin: Bin 3 | Target: WISC_FRI | Score: -0.15 | p-value: 0.6924\n",
      "---\n",
      "Bin: All   | Target: WISC_WMI | Score: -0.00 | p-value: 0.4972\n",
      "Bin: Bin 1 | Target: WISC_WMI | Score: -0.31 | p-value: 0.8064\n",
      "Bin: Bin 2 | Target: WISC_WMI | Score: 0.50 | p-value: 0.0447\n",
      "Bin: Bin 3 | Target: WISC_WMI | Score: -0.05 | p-value: 0.5745\n",
      "---\n",
      "Bin: All   | Target: WISC_PSI | Score: 0.04 | p-value: 0.4059\n",
      "Bin: Bin 1 | Target: WISC_PSI | Score: -0.05 | p-value: 0.5635\n",
      "Bin: Bin 2 | Target: WISC_PSI | Score: 0.28 | p-value: 0.1953\n",
      "Bin: Bin 3 | Target: WISC_PSI | Score: 0.20 | p-value: 0.2736\n",
      "---\n",
      "Bin: All   | Target: WISC_VCI | Score: 0.36 | p-value: 0.0150\n",
      "Bin: Bin 1 | Target: WISC_VCI | Score: -0.23 | p-value: 0.7458\n",
      "Bin: Bin 2 | Target: WISC_VCI | Score: 0.12 | p-value: 0.3519\n",
      "Bin: Bin 3 | Target: WISC_VCI | Score: -0.21 | p-value: 0.7514\n",
      "---\n",
      "CPU times: user 19min 25s, sys: 57.6 s, total: 20min 22s\n",
      "Wall time: 2h 34min 6s\n"
     ]
    }
   ],
   "source": [
    "%%time\n",
    "from common.binning import bin_by_age\n",
    "from common.wisc import FSIQ, PRIMARY_INDICES\n",
    "\n",
    "targets = FSIQ + PRIMARY_INDICES\n",
    "\n",
    "for target in targets:\n",
    "    y = Y[target]\n",
    "    bins = bin_by_age(X, y, ages, y)\n",
    "    bin_1, bin_2, bin_3 = bins[0], bins[1], bins[2]\n",
    "    X_all = [X, bin_1[0], bin_2[0], bin_3[0]]\n",
    "    y_all = [y, bin_1[1], bin_2[1], bin_3[1]]\n",
    "    age_bin_label = [\"All  \", \"Bin 1\", \"Bin 2\", \"Bin 3\"]\n",
    "    \n",
    "    for X_cv, y_cv, bin_label in zip(X_all, y_all, age_bin_label):\n",
    "        score, _, pvalue = permutation_test_score(\n",
    "            pipe, X_cv, y_cv, cv=rkf, scoring=regression_scorer, n_permutations=3000, n_jobs=-1)\n",
    "        print(f'Bin: {bin_label} | Target: {target} | Score: {score:.2f} | p-value: {pvalue:.4f}')\n",
    "    print('---')"
   ]
  },
  {
   "cell_type": "code",
   "execution_count": null,
   "metadata": {},
   "outputs": [],
   "source": []
  }
 ],
 "metadata": {
  "kernelspec": {
   "display_name": "venv",
   "language": "python",
   "name": "venv"
  },
  "language_info": {
   "codemirror_mode": {
    "name": "ipython",
    "version": 3
   },
   "file_extension": ".py",
   "mimetype": "text/x-python",
   "name": "python",
   "nbconvert_exporter": "python",
   "pygments_lexer": "ipython3",
   "version": "3.7.10"
  }
 },
 "nbformat": 4,
 "nbformat_minor": 4
}
