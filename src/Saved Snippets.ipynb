{
 "cells": [
  {
   "cell_type": "markdown",
   "metadata": {},
   "source": [
    "# Saved Snippets\n",
    "This script holds random snippets of code that I may need again, but are cluttering the main scripts."
   ]
  },
  {
   "cell_type": "markdown",
   "metadata": {},
   "source": [
    "## Custom PLSRW"
   ]
  },
  {
   "cell_type": "code",
   "execution_count": null,
   "metadata": {},
   "outputs": [],
   "source": [
    "from scipy.linalg import pinv2\n",
    "from sklearn.metrics import r2_score"
   ]
  },
  {
   "cell_type": "code",
   "execution_count": null,
   "metadata": {},
   "outputs": [],
   "source": [
    "def _center_scale_xy(X, Y, scale=True):\n",
    "    \"\"\" Center X, Y and scale if the scale parameter==True\n",
    "\n",
    "    Returns\n",
    "    -------\n",
    "        X, Y, x_mean, y_mean, x_std, y_std\n",
    "    \"\"\"\n",
    "    # center\n",
    "    x_mean = X.mean(axis=0)\n",
    "    X -= x_mean\n",
    "    y_mean = Y.mean(axis=0)\n",
    "    Y -= y_mean\n",
    "    # scale\n",
    "    if scale:\n",
    "        x_std = X.std(axis=0, ddof=1)\n",
    "        x_std[x_std == 0.0] = 1.0\n",
    "        X /= x_std\n",
    "        y_std = Y.std(axis=0, ddof=1)\n",
    "        y_std[y_std == 0.0] = 1.0\n",
    "        Y /= y_std\n",
    "    else:\n",
    "        x_std = np.ones(X.shape[1])\n",
    "        y_std = np.ones(Y.shape[1])\n",
    "    return X, Y, x_mean, y_mean, x_std, y_std\n",
    "\n",
    "class PLSRW():\n",
    "    \n",
    "    def __init__(self, n_components=2, scale=True, reg=0.01):\n",
    "        self.n_components=n_components\n",
    "        self.scale = scale\n",
    "        self.reg = reg\n",
    "    \n",
    "    def _calc_dist(self, X, Y):\n",
    "        dist = []\n",
    "        \n",
    "        for feature in range(X.shape[1]):\n",
    "            feature_dist = np.linalg.norm(Y - X[:, feature])\n",
    "            dist.append(feature_dist)\n",
    "        \n",
    "        return np.array(dist)\n",
    "    \n",
    "    def fit(self, X, Y):\n",
    "        Y = Y.astype('float64')\n",
    "        if Y.ndim == 1:\n",
    "            Y = Y.reshape(-1, 1)\n",
    "        \n",
    "        n = X.shape[0]\n",
    "        p = X.shape[1]\n",
    "        q = Y.shape[1]\n",
    "        \n",
    "        n_components = self.n_components\n",
    "        reg = self.reg\n",
    "        eps = np.finfo(X.dtype).eps\n",
    "        Y_eps = np.finfo(Y.dtype).eps\n",
    "        \n",
    "        self.x_weights_ = np.zeros((p, n_components))  # U\n",
    "        self._x_scores = np.zeros((n, n_components))  # Xi\n",
    "        self.x_loadings_ = np.zeros((p, n_components))  # Gamma\n",
    "        self.y_loadings_ = np.zeros((q, n_components))  # Delta\n",
    "        \n",
    "        # Scale (in place)\n",
    "        Xk, Yk, self._x_mean, self._y_mean, self._x_std, self._y_std = (\n",
    "            _center_scale_xy(X, Y, self.scale))\n",
    "        Yk_mask = np.all(np.abs(Yk) < 10 * Y_eps, axis=0)\n",
    "        Yk[:, Yk_mask] = 0.0\n",
    "        \n",
    "        for k in range(n_components):\n",
    "            # Compute the regularization matrix\n",
    "            d = self._calc_dist(Xk, Yk)\n",
    "            D = np.diag(d)\n",
    "            print(reg * (D.T @ D))\n",
    "            print((Xk.T @ Xk))\n",
    "            \n",
    "            # Compute the PLSRW weight\n",
    "            w_inter = pinv2(\n",
    "                ((Xk.T @ Xk) + (reg * (D.T @ D))), check_finite=False)\n",
    "            x_weights = (w_inter @ Xk.T) @ Yk\n",
    "            print(\"x_weights:\", x_weights.shape)\n",
    "            \n",
    "            # Normalize weight\n",
    "            x_weights /= np.sqrt(x_weights.T @ x_weights) + eps\n",
    "            \n",
    "            # Calculate the corresponding scores and loadings\n",
    "            x_scores = Xk @ x_weights\n",
    "            x_loadings = (Xk.T @ x_scores) / (x_scores.T @ x_scores)\n",
    "            y_loadings = (Yk.T @ x_scores) / (x_scores.T @ x_scores)\n",
    "            \n",
    "            # Deflate X and Y\n",
    "            Xk -= np.outer(x_scores, x_loadings)\n",
    "            Yk -= np.outer(x_scores, y_loadings)\n",
    "            print(\"Xk:\", Xk.shape, \"Yk:\", Yk.shape)\n",
    "            \n",
    "            self.x_weights_[:, k] = x_weights[:, 0]\n",
    "            self._x_scores[:, k] = x_scores[:, 0]\n",
    "            self.x_loadings_[:, k] = x_loadings[:, 0]\n",
    "            self.y_loadings_[:, k] = y_loadings[:, 0]\n",
    "\n",
    "        # Compute transformation matrices\n",
    "        self.x_rotations_ = np.dot(\n",
    "            self.x_weights_,\n",
    "            pinv2(np.dot(self.x_loadings_.T, self.x_weights_),\n",
    "                  check_finite=False))\n",
    "        \n",
    "        self.coef_ = np.dot(self.x_rotations_, self.y_loadings_.T)\n",
    "        self.coef_ = self.coef_ * self._y_std\n",
    "        print(\"coef:\", self.coef_.shape)\n",
    "        return self\n",
    "    \n",
    "    def predict(self, X):\n",
    "        return X @ self.coef_\n",
    "    \n",
    "    def score(self, X, y):\n",
    "        y_pred = self.predict(X)\n",
    "        return r2_score(y, y_pred)"
   ]
  },
  {
   "cell_type": "code",
   "execution_count": null,
   "metadata": {},
   "outputs": [],
   "source": [
    "plsrw = PLSRW(n_components=2, reg=0)\n",
    "plsrw.fit(X, y)\n",
    "print(plsrw.score(X, y))"
   ]
  },
  {
   "cell_type": "markdown",
   "metadata": {},
   "source": [
    "## Display PLS plots while training"
   ]
  },
  {
   "cell_type": "code",
   "execution_count": null,
   "metadata": {},
   "outputs": [],
   "source": [
    "train_scores = []\n",
    "test_scores = []\n",
    "# fig, axs = plt.subplots(3, 3, figsize=(15, 15))\n",
    "# x_fig, y_fig = 0, 0\n",
    "\n",
    "for i in range(0, 1000):\n",
    "    X_train, X_test, y_train, y_test = train_test_split(\n",
    "        X, y, test_size=0.3)\n",
    "    \n",
    "    pls = PLSRegression(n_components=num_component)\n",
    "    pls.fit(X_train, y_train)\n",
    "\n",
    "    y_train_pred = pls.predict(X_train)\n",
    "    y_test_pred = pls.predict(X_test)\n",
    "    \n",
    "    train_scores.append(r2_score(y_train, y_train_pred))\n",
    "    test_scores.append(r2_score(y_test, y_test_pred))\n",
    "    \n",
    "#     if (i % 10 == 0):\n",
    "#         axs[y_fig, x_fig].scatter(y_test, y_test_pred, alpha=0.3)\n",
    "#         m, b, r, p, std_err = stats.linregress(y_test, y_test_pred[:,0])\n",
    "#         axs[y_fig, x_fig].plot(y_test, (m * y_test) + b, alpha=0.3)\n",
    "#         print(x_fig, y_fig, f\"r:{r:.2f}\", f\"r^2:{test_scores[-1]:.2f}\")\n",
    "#         x_fig += 1\n",
    "#         if (x_fig % 3 == 0):\n",
    "#             x_fig = 0\n",
    "#             y_fig += 1\n",
    "\n",
    "avg_train_score = np.mean(train_scores)\n",
    "avg_test_score = np.mean(test_scores)\n",
    "\n",
    "print(\"Train r^2:\", avg_train_score)\n",
    "print(\"Test r^2:\", avg_test_score)\n",
    "# plt.show()"
   ]
  },
  {
   "cell_type": "markdown",
   "metadata": {},
   "source": [
    "## Display Yeo FC"
   ]
  },
  {
   "cell_type": "code",
   "execution_count": null,
   "metadata": {},
   "outputs": [],
   "source": [
    "# To display each class of connections (within and between)\n",
    "plt.figure(figsize=(10, 10))\n",
    "plt.imshow(subject_fc)\n",
    "a = np.zeros((11, 11))\n",
    "a[fpn_indices] = subject_fc[fpn_indices]\n",
    "plt.imshow(a)\n",
    "b = np.zeros((8, 8))\n",
    "b[np.triu_indices(8, k=1)] = subject_fc[dmn_indices]\n",
    "plt.imshow(b)\n",
    "plt.imshow(subject_fc[:11, 11:])"
   ]
  },
  {
   "cell_type": "markdown",
   "metadata": {},
   "source": [
    "## Plot Brain Images"
   ]
  },
  {
   "cell_type": "code",
   "execution_count": null,
   "metadata": {},
   "outputs": [],
   "source": [
    "# For plotting other functional images\n",
    "img = image.load_img(f'{subject_path}/wr{subject}_task-movieDM_bold_0375.nii')\n",
    "concat_img = image.concat_imgs(subject_niftis)\n",
    "img = image.index_img(concat_img, 0)\n",
    "img = image.mean_img(concat_img)"
   ]
  },
  {
   "cell_type": "markdown",
   "metadata": {},
   "source": [
    "## Feature Selection (Poor Performance)"
   ]
  },
  {
   "cell_type": "markdown",
   "metadata": {},
   "source": [
    "### Variance Threshold"
   ]
  },
  {
   "cell_type": "code",
   "execution_count": null,
   "metadata": {},
   "outputs": [],
   "source": [
    "sel = VarianceThreshold(0.055)\n",
    "X = sel.fit_transform(X)\n",
    "print(\"X shape:\", X.shape)"
   ]
  },
  {
   "cell_type": "markdown",
   "metadata": {},
   "source": [
    "### Select k strongest connections"
   ]
  },
  {
   "cell_type": "code",
   "execution_count": null,
   "metadata": {},
   "outputs": [],
   "source": [
    "def score_fc(X, y):\n",
    "    # Take the strongest correlations regardless of sign\n",
    "    sum_fc = np.absolute(np.sum(X, axis=0))\n",
    "    return sum_fc\n",
    "\n",
    "X = SelectKBest(score_fc, k=3400).fit_transform(X, y)\n",
    "print(\"X shape:\", X.shape)"
   ]
  }
 ],
 "metadata": {
  "kernelspec": {
   "display_name": "venv",
   "language": "python",
   "name": "venv"
  },
  "language_info": {
   "codemirror_mode": {
    "name": "ipython",
    "version": 3
   },
   "file_extension": ".py",
   "mimetype": "text/x-python",
   "name": "python",
   "nbconvert_exporter": "python",
   "pygments_lexer": "ipython3",
   "version": "3.7.10"
  }
 },
 "nbformat": 4,
 "nbformat_minor": 4
}
