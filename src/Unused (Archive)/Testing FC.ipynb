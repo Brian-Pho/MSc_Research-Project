{
 "cells": [
  {
   "cell_type": "markdown",
   "metadata": {},
   "source": [
    "# Testing Functional Connectivities\n",
    "This script is for me to experiment/test generating functional connectivities from the data."
   ]
  },
  {
   "cell_type": "code",
   "execution_count": null,
   "metadata": {},
   "outputs": [],
   "source": [
    "from nilearn import plotting, image\n",
    "from os import listdir\n",
    "from os.path import isfile, join\n",
    "import numpy as np"
   ]
  },
  {
   "cell_type": "code",
   "execution_count": null,
   "metadata": {},
   "outputs": [],
   "source": [
    "subject_path = '/imaging3/owenlab/wilson/MovieData/Release8/Age10/BioBank_Analysis_All/aamod_smooth_00001/sub-NDARAP912JK3'\n",
    "\n",
    "files = [join(subject_path, f) for f in listdir(subject_path) if isfile(join(subject_path, f))]\n",
    "print(files[1])"
   ]
  },
  {
   "cell_type": "code",
   "execution_count": null,
   "metadata": {},
   "outputs": [],
   "source": [
    "concat_file = image.concat_imgs(files[1])"
   ]
  },
  {
   "cell_type": "code",
   "execution_count": null,
   "metadata": {},
   "outputs": [],
   "source": [
    "selected_volumes = image.index_img(concat_file, slice(3, 5))\n",
    "\n",
    "for img in image.iter_img(selected_volumes):\n",
    "    plotting.view_img(img)"
   ]
  },
  {
   "cell_type": "code",
   "execution_count": null,
   "metadata": {},
   "outputs": [],
   "source": [
    "plotting.plot_glass_brain(image.mean_img(concat_file), threshold=None, display_mode='lzr')"
   ]
  },
  {
   "cell_type": "code",
   "execution_count": null,
   "metadata": {},
   "outputs": [],
   "source": [
    "from nilearn import datasets\n",
    "\n",
    "dataset = datasets.fetch_atlas_harvard_oxford('cort-maxprob-thr25-2mm')\n",
    "atlas_filename = dataset.maps\n",
    "labels = dataset.labels\n",
    "\n",
    "print('Atlas ROIs are located in nifti image (4D) at: %s' %\n",
    "      atlas_filename)  # 4D data"
   ]
  },
  {
   "cell_type": "code",
   "execution_count": null,
   "metadata": {},
   "outputs": [],
   "source": [
    "from nilearn import datasets\n",
    "from nilearn.input_data import NiftiSpheresMasker\n",
    "\n",
    "power = datasets.fetch_coords_power_2011()\n",
    "coords = np.vstack((power.rois['x'], power.rois['y'], power.rois['z'])).T\n",
    "\n",
    "spheres_masker = NiftiSpheresMasker(\n",
    "    seeds=coords, smoothing_fwhm=6, radius=5.,\n",
    "    detrend=True, standardize=True, low_pass=0.1, high_pass=0.01, t_r=2)\n",
    "\n",
    "time_series = spheres_masker.fit_transform(concat_file)\n",
    "print('Time series has {0} samples'.format(time_series.shape[0]))"
   ]
  },
  {
   "cell_type": "code",
   "execution_count": null,
   "metadata": {},
   "outputs": [],
   "source": [
    "from nilearn.input_data import NiftiLabelsMasker\n",
    "masker = NiftiLabelsMasker(labels_img=atlas_filename, standardize=True,\n",
    "                           memory='nilearn_cache', verbose=1)\n",
    "\n",
    "# Here we go from nifti files to the signal time series in a numpy\n",
    "# array. Note how we give confounds to be regressed out during signal\n",
    "# extraction\n",
    "time_series = masker.fit_transform(concat_file)"
   ]
  },
  {
   "cell_type": "code",
   "execution_count": null,
   "metadata": {},
   "outputs": [],
   "source": [
    "from nilearn.connectome import ConnectivityMeasure\n",
    "correlation_measure = ConnectivityMeasure(kind='correlation')\n",
    "correlation_matrix = correlation_measure.fit_transform([time_series])[0]\n",
    "\n",
    "# Plot the correlation matrix\n",
    "from nilearn import plotting\n",
    "\n",
    "# Make a large figure\n",
    "# Mask the main diagonal for visualization:\n",
    "np.fill_diagonal(correlation_matrix, 0)\n",
    "# The labels we have start with the background (0), hence we skip the\n",
    "# first label\n",
    "# matrices are ordered for block-like representation\n",
    "# plotting.plot_matrix(correlation_matrix, figure=(10, 8), labels=labels[1:],\n",
    "#                      vmax=0.8, vmin=-0.8, reorder=True)\n",
    "\n",
    "plotting.plot_matrix(correlation_matrix, vmin=-1., vmax=1., colorbar=True, figure=(20, 20),\n",
    "                     title='Power correlation matrix')\n",
    "\n",
    "# Tweak edge_threshold to keep only the strongest connections.\n",
    "plotting.plot_connectome(correlation_matrix, coords, title='Power correlation graph',\n",
    "                         edge_threshold='99.5%', node_size=20, colorbar=True)"
   ]
  },
  {
   "cell_type": "code",
   "execution_count": null,
   "metadata": {},
   "outputs": [],
   "source": []
  }
 ],
 "metadata": {
  "kernelspec": {
   "display_name": "venv",
   "language": "python",
   "name": "venv"
  },
  "language_info": {
   "codemirror_mode": {
    "name": "ipython",
    "version": 3
   },
   "file_extension": ".py",
   "mimetype": "text/x-python",
   "name": "python",
   "nbconvert_exporter": "python",
   "pygments_lexer": "ipython3",
   "version": "3.7.10"
  }
 },
 "nbformat": 4,
 "nbformat_minor": 4
}
