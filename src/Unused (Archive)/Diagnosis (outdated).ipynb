{
 "cells": [
  {
   "cell_type": "markdown",
   "metadata": {},
   "source": [
    "# Model Diagnosis Cross-Prediction"
   ]
  },
  {
   "cell_type": "code",
   "execution_count": null,
   "metadata": {},
   "outputs": [],
   "source": [
    "import pandas as pd\n",
    "import numpy as np\n",
    "\n",
    "%load_ext autoreload\n",
    "%autoreload 2\n",
    "\n",
    "import matplotlib.pyplot as plt\n",
    "%matplotlib inline\n",
    "\n",
    "import seaborn as sns\n",
    "sns.set_theme(\n",
    "    context=\"paper\", \n",
    "    style=\"whitegrid\", \n",
    "    font_scale=1.2,\n",
    "    rc={'figure.figsize': (10, 10), 'figure.dpi': 300}\n",
    ")"
   ]
  },
  {
   "cell_type": "markdown",
   "metadata": {},
   "source": [
    "## Get Data"
   ]
  },
  {
   "cell_type": "code",
   "execution_count": null,
   "metadata": {},
   "outputs": [],
   "source": [
    "from os.path import join\n",
    "from common.data import get_data\n",
    "from common.paths import BIOBANK_LABELS\n",
    "\n",
    "adhd_group_one = join(BIOBANK_LABELS, 'Subjects_with_WISC (adhd 1).csv')\n",
    "X_adhd_one, Y_adhd_one, demographics, population = get_data(5, adhd_group_one)\n",
    "\n",
    "adhd_group_two = join(BIOBANK_LABELS, 'Subjects_with_WISC (adhd 2).csv')\n",
    "X_adhd_two, Y_adhd_two, demographics, population = get_data(5, adhd_group_two)\n",
    "\n",
    "healthy = join(BIOBANK_LABELS, 'Subjects_with_WISC (healthy).csv')\n",
    "X_healthy, Y_healthy, demographics, population = get_data(5, healthy)\n",
    "\n",
    "print(f'X_adhd_one: {X_adhd_one.shape} | X_adhd_two: {X_adhd_two.shape} | X_healthy: {X_healthy.shape}')"
   ]
  },
  {
   "cell_type": "code",
   "execution_count": null,
   "metadata": {},
   "outputs": [],
   "source": [
    "from common.scoring import pls_scorer, ridge_scorer\n",
    "from sklearn.cross_decomposition import PLSRegression\n",
    "from sklearn.linear_model import Ridge, RidgeCV\n",
    "from sklearn.model_selection import RepeatedKFold, cross_validate, permutation_test_score\n",
    "from sklearn.preprocessing import StandardScaler\n",
    "from sklearn.pipeline import make_pipeline"
   ]
  },
  {
   "cell_type": "markdown",
   "metadata": {},
   "source": [
    "## Run for one target, one age bin"
   ]
  },
  {
   "cell_type": "code",
   "execution_count": null,
   "metadata": {},
   "outputs": [],
   "source": [
    "age_group = 'all'\n",
    "selected_target = \"WISC_FSIQ\"\n",
    "y_adhd_one = Y_adhd_one[selected_target]\n",
    "y_adhd_two = Y_adhd_two[selected_target]\n",
    "y_healthy = Y_healthy[selected_target]\n",
    "\n",
    "print(f'{selected_target}: {y_adhd_one.shape}, {y_adhd_two.shape}, {y_healthy.shape}')"
   ]
  },
  {
   "cell_type": "code",
   "execution_count": null,
   "metadata": {},
   "outputs": [],
   "source": [
    "X = X_healthy\n",
    "y = y_healthy\n",
    "X_out_group_one = X_adhd_one\n",
    "y_out_group_one = y_adhd_one\n",
    "X_out_group_two = X_adhd_two\n",
    "y_out_group_two = y_adhd_two"
   ]
  },
  {
   "cell_type": "code",
   "execution_count": null,
   "metadata": {},
   "outputs": [],
   "source": [
    "X = X_adhd_one\n",
    "y = y_adhd_one\n",
    "X_out_group_one = X_healthy\n",
    "y_out_group_one = y_healthy\n",
    "X_out_group_two = X_adhd_two\n",
    "y_out_group_two = y_adhd_two"
   ]
  },
  {
   "cell_type": "code",
   "execution_count": null,
   "metadata": {},
   "outputs": [],
   "source": [
    "X = X_adhd_two\n",
    "y = y_adhd_two\n",
    "X_out_group_one = X_adhd_one\n",
    "y_out_group_one = y_adhd_one\n",
    "X_out_group_two = X_healthy\n",
    "y_out_group_two = y_healthy"
   ]
  },
  {
   "cell_type": "markdown",
   "metadata": {},
   "source": [
    "### Set up the model pipeline, metrics, and cross-validation approach"
   ]
  },
  {
   "cell_type": "code",
   "execution_count": null,
   "metadata": {},
   "outputs": [],
   "source": [
    "rkf = RepeatedKFold(n_splits=10, n_repeats=10)\n",
    "n_perm = 3000"
   ]
  },
  {
   "cell_type": "code",
   "execution_count": null,
   "metadata": {},
   "outputs": [],
   "source": [
    "%%time\n",
    "\n",
    "estimators = [StandardScaler(), RidgeCV(alphas=[a for a in range(5000, 55000, 5000)], \n",
    "                                        scoring=ridge_scorer, cv=rkf)]\n",
    "pipe = make_pipeline(*estimators)\n",
    "pipe.fit(X, y)\n",
    "ridge_cv = pipe['ridgecv']\n",
    "best_alpha = ridge_cv.alpha_\n",
    "\n",
    "print(f'Target: {selected_target} | Alpha: {best_alpha} | Score: {ridge_cv.best_score_:.2f}')"
   ]
  },
  {
   "cell_type": "markdown",
   "metadata": {},
   "source": [
    "### Run cross-validation"
   ]
  },
  {
   "cell_type": "code",
   "execution_count": null,
   "metadata": {},
   "outputs": [],
   "source": [
    "%%time\n",
    "train_scores, test_scores, out_group_one, out_group_two = [], [], [], []\n",
    "coefs, inters = [], []\n",
    "\n",
    "for train_index, test_index in rkf.split(X):\n",
    "    X_train, X_test = X[train_index], X[test_index]\n",
    "    y_train, y_test = y[train_index], y[test_index]\n",
    "    \n",
    "    pipe = make_pipeline(StandardScaler(), Ridge(alpha=best_alpha))\n",
    "#     pipe = make_pipeline(StandardScaler(), PLSRegression(n_components=4))\n",
    "    pipe.fit(X_train, y_train)\n",
    "    y_train_pred = pipe.predict(X_train)\n",
    "    y_test_pred = pipe.predict(X_test)\n",
    "    \n",
    "    train_scores.append(regression_scorer(pipe, X_train, y_train))\n",
    "    test_scores.append(regression_scorer(pipe, X_test, y_test))\n",
    "    out_group_one.append(regression_scorer(pipe, X_out_group_one, y_out_group_one))\n",
    "    out_group_two.append(regression_scorer(pipe, X_out_group_two, y_out_group_two))\n",
    "\n",
    "    coefs.append(pipe['ridge'].coef_)\n",
    "    inters.append(pipe['ridge'].intercept_)\n",
    "\n",
    "avg_coef = np.mean(coefs, axis=0)\n",
    "avg_inte = np.mean(inters, axis=0)\n",
    "\n",
    "print(f'{population}_{selected_target}_{age_group}')\n",
    "for metric in [train_scores, test_scores, out_group_one, out_group_two]:\n",
    "    print(f'{np.mean(metric):.2f}')"
   ]
  },
  {
   "cell_type": "code",
   "execution_count": null,
   "metadata": {},
   "outputs": [],
   "source": [
    "adhd_one_coefs = coefs.copy()"
   ]
  },
  {
   "cell_type": "code",
   "execution_count": null,
   "metadata": {},
   "outputs": [],
   "source": [
    "adhd_two_coefs = coefs.copy()"
   ]
  },
  {
   "cell_type": "code",
   "execution_count": null,
   "metadata": {},
   "outputs": [],
   "source": [
    "healthy_coefs = coefs.copy()"
   ]
  },
  {
   "cell_type": "code",
   "execution_count": null,
   "metadata": {},
   "outputs": [],
   "source": [
    "results = pd.DataFrame({'1': test_scores, '2': out_group_one, '3': out_group_two})\n",
    "\n",
    "ax = sns.boxplot(data=results, palette=\"Set2\")\n",
    "ax = sns.swarmplot(data=results, color=\"0.3\")\n",
    "ax.set_ylabel('Test Score (Pearson r)')\n",
    "ax.set_xlabel('Groups')\n",
    "ax.set_title('Cross Validation Results ( -> )')"
   ]
  },
  {
   "cell_type": "markdown",
   "metadata": {},
   "source": [
    "### Transfer model weights"
   ]
  },
  {
   "cell_type": "markdown",
   "metadata": {},
   "source": [
    "#### ICC"
   ]
  },
  {
   "cell_type": "code",
   "execution_count": null,
   "metadata": {},
   "outputs": [],
   "source": [
    "%%time\n",
    "import pingouin as pg\n",
    "\n",
    "group_one = pd.DataFrame(adhd_one_coefs)\n",
    "group_one['group'] = 'g1'\n",
    "\n",
    "group_two = pd.DataFrame(healthy_coefs)\n",
    "group_two['group'] = 'g2'\n",
    "\n",
    "group_one_two = pd.concat([group_one, group_two])\n",
    "icc_data = pd.melt(group_one_two, id_vars='group', var_name='connection', \n",
    "                   value_name='weight', ignore_index=False)\n",
    "# display(icc_data)\n",
    "\n",
    "icc = pg.intraclass_corr(data=icc_data, targets='connection', raters='group', ratings='weight').round(3)\n",
    "icc.set_index(\"Type\")"
   ]
  },
  {
   "cell_type": "code",
   "execution_count": null,
   "metadata": {},
   "outputs": [],
   "source": []
  }
 ],
 "metadata": {
  "kernelspec": {
   "display_name": "venv",
   "language": "python",
   "name": "venv"
  },
  "language_info": {
   "codemirror_mode": {
    "name": "ipython",
    "version": 3
   },
   "file_extension": ".py",
   "mimetype": "text/x-python",
   "name": "python",
   "nbconvert_exporter": "python",
   "pygments_lexer": "ipython3",
   "version": "3.7.10"
  }
 },
 "nbformat": 4,
 "nbformat_minor": 4
}
