{
 "cells": [
  {
   "cell_type": "code",
   "execution_count": null,
   "metadata": {},
   "outputs": [],
   "source": [
    "import pandas as pd\n",
    "import numpy as np\n",
    "\n",
    "%load_ext autoreload\n",
    "%autoreload 2\n",
    "\n",
    "import matplotlib.pyplot as plt\n",
    "%matplotlib inline\n",
    "\n",
    "import seaborn as sns\n",
    "sns.set_theme(\n",
    "    context=\"paper\", \n",
    "    style=\"whitegrid\", \n",
    "    font_scale=1.2,\n",
    "    rc={'figure.figsize': (10, 10), 'figure.dpi': 300}\n",
    ")"
   ]
  },
  {
   "cell_type": "code",
   "execution_count": null,
   "metadata": {},
   "outputs": [],
   "source": [
    "import os\n",
    "import scipy.io\n",
    "\n",
    "spike_fn = 'spikesandMspikes.mat'\n",
    "healthy_listspikes_folder = '/imaging3/owenlab/wilson/Healthy/BioBank_Analysis_All/aamod_listspikes_00001'\n",
    "\n",
    "listspikes_subjects = [folder for folder in os.listdir(healthy_listspikes_folder) if folder.startswith(\"sub-\")]\n",
    "print(len(listspikes_subjects))"
   ]
  },
  {
   "cell_type": "code",
   "execution_count": null,
   "metadata": {},
   "outputs": [],
   "source": [
    "from common.results import save_results\n",
    "from common.paths import SCRATCH_DATA"
   ]
  },
  {
   "cell_type": "code",
   "execution_count": null,
   "metadata": {},
   "outputs": [],
   "source": [
    "# release_folder = '/imaging2/owenlab/wilson/MovieData'\n",
    "release_folder = '/imaging/owenlab/klyons/fMRI/CBS_DevCog/BioBankData'\n",
    "bad_subjects = []\n",
    "\n",
    "for age_num in range(7, 13):\n",
    "    listspikes_folder = f'{release_folder}/Age{age_num}Data/BioBank_Analysis/aamod_listspikes_00001'\n",
    "    listspikes_subjects = [folder for folder in os.listdir(listspikes_folder) if folder.startswith(\"sub-\")]\n",
    "    \n",
    "    for subject in listspikes_subjects:\n",
    "        subject_path = os.path.join(listspikes_folder, subject, spike_fn)\n",
    "        mat = scipy.io.loadmat(subject_path)\n",
    "        if mat['Mspikes'].shape[0] > 175:\n",
    "            bad_subjects.append(subject)\n",
    "\n",
    "df = pd.DataFrame(bad_subjects, columns=['subject_id'])\n",
    "display(df)\n",
    "save_results(df, 'bad_spikes.csv', SCRATCH_DATA)"
   ]
  },
  {
   "cell_type": "code",
   "execution_count": null,
   "metadata": {},
   "outputs": [],
   "source": [
    "bad_subjects = []\n",
    "\n",
    "for subject in listspikes_subjects:\n",
    "    subject_path = os.path.join(healthy_listspikes_folder, subject, spike_fn)\n",
    "    mat = scipy.io.loadmat(subject_path)\n",
    "    if mat['Mspikes'].shape[0] > 175:\n",
    "        bad_subjects.append(subject)\n",
    "\n",
    "df = pd.DataFrame(bad_subjects, columns=['subject_id'])\n",
    "display(df)\n",
    "save_results(df, 'bad_spikes.csv', SCRATCH_DATA)"
   ]
  },
  {
   "cell_type": "code",
   "execution_count": null,
   "metadata": {},
   "outputs": [],
   "source": [
    "from fitter import Fitter\n",
    "f = Fitter(y, distributions=['gamma', 'norm', 'beta'])\n",
    "f.fit()\n",
    "f.summary()\n",
    "print(f.fitted_param['norm'])\n",
    "print(np.mean(y), np.std(y))"
   ]
  },
  {
   "cell_type": "code",
   "execution_count": null,
   "metadata": {},
   "outputs": [],
   "source": [
    "from common.paths import SCRATCH_DATA\n",
    "\n",
    "bad_subjects = pd.read_csv(SCRATCH_DATA + '/bad_spikes.csv', index_col='subject_id')\n",
    "# display(bad_subjects)\n",
    "print(\"Number of bad subjects:\", len(bad_subjects))\n",
    "\n",
    "# d = subjects_with_adhd.merge(bad_subjects, left_index=True, right_index=True)\n",
    "d = subjects_diagnosis.merge(bad_subjects, left_index=True, right_index=True)\n",
    "\n",
    "display(d)"
   ]
  }
 ],
 "metadata": {
  "kernelspec": {
   "display_name": "venv",
   "language": "python",
   "name": "venv"
  },
  "language_info": {
   "codemirror_mode": {
    "name": "ipython",
    "version": 3
   },
   "file_extension": ".py",
   "mimetype": "text/x-python",
   "name": "python",
   "nbconvert_exporter": "python",
   "pygments_lexer": "ipython3",
   "version": "3.7.10"
  }
 },
 "nbformat": 4,
 "nbformat_minor": 4
}
