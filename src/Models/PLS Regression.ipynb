{
 "cells": [
  {
   "cell_type": "markdown",
   "metadata": {},
   "source": [
    "# PLS Regression"
   ]
  },
  {
   "cell_type": "code",
   "execution_count": 1,
   "metadata": {},
   "outputs": [],
   "source": [
    "import pandas as pd\n",
    "import numpy as np\n",
    "\n",
    "%load_ext autoreload\n",
    "%autoreload 2\n",
    "\n",
    "import matplotlib.pyplot as plt\n",
    "%matplotlib inline\n",
    "\n",
    "import seaborn as sns\n",
    "sns.set_theme(\n",
    "    context=\"paper\", \n",
    "    style=\"whitegrid\", \n",
    "    font_scale=1.2,\n",
    "    rc={'figure.figsize': (10, 10), 'figure.dpi': 300}\n",
    ")"
   ]
  },
  {
   "cell_type": "markdown",
   "metadata": {},
   "source": [
    "## Get Data"
   ]
  },
  {
   "cell_type": "code",
   "execution_count": 3,
   "metadata": {},
   "outputs": [
    {
     "name": "stdout",
     "output_type": "stream",
     "text": [
      "X: (106, 34716) | Y: 6 | Age: (106,) | Population: healthy\n"
     ]
    }
   ],
   "source": [
    "from common.data import get_data\n",
    "from common.paths import HEALTHY, ADHD\n",
    "\n",
    "X, Y, demographics, population = get_data(label_path=HEALTHY)\n",
    "ages, sexes = demographics['Age'], demographics['Sex']\n",
    "\n",
    "print(f'X: {X.shape} | Y: {len(Y.keys())} | Age: {ages.shape} | Population: {population}')"
   ]
  },
  {
   "cell_type": "code",
   "execution_count": 12,
   "metadata": {},
   "outputs": [
    {
     "name": "stdout",
     "output_type": "stream",
     "text": [
      "y: (373,)\n"
     ]
    }
   ],
   "source": [
    "selected_target = \"WISC_FSIQ\"\n",
    "y = Y[selected_target]\n",
    "\n",
    "print(f'y: {y.shape}')"
   ]
  },
  {
   "cell_type": "code",
   "execution_count": 16,
   "metadata": {},
   "outputs": [
    {
     "name": "stdout",
     "output_type": "stream",
     "text": [
      "Bin 1: (114, 34716)\n",
      "Bin 2: (147, 34716)\n",
      "Bin 3: (112, 34716)\n"
     ]
    }
   ],
   "source": [
    "from common.binning import bin_data\n",
    "\n",
    "X_bins, y_bins, bin_labels = bin_data(X, y, ages, False, 3)\n",
    "\n",
    "for age_bin, bin_label in zip(X_bins, bin_labels):\n",
    "    print(f'{bin_label}: {age_bin.shape}')"
   ]
  },
  {
   "cell_type": "code",
   "execution_count": 17,
   "metadata": {},
   "outputs": [
    {
     "name": "stdout",
     "output_type": "stream",
     "text": [
      "(113, 34716) (113,)\n"
     ]
    }
   ],
   "source": [
    "bin_2_subsample_indices = np.random.choice(147, 113, replace=False)\n",
    "X_bins[1] = X_bins[1][bin_2_subsample_indices]\n",
    "y_bins[1] = y_bins[1][bin_2_subsample_indices]\n",
    "bin_labels[1] = 'Bin 2 Equal'\n",
    "\n",
    "print(X_bins[1].shape, y_bins[1].shape)"
   ]
  },
  {
   "cell_type": "markdown",
   "metadata": {},
   "source": [
    "## Run for one target, one age bin"
   ]
  },
  {
   "cell_type": "code",
   "execution_count": 4,
   "metadata": {},
   "outputs": [],
   "source": [
    "from common.scoring import unimetric_scorer, multimetric_scorer, N_PERM, SCORING, RKF_10_10\n",
    "from sklearn.cross_decomposition import PLSRegression\n",
    "from sklearn.model_selection import cross_validate, permutation_test_score\n",
    "from sklearn.preprocessing import StandardScaler\n",
    "from sklearn.pipeline import make_pipeline"
   ]
  },
  {
   "cell_type": "markdown",
   "metadata": {},
   "source": [
    "### Set up the model pipeline, metrics, and cross-validation approach"
   ]
  },
  {
   "cell_type": "code",
   "execution_count": 6,
   "metadata": {},
   "outputs": [],
   "source": [
    "estimators = [StandardScaler(), PLSRegression(n_components=4)]\n",
    "pipe = make_pipeline(*estimators)"
   ]
  },
  {
   "cell_type": "markdown",
   "metadata": {},
   "source": [
    "### Run cross-validation"
   ]
  },
  {
   "cell_type": "code",
   "execution_count": 6,
   "metadata": {},
   "outputs": [
    {
     "name": "stdout",
     "output_type": "stream",
     "text": [
      "0.18997362711567398\n",
      "CPU times: user 1.94 s, sys: 1.07 s, total: 3.01 s\n",
      "Wall time: 6.84 s\n"
     ]
    }
   ],
   "source": [
    "%%time\n",
    "\n",
    "# X_cv = bin_3[0]\n",
    "# y_cv = bin_3[1]\n",
    "X_cv = X\n",
    "y_cv = y\n",
    "age_group = 'all'\n",
    "\n",
    "scores = cross_validate(pipe, X_cv, y_cv, cv=RKF_10_10, scoring=unimetric_scorer, n_jobs=-1, \n",
    "                        return_train_score=True, return_estimator=True)\n",
    "\n",
    "coefs = np.array([estimator['plsregression'].coef_ for estimator in scores['estimator']])\n",
    "coefs = np.squeeze(coefs, axis=2)\n",
    "avg_coef = np.mean(coefs, axis=0)\n",
    "\n",
    "print(f'pls_{population}_{selected_target}_{age_group}')\n",
    "for metric in SCORING:\n",
    "    metric_values = scores[metric]\n",
    "    print(f'Avg {metric}: {np.mean(metric_values):.2f}')"
   ]
  },
  {
   "cell_type": "code",
   "execution_count": null,
   "metadata": {},
   "outputs": [],
   "source": [
    "ax = sns.boxplot(data=scores['test_p_value'], palette=\"Set2\")\n",
    "ax = sns.swarmplot(data=scores['test_p_value'], color=\"0.3\")\n",
    "ax.set_ylabel('Test Score (Pearson r)')\n",
    "ax.set_xlabel('Groups')\n",
    "ax.set_title('Cross Validation Results ( -> )')"
   ]
  },
  {
   "cell_type": "code",
   "execution_count": 30,
   "metadata": {},
   "outputs": [],
   "source": [
    "from os.path import join\n",
    "from common.paths import PLS_WEIGHTS\n",
    "\n",
    "filename = f'pls_{population}_{selected_target}_{age_group}.npy'\n",
    "\n",
    "np.save(join(PLS_WEIGHTS, filename), avg_coef)"
   ]
  },
  {
   "cell_type": "markdown",
   "metadata": {},
   "source": [
    "### Run permutation statistic"
   ]
  },
  {
   "cell_type": "code",
   "execution_count": 23,
   "metadata": {},
   "outputs": [
    {
     "name": "stdout",
     "output_type": "stream",
     "text": [
      "pls_healthy_WISC_PSI_all\n",
      "Score: -0.06 | p-value: 0.6934\n",
      "CPU times: user 2min 9s, sys: 4.18 s, total: 2min 13s\n",
      "Wall time: 4h 47min 31s\n"
     ]
    }
   ],
   "source": [
    "%%time\n",
    "# X_cv = bin_1[0]\n",
    "# y_cv = bin_1[1]\n",
    "X_cv = X\n",
    "y_cv = y\n",
    "age_group = 'all'\n",
    "\n",
    "score, _, pvalue = permutation_test_score(\n",
    "    pipe, X_cv, y_cv, cv=RKF_10_10, scoring=unimetric_scorer, n_permutations=N_PERM, n_jobs=-1)\n",
    "\n",
    "print(f'pls_{population}_{selected_target}_{age_group}')\n",
    "print(f'Score: {score:.2f} | p-value: {pvalue:.4f}')"
   ]
  },
  {
   "cell_type": "code",
   "execution_count": 9,
   "metadata": {},
   "outputs": [
    {
     "name": "stdout",
     "output_type": "stream",
     "text": [
      "Score: 0.17 | p-value: 0.0020\n",
      "CPU times: user 1min 44s, sys: 2.31 s, total: 1min 47s\n",
      "Wall time: 39min 18s\n"
     ]
    }
   ],
   "source": [
    "%%time\n",
    "X_cv = X\n",
    "y_cv = ages\n",
    "\n",
    "score, perm_scores, pvalue = permutation_test_score(pipe, X_cv, y_cv, cv=RKF_10_10, \n",
    "                                          scoring=cust_r2, n_permutations=N_PERM, n_jobs=-1)\n",
    "\n",
    "print(f'Score: {score:.2f} | p-value: {pvalue:.4f}')"
   ]
  },
  {
   "cell_type": "markdown",
   "metadata": {},
   "source": [
    "## Run for all targets, all age bins"
   ]
  },
  {
   "cell_type": "markdown",
   "metadata": {},
   "source": [
    "### Run cross-validation"
   ]
  },
  {
   "cell_type": "code",
   "execution_count": 7,
   "metadata": {},
   "outputs": [
    {
     "name": "stdout",
     "output_type": "stream",
     "text": [
      "{'Model': 'pls', 'Population': 'healthy', 'Target': 'WISC_FSIQ', 'Bin': 'All', 'Score': 0.053455548841894907}\n",
      "{'Model': 'pls', 'Population': 'healthy', 'Target': 'WISC_VSI', 'Bin': 'All', 'Score': 0.1159526196215209}\n",
      "{'Model': 'pls', 'Population': 'healthy', 'Target': 'WISC_VCI', 'Bin': 'All', 'Score': 0.24470233655032808}\n",
      "{'Model': 'pls', 'Population': 'healthy', 'Target': 'WISC_FRI', 'Bin': 'All', 'Score': -0.10988945686470723}\n",
      "{'Model': 'pls', 'Population': 'healthy', 'Target': 'WISC_WMI', 'Bin': 'All', 'Score': 0.08617518866321351}\n",
      "{'Model': 'pls', 'Population': 'healthy', 'Target': 'WISC_PSI', 'Bin': 'All', 'Score': -0.09936570873375464}\n"
     ]
    },
    {
     "data": {
      "text/html": [
       "<div>\n",
       "<style scoped>\n",
       "    .dataframe tbody tr th:only-of-type {\n",
       "        vertical-align: middle;\n",
       "    }\n",
       "\n",
       "    .dataframe tbody tr th {\n",
       "        vertical-align: top;\n",
       "    }\n",
       "\n",
       "    .dataframe thead th {\n",
       "        text-align: right;\n",
       "    }\n",
       "</style>\n",
       "<table border=\"1\" class=\"dataframe\">\n",
       "  <thead>\n",
       "    <tr style=\"text-align: right;\">\n",
       "      <th></th>\n",
       "      <th>Model</th>\n",
       "      <th>Population</th>\n",
       "      <th>Target</th>\n",
       "      <th>Bin</th>\n",
       "      <th>Score</th>\n",
       "    </tr>\n",
       "  </thead>\n",
       "  <tbody>\n",
       "    <tr>\n",
       "      <th>0</th>\n",
       "      <td>pls</td>\n",
       "      <td>healthy</td>\n",
       "      <td>WISC_FSIQ</td>\n",
       "      <td>All</td>\n",
       "      <td>0.0535</td>\n",
       "    </tr>\n",
       "    <tr>\n",
       "      <th>1</th>\n",
       "      <td>pls</td>\n",
       "      <td>healthy</td>\n",
       "      <td>WISC_VSI</td>\n",
       "      <td>All</td>\n",
       "      <td>0.1160</td>\n",
       "    </tr>\n",
       "    <tr>\n",
       "      <th>2</th>\n",
       "      <td>pls</td>\n",
       "      <td>healthy</td>\n",
       "      <td>WISC_VCI</td>\n",
       "      <td>All</td>\n",
       "      <td>0.2447</td>\n",
       "    </tr>\n",
       "    <tr>\n",
       "      <th>3</th>\n",
       "      <td>pls</td>\n",
       "      <td>healthy</td>\n",
       "      <td>WISC_FRI</td>\n",
       "      <td>All</td>\n",
       "      <td>-0.1099</td>\n",
       "    </tr>\n",
       "    <tr>\n",
       "      <th>4</th>\n",
       "      <td>pls</td>\n",
       "      <td>healthy</td>\n",
       "      <td>WISC_WMI</td>\n",
       "      <td>All</td>\n",
       "      <td>0.0862</td>\n",
       "    </tr>\n",
       "    <tr>\n",
       "      <th>5</th>\n",
       "      <td>pls</td>\n",
       "      <td>healthy</td>\n",
       "      <td>WISC_PSI</td>\n",
       "      <td>All</td>\n",
       "      <td>-0.0994</td>\n",
       "    </tr>\n",
       "  </tbody>\n",
       "</table>\n",
       "</div>"
      ],
      "text/plain": [
       "  Model Population     Target  Bin   Score\n",
       "0   pls    healthy  WISC_FSIQ  All  0.0535\n",
       "1   pls    healthy   WISC_VSI  All  0.1160\n",
       "2   pls    healthy   WISC_VCI  All  0.2447\n",
       "3   pls    healthy   WISC_FRI  All -0.1099\n",
       "4   pls    healthy   WISC_WMI  All  0.0862\n",
       "5   pls    healthy   WISC_PSI  All -0.0994"
      ]
     },
     "metadata": {},
     "output_type": "display_data"
    },
    {
     "name": "stdout",
     "output_type": "stream",
     "text": [
      "CPU times: user 1min 43s, sys: 22.9 s, total: 2min 6s\n",
      "Wall time: 2min 20s\n"
     ]
    }
   ],
   "source": [
    "%%time\n",
    "from os.path import join\n",
    "from common.binning import bin_data\n",
    "from common.wisc import WISC_LEVEL\n",
    "from common.paths import PLS_WEIGHTS, PLS_RESULTS\n",
    "from common.results import save_results, save_perm_score\n",
    "\n",
    "results = []\n",
    "targets = WISC_LEVEL[5]\n",
    "ages = None if population == 'healthy' else ages\n",
    "\n",
    "for target in targets:\n",
    "    y = Y[target]\n",
    "    X_all, y_all, bin_labels = bin_data(X, y, ages, include_all=True)\n",
    "    \n",
    "    for X_cv, y_cv, bin_label in zip(X_all, y_all, bin_labels):\n",
    "        estimators = [StandardScaler(), PLSRegression(n_components=4)]\n",
    "        pipe = make_pipeline(*estimators)\n",
    "        \n",
    "        scores = cross_validate(pipe, X_cv, y_cv, cv=RKF_10_10, \n",
    "                                scoring=unimetric_scorer, n_jobs=-1, \n",
    "                                return_train_score=False, \n",
    "                                return_estimator=True)\n",
    "        coefs = np.array([estimator['plsregression'].coef_ for estimator in scores['estimator']])\n",
    "        coefs = np.squeeze(coefs, axis=2)\n",
    "        avg_coef = np.mean(coefs, axis=0)\n",
    "        \n",
    "        results.append({    \n",
    "            'Model': 'pls',\n",
    "            'Population': population,\n",
    "            'Target': target,\n",
    "            'Bin': bin_label,\n",
    "            'Score': np.mean(scores['test_score']),\n",
    "        })\n",
    "        print(results[-1])\n",
    "        \n",
    "        fn = f'pls_{population}_{target}_{bin_label}.npy'\n",
    "        np.save(join(PLS_WEIGHTS, fn), avg_coef)\n",
    "\n",
    "results_df = pd.DataFrame(results)\n",
    "display(results_df.round(4))"
   ]
  },
  {
   "cell_type": "code",
   "execution_count": 9,
   "metadata": {},
   "outputs": [
    {
     "data": {
      "text/plain": [
       "'/home/bpho/Documents/MSc_Research-Project/scratch_data/model_results/PLS/pls_cv_healthy.csv'"
      ]
     },
     "execution_count": 9,
     "metadata": {},
     "output_type": "execute_result"
    }
   ],
   "source": [
    "filename = f'pls_cv_{population}'\n",
    "save_results(results_df, filename, PLS_RESULTS)"
   ]
  },
  {
   "cell_type": "markdown",
   "metadata": {},
   "source": [
    "### Run permutation test statistic (pts)"
   ]
  },
  {
   "cell_type": "code",
   "execution_count": 19,
   "metadata": {
    "collapsed": true,
    "jupyter": {
     "outputs_hidden": true
    }
   },
   "outputs": [
    {
     "name": "stdout",
     "output_type": "stream",
     "text": [
      "{'Model': 'pls', 'Population': 'adhd', 'Target': 'WISC_FSIQ', 'Bin': 'All', 'Score': 0.3519368647281619, 'P-value': 0.001996007984031936}\n",
      "{'Model': 'pls', 'Population': 'adhd', 'Target': 'WISC_FSIQ', 'Bin': 'Bin 1', 'Score': 0.242330533117219, 'P-value': 0.027944111776447105}\n",
      "{'Model': 'pls', 'Population': 'adhd', 'Target': 'WISC_FSIQ', 'Bin': 'Bin 2', 'Score': 0.3876011741186956, 'P-value': 0.001996007984031936}\n",
      "{'Model': 'pls', 'Population': 'adhd', 'Target': 'WISC_FSIQ', 'Bin': 'Bin 3', 'Score': 0.08624648992519683, 'P-value': 0.2275449101796407}\n",
      "{'Model': 'pls', 'Population': 'adhd', 'Target': 'WISC_VSI', 'Bin': 'All', 'Score': 0.27546671228488767, 'P-value': 0.001996007984031936}\n",
      "{'Model': 'pls', 'Population': 'adhd', 'Target': 'WISC_VSI', 'Bin': 'Bin 1', 'Score': 0.2434753169683444, 'P-value': 0.017964071856287425}\n",
      "{'Model': 'pls', 'Population': 'adhd', 'Target': 'WISC_VSI', 'Bin': 'Bin 2', 'Score': 0.21067601885844467, 'P-value': 0.017964071856287425}\n",
      "{'Model': 'pls', 'Population': 'adhd', 'Target': 'WISC_VSI', 'Bin': 'Bin 3', 'Score': 0.08221718614474058, 'P-value': 0.25748502994011974}\n",
      "{'Model': 'pls', 'Population': 'adhd', 'Target': 'WISC_VCI', 'Bin': 'All', 'Score': 0.3598178024600969, 'P-value': 0.001996007984031936}\n",
      "{'Model': 'pls', 'Population': 'adhd', 'Target': 'WISC_VCI', 'Bin': 'Bin 1', 'Score': 0.19097877777903796, 'P-value': 0.059880239520958084}\n",
      "{'Model': 'pls', 'Population': 'adhd', 'Target': 'WISC_VCI', 'Bin': 'Bin 2', 'Score': 0.3926787589282641, 'P-value': 0.001996007984031936}\n",
      "{'Model': 'pls', 'Population': 'adhd', 'Target': 'WISC_VCI', 'Bin': 'Bin 3', 'Score': 0.027891375616174788, 'P-value': 0.41317365269461076}\n",
      "{'Model': 'pls', 'Population': 'adhd', 'Target': 'WISC_FRI', 'Bin': 'All', 'Score': 0.29511292736143646, 'P-value': 0.001996007984031936}\n",
      "{'Model': 'pls', 'Population': 'adhd', 'Target': 'WISC_FRI', 'Bin': 'Bin 1', 'Score': 0.012881834358994825, 'P-value': 0.46506986027944114}\n",
      "{'Model': 'pls', 'Population': 'adhd', 'Target': 'WISC_FRI', 'Bin': 'Bin 2', 'Score': 0.3079042533515289, 'P-value': 0.003992015968063872}\n",
      "{'Model': 'pls', 'Population': 'adhd', 'Target': 'WISC_FRI', 'Bin': 'Bin 3', 'Score': 0.047051767972764696, 'P-value': 0.3532934131736527}\n",
      "{'Model': 'pls', 'Population': 'adhd', 'Target': 'WISC_WMI', 'Bin': 'All', 'Score': 0.17331670041422928, 'P-value': 0.00998003992015968}\n",
      "{'Model': 'pls', 'Population': 'adhd', 'Target': 'WISC_WMI', 'Bin': 'Bin 1', 'Score': 0.07315851144815481, 'P-value': 0.29740518962075846}\n",
      "{'Model': 'pls', 'Population': 'adhd', 'Target': 'WISC_WMI', 'Bin': 'Bin 2', 'Score': 0.2856352326730661, 'P-value': 0.005988023952095809}\n",
      "{'Model': 'pls', 'Population': 'adhd', 'Target': 'WISC_WMI', 'Bin': 'Bin 3', 'Score': 0.10203536650555545, 'P-value': 0.17764471057884232}\n",
      "{'Model': 'pls', 'Population': 'adhd', 'Target': 'WISC_PSI', 'Bin': 'All', 'Score': 0.03727764902023631, 'P-value': 0.30538922155688625}\n",
      "{'Model': 'pls', 'Population': 'adhd', 'Target': 'WISC_PSI', 'Bin': 'Bin 1', 'Score': -0.1269698053000693, 'P-value': 0.8343313373253493}\n",
      "{'Model': 'pls', 'Population': 'adhd', 'Target': 'WISC_PSI', 'Bin': 'Bin 2', 'Score': 0.062345523257219204, 'P-value': 0.2634730538922156}\n",
      "{'Model': 'pls', 'Population': 'adhd', 'Target': 'WISC_PSI', 'Bin': 'Bin 3', 'Score': 0.1073740519568572, 'P-value': 0.21357285429141717}\n"
     ]
    },
    {
     "data": {
      "text/html": [
       "<div>\n",
       "<style scoped>\n",
       "    .dataframe tbody tr th:only-of-type {\n",
       "        vertical-align: middle;\n",
       "    }\n",
       "\n",
       "    .dataframe tbody tr th {\n",
       "        vertical-align: top;\n",
       "    }\n",
       "\n",
       "    .dataframe thead th {\n",
       "        text-align: right;\n",
       "    }\n",
       "</style>\n",
       "<table border=\"1\" class=\"dataframe\">\n",
       "  <thead>\n",
       "    <tr style=\"text-align: right;\">\n",
       "      <th></th>\n",
       "      <th>Model</th>\n",
       "      <th>Population</th>\n",
       "      <th>Target</th>\n",
       "      <th>Bin</th>\n",
       "      <th>Score</th>\n",
       "      <th>P-value</th>\n",
       "    </tr>\n",
       "  </thead>\n",
       "  <tbody>\n",
       "    <tr>\n",
       "      <th>0</th>\n",
       "      <td>pls</td>\n",
       "      <td>adhd</td>\n",
       "      <td>WISC_FSIQ</td>\n",
       "      <td>All</td>\n",
       "      <td>0.3519</td>\n",
       "      <td>0.0020</td>\n",
       "    </tr>\n",
       "    <tr>\n",
       "      <th>1</th>\n",
       "      <td>pls</td>\n",
       "      <td>adhd</td>\n",
       "      <td>WISC_FSIQ</td>\n",
       "      <td>Bin 1</td>\n",
       "      <td>0.2423</td>\n",
       "      <td>0.0279</td>\n",
       "    </tr>\n",
       "    <tr>\n",
       "      <th>2</th>\n",
       "      <td>pls</td>\n",
       "      <td>adhd</td>\n",
       "      <td>WISC_FSIQ</td>\n",
       "      <td>Bin 2</td>\n",
       "      <td>0.3876</td>\n",
       "      <td>0.0020</td>\n",
       "    </tr>\n",
       "    <tr>\n",
       "      <th>3</th>\n",
       "      <td>pls</td>\n",
       "      <td>adhd</td>\n",
       "      <td>WISC_FSIQ</td>\n",
       "      <td>Bin 3</td>\n",
       "      <td>0.0862</td>\n",
       "      <td>0.2275</td>\n",
       "    </tr>\n",
       "    <tr>\n",
       "      <th>4</th>\n",
       "      <td>pls</td>\n",
       "      <td>adhd</td>\n",
       "      <td>WISC_VSI</td>\n",
       "      <td>All</td>\n",
       "      <td>0.2755</td>\n",
       "      <td>0.0020</td>\n",
       "    </tr>\n",
       "    <tr>\n",
       "      <th>5</th>\n",
       "      <td>pls</td>\n",
       "      <td>adhd</td>\n",
       "      <td>WISC_VSI</td>\n",
       "      <td>Bin 1</td>\n",
       "      <td>0.2435</td>\n",
       "      <td>0.0180</td>\n",
       "    </tr>\n",
       "    <tr>\n",
       "      <th>6</th>\n",
       "      <td>pls</td>\n",
       "      <td>adhd</td>\n",
       "      <td>WISC_VSI</td>\n",
       "      <td>Bin 2</td>\n",
       "      <td>0.2107</td>\n",
       "      <td>0.0180</td>\n",
       "    </tr>\n",
       "    <tr>\n",
       "      <th>7</th>\n",
       "      <td>pls</td>\n",
       "      <td>adhd</td>\n",
       "      <td>WISC_VSI</td>\n",
       "      <td>Bin 3</td>\n",
       "      <td>0.0822</td>\n",
       "      <td>0.2575</td>\n",
       "    </tr>\n",
       "    <tr>\n",
       "      <th>8</th>\n",
       "      <td>pls</td>\n",
       "      <td>adhd</td>\n",
       "      <td>WISC_VCI</td>\n",
       "      <td>All</td>\n",
       "      <td>0.3598</td>\n",
       "      <td>0.0020</td>\n",
       "    </tr>\n",
       "    <tr>\n",
       "      <th>9</th>\n",
       "      <td>pls</td>\n",
       "      <td>adhd</td>\n",
       "      <td>WISC_VCI</td>\n",
       "      <td>Bin 1</td>\n",
       "      <td>0.1910</td>\n",
       "      <td>0.0599</td>\n",
       "    </tr>\n",
       "    <tr>\n",
       "      <th>10</th>\n",
       "      <td>pls</td>\n",
       "      <td>adhd</td>\n",
       "      <td>WISC_VCI</td>\n",
       "      <td>Bin 2</td>\n",
       "      <td>0.3927</td>\n",
       "      <td>0.0020</td>\n",
       "    </tr>\n",
       "    <tr>\n",
       "      <th>11</th>\n",
       "      <td>pls</td>\n",
       "      <td>adhd</td>\n",
       "      <td>WISC_VCI</td>\n",
       "      <td>Bin 3</td>\n",
       "      <td>0.0279</td>\n",
       "      <td>0.4132</td>\n",
       "    </tr>\n",
       "    <tr>\n",
       "      <th>12</th>\n",
       "      <td>pls</td>\n",
       "      <td>adhd</td>\n",
       "      <td>WISC_FRI</td>\n",
       "      <td>All</td>\n",
       "      <td>0.2951</td>\n",
       "      <td>0.0020</td>\n",
       "    </tr>\n",
       "    <tr>\n",
       "      <th>13</th>\n",
       "      <td>pls</td>\n",
       "      <td>adhd</td>\n",
       "      <td>WISC_FRI</td>\n",
       "      <td>Bin 1</td>\n",
       "      <td>0.0129</td>\n",
       "      <td>0.4651</td>\n",
       "    </tr>\n",
       "    <tr>\n",
       "      <th>14</th>\n",
       "      <td>pls</td>\n",
       "      <td>adhd</td>\n",
       "      <td>WISC_FRI</td>\n",
       "      <td>Bin 2</td>\n",
       "      <td>0.3079</td>\n",
       "      <td>0.0040</td>\n",
       "    </tr>\n",
       "    <tr>\n",
       "      <th>15</th>\n",
       "      <td>pls</td>\n",
       "      <td>adhd</td>\n",
       "      <td>WISC_FRI</td>\n",
       "      <td>Bin 3</td>\n",
       "      <td>0.0471</td>\n",
       "      <td>0.3533</td>\n",
       "    </tr>\n",
       "    <tr>\n",
       "      <th>16</th>\n",
       "      <td>pls</td>\n",
       "      <td>adhd</td>\n",
       "      <td>WISC_WMI</td>\n",
       "      <td>All</td>\n",
       "      <td>0.1733</td>\n",
       "      <td>0.0100</td>\n",
       "    </tr>\n",
       "    <tr>\n",
       "      <th>17</th>\n",
       "      <td>pls</td>\n",
       "      <td>adhd</td>\n",
       "      <td>WISC_WMI</td>\n",
       "      <td>Bin 1</td>\n",
       "      <td>0.0732</td>\n",
       "      <td>0.2974</td>\n",
       "    </tr>\n",
       "    <tr>\n",
       "      <th>18</th>\n",
       "      <td>pls</td>\n",
       "      <td>adhd</td>\n",
       "      <td>WISC_WMI</td>\n",
       "      <td>Bin 2</td>\n",
       "      <td>0.2856</td>\n",
       "      <td>0.0060</td>\n",
       "    </tr>\n",
       "    <tr>\n",
       "      <th>19</th>\n",
       "      <td>pls</td>\n",
       "      <td>adhd</td>\n",
       "      <td>WISC_WMI</td>\n",
       "      <td>Bin 3</td>\n",
       "      <td>0.1020</td>\n",
       "      <td>0.1776</td>\n",
       "    </tr>\n",
       "    <tr>\n",
       "      <th>20</th>\n",
       "      <td>pls</td>\n",
       "      <td>adhd</td>\n",
       "      <td>WISC_PSI</td>\n",
       "      <td>All</td>\n",
       "      <td>0.0373</td>\n",
       "      <td>0.3054</td>\n",
       "    </tr>\n",
       "    <tr>\n",
       "      <th>21</th>\n",
       "      <td>pls</td>\n",
       "      <td>adhd</td>\n",
       "      <td>WISC_PSI</td>\n",
       "      <td>Bin 1</td>\n",
       "      <td>-0.1270</td>\n",
       "      <td>0.8343</td>\n",
       "    </tr>\n",
       "    <tr>\n",
       "      <th>22</th>\n",
       "      <td>pls</td>\n",
       "      <td>adhd</td>\n",
       "      <td>WISC_PSI</td>\n",
       "      <td>Bin 2</td>\n",
       "      <td>0.0623</td>\n",
       "      <td>0.2635</td>\n",
       "    </tr>\n",
       "    <tr>\n",
       "      <th>23</th>\n",
       "      <td>pls</td>\n",
       "      <td>adhd</td>\n",
       "      <td>WISC_PSI</td>\n",
       "      <td>Bin 3</td>\n",
       "      <td>0.1074</td>\n",
       "      <td>0.2136</td>\n",
       "    </tr>\n",
       "  </tbody>\n",
       "</table>\n",
       "</div>"
      ],
      "text/plain": [
       "   Model Population     Target    Bin   Score  P-value\n",
       "0    pls       adhd  WISC_FSIQ    All  0.3519   0.0020\n",
       "1    pls       adhd  WISC_FSIQ  Bin 1  0.2423   0.0279\n",
       "2    pls       adhd  WISC_FSIQ  Bin 2  0.3876   0.0020\n",
       "3    pls       adhd  WISC_FSIQ  Bin 3  0.0862   0.2275\n",
       "4    pls       adhd   WISC_VSI    All  0.2755   0.0020\n",
       "5    pls       adhd   WISC_VSI  Bin 1  0.2435   0.0180\n",
       "6    pls       adhd   WISC_VSI  Bin 2  0.2107   0.0180\n",
       "7    pls       adhd   WISC_VSI  Bin 3  0.0822   0.2575\n",
       "8    pls       adhd   WISC_VCI    All  0.3598   0.0020\n",
       "9    pls       adhd   WISC_VCI  Bin 1  0.1910   0.0599\n",
       "10   pls       adhd   WISC_VCI  Bin 2  0.3927   0.0020\n",
       "11   pls       adhd   WISC_VCI  Bin 3  0.0279   0.4132\n",
       "12   pls       adhd   WISC_FRI    All  0.2951   0.0020\n",
       "13   pls       adhd   WISC_FRI  Bin 1  0.0129   0.4651\n",
       "14   pls       adhd   WISC_FRI  Bin 2  0.3079   0.0040\n",
       "15   pls       adhd   WISC_FRI  Bin 3  0.0471   0.3533\n",
       "16   pls       adhd   WISC_WMI    All  0.1733   0.0100\n",
       "17   pls       adhd   WISC_WMI  Bin 1  0.0732   0.2974\n",
       "18   pls       adhd   WISC_WMI  Bin 2  0.2856   0.0060\n",
       "19   pls       adhd   WISC_WMI  Bin 3  0.1020   0.1776\n",
       "20   pls       adhd   WISC_PSI    All  0.0373   0.3054\n",
       "21   pls       adhd   WISC_PSI  Bin 1 -0.1270   0.8343\n",
       "22   pls       adhd   WISC_PSI  Bin 2  0.0623   0.2635\n",
       "23   pls       adhd   WISC_PSI  Bin 3  0.1074   0.2136"
      ]
     },
     "metadata": {},
     "output_type": "display_data"
    },
    {
     "name": "stdout",
     "output_type": "stream",
     "text": [
      "CPU times: user 1h 13min 28s, sys: 2min 15s, total: 1h 15min 44s\n",
      "Wall time: 1d 5h 1min 43s\n"
     ]
    }
   ],
   "source": [
    "%%time\n",
    "from common.binning import bin_data\n",
    "from common.wisc import WISC_LEVEL\n",
    "from common.paths import PLS_RESULTS, PLS_PSCORES\n",
    "from common.results import save_results, save_perm_score\n",
    "\n",
    "results = []\n",
    "targets = WISC_LEVEL[5]\n",
    "ages = None if population == 'healthy' else ages\n",
    "\n",
    "for target in targets:\n",
    "    y = Y[target]\n",
    "    X_all, y_all, bin_labels = bin_data(X, y, ages, include_all=True)\n",
    "    \n",
    "    for X_cv, y_cv, bin_label in zip(X_all, y_all, bin_labels):\n",
    "        score, permutation_scores, pvalue = permutation_test_score(\n",
    "            pipe, X_cv, y_cv, cv=RKF_10_10, scoring=unimetric_scorer, n_permutations=N_PERM, \n",
    "            n_jobs=-1)\n",
    "        results.append({    \n",
    "            'Model': 'pls',\n",
    "            'Population': population,\n",
    "            'Target': target,\n",
    "            'Bin': bin_label,\n",
    "            'Score': score,\n",
    "            'P-value': pvalue,\n",
    "        })\n",
    "        print(results[-1])\n",
    "        save_perm_score(permutation_scores, f'pls_{population}_{target}_{bin_label}_perm_scores', PLS_PSCORES)\n",
    "\n",
    "results_df = pd.DataFrame(results)\n",
    "display(results_df.round(4))"
   ]
  },
  {
   "cell_type": "code",
   "execution_count": 20,
   "metadata": {},
   "outputs": [
    {
     "data": {
      "text/plain": [
       "'/home/bpho/Documents/MSc_Research-Project/scratch_data/model_results/PLS/pls_pts_adhd.csv.csv'"
      ]
     },
     "execution_count": 20,
     "metadata": {},
     "output_type": "execute_result"
    }
   ],
   "source": [
    "filename = f'pls_pts_{population}'\n",
    "save_results(results_df, filename, PLS_RESULTS)"
   ]
  },
  {
   "cell_type": "markdown",
   "metadata": {},
   "source": [
    "### Run permutation test statistic (pts) with equal sample size"
   ]
  },
  {
   "cell_type": "code",
   "execution_count": 21,
   "metadata": {},
   "outputs": [
    {
     "name": "stdout",
     "output_type": "stream",
     "text": [
      "{'Model': 'pls', 'Population': 'adhd', 'Target': 'WISC_FSIQ', 'Bin': 'Bin 2 Equal', 'Score': 0.4491841116126827, 'P-value': 0.001996007984031936}\n",
      "{'Model': 'pls', 'Population': 'adhd', 'Target': 'WISC_VSI', 'Bin': 'Bin 2 Equal', 'Score': 0.14465678304229956, 'P-value': 0.1217564870259481}\n",
      "{'Model': 'pls', 'Population': 'adhd', 'Target': 'WISC_VCI', 'Bin': 'Bin 2 Equal', 'Score': 0.411203191954623, 'P-value': 0.001996007984031936}\n",
      "{'Model': 'pls', 'Population': 'adhd', 'Target': 'WISC_FRI', 'Bin': 'Bin 2 Equal', 'Score': 0.37123883320068274, 'P-value': 0.001996007984031936}\n",
      "{'Model': 'pls', 'Population': 'adhd', 'Target': 'WISC_WMI', 'Bin': 'Bin 2 Equal', 'Score': 0.3291763002361479, 'P-value': 0.007984031936127744}\n",
      "{'Model': 'pls', 'Population': 'adhd', 'Target': 'WISC_PSI', 'Bin': 'Bin 2 Equal', 'Score': 0.1775488689394752, 'P-value': 0.06786427145708583}\n"
     ]
    },
    {
     "data": {
      "text/html": [
       "<div>\n",
       "<style scoped>\n",
       "    .dataframe tbody tr th:only-of-type {\n",
       "        vertical-align: middle;\n",
       "    }\n",
       "\n",
       "    .dataframe tbody tr th {\n",
       "        vertical-align: top;\n",
       "    }\n",
       "\n",
       "    .dataframe thead th {\n",
       "        text-align: right;\n",
       "    }\n",
       "</style>\n",
       "<table border=\"1\" class=\"dataframe\">\n",
       "  <thead>\n",
       "    <tr style=\"text-align: right;\">\n",
       "      <th></th>\n",
       "      <th>Model</th>\n",
       "      <th>Population</th>\n",
       "      <th>Target</th>\n",
       "      <th>Bin</th>\n",
       "      <th>Score</th>\n",
       "      <th>P-value</th>\n",
       "    </tr>\n",
       "  </thead>\n",
       "  <tbody>\n",
       "    <tr>\n",
       "      <th>0</th>\n",
       "      <td>pls</td>\n",
       "      <td>adhd</td>\n",
       "      <td>WISC_FSIQ</td>\n",
       "      <td>Bin 2 Equal</td>\n",
       "      <td>0.4492</td>\n",
       "      <td>0.0020</td>\n",
       "    </tr>\n",
       "    <tr>\n",
       "      <th>1</th>\n",
       "      <td>pls</td>\n",
       "      <td>adhd</td>\n",
       "      <td>WISC_VSI</td>\n",
       "      <td>Bin 2 Equal</td>\n",
       "      <td>0.1447</td>\n",
       "      <td>0.1218</td>\n",
       "    </tr>\n",
       "    <tr>\n",
       "      <th>2</th>\n",
       "      <td>pls</td>\n",
       "      <td>adhd</td>\n",
       "      <td>WISC_VCI</td>\n",
       "      <td>Bin 2 Equal</td>\n",
       "      <td>0.4112</td>\n",
       "      <td>0.0020</td>\n",
       "    </tr>\n",
       "    <tr>\n",
       "      <th>3</th>\n",
       "      <td>pls</td>\n",
       "      <td>adhd</td>\n",
       "      <td>WISC_FRI</td>\n",
       "      <td>Bin 2 Equal</td>\n",
       "      <td>0.3712</td>\n",
       "      <td>0.0020</td>\n",
       "    </tr>\n",
       "    <tr>\n",
       "      <th>4</th>\n",
       "      <td>pls</td>\n",
       "      <td>adhd</td>\n",
       "      <td>WISC_WMI</td>\n",
       "      <td>Bin 2 Equal</td>\n",
       "      <td>0.3292</td>\n",
       "      <td>0.0080</td>\n",
       "    </tr>\n",
       "    <tr>\n",
       "      <th>5</th>\n",
       "      <td>pls</td>\n",
       "      <td>adhd</td>\n",
       "      <td>WISC_PSI</td>\n",
       "      <td>Bin 2 Equal</td>\n",
       "      <td>0.1775</td>\n",
       "      <td>0.0679</td>\n",
       "    </tr>\n",
       "  </tbody>\n",
       "</table>\n",
       "</div>"
      ],
      "text/plain": [
       "  Model Population     Target          Bin   Score  P-value\n",
       "0   pls       adhd  WISC_FSIQ  Bin 2 Equal  0.4492   0.0020\n",
       "1   pls       adhd   WISC_VSI  Bin 2 Equal  0.1447   0.1218\n",
       "2   pls       adhd   WISC_VCI  Bin 2 Equal  0.4112   0.0020\n",
       "3   pls       adhd   WISC_FRI  Bin 2 Equal  0.3712   0.0020\n",
       "4   pls       adhd   WISC_WMI  Bin 2 Equal  0.3292   0.0080\n",
       "5   pls       adhd   WISC_PSI  Bin 2 Equal  0.1775   0.0679"
      ]
     },
     "metadata": {},
     "output_type": "display_data"
    },
    {
     "name": "stdout",
     "output_type": "stream",
     "text": [
      "CPU times: user 10min 48s, sys: 11.1 s, total: 10min 59s\n",
      "Wall time: 4h 17min 38s\n"
     ]
    }
   ],
   "source": [
    "%%time\n",
    "from common.binning import bin_data\n",
    "from common.wisc import WISC_LEVEL\n",
    "from common.paths import PLS_RESULTS, PLS_PSCORES\n",
    "from common.results import save_results, save_perm_score\n",
    "\n",
    "results = []\n",
    "targets = WISC_LEVEL[5]\n",
    "ages = None if population == 'healthy' else ages\n",
    "bin_label = 'Bin 2 Equal'\n",
    "bin_2_subsample_indices = np.random.choice(147, 113, replace=False)\n",
    "\n",
    "for target in targets:\n",
    "    y = Y[target]\n",
    "    X_bins, y_bins, bin_labels = bin_data(X, y, ages, False)\n",
    "    X_bin_2, y_bin_2 = X_bins[1][bin_2_subsample_indices], y_bins[1][bin_2_subsample_indices]\n",
    "    \n",
    "    score, permutation_scores, pvalue = permutation_test_score(\n",
    "        pipe, X_bin_2, y_bin_2, cv=RKF_10_10, scoring=unimetric_scorer, n_permutations=N_PERM, \n",
    "        n_jobs=-1)\n",
    "    results.append({    \n",
    "        'Model': 'pls',\n",
    "        'Population': population,\n",
    "        'Target': target,\n",
    "        'Bin': bin_label,\n",
    "        'Score': score,\n",
    "        'P-value': pvalue,\n",
    "    })\n",
    "    print(results[-1])\n",
    "    save_perm_score(permutation_scores, f'pls_{population}_{target}_{bin_label}_perm_scores', PLS_PSCORES)\n",
    "\n",
    "results_df = pd.DataFrame(results)\n",
    "display(results_df.round(4))"
   ]
  },
  {
   "cell_type": "code",
   "execution_count": 23,
   "metadata": {},
   "outputs": [
    {
     "data": {
      "text/plain": [
       "'/home/bpho/Documents/MSc_Research-Project/scratch_data/model_results/PLS/pls_pts_adhd_bin_two_equal_samples.csv'"
      ]
     },
     "execution_count": 23,
     "metadata": {},
     "output_type": "execute_result"
    }
   ],
   "source": [
    "filename = f'pls_pts_{population}_bin_two_equal_samples'\n",
    "save_results(results_df, filename, PLS_RESULTS)"
   ]
  },
  {
   "cell_type": "code",
   "execution_count": null,
   "metadata": {},
   "outputs": [],
   "source": []
  }
 ],
 "metadata": {
  "celltoolbar": "Raw Cell Format",
  "kernelspec": {
   "display_name": "venv",
   "language": "python",
   "name": "venv"
  },
  "language_info": {
   "codemirror_mode": {
    "name": "ipython",
    "version": 3
   },
   "file_extension": ".py",
   "mimetype": "text/x-python",
   "name": "python",
   "nbconvert_exporter": "python",
   "pygments_lexer": "ipython3",
   "version": "3.7.10"
  }
 },
 "nbformat": 4,
 "nbformat_minor": 4
}
