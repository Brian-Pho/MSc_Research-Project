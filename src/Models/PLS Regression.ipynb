{
 "cells": [
  {
   "cell_type": "markdown",
   "metadata": {},
   "source": [
    "# PLS Regression"
   ]
  },
  {
   "cell_type": "code",
   "execution_count": 1,
   "metadata": {},
   "outputs": [],
   "source": [
    "import pandas as pd\n",
    "import numpy as np\n",
    "\n",
    "%load_ext autoreload\n",
    "%autoreload 2\n",
    "\n",
    "import matplotlib.pyplot as plt\n",
    "%matplotlib inline\n",
    "\n",
    "import seaborn as sns\n",
    "sns.set_theme(\n",
    "    context=\"paper\", \n",
    "    style=\"whitegrid\", \n",
    "    font_scale=1.2,\n",
    "    rc={'figure.figsize': (10, 10), 'figure.dpi': 300}\n",
    ")"
   ]
  },
  {
   "cell_type": "markdown",
   "metadata": {},
   "source": [
    "## Get Data"
   ]
  },
  {
   "cell_type": "code",
   "execution_count": 2,
   "metadata": {},
   "outputs": [
    {
     "name": "stdout",
     "output_type": "stream",
     "text": [
      "X: (373, 34716) | Y: 6 | Age: (373,) | Population: adhd\n"
     ]
    }
   ],
   "source": [
    "from common.data import get_data\n",
    "from common.paths import HEALTHY, ADHD\n",
    "\n",
    "X, Y, demographics, population = get_data(label_path=ADHD)\n",
    "ages, sexes = demographics['Age'], demographics['Sex']\n",
    "\n",
    "print(f'X: {X.shape} | Y: {len(Y.keys())} | Age: {ages.shape} | Population: {population}')"
   ]
  },
  {
   "cell_type": "code",
   "execution_count": 4,
   "metadata": {},
   "outputs": [
    {
     "name": "stdout",
     "output_type": "stream",
     "text": [
      "y: (373,)\n"
     ]
    }
   ],
   "source": [
    "selected_target = \"WISC_FSIQ\"\n",
    "y = Y[selected_target]\n",
    "\n",
    "print(f'y: {y.shape}')"
   ]
  },
  {
   "cell_type": "code",
   "execution_count": 5,
   "metadata": {},
   "outputs": [
    {
     "name": "stdout",
     "output_type": "stream",
     "text": [
      "Bin 1: (114, 34716) | Bin 2: (147, 34716) | Bin 3: (112, 34716)\n"
     ]
    }
   ],
   "source": [
    "from common.binning import bin_by_age\n",
    "\n",
    "bins = bin_by_age(X, y, ages)\n",
    "bin_1, bin_2, bin_3 = bins[0], bins[1], bins[2]\n",
    "print(f'Bin 1: {bin_1[0].shape} | Bin 2: {bin_2[0].shape} | Bin 3: {bin_3[0].shape}')"
   ]
  },
  {
   "cell_type": "markdown",
   "metadata": {},
   "source": [
    "## Run for one target, one age bin"
   ]
  },
  {
   "cell_type": "code",
   "execution_count": 3,
   "metadata": {},
   "outputs": [],
   "source": [
    "from common.scoring import unimetric_scorer, multimetric_scorer, N_PERM, SCORING, RKF_10_10\n",
    "from sklearn.cross_decomposition import PLSRegression\n",
    "from sklearn.model_selection import cross_validate, permutation_test_score\n",
    "from sklearn.preprocessing import StandardScaler\n",
    "from sklearn.pipeline import make_pipeline"
   ]
  },
  {
   "cell_type": "markdown",
   "metadata": {},
   "source": [
    "### Set up the model pipeline, metrics, and cross-validation approach"
   ]
  },
  {
   "cell_type": "code",
   "execution_count": 5,
   "metadata": {},
   "outputs": [],
   "source": [
    "estimators = [StandardScaler(), PLSRegression(n_components=4)]\n",
    "pipe = make_pipeline(*estimators)"
   ]
  },
  {
   "cell_type": "markdown",
   "metadata": {},
   "source": [
    "### Run cross-validation"
   ]
  },
  {
   "cell_type": "code",
   "execution_count": 6,
   "metadata": {},
   "outputs": [
    {
     "name": "stdout",
     "output_type": "stream",
     "text": [
      "0.18997362711567398\n",
      "CPU times: user 1.94 s, sys: 1.07 s, total: 3.01 s\n",
      "Wall time: 6.84 s\n"
     ]
    }
   ],
   "source": [
    "%%time\n",
    "\n",
    "# X_cv = bin_3[0]\n",
    "# y_cv = bin_3[1]\n",
    "X_cv = X\n",
    "y_cv = y\n",
    "age_group = 'all'\n",
    "\n",
    "scores = cross_validate(pipe, X_cv, y_cv, cv=RKF_10_10, scoring=unimetric_scorer, n_jobs=-1, \n",
    "                        return_train_score=True, return_estimator=True)\n",
    "\n",
    "coefs = np.array([estimator['plsregression'].coef_ for estimator in scores['estimator']])\n",
    "coefs = np.squeeze(coefs, axis=2)\n",
    "avg_coef = np.mean(coefs, axis=0)\n",
    "\n",
    "print(f'pls_{population}_{selected_target}_{age_group}')\n",
    "for metric in SCORING:\n",
    "    metric_values = scores[metric]\n",
    "    print(f'Avg {metric}: {np.mean(metric_values):.2f}')"
   ]
  },
  {
   "cell_type": "code",
   "execution_count": 5,
   "metadata": {},
   "outputs": [
    {
     "name": "stdout",
     "output_type": "stream",
     "text": [
      "CPU times: user 1min 52s, sys: 7.44 s, total: 1min 59s\n",
      "Wall time: 17min 28s\n"
     ]
    }
   ],
   "source": [
    "%%time\n",
    "from sklearn.metrics import r2_score\n",
    "\n",
    "def cust_r2(model, X, y):\n",
    "    return r2_score(y, model.predict(X))\n",
    "\n",
    "scores = []\n",
    "\n",
    "for _ in range(100):\n",
    "    subsample_idx = np.random.choice(len(X), 106)\n",
    "    X_sub, ages_sub = X[subsample_idx], ages[subsample_idx]\n",
    "    \n",
    "    estimators = [StandardScaler(), PLSRegression(n_components=4)]\n",
    "    pipe = make_pipeline(*estimators)\n",
    "    score = cross_validate(pipe, X_sub, ages_sub, cv=RKF_10_10, scoring=cust_r2, n_jobs=-1, \n",
    "                           return_train_score=False, return_estimator=False)\n",
    "    scores.append(np.mean(score['test_score']))"
   ]
  },
  {
   "cell_type": "code",
   "execution_count": null,
   "metadata": {},
   "outputs": [],
   "source": [
    "ax = sns.boxplot(data=scores['test_p_value'], palette=\"Set2\")\n",
    "ax = sns.swarmplot(data=scores['test_p_value'], color=\"0.3\")\n",
    "ax.set_ylabel('Test Score (Pearson r)')\n",
    "ax.set_xlabel('Groups')\n",
    "ax.set_title('Cross Validation Results ( -> )')"
   ]
  },
  {
   "cell_type": "code",
   "execution_count": 30,
   "metadata": {},
   "outputs": [],
   "source": [
    "from os.path import join\n",
    "from common.paths import PLS_WEIGHTS\n",
    "\n",
    "filename = f'pls_{population}_{selected_target}_{age_group}.npy'\n",
    "\n",
    "np.save(join(PLS_WEIGHTS, filename), avg_coef)"
   ]
  },
  {
   "cell_type": "markdown",
   "metadata": {},
   "source": [
    "### ICC"
   ]
  },
  {
   "cell_type": "code",
   "execution_count": 31,
   "metadata": {},
   "outputs": [
    {
     "name": "stdout",
     "output_type": "stream",
     "text": [
      "CPU times: user 17min 38s, sys: 7.77 s, total: 17min 46s\n",
      "Wall time: 17min 45s\n"
     ]
    },
    {
     "data": {
      "text/html": [
       "<div>\n",
       "<style scoped>\n",
       "    .dataframe tbody tr th:only-of-type {\n",
       "        vertical-align: middle;\n",
       "    }\n",
       "\n",
       "    .dataframe tbody tr th {\n",
       "        vertical-align: top;\n",
       "    }\n",
       "\n",
       "    .dataframe thead th {\n",
       "        text-align: right;\n",
       "    }\n",
       "</style>\n",
       "<table border=\"1\" class=\"dataframe\">\n",
       "  <thead>\n",
       "    <tr style=\"text-align: right;\">\n",
       "      <th></th>\n",
       "      <th>Description</th>\n",
       "      <th>ICC</th>\n",
       "      <th>F</th>\n",
       "      <th>df1</th>\n",
       "      <th>df2</th>\n",
       "      <th>pval</th>\n",
       "      <th>CI95%</th>\n",
       "    </tr>\n",
       "    <tr>\n",
       "      <th>Type</th>\n",
       "      <th></th>\n",
       "      <th></th>\n",
       "      <th></th>\n",
       "      <th></th>\n",
       "      <th></th>\n",
       "      <th></th>\n",
       "      <th></th>\n",
       "    </tr>\n",
       "  </thead>\n",
       "  <tbody>\n",
       "    <tr>\n",
       "      <th>ICC1</th>\n",
       "      <td>Single raters absolute</td>\n",
       "      <td>0.892</td>\n",
       "      <td>823.213</td>\n",
       "      <td>34715</td>\n",
       "      <td>3436884</td>\n",
       "      <td>0.0</td>\n",
       "      <td>[0.89, 0.89]</td>\n",
       "    </tr>\n",
       "    <tr>\n",
       "      <th>ICC2</th>\n",
       "      <td>Single random raters</td>\n",
       "      <td>0.892</td>\n",
       "      <td>823.298</td>\n",
       "      <td>34715</td>\n",
       "      <td>3436785</td>\n",
       "      <td>0.0</td>\n",
       "      <td>[0.89, 0.89]</td>\n",
       "    </tr>\n",
       "    <tr>\n",
       "      <th>ICC3</th>\n",
       "      <td>Single fixed raters</td>\n",
       "      <td>0.892</td>\n",
       "      <td>823.298</td>\n",
       "      <td>34715</td>\n",
       "      <td>3436785</td>\n",
       "      <td>0.0</td>\n",
       "      <td>[0.89, 0.89]</td>\n",
       "    </tr>\n",
       "    <tr>\n",
       "      <th>ICC1k</th>\n",
       "      <td>Average raters absolute</td>\n",
       "      <td>0.999</td>\n",
       "      <td>823.213</td>\n",
       "      <td>34715</td>\n",
       "      <td>3436884</td>\n",
       "      <td>0.0</td>\n",
       "      <td>[1.0, 1.0]</td>\n",
       "    </tr>\n",
       "    <tr>\n",
       "      <th>ICC2k</th>\n",
       "      <td>Average random raters</td>\n",
       "      <td>0.999</td>\n",
       "      <td>823.298</td>\n",
       "      <td>34715</td>\n",
       "      <td>3436785</td>\n",
       "      <td>0.0</td>\n",
       "      <td>[1.0, 1.0]</td>\n",
       "    </tr>\n",
       "    <tr>\n",
       "      <th>ICC3k</th>\n",
       "      <td>Average fixed raters</td>\n",
       "      <td>0.999</td>\n",
       "      <td>823.298</td>\n",
       "      <td>34715</td>\n",
       "      <td>3436785</td>\n",
       "      <td>0.0</td>\n",
       "      <td>[1.0, 1.0]</td>\n",
       "    </tr>\n",
       "  </tbody>\n",
       "</table>\n",
       "</div>"
      ],
      "text/plain": [
       "                   Description    ICC        F    df1      df2  pval  \\\n",
       "Type                                                                   \n",
       "ICC1    Single raters absolute  0.892  823.213  34715  3436884   0.0   \n",
       "ICC2      Single random raters  0.892  823.298  34715  3436785   0.0   \n",
       "ICC3       Single fixed raters  0.892  823.298  34715  3436785   0.0   \n",
       "ICC1k  Average raters absolute  0.999  823.213  34715  3436884   0.0   \n",
       "ICC2k    Average random raters  0.999  823.298  34715  3436785   0.0   \n",
       "ICC3k     Average fixed raters  0.999  823.298  34715  3436785   0.0   \n",
       "\n",
       "              CI95%  \n",
       "Type                 \n",
       "ICC1   [0.89, 0.89]  \n",
       "ICC2   [0.89, 0.89]  \n",
       "ICC3   [0.89, 0.89]  \n",
       "ICC1k    [1.0, 1.0]  \n",
       "ICC2k    [1.0, 1.0]  \n",
       "ICC3k    [1.0, 1.0]  "
      ]
     },
     "execution_count": 31,
     "metadata": {},
     "output_type": "execute_result"
    }
   ],
   "source": [
    "%%time\n",
    "import pingouin as pg\n",
    "\n",
    "icc_data = pd.DataFrame(coefs).melt(var_name='connection', value_name='weight', ignore_index=False)\n",
    "icc_data['cv_run_num'] = icc_data.index\n",
    "icc = pg.intraclass_corr(data=icc_data, targets='connection', raters='cv_run_num', ratings='weight').round(3)\n",
    "icc.set_index(\"Type\")"
   ]
  },
  {
   "cell_type": "markdown",
   "metadata": {},
   "source": [
    "### Run permutation statistic"
   ]
  },
  {
   "cell_type": "code",
   "execution_count": 23,
   "metadata": {},
   "outputs": [
    {
     "name": "stdout",
     "output_type": "stream",
     "text": [
      "pls_healthy_WISC_PSI_all\n",
      "Score: -0.06 | p-value: 0.6934\n",
      "CPU times: user 2min 9s, sys: 4.18 s, total: 2min 13s\n",
      "Wall time: 4h 47min 31s\n"
     ]
    }
   ],
   "source": [
    "%%time\n",
    "# X_cv = bin_1[0]\n",
    "# y_cv = bin_1[1]\n",
    "X_cv = X\n",
    "y_cv = y\n",
    "age_group = 'all'\n",
    "\n",
    "score, _, pvalue = permutation_test_score(\n",
    "    pipe, X_cv, y_cv, cv=RKF_10_10, scoring=unimetric_scorer, n_permutations=N_PERM, n_jobs=-1)\n",
    "\n",
    "print(f'pls_{population}_{selected_target}_{age_group}')\n",
    "print(f'Score: {score:.2f} | p-value: {pvalue:.4f}')"
   ]
  },
  {
   "cell_type": "code",
   "execution_count": 9,
   "metadata": {},
   "outputs": [
    {
     "name": "stdout",
     "output_type": "stream",
     "text": [
      "Score: 0.17 | p-value: 0.0020\n",
      "CPU times: user 1min 44s, sys: 2.31 s, total: 1min 47s\n",
      "Wall time: 39min 18s\n"
     ]
    }
   ],
   "source": [
    "%%time\n",
    "X_cv = X\n",
    "y_cv = ages\n",
    "\n",
    "score, perm_scores, pvalue = permutation_test_score(pipe, X_cv, y_cv, cv=RKF_10_10, \n",
    "                                          scoring=cust_r2, n_permutations=N_PERM, n_jobs=-1)\n",
    "\n",
    "print(f'Score: {score:.2f} | p-value: {pvalue:.4f}')"
   ]
  },
  {
   "cell_type": "markdown",
   "metadata": {},
   "source": [
    "## Run for all targets, all age bins"
   ]
  },
  {
   "cell_type": "markdown",
   "metadata": {},
   "source": [
    "### Run cross-validation"
   ]
  },
  {
   "cell_type": "code",
   "execution_count": 15,
   "metadata": {},
   "outputs": [
    {
     "name": "stdout",
     "output_type": "stream",
     "text": [
      "{'Model': 'pls', 'Population': 'healthy', 'Target': 'WISC_FSIQ', 'Bin': 'All', 'Score': 0.05635758984112808}\n",
      "{'Model': 'pls', 'Population': 'healthy', 'Target': 'WISC_VSI', 'Bin': 'All', 'Score': 0.10961213762939304}\n",
      "{'Model': 'pls', 'Population': 'healthy', 'Target': 'WISC_VCI', 'Bin': 'All', 'Score': 0.2413842533635157}\n",
      "{'Model': 'pls', 'Population': 'healthy', 'Target': 'WISC_FRI', 'Bin': 'All', 'Score': -0.06690211713566536}\n",
      "{'Model': 'pls', 'Population': 'healthy', 'Target': 'WISC_WMI', 'Bin': 'All', 'Score': 0.09844717189572955}\n",
      "{'Model': 'pls', 'Population': 'healthy', 'Target': 'WISC_PSI', 'Bin': 'All', 'Score': -0.08364363560297766}\n"
     ]
    },
    {
     "data": {
      "text/html": [
       "<div>\n",
       "<style scoped>\n",
       "    .dataframe tbody tr th:only-of-type {\n",
       "        vertical-align: middle;\n",
       "    }\n",
       "\n",
       "    .dataframe tbody tr th {\n",
       "        vertical-align: top;\n",
       "    }\n",
       "\n",
       "    .dataframe thead th {\n",
       "        text-align: right;\n",
       "    }\n",
       "</style>\n",
       "<table border=\"1\" class=\"dataframe\">\n",
       "  <thead>\n",
       "    <tr style=\"text-align: right;\">\n",
       "      <th></th>\n",
       "      <th>Model</th>\n",
       "      <th>Population</th>\n",
       "      <th>Target</th>\n",
       "      <th>Bin</th>\n",
       "      <th>Score</th>\n",
       "    </tr>\n",
       "  </thead>\n",
       "  <tbody>\n",
       "    <tr>\n",
       "      <th>0</th>\n",
       "      <td>pls</td>\n",
       "      <td>healthy</td>\n",
       "      <td>WISC_FSIQ</td>\n",
       "      <td>All</td>\n",
       "      <td>0.0564</td>\n",
       "    </tr>\n",
       "    <tr>\n",
       "      <th>1</th>\n",
       "      <td>pls</td>\n",
       "      <td>healthy</td>\n",
       "      <td>WISC_VSI</td>\n",
       "      <td>All</td>\n",
       "      <td>0.1096</td>\n",
       "    </tr>\n",
       "    <tr>\n",
       "      <th>2</th>\n",
       "      <td>pls</td>\n",
       "      <td>healthy</td>\n",
       "      <td>WISC_VCI</td>\n",
       "      <td>All</td>\n",
       "      <td>0.2414</td>\n",
       "    </tr>\n",
       "    <tr>\n",
       "      <th>3</th>\n",
       "      <td>pls</td>\n",
       "      <td>healthy</td>\n",
       "      <td>WISC_FRI</td>\n",
       "      <td>All</td>\n",
       "      <td>-0.0669</td>\n",
       "    </tr>\n",
       "    <tr>\n",
       "      <th>4</th>\n",
       "      <td>pls</td>\n",
       "      <td>healthy</td>\n",
       "      <td>WISC_WMI</td>\n",
       "      <td>All</td>\n",
       "      <td>0.0984</td>\n",
       "    </tr>\n",
       "    <tr>\n",
       "      <th>5</th>\n",
       "      <td>pls</td>\n",
       "      <td>healthy</td>\n",
       "      <td>WISC_PSI</td>\n",
       "      <td>All</td>\n",
       "      <td>-0.0836</td>\n",
       "    </tr>\n",
       "  </tbody>\n",
       "</table>\n",
       "</div>"
      ],
      "text/plain": [
       "  Model Population     Target  Bin   Score\n",
       "0   pls    healthy  WISC_FSIQ  All  0.0564\n",
       "1   pls    healthy   WISC_VSI  All  0.1096\n",
       "2   pls    healthy   WISC_VCI  All  0.2414\n",
       "3   pls    healthy   WISC_FRI  All -0.0669\n",
       "4   pls    healthy   WISC_WMI  All  0.0984\n",
       "5   pls    healthy   WISC_PSI  All -0.0836"
      ]
     },
     "metadata": {},
     "output_type": "display_data"
    },
    {
     "name": "stdout",
     "output_type": "stream",
     "text": [
      "CPU times: user 7.41 s, sys: 2.95 s, total: 10.4 s\n",
      "Wall time: 29 s\n"
     ]
    }
   ],
   "source": [
    "%%time\n",
    "from os.path import join\n",
    "from common.binning import bin_data\n",
    "from common.wisc import FSIQ, PRIMARY_INDICES\n",
    "from common.paths import PLS_WEIGHTS, PLS_RESULTS\n",
    "\n",
    "results = []\n",
    "targets = FSIQ + PRIMARY_INDICES\n",
    "\n",
    "for target in targets:\n",
    "    y = Y[target]\n",
    "    X_all, y_all, bin_labels = bin_data(X, y)\n",
    "    \n",
    "    for X_cv, y_cv, bin_label in zip(X_all, y_all, bin_labels):\n",
    "        scores = cross_validate(pipe, X_cv, y_cv, cv=RKF_10_10, \n",
    "                                scoring=unimetric_scorer, n_jobs=-1, \n",
    "                                return_train_score=False, \n",
    "                                return_estimator=True)\n",
    "        coefs = np.array([estimator['plsregression'].coef_ for estimator in scores['estimator']])\n",
    "        coefs = np.squeeze(coefs, axis=2)\n",
    "        avg_coef = np.mean(coefs, axis=0)\n",
    "        \n",
    "        results.append({    \n",
    "            'Model': 'pls',\n",
    "            'Population': population,\n",
    "            'Target': target,\n",
    "            'Bin': bin_label,\n",
    "            'Score': np.mean(scores['test_score']),\n",
    "        })\n",
    "        print(results[-1])\n",
    "        \n",
    "        filename = f'pls_{population}_{target}_{bin_label}.npy'\n",
    "        np.save(join(PLS_WEIGHTS, filename), avg_coef)\n",
    "\n",
    "results_df = pd.DataFrame(results)\n",
    "display(results_df.round(4))\n",
    "filename = f'pls_cv_{population}.csv'\n",
    "results_df.to_csv(join(PLS_RESULTS, filename))"
   ]
  },
  {
   "cell_type": "markdown",
   "metadata": {},
   "source": [
    "### Run permutation test statistic (pts)"
   ]
  },
  {
   "cell_type": "code",
   "execution_count": null,
   "metadata": {},
   "outputs": [
    {
     "name": "stdout",
     "output_type": "stream",
     "text": [
      "{'Model': 'pls', 'Population': 'adhd', 'Target': 'WISC_FSIQ', 'Bin': 'All', 'Score': 0.3732779288998941, 'P-value': 0.001996007984031936}\n",
      "{'Model': 'pls', 'Population': 'adhd', 'Target': 'WISC_FSIQ', 'Bin': 'Bin 1', 'Score': 0.2381931433627104, 'P-value': 0.023952095808383235}\n",
      "{'Model': 'pls', 'Population': 'adhd', 'Target': 'WISC_FSIQ', 'Bin': 'Bin 2', 'Score': 0.36829699444049296, 'P-value': 0.001996007984031936}\n",
      "{'Model': 'pls', 'Population': 'adhd', 'Target': 'WISC_FSIQ', 'Bin': 'Bin 3', 'Score': 0.09335447405711544, 'P-value': 0.21357285429141717}\n",
      "{'Model': 'pls', 'Population': 'adhd', 'Target': 'WISC_VSI', 'Bin': 'All', 'Score': 0.2812915365156919, 'P-value': 0.001996007984031936}\n",
      "{'Model': 'pls', 'Population': 'adhd', 'Target': 'WISC_VSI', 'Bin': 'Bin 1', 'Score': 0.24525201010312572, 'P-value': 0.013972055888223553}\n",
      "{'Model': 'pls', 'Population': 'adhd', 'Target': 'WISC_VSI', 'Bin': 'Bin 2', 'Score': 0.2007473682427743, 'P-value': 0.02594810379241517}\n",
      "{'Model': 'pls', 'Population': 'adhd', 'Target': 'WISC_VSI', 'Bin': 'Bin 3', 'Score': 0.11654151994808755, 'P-value': 0.16766467065868262}\n",
      "{'Model': 'pls', 'Population': 'adhd', 'Target': 'WISC_VCI', 'Bin': 'All', 'Score': 0.36575505238686473, 'P-value': 0.001996007984031936}\n"
     ]
    }
   ],
   "source": [
    "%%time\n",
    "from os.path import join\n",
    "from common.binning import bin_data\n",
    "from common.wisc import FSIQ, PRIMARY_INDICES\n",
    "from common.paths import PLS_RESULTS\n",
    "\n",
    "results = []\n",
    "targets = FSIQ + PRIMARY_INDICES\n",
    "\n",
    "for target in targets:\n",
    "    y = Y[target]\n",
    "    X_all, y_all, bin_labels = bin_data(X, y, ages, include_all=True)\n",
    "    \n",
    "    for X_cv, y_cv, bin_label in zip(X_all, y_all, bin_labels):\n",
    "        score, permutation_scores, pvalue = permutation_test_score(\n",
    "            pipe, X_cv, y_cv, cv=RKF_10_10, scoring=unimetric_scorer, n_permutations=N_PERM, \n",
    "            n_jobs=-1)\n",
    "        results.append({    \n",
    "            'Model': 'pls',\n",
    "            'Population': population,\n",
    "            'Target': target,\n",
    "            'Bin': bin_label,\n",
    "            'Score': score,\n",
    "            'P-value': pvalue,\n",
    "        })\n",
    "        print(results[-1])\n",
    "\n",
    "results_df = pd.DataFrame(results)\n",
    "display(results_df.round(4))\n",
    "filename = f'pls_pts_{population}.csv'\n",
    "results_df.to_csv(join(PLS_RESULTS, filename))"
   ]
  },
  {
   "cell_type": "code",
   "execution_count": null,
   "metadata": {},
   "outputs": [],
   "source": []
  }
 ],
 "metadata": {
  "celltoolbar": "Raw Cell Format",
  "kernelspec": {
   "display_name": "venv",
   "language": "python",
   "name": "venv"
  },
  "language_info": {
   "codemirror_mode": {
    "name": "ipython",
    "version": 3
   },
   "file_extension": ".py",
   "mimetype": "text/x-python",
   "name": "python",
   "nbconvert_exporter": "python",
   "pygments_lexer": "ipython3",
   "version": "3.7.10"
  }
 },
 "nbformat": 4,
 "nbformat_minor": 4
}
