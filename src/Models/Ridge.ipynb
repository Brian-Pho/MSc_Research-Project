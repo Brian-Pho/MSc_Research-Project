{
 "cells": [
  {
   "cell_type": "markdown",
   "metadata": {},
   "source": [
    "# Ridge"
   ]
  },
  {
   "cell_type": "code",
   "execution_count": 7,
   "metadata": {},
   "outputs": [
    {
     "name": "stdout",
     "output_type": "stream",
     "text": [
      "The autoreload extension is already loaded. To reload it, use:\n",
      "  %reload_ext autoreload\n"
     ]
    }
   ],
   "source": [
    "import pandas as pd\n",
    "import numpy as np\n",
    "\n",
    "%load_ext autoreload\n",
    "%autoreload 2\n",
    "\n",
    "import matplotlib.pyplot as plt\n",
    "%matplotlib inline\n",
    "\n",
    "import seaborn as sns\n",
    "sns.set_theme(\n",
    "    context=\"paper\", \n",
    "    style=\"whitegrid\", \n",
    "    font_scale=1.2,\n",
    "    rc={'figure.figsize': (10, 10), 'figure.dpi': 300}\n",
    ")"
   ]
  },
  {
   "cell_type": "markdown",
   "metadata": {},
   "source": [
    "## Get Data"
   ]
  },
  {
   "cell_type": "code",
   "execution_count": 8,
   "metadata": {},
   "outputs": [
    {
     "name": "stdout",
     "output_type": "stream",
     "text": [
      "X: (106, 34716) | Y: 6 | Age: (106,) | Population: healthy\n"
     ]
    }
   ],
   "source": [
    "from common.data import get_data\n",
    "from common.paths import HEALTHY, ADHD\n",
    "\n",
    "X, Y, demographics, population = get_data(label_path=ADHD)\n",
    "ages, sexes = demographics['Age'], demographics['Sex']\n",
    "\n",
    "print(f'X: {X.shape} | Y: {len(Y.keys())} | Age: {ages.shape} | Population: {population}')"
   ]
  },
  {
   "cell_type": "code",
   "execution_count": 3,
   "metadata": {},
   "outputs": [
    {
     "name": "stdout",
     "output_type": "stream",
     "text": [
      "y: (373,)\n"
     ]
    }
   ],
   "source": [
    "selected_target = \"WISC_FSIQ\"\n",
    "y = Y[selected_target]\n",
    "\n",
    "print(f'y: {y.shape}')"
   ]
  },
  {
   "cell_type": "code",
   "execution_count": 4,
   "metadata": {},
   "outputs": [
    {
     "name": "stdout",
     "output_type": "stream",
     "text": [
      "All: (373, 34716)\n",
      "Bin 1: (114, 34716)\n",
      "Bin 2: (147, 34716)\n",
      "Bin 3: (112, 34716)\n"
     ]
    }
   ],
   "source": [
    "from common.binning import bin_data\n",
    "\n",
    "X_bins, y_bins, bin_labels = bin_data(X, y, ages, True, 3)\n",
    "\n",
    "for age_bin, bin_label in zip(X_bins, bin_labels):\n",
    "    print(f'{bin_label}: {age_bin.shape}')"
   ]
  },
  {
   "cell_type": "code",
   "execution_count": 8,
   "metadata": {},
   "outputs": [
    {
     "name": "stdout",
     "output_type": "stream",
     "text": [
      "(114, 34716) (114,)\n"
     ]
    }
   ],
   "source": [
    "bin_2_subsample_indices = np.random.choice(147, 113, replace=False)\n",
    "X_bins[1] = X_bins[1][bin_2_subsample_indices]\n",
    "y_bins[1] = y_bins[1][bin_2_subsample_indices]\n",
    "bin_labels[1] = 'Bin 2 Equal'\n",
    "\n",
    "print(X_bins[1].shape, y_bins[1].shape)"
   ]
  },
  {
   "cell_type": "markdown",
   "metadata": {},
   "source": [
    "## Run for one target, one age bin"
   ]
  },
  {
   "cell_type": "code",
   "execution_count": 5,
   "metadata": {
    "jupyter": {
     "source_hidden": true
    }
   },
   "outputs": [],
   "source": [
    "from common.scoring import unimetric_scorer, multimetric_scorer, N_PERM, SCORING, RKF_10_10\n",
    "from sklearn.linear_model import Ridge, RidgeCV\n",
    "from sklearn.model_selection import cross_validate, permutation_test_score\n",
    "from sklearn.preprocessing import StandardScaler\n",
    "from sklearn.pipeline import make_pipeline"
   ]
  },
  {
   "cell_type": "markdown",
   "metadata": {},
   "source": [
    "### Set up the model pipeline, metrics, and cross-validation approach"
   ]
  },
  {
   "cell_type": "code",
   "execution_count": 6,
   "metadata": {
    "collapsed": true,
    "jupyter": {
     "outputs_hidden": true,
     "source_hidden": true
    }
   },
   "outputs": [
    {
     "name": "stdout",
     "output_type": "stream",
     "text": [
      "Target: WISC_FSIQ | Alpha: 9001 | Score: 0.36\n",
      "CPU times: user 9min 8s, sys: 21.5 s, total: 9min 29s\n",
      "Wall time: 57.5 s\n"
     ]
    }
   ],
   "source": [
    "%%time\n",
    "X_cv = X_bins[0]\n",
    "y_cv = y_bins[0]\n",
    "# X_cv = X\n",
    "# y_cv = y\n",
    "age_group = 'Bin 1'\n",
    "model = 'ridge'\n",
    "\n",
    "estimators = [StandardScaler(), RidgeCV(alphas=[a for a in range(1, 10001, 1000)], \n",
    "                                        scoring=unimetric_scorer, cv=RKF_10_10)]\n",
    "pipe = make_pipeline(*estimators)\n",
    "pipe.fit(X_cv, y_cv)\n",
    "ridge_cv = pipe['ridgecv']\n",
    "\n",
    "print(f'Target: {selected_target} | Alpha: {ridge_cv.alpha_} | Score: {ridge_cv.best_score_:.2f}')"
   ]
  },
  {
   "cell_type": "markdown",
   "metadata": {},
   "source": [
    "### Run cross-validation"
   ]
  },
  {
   "cell_type": "code",
   "execution_count": 9,
   "metadata": {
    "collapsed": true,
    "jupyter": {
     "outputs_hidden": true,
     "source_hidden": true
    }
   },
   "outputs": [
    {
     "name": "stdout",
     "output_type": "stream",
     "text": [
      "ridge_adhd_WISC_PSI_Bin 2\n",
      "Avg test score: 0.64697580295615\n",
      "CPU times: user 570 ms, sys: 280 ms, total: 850 ms\n",
      "Wall time: 2.47 s\n"
     ]
    }
   ],
   "source": [
    "%%time\n",
    "estimators = [StandardScaler(), Ridge(alpha=ridge_cv.alpha_)]\n",
    "pipe = make_pipeline(*estimators)\n",
    "\n",
    "scores = cross_validate(pipe, X_cv, y_cv, cv=RKF_10_10, scoring=unimetric_scorer, n_jobs=-1, \n",
    "                        return_train_score=True, return_estimator=True)\n",
    "\n",
    "coefs = np.array([estimator['ridge'].coef_ for estimator in scores['estimator']])\n",
    "avg_coef = np.mean(coefs, axis=0)\n",
    "intercepts = np.array([estimator['ridge'].intercept_ for estimator in scores['estimator']])\n",
    "avg_inte = np.mean(intercepts, axis=0)\n",
    "\n",
    "print(f'ridge_{population}_{selected_target}_{age_group}')\n",
    "print(f'Avg test score: {np.mean(scores[\"test_score\"])}')"
   ]
  },
  {
   "cell_type": "markdown",
   "metadata": {},
   "source": [
    "### Save model weights"
   ]
  },
  {
   "cell_type": "code",
   "execution_count": 38,
   "metadata": {
    "jupyter": {
     "source_hidden": true
    }
   },
   "outputs": [],
   "source": [
    "from os.path import join\n",
    "from common.paths import RIDGE_WEIGHTS\n",
    "\n",
    "coef_fn = f'ridge_{population}_{selected_target}_{age_group}_coef.npy'\n",
    "inte_fn = f'ridge_{population}_{selected_target}_{age_group}_inte.npy'\n",
    "\n",
    "np.save(join(RIDGE_WEIGHTS, coef_fn), avg_coef)\n",
    "np.save(join(RIDGE_WEIGHTS, inte_fn), avg_inte)"
   ]
  },
  {
   "cell_type": "markdown",
   "metadata": {},
   "source": [
    "### Run permutation test statistic (pts)"
   ]
  },
  {
   "cell_type": "code",
   "execution_count": 11,
   "metadata": {
    "collapsed": true,
    "jupyter": {
     "outputs_hidden": true,
     "source_hidden": true
    }
   },
   "outputs": [
    {
     "name": "stdout",
     "output_type": "stream",
     "text": [
      "ridge_adhd_WISC_FSIQ_Bin 2\n",
      "Alpha: 9901 | Score: 0.33 | p-value: 0.0100\n",
      "CPU times: user 56.9 s, sys: 1.5 s, total: 58.4 s\n",
      "Wall time: 15min 57s\n"
     ]
    }
   ],
   "source": [
    "%%time\n",
    "estimators = [StandardScaler(), Ridge(alpha=ridge_cv.alpha_)]\n",
    "pipe = make_pipeline(*estimators)\n",
    "\n",
    "score, permutation_scores, pvalue = permutation_test_score(\n",
    "    pipe, X_cv, y_cv, cv=RKF_10_10, scoring=unimetric_scorer, n_permutations=N_PERM, n_jobs=-1)\n",
    "\n",
    "print(f'ridge_{population}_{selected_target}_{age_group}')\n",
    "print(f'Alpha: {ridge_cv.alpha_} | Score: {score:.2f} | p-value: {pvalue:.4f}')"
   ]
  },
  {
   "cell_type": "markdown",
   "metadata": {},
   "source": [
    "## Run for all targets, all age bins"
   ]
  },
  {
   "cell_type": "markdown",
   "metadata": {},
   "source": [
    "### Run cross-validation"
   ]
  },
  {
   "cell_type": "code",
   "execution_count": 7,
   "metadata": {
    "collapsed": true,
    "jupyter": {
     "outputs_hidden": true,
     "source_hidden": true
    },
    "tags": []
   },
   "outputs": [
    {
     "name": "stdout",
     "output_type": "stream",
     "text": [
      "{'Model': 'ridge', 'Population': 'adhd', 'Target': 'WISC_FSIQ', 'Bin': 'All', 'Alpha': 9901, 'Score': 0.36910554168069853}\n",
      "{'Model': 'ridge', 'Population': 'adhd', 'Target': 'WISC_FSIQ', 'Bin': 'Bin 1', 'Alpha': 701, 'Score': 0.24778802757505097}\n",
      "{'Model': 'ridge', 'Population': 'adhd', 'Target': 'WISC_FSIQ', 'Bin': 'Bin 2', 'Alpha': 5701, 'Score': 0.36502722986346225}\n",
      "{'Model': 'ridge', 'Population': 'adhd', 'Target': 'WISC_FSIQ', 'Bin': 'Bin 3', 'Alpha': 1, 'Score': 0.02766147878360124}\n",
      "{'Model': 'ridge', 'Population': 'adhd', 'Target': 'WISC_VSI', 'Bin': 'All', 'Alpha': 9901, 'Score': 0.3151424089085968}\n",
      "{'Model': 'ridge', 'Population': 'adhd', 'Target': 'WISC_VSI', 'Bin': 'Bin 1', 'Alpha': 9901, 'Score': 0.2598592407424288}\n",
      "{'Model': 'ridge', 'Population': 'adhd', 'Target': 'WISC_VSI', 'Bin': 'Bin 2', 'Alpha': 9901, 'Score': 0.20023374407887976}\n",
      "{'Model': 'ridge', 'Population': 'adhd', 'Target': 'WISC_VSI', 'Bin': 'Bin 3', 'Alpha': 9901, 'Score': 0.0921244342664529}\n",
      "{'Model': 'ridge', 'Population': 'adhd', 'Target': 'WISC_VCI', 'Bin': 'All', 'Alpha': 9601, 'Score': 0.3845102239386485}\n",
      "{'Model': 'ridge', 'Population': 'adhd', 'Target': 'WISC_VCI', 'Bin': 'Bin 1', 'Alpha': 1, 'Score': 0.19929130181074023}\n",
      "{'Model': 'ridge', 'Population': 'adhd', 'Target': 'WISC_VCI', 'Bin': 'Bin 2', 'Alpha': 9901, 'Score': 0.35512514993490024}\n",
      "{'Model': 'ridge', 'Population': 'adhd', 'Target': 'WISC_VCI', 'Bin': 'Bin 3', 'Alpha': 7101, 'Score': 0.021182259880014723}\n",
      "{'Model': 'ridge', 'Population': 'adhd', 'Target': 'WISC_FRI', 'Bin': 'All', 'Alpha': 9901, 'Score': 0.30041265258993544}\n",
      "{'Model': 'ridge', 'Population': 'adhd', 'Target': 'WISC_FRI', 'Bin': 'Bin 1', 'Alpha': 2301, 'Score': 0.04404907805462227}\n",
      "{'Model': 'ridge', 'Population': 'adhd', 'Target': 'WISC_FRI', 'Bin': 'Bin 2', 'Alpha': 8401, 'Score': 0.29406667257458624}\n",
      "{'Model': 'ridge', 'Population': 'adhd', 'Target': 'WISC_FRI', 'Bin': 'Bin 3', 'Alpha': 1, 'Score': 0.024473071695862325}\n",
      "{'Model': 'ridge', 'Population': 'adhd', 'Target': 'WISC_WMI', 'Bin': 'All', 'Alpha': 5501, 'Score': 0.2114898400443172}\n",
      "{'Model': 'ridge', 'Population': 'adhd', 'Target': 'WISC_WMI', 'Bin': 'Bin 1', 'Alpha': 1, 'Score': 0.058198318228497595}\n",
      "{'Model': 'ridge', 'Population': 'adhd', 'Target': 'WISC_WMI', 'Bin': 'Bin 2', 'Alpha': 4401, 'Score': 0.28544317265317903}\n",
      "{'Model': 'ridge', 'Population': 'adhd', 'Target': 'WISC_WMI', 'Bin': 'Bin 3', 'Alpha': 9901, 'Score': 0.12103907222668658}\n",
      "{'Model': 'ridge', 'Population': 'adhd', 'Target': 'WISC_PSI', 'Bin': 'All', 'Alpha': 9901, 'Score': 0.043462297810329335}\n",
      "{'Model': 'ridge', 'Population': 'adhd', 'Target': 'WISC_PSI', 'Bin': 'Bin 1', 'Alpha': 9901, 'Score': -0.09779885244226959}\n",
      "{'Model': 'ridge', 'Population': 'adhd', 'Target': 'WISC_PSI', 'Bin': 'Bin 2', 'Alpha': 4401, 'Score': 0.05145565237288685}\n",
      "{'Model': 'ridge', 'Population': 'adhd', 'Target': 'WISC_PSI', 'Bin': 'Bin 3', 'Alpha': 1, 'Score': 0.06369463599892994}\n"
     ]
    },
    {
     "data": {
      "text/html": [
       "<div>\n",
       "<style scoped>\n",
       "    .dataframe tbody tr th:only-of-type {\n",
       "        vertical-align: middle;\n",
       "    }\n",
       "\n",
       "    .dataframe tbody tr th {\n",
       "        vertical-align: top;\n",
       "    }\n",
       "\n",
       "    .dataframe thead th {\n",
       "        text-align: right;\n",
       "    }\n",
       "</style>\n",
       "<table border=\"1\" class=\"dataframe\">\n",
       "  <thead>\n",
       "    <tr style=\"text-align: right;\">\n",
       "      <th></th>\n",
       "      <th>Model</th>\n",
       "      <th>Population</th>\n",
       "      <th>Target</th>\n",
       "      <th>Bin</th>\n",
       "      <th>Alpha</th>\n",
       "      <th>Score</th>\n",
       "    </tr>\n",
       "  </thead>\n",
       "  <tbody>\n",
       "    <tr>\n",
       "      <th>0</th>\n",
       "      <td>ridge</td>\n",
       "      <td>adhd</td>\n",
       "      <td>WISC_FSIQ</td>\n",
       "      <td>All</td>\n",
       "      <td>9901</td>\n",
       "      <td>0.3691</td>\n",
       "    </tr>\n",
       "    <tr>\n",
       "      <th>1</th>\n",
       "      <td>ridge</td>\n",
       "      <td>adhd</td>\n",
       "      <td>WISC_FSIQ</td>\n",
       "      <td>Bin 1</td>\n",
       "      <td>701</td>\n",
       "      <td>0.2478</td>\n",
       "    </tr>\n",
       "    <tr>\n",
       "      <th>2</th>\n",
       "      <td>ridge</td>\n",
       "      <td>adhd</td>\n",
       "      <td>WISC_FSIQ</td>\n",
       "      <td>Bin 2</td>\n",
       "      <td>5701</td>\n",
       "      <td>0.3650</td>\n",
       "    </tr>\n",
       "    <tr>\n",
       "      <th>3</th>\n",
       "      <td>ridge</td>\n",
       "      <td>adhd</td>\n",
       "      <td>WISC_FSIQ</td>\n",
       "      <td>Bin 3</td>\n",
       "      <td>1</td>\n",
       "      <td>0.0277</td>\n",
       "    </tr>\n",
       "    <tr>\n",
       "      <th>4</th>\n",
       "      <td>ridge</td>\n",
       "      <td>adhd</td>\n",
       "      <td>WISC_VSI</td>\n",
       "      <td>All</td>\n",
       "      <td>9901</td>\n",
       "      <td>0.3151</td>\n",
       "    </tr>\n",
       "    <tr>\n",
       "      <th>5</th>\n",
       "      <td>ridge</td>\n",
       "      <td>adhd</td>\n",
       "      <td>WISC_VSI</td>\n",
       "      <td>Bin 1</td>\n",
       "      <td>9901</td>\n",
       "      <td>0.2599</td>\n",
       "    </tr>\n",
       "    <tr>\n",
       "      <th>6</th>\n",
       "      <td>ridge</td>\n",
       "      <td>adhd</td>\n",
       "      <td>WISC_VSI</td>\n",
       "      <td>Bin 2</td>\n",
       "      <td>9901</td>\n",
       "      <td>0.2002</td>\n",
       "    </tr>\n",
       "    <tr>\n",
       "      <th>7</th>\n",
       "      <td>ridge</td>\n",
       "      <td>adhd</td>\n",
       "      <td>WISC_VSI</td>\n",
       "      <td>Bin 3</td>\n",
       "      <td>9901</td>\n",
       "      <td>0.0921</td>\n",
       "    </tr>\n",
       "    <tr>\n",
       "      <th>8</th>\n",
       "      <td>ridge</td>\n",
       "      <td>adhd</td>\n",
       "      <td>WISC_VCI</td>\n",
       "      <td>All</td>\n",
       "      <td>9601</td>\n",
       "      <td>0.3845</td>\n",
       "    </tr>\n",
       "    <tr>\n",
       "      <th>9</th>\n",
       "      <td>ridge</td>\n",
       "      <td>adhd</td>\n",
       "      <td>WISC_VCI</td>\n",
       "      <td>Bin 1</td>\n",
       "      <td>1</td>\n",
       "      <td>0.1993</td>\n",
       "    </tr>\n",
       "    <tr>\n",
       "      <th>10</th>\n",
       "      <td>ridge</td>\n",
       "      <td>adhd</td>\n",
       "      <td>WISC_VCI</td>\n",
       "      <td>Bin 2</td>\n",
       "      <td>9901</td>\n",
       "      <td>0.3551</td>\n",
       "    </tr>\n",
       "    <tr>\n",
       "      <th>11</th>\n",
       "      <td>ridge</td>\n",
       "      <td>adhd</td>\n",
       "      <td>WISC_VCI</td>\n",
       "      <td>Bin 3</td>\n",
       "      <td>7101</td>\n",
       "      <td>0.0212</td>\n",
       "    </tr>\n",
       "    <tr>\n",
       "      <th>12</th>\n",
       "      <td>ridge</td>\n",
       "      <td>adhd</td>\n",
       "      <td>WISC_FRI</td>\n",
       "      <td>All</td>\n",
       "      <td>9901</td>\n",
       "      <td>0.3004</td>\n",
       "    </tr>\n",
       "    <tr>\n",
       "      <th>13</th>\n",
       "      <td>ridge</td>\n",
       "      <td>adhd</td>\n",
       "      <td>WISC_FRI</td>\n",
       "      <td>Bin 1</td>\n",
       "      <td>2301</td>\n",
       "      <td>0.0440</td>\n",
       "    </tr>\n",
       "    <tr>\n",
       "      <th>14</th>\n",
       "      <td>ridge</td>\n",
       "      <td>adhd</td>\n",
       "      <td>WISC_FRI</td>\n",
       "      <td>Bin 2</td>\n",
       "      <td>8401</td>\n",
       "      <td>0.2941</td>\n",
       "    </tr>\n",
       "    <tr>\n",
       "      <th>15</th>\n",
       "      <td>ridge</td>\n",
       "      <td>adhd</td>\n",
       "      <td>WISC_FRI</td>\n",
       "      <td>Bin 3</td>\n",
       "      <td>1</td>\n",
       "      <td>0.0245</td>\n",
       "    </tr>\n",
       "    <tr>\n",
       "      <th>16</th>\n",
       "      <td>ridge</td>\n",
       "      <td>adhd</td>\n",
       "      <td>WISC_WMI</td>\n",
       "      <td>All</td>\n",
       "      <td>5501</td>\n",
       "      <td>0.2115</td>\n",
       "    </tr>\n",
       "    <tr>\n",
       "      <th>17</th>\n",
       "      <td>ridge</td>\n",
       "      <td>adhd</td>\n",
       "      <td>WISC_WMI</td>\n",
       "      <td>Bin 1</td>\n",
       "      <td>1</td>\n",
       "      <td>0.0582</td>\n",
       "    </tr>\n",
       "    <tr>\n",
       "      <th>18</th>\n",
       "      <td>ridge</td>\n",
       "      <td>adhd</td>\n",
       "      <td>WISC_WMI</td>\n",
       "      <td>Bin 2</td>\n",
       "      <td>4401</td>\n",
       "      <td>0.2854</td>\n",
       "    </tr>\n",
       "    <tr>\n",
       "      <th>19</th>\n",
       "      <td>ridge</td>\n",
       "      <td>adhd</td>\n",
       "      <td>WISC_WMI</td>\n",
       "      <td>Bin 3</td>\n",
       "      <td>9901</td>\n",
       "      <td>0.1210</td>\n",
       "    </tr>\n",
       "    <tr>\n",
       "      <th>20</th>\n",
       "      <td>ridge</td>\n",
       "      <td>adhd</td>\n",
       "      <td>WISC_PSI</td>\n",
       "      <td>All</td>\n",
       "      <td>9901</td>\n",
       "      <td>0.0435</td>\n",
       "    </tr>\n",
       "    <tr>\n",
       "      <th>21</th>\n",
       "      <td>ridge</td>\n",
       "      <td>adhd</td>\n",
       "      <td>WISC_PSI</td>\n",
       "      <td>Bin 1</td>\n",
       "      <td>9901</td>\n",
       "      <td>-0.0978</td>\n",
       "    </tr>\n",
       "    <tr>\n",
       "      <th>22</th>\n",
       "      <td>ridge</td>\n",
       "      <td>adhd</td>\n",
       "      <td>WISC_PSI</td>\n",
       "      <td>Bin 2</td>\n",
       "      <td>4401</td>\n",
       "      <td>0.0515</td>\n",
       "    </tr>\n",
       "    <tr>\n",
       "      <th>23</th>\n",
       "      <td>ridge</td>\n",
       "      <td>adhd</td>\n",
       "      <td>WISC_PSI</td>\n",
       "      <td>Bin 3</td>\n",
       "      <td>1</td>\n",
       "      <td>0.0637</td>\n",
       "    </tr>\n",
       "  </tbody>\n",
       "</table>\n",
       "</div>"
      ],
      "text/plain": [
       "    Model Population     Target    Bin  Alpha   Score\n",
       "0   ridge       adhd  WISC_FSIQ    All   9901  0.3691\n",
       "1   ridge       adhd  WISC_FSIQ  Bin 1    701  0.2478\n",
       "2   ridge       adhd  WISC_FSIQ  Bin 2   5701  0.3650\n",
       "3   ridge       adhd  WISC_FSIQ  Bin 3      1  0.0277\n",
       "4   ridge       adhd   WISC_VSI    All   9901  0.3151\n",
       "5   ridge       adhd   WISC_VSI  Bin 1   9901  0.2599\n",
       "6   ridge       adhd   WISC_VSI  Bin 2   9901  0.2002\n",
       "7   ridge       adhd   WISC_VSI  Bin 3   9901  0.0921\n",
       "8   ridge       adhd   WISC_VCI    All   9601  0.3845\n",
       "9   ridge       adhd   WISC_VCI  Bin 1      1  0.1993\n",
       "10  ridge       adhd   WISC_VCI  Bin 2   9901  0.3551\n",
       "11  ridge       adhd   WISC_VCI  Bin 3   7101  0.0212\n",
       "12  ridge       adhd   WISC_FRI    All   9901  0.3004\n",
       "13  ridge       adhd   WISC_FRI  Bin 1   2301  0.0440\n",
       "14  ridge       adhd   WISC_FRI  Bin 2   8401  0.2941\n",
       "15  ridge       adhd   WISC_FRI  Bin 3      1  0.0245\n",
       "16  ridge       adhd   WISC_WMI    All   5501  0.2115\n",
       "17  ridge       adhd   WISC_WMI  Bin 1      1  0.0582\n",
       "18  ridge       adhd   WISC_WMI  Bin 2   4401  0.2854\n",
       "19  ridge       adhd   WISC_WMI  Bin 3   9901  0.1210\n",
       "20  ridge       adhd   WISC_PSI    All   9901  0.0435\n",
       "21  ridge       adhd   WISC_PSI  Bin 1   9901 -0.0978\n",
       "22  ridge       adhd   WISC_PSI  Bin 2   4401  0.0515\n",
       "23  ridge       adhd   WISC_PSI  Bin 3      1  0.0637"
      ]
     },
     "metadata": {},
     "output_type": "display_data"
    },
    {
     "name": "stdout",
     "output_type": "stream",
     "text": [
      "CPU times: user 15.9 s, sys: 3.69 s, total: 19.6 s\n",
      "Wall time: 1min 28s\n"
     ]
    }
   ],
   "source": [
    "%%time\n",
    "from os.path import join\n",
    "from common.binning import bin_data\n",
    "from common.wisc import FSIQ, PRIMARY_INDICES\n",
    "from common.paths import RIDGE_WEIGHTS, RIDGE_RESULTS\n",
    "\n",
    "results = []\n",
    "targets = FSIQ + PRIMARY_INDICES\n",
    "alphas = {\n",
    "    'WISC_FSIQ': {\"All\": 9901, \"Bin 1\": 701, \"Bin 2\": 5701, \"Bin 3\": 1 },\n",
    "    'WISC_VSI': {\"All\": 9901, \"Bin 1\": 9901, \"Bin 2\": 9901, \"Bin 3\": 9901 },\n",
    "    'WISC_VCI': {\"All\": 9601, \"Bin 1\": 1, \"Bin 2\": 9901, \"Bin 3\": 7101 },\n",
    "    'WISC_FRI': {\"All\": 9901, \"Bin 1\": 2301, \"Bin 2\": 8401, \"Bin 3\": 1 },\n",
    "    'WISC_WMI': {\"All\": 5501, \"Bin 1\": 1, \"Bin 2\": 4401, \"Bin 3\": 9901 },\n",
    "    'WISC_PSI': {\"All\": 9901, \"Bin 1\": 9901, \"Bin 2\": 4401, \"Bin 3\": 1 },\n",
    "}\n",
    "\n",
    "for target in targets:\n",
    "    y = Y[target]\n",
    "    X_all, y_all, bin_labels = bin_data(X, y, ages, include_all=True)\n",
    "    \n",
    "    for X_cv, y_cv, bin_label in zip(X_all, y_all, bin_labels):\n",
    "        # Find best alpha\n",
    "        best_alpha = alphas[target][bin_label]\n",
    "        \n",
    "        # Do cross-validation\n",
    "        estimators = [StandardScaler(), Ridge(alpha=best_alpha)]\n",
    "        pipe = make_pipeline(*estimators)\n",
    "        \n",
    "        scores = cross_validate(pipe, X_cv, y_cv, cv=RKF_10_10, \n",
    "                                scoring=unimetric_scorer, n_jobs=-1, \n",
    "                                return_train_score=False, \n",
    "                                return_estimator=True)\n",
    "        coefs = np.array([estimator['ridge'].coef_ for estimator in scores['estimator']])\n",
    "        avg_coef = np.mean(coefs, axis=0)\n",
    "        intercepts = np.array([estimator['ridge'].intercept_ for estimator in scores['estimator']])\n",
    "        avg_inte = np.mean(intercepts, axis=0)\n",
    "        \n",
    "        results.append({    \n",
    "            'Model': 'ridge',\n",
    "            'Population': population,\n",
    "            'Target': target,\n",
    "            'Bin': bin_label,\n",
    "            'Alpha': best_alpha,\n",
    "            'Score': np.mean(scores['test_score']),\n",
    "        })\n",
    "        print(results[-1])\n",
    "        \n",
    "        coef_fn = f'ridge_{population}_{target}_{bin_label}_coef.npy'\n",
    "        inte_fn = f'ridge_{population}_{target}_{bin_label}_inte.npy'\n",
    "        np.save(join(RIDGE_WEIGHTS, coef_fn), avg_coef)\n",
    "        np.save(join(RIDGE_WEIGHTS, inte_fn), avg_inte)\n",
    "\n",
    "results_df = pd.DataFrame(results)\n",
    "display(results_df.round(4))\n",
    "filename = f'ridge_cv_{population}.csv'\n",
    "results_df.to_csv(join(RIDGE_RESULTS, filename))"
   ]
  },
  {
   "cell_type": "markdown",
   "metadata": {},
   "source": [
    "### Run permutation test statistic (pts)"
   ]
  },
  {
   "cell_type": "code",
   "execution_count": 15,
   "metadata": {},
   "outputs": [
    {
     "name": "stdout",
     "output_type": "stream",
     "text": [
      "{'Model': 'ridge', 'Population': 'healthy', 'Target': 'WISC_FSIQ', 'Bin': 'All', 'Alpha': 1, 'Score': 0.056158398861479206, 'P-value': 0.3592814371257485}\n",
      "{'Model': 'ridge', 'Population': 'healthy', 'Target': 'WISC_VSI', 'Bin': 'All', 'Alpha': 1, 'Score': 0.09355815211336732, 'P-value': 0.2634730538922156}\n",
      "{'Model': 'ridge', 'Population': 'healthy', 'Target': 'WISC_VCI', 'Bin': 'All', 'Alpha': 9901, 'Score': 0.1772457009495313, 'P-value': 0.06387225548902195}\n",
      "{'Model': 'ridge', 'Population': 'healthy', 'Target': 'WISC_FRI', 'Bin': 'All', 'Alpha': 1, 'Score': -0.0836380057492299, 'P-value': 0.7784431137724551}\n",
      "{'Model': 'ridge', 'Population': 'healthy', 'Target': 'WISC_WMI', 'Bin': 'All', 'Alpha': 9901, 'Score': 0.13207730839703768, 'P-value': 0.16966067864271456}\n",
      "{'Model': 'ridge', 'Population': 'healthy', 'Target': 'WISC_PSI', 'Bin': 'All', 'Alpha': 1, 'Score': -0.01748252351756768, 'P-value': 0.5828343313373253}\n"
     ]
    },
    {
     "data": {
      "text/html": [
       "<div>\n",
       "<style scoped>\n",
       "    .dataframe tbody tr th:only-of-type {\n",
       "        vertical-align: middle;\n",
       "    }\n",
       "\n",
       "    .dataframe tbody tr th {\n",
       "        vertical-align: top;\n",
       "    }\n",
       "\n",
       "    .dataframe thead th {\n",
       "        text-align: right;\n",
       "    }\n",
       "</style>\n",
       "<table border=\"1\" class=\"dataframe\">\n",
       "  <thead>\n",
       "    <tr style=\"text-align: right;\">\n",
       "      <th></th>\n",
       "      <th>Model</th>\n",
       "      <th>Population</th>\n",
       "      <th>Target</th>\n",
       "      <th>Bin</th>\n",
       "      <th>Alpha</th>\n",
       "      <th>Score</th>\n",
       "      <th>P-value</th>\n",
       "    </tr>\n",
       "  </thead>\n",
       "  <tbody>\n",
       "    <tr>\n",
       "      <th>0</th>\n",
       "      <td>ridge</td>\n",
       "      <td>healthy</td>\n",
       "      <td>WISC_FSIQ</td>\n",
       "      <td>All</td>\n",
       "      <td>1</td>\n",
       "      <td>0.0562</td>\n",
       "      <td>0.3593</td>\n",
       "    </tr>\n",
       "    <tr>\n",
       "      <th>1</th>\n",
       "      <td>ridge</td>\n",
       "      <td>healthy</td>\n",
       "      <td>WISC_VSI</td>\n",
       "      <td>All</td>\n",
       "      <td>1</td>\n",
       "      <td>0.0936</td>\n",
       "      <td>0.2635</td>\n",
       "    </tr>\n",
       "    <tr>\n",
       "      <th>2</th>\n",
       "      <td>ridge</td>\n",
       "      <td>healthy</td>\n",
       "      <td>WISC_VCI</td>\n",
       "      <td>All</td>\n",
       "      <td>9901</td>\n",
       "      <td>0.1772</td>\n",
       "      <td>0.0639</td>\n",
       "    </tr>\n",
       "    <tr>\n",
       "      <th>3</th>\n",
       "      <td>ridge</td>\n",
       "      <td>healthy</td>\n",
       "      <td>WISC_FRI</td>\n",
       "      <td>All</td>\n",
       "      <td>1</td>\n",
       "      <td>-0.0836</td>\n",
       "      <td>0.7784</td>\n",
       "    </tr>\n",
       "    <tr>\n",
       "      <th>4</th>\n",
       "      <td>ridge</td>\n",
       "      <td>healthy</td>\n",
       "      <td>WISC_WMI</td>\n",
       "      <td>All</td>\n",
       "      <td>9901</td>\n",
       "      <td>0.1321</td>\n",
       "      <td>0.1697</td>\n",
       "    </tr>\n",
       "    <tr>\n",
       "      <th>5</th>\n",
       "      <td>ridge</td>\n",
       "      <td>healthy</td>\n",
       "      <td>WISC_PSI</td>\n",
       "      <td>All</td>\n",
       "      <td>1</td>\n",
       "      <td>-0.0175</td>\n",
       "      <td>0.5828</td>\n",
       "    </tr>\n",
       "  </tbody>\n",
       "</table>\n",
       "</div>"
      ],
      "text/plain": [
       "   Model Population     Target  Bin  Alpha   Score  P-value\n",
       "0  ridge    healthy  WISC_FSIQ  All      1  0.0562   0.3593\n",
       "1  ridge    healthy   WISC_VSI  All      1  0.0936   0.2635\n",
       "2  ridge    healthy   WISC_VCI  All   9901  0.1772   0.0639\n",
       "3  ridge    healthy   WISC_FRI  All      1 -0.0836   0.7784\n",
       "4  ridge    healthy   WISC_WMI  All   9901  0.1321   0.1697\n",
       "5  ridge    healthy   WISC_PSI  All      1 -0.0175   0.5828"
      ]
     },
     "metadata": {},
     "output_type": "display_data"
    },
    {
     "name": "stdout",
     "output_type": "stream",
     "text": [
      "CPU times: user 3h 33min 1s, sys: 7min 41s, total: 3h 40min 42s\n",
      "Wall time: 2h 23min 18s\n"
     ]
    },
    {
     "data": {
      "text/plain": [
       "'/home/bpho/Documents/MSc_Research-Project/scratch_data/model_results/Ridge/ridge_pts_healthy.csv.csv'"
      ]
     },
     "execution_count": 15,
     "metadata": {},
     "output_type": "execute_result"
    }
   ],
   "source": [
    "%%time\n",
    "from common.binning import bin_data\n",
    "from common.wisc import WISC_LEVEL\n",
    "from common.paths import RIDGE_RESULTS, RIDGE_PSCORES\n",
    "from common.results import save_results, save_perm_score\n",
    "\n",
    "results = []\n",
    "targets = WISC_LEVEL[5]\n",
    "\n",
    "for target in targets:\n",
    "    y = Y[target]\n",
    "    X_bins, y_bins, bin_labels = bin_data(X, y, None)\n",
    "    \n",
    "    for X_cv, y_cv, bin_label in zip(X_bins, y_bins, bin_labels):\n",
    "        # Find best alpha\n",
    "        estimators = [StandardScaler(), RidgeCV(alphas=[a for a in range(1, 10000, 100)], \n",
    "                                        scoring=unimetric_scorer, cv=RKF_10_10)]\n",
    "        pipe = make_pipeline(*estimators).fit(X_cv, y_cv)\n",
    "        ridge_cv = pipe['ridgecv']\n",
    "        \n",
    "        # Do permutation test\n",
    "        estimators = [Ridge(alpha=ridge_cv.alpha_)]\n",
    "        pipe = make_pipeline(*estimators)\n",
    "        \n",
    "        score, permutation_scores, pvalue = permutation_test_score(\n",
    "            pipe, X_cv, y_cv, cv=RKF_10_10, scoring=unimetric_scorer, n_permutations=N_PERM, \n",
    "            n_jobs=-1)\n",
    "        results.append({    \n",
    "            'Model': 'ridge',\n",
    "            'Population': population,\n",
    "            'Target': target,\n",
    "            'Bin': bin_label,\n",
    "            'Alpha': ridge_cv.alpha_,\n",
    "            'Score': score,\n",
    "            'P-value': pvalue,\n",
    "        })\n",
    "        print(results[-1])\n",
    "        save_perm_score(permutation_scores, f'ridge_{population}_{target}_{bin_label}_perm_scores', RIDGE_PSCORES)\n",
    "\n",
    "results_df = pd.DataFrame(results)\n",
    "display(results_df.round(4))"
   ]
  },
  {
   "cell_type": "code",
   "execution_count": null,
   "metadata": {},
   "outputs": [],
   "source": [
    "filename = f'ridge_pts_{population}.csv'\n",
    "save_results(results_df, filename, RIDGE_RESULTS)"
   ]
  },
  {
   "cell_type": "markdown",
   "metadata": {},
   "source": [
    "### Run permutation test statistic (pts) with equal sample size"
   ]
  },
  {
   "cell_type": "code",
   "execution_count": 8,
   "metadata": {},
   "outputs": [
    {
     "name": "stdout",
     "output_type": "stream",
     "text": [
      "{'Model': 'ridge', 'Population': 'adhd', 'Target': 'WISC_FSIQ', 'Bin': 'Bin 2 Equal', 'Alpha': 9901, 'Score': 0.37268582592832233, 'P-value': 0.001996007984031936}\n",
      "{'Model': 'ridge', 'Population': 'adhd', 'Target': 'WISC_VSI', 'Bin': 'Bin 2 Equal', 'Alpha': 9901, 'Score': 0.27402582973158046, 'P-value': 0.00998003992015968}\n",
      "{'Model': 'ridge', 'Population': 'adhd', 'Target': 'WISC_VCI', 'Bin': 'Bin 2 Equal', 'Alpha': 6901, 'Score': 0.36517093118210603, 'P-value': 0.001996007984031936}\n",
      "{'Model': 'ridge', 'Population': 'adhd', 'Target': 'WISC_FRI', 'Bin': 'Bin 2 Equal', 'Alpha': 9201, 'Score': 0.30226867233259, 'P-value': 0.005988023952095809}\n",
      "{'Model': 'ridge', 'Population': 'adhd', 'Target': 'WISC_WMI', 'Bin': 'Bin 2 Equal', 'Alpha': 9901, 'Score': 0.34980147754878743, 'P-value': 0.001996007984031936}\n",
      "{'Model': 'ridge', 'Population': 'adhd', 'Target': 'WISC_PSI', 'Bin': 'Bin 2 Equal', 'Alpha': 9901, 'Score': 0.04161685374305273, 'P-value': 0.3772455089820359}\n"
     ]
    },
    {
     "data": {
      "text/html": [
       "<div>\n",
       "<style scoped>\n",
       "    .dataframe tbody tr th:only-of-type {\n",
       "        vertical-align: middle;\n",
       "    }\n",
       "\n",
       "    .dataframe tbody tr th {\n",
       "        vertical-align: top;\n",
       "    }\n",
       "\n",
       "    .dataframe thead th {\n",
       "        text-align: right;\n",
       "    }\n",
       "</style>\n",
       "<table border=\"1\" class=\"dataframe\">\n",
       "  <thead>\n",
       "    <tr style=\"text-align: right;\">\n",
       "      <th></th>\n",
       "      <th>Model</th>\n",
       "      <th>Population</th>\n",
       "      <th>Target</th>\n",
       "      <th>Bin</th>\n",
       "      <th>Alpha</th>\n",
       "      <th>Score</th>\n",
       "      <th>P-value</th>\n",
       "    </tr>\n",
       "  </thead>\n",
       "  <tbody>\n",
       "    <tr>\n",
       "      <th>0</th>\n",
       "      <td>ridge</td>\n",
       "      <td>adhd</td>\n",
       "      <td>WISC_FSIQ</td>\n",
       "      <td>Bin 2 Equal</td>\n",
       "      <td>9901</td>\n",
       "      <td>0.3727</td>\n",
       "      <td>0.0020</td>\n",
       "    </tr>\n",
       "    <tr>\n",
       "      <th>1</th>\n",
       "      <td>ridge</td>\n",
       "      <td>adhd</td>\n",
       "      <td>WISC_VSI</td>\n",
       "      <td>Bin 2 Equal</td>\n",
       "      <td>9901</td>\n",
       "      <td>0.2740</td>\n",
       "      <td>0.0100</td>\n",
       "    </tr>\n",
       "    <tr>\n",
       "      <th>2</th>\n",
       "      <td>ridge</td>\n",
       "      <td>adhd</td>\n",
       "      <td>WISC_VCI</td>\n",
       "      <td>Bin 2 Equal</td>\n",
       "      <td>6901</td>\n",
       "      <td>0.3652</td>\n",
       "      <td>0.0020</td>\n",
       "    </tr>\n",
       "    <tr>\n",
       "      <th>3</th>\n",
       "      <td>ridge</td>\n",
       "      <td>adhd</td>\n",
       "      <td>WISC_FRI</td>\n",
       "      <td>Bin 2 Equal</td>\n",
       "      <td>9201</td>\n",
       "      <td>0.3023</td>\n",
       "      <td>0.0060</td>\n",
       "    </tr>\n",
       "    <tr>\n",
       "      <th>4</th>\n",
       "      <td>ridge</td>\n",
       "      <td>adhd</td>\n",
       "      <td>WISC_WMI</td>\n",
       "      <td>Bin 2 Equal</td>\n",
       "      <td>9901</td>\n",
       "      <td>0.3498</td>\n",
       "      <td>0.0020</td>\n",
       "    </tr>\n",
       "    <tr>\n",
       "      <th>5</th>\n",
       "      <td>ridge</td>\n",
       "      <td>adhd</td>\n",
       "      <td>WISC_PSI</td>\n",
       "      <td>Bin 2 Equal</td>\n",
       "      <td>9901</td>\n",
       "      <td>0.0416</td>\n",
       "      <td>0.3772</td>\n",
       "    </tr>\n",
       "  </tbody>\n",
       "</table>\n",
       "</div>"
      ],
      "text/plain": [
       "   Model Population     Target          Bin  Alpha   Score  P-value\n",
       "0  ridge       adhd  WISC_FSIQ  Bin 2 Equal   9901  0.3727   0.0020\n",
       "1  ridge       adhd   WISC_VSI  Bin 2 Equal   9901  0.2740   0.0100\n",
       "2  ridge       adhd   WISC_VCI  Bin 2 Equal   6901  0.3652   0.0020\n",
       "3  ridge       adhd   WISC_FRI  Bin 2 Equal   9201  0.3023   0.0060\n",
       "4  ridge       adhd   WISC_WMI  Bin 2 Equal   9901  0.3498   0.0020\n",
       "5  ridge       adhd   WISC_PSI  Bin 2 Equal   9901  0.0416   0.3772"
      ]
     },
     "metadata": {},
     "output_type": "display_data"
    },
    {
     "name": "stdout",
     "output_type": "stream",
     "text": [
      "CPU times: user 1h 59min 45s, sys: 1min 46s, total: 2h 1min 32s\n",
      "Wall time: 1h 16min 48s\n"
     ]
    }
   ],
   "source": [
    "%%time\n",
    "from os.path import join\n",
    "from common.binning import bin_data\n",
    "from common.wisc import WISC_LEVEL\n",
    "from common.paths import RIDGE_RESULTS, RIDGE_PSCORES\n",
    "from common.results import save_perm_score\n",
    "\n",
    "results = []\n",
    "targets = WISC_LEVEL[5]\n",
    "\n",
    "bin_label = 'Bin 2 Equal'\n",
    "bin_2_subsample_indices = np.random.choice(147, 113, replace=False)\n",
    "\n",
    "for target in targets:\n",
    "    y = Y[target]\n",
    "    X_bins, y_bins, bin_labels = bin_data(X, y, ages, False)\n",
    "    X_bin_2, y_bin_2 = X_bins[1][bin_2_subsample_indices], y_bins[1][bin_2_subsample_indices]\n",
    "        \n",
    "    # Find best alpha\n",
    "    estimators = [StandardScaler(), RidgeCV(alphas=[a for a in range(1, 10000, 100)], \n",
    "                                    scoring=unimetric_scorer, cv=RKF_10_10)]\n",
    "    pipe = make_pipeline(*estimators).fit(X_bin_2, y_bin_2)\n",
    "    ridge_cv_alpha = pipe['ridgecv'].alpha_\n",
    "\n",
    "    # Do permutation test\n",
    "    estimators = [StandardScaler(), Ridge(alpha=ridge_cv_alpha)]\n",
    "    pipe = make_pipeline(*estimators)\n",
    "\n",
    "    score, permutation_scores, pvalue = permutation_test_score(\n",
    "        pipe, X_bin_2, y_bin_2, cv=RKF_10_10, scoring=unimetric_scorer, n_permutations=N_PERM, \n",
    "        n_jobs=-1)\n",
    "    results.append({    \n",
    "        'Model': 'ridge',\n",
    "        'Population': population,\n",
    "        'Target': target,\n",
    "        'Bin': bin_label,\n",
    "        'Alpha': ridge_cv_alpha,\n",
    "        'Score': score,\n",
    "        'P-value': pvalue,\n",
    "    })\n",
    "    print(results[-1])\n",
    "    save_perm_score(permutation_scores, f'ridge_{population}_{target}_{bin_label}_perm_scores', RIDGE_PSCORES)\n",
    "        \n",
    "results_df = pd.DataFrame(results)\n",
    "display(results_df.round(4))"
   ]
  },
  {
   "cell_type": "code",
   "execution_count": null,
   "metadata": {},
   "outputs": [],
   "source": [
    "filename = f'ridge_pts_{population}_bin_two_equal_samples.csv'\n",
    "results_df.to_csv(join(RIDGE_RESULTS, filename))"
   ]
  },
  {
   "cell_type": "code",
   "execution_count": null,
   "metadata": {},
   "outputs": [],
   "source": []
  }
 ],
 "metadata": {
  "kernelspec": {
   "display_name": "venv",
   "language": "python",
   "name": "venv"
  },
  "language_info": {
   "codemirror_mode": {
    "name": "ipython",
    "version": 3
   },
   "file_extension": ".py",
   "mimetype": "text/x-python",
   "name": "python",
   "nbconvert_exporter": "python",
   "pygments_lexer": "ipython3",
   "version": "3.7.10"
  }
 },
 "nbformat": 4,
 "nbformat_minor": 4
}
