{
 "cells": [
  {
   "cell_type": "markdown",
   "metadata": {},
   "source": [
    "# Ridge"
   ]
  },
  {
   "cell_type": "code",
   "execution_count": 1,
   "metadata": {},
   "outputs": [],
   "source": [
    "import pandas as pd\n",
    "import numpy as np\n",
    "\n",
    "%load_ext autoreload\n",
    "%autoreload 2\n",
    "\n",
    "import matplotlib.pyplot as plt\n",
    "%matplotlib inline\n",
    "\n",
    "import seaborn as sns\n",
    "sns.set_theme(\n",
    "    context=\"paper\", \n",
    "    style=\"whitegrid\", \n",
    "    font_scale=1.2,\n",
    "    rc={'figure.figsize': (10, 10), 'figure.dpi': 300}\n",
    ")"
   ]
  },
  {
   "cell_type": "markdown",
   "metadata": {},
   "source": [
    "## Get Data"
   ]
  },
  {
   "cell_type": "code",
   "execution_count": 2,
   "metadata": {},
   "outputs": [
    {
     "name": "stdout",
     "output_type": "stream",
     "text": [
      "X: (390, 34716) | Y: 6 | Age: (390,) | Population: adhd\n"
     ]
    }
   ],
   "source": [
    "from common.data import get_data\n",
    "\n",
    "X, Y, demographics, population = get_data(wisc_level=5)\n",
    "ages = demographics['Age']\n",
    "\n",
    "print(f'X: {X.shape} | Y: {len(Y.keys())} | Age: {ages.shape} | Population: {population}')"
   ]
  },
  {
   "cell_type": "code",
   "execution_count": 3,
   "metadata": {},
   "outputs": [],
   "source": [
    "from scipy import stats\n",
    "from sklearn.linear_model import Ridge, RidgeCV\n",
    "from sklearn.model_selection import RepeatedKFold, cross_validate, permutation_test_score\n",
    "from sklearn.multioutput import MultiOutputRegressor\n",
    "from sklearn.preprocessing import StandardScaler\n",
    "from sklearn.pipeline import make_pipeline"
   ]
  },
  {
   "cell_type": "markdown",
   "metadata": {},
   "source": [
    "## Run for one target, one age bin"
   ]
  },
  {
   "cell_type": "code",
   "execution_count": 90,
   "metadata": {},
   "outputs": [
    {
     "name": "stdout",
     "output_type": "stream",
     "text": [
      "WISC_FSIQ: (390,)\n"
     ]
    }
   ],
   "source": [
    "selected_target = \"WISC_FSIQ\"\n",
    "y = Y[selected_target]\n",
    "\n",
    "print(f'{selected_target}: {y.shape}')"
   ]
  },
  {
   "cell_type": "code",
   "execution_count": 74,
   "metadata": {},
   "outputs": [
    {
     "name": "stdout",
     "output_type": "stream",
     "text": [
      "WISC_FSIQ: (390, 6)\n"
     ]
    }
   ],
   "source": [
    "from common.wisc import WISC_LEVEL\n",
    "\n",
    "y = np.array([Y[measure] for measure in WISC_LEVEL[5]]).T\n",
    "print(f'{selected_target}: {y.shape}')"
   ]
  },
  {
   "cell_type": "code",
   "execution_count": 91,
   "metadata": {},
   "outputs": [
    {
     "name": "stdout",
     "output_type": "stream",
     "text": [
      "Bin 1: (117, 34716) | Bin 2: (156, 34716) | Bin 3: (117, 34716)\n"
     ]
    }
   ],
   "source": [
    "from common.binning import bin_by_age\n",
    "\n",
    "bins = bin_by_age(X, y, ages, y)\n",
    "bin_1, bin_2, bin_3 = bins[0], bins[1], bins[2]\n",
    "print(f'Bin 1: {bin_1[0].shape} | Bin 2: {bin_2[0].shape} | Bin 3: {bin_3[0].shape}')"
   ]
  },
  {
   "cell_type": "markdown",
   "metadata": {},
   "source": [
    "### Set up the model pipeline, metrics, and cross-validation approach"
   ]
  },
  {
   "cell_type": "code",
   "execution_count": 79,
   "metadata": {},
   "outputs": [],
   "source": [
    "def regression_scorer(reg, X, y):\n",
    "    y_pred = reg.predict(X)\n",
    "    return stats.pearsonr(y, y_pred)[0]\n",
    "\n",
    "scoring = ['train_score', 'test_score']\n",
    "# rkf = RepeatedKFold(n_splits=10, n_repeats=10)\n",
    "rkf = RepeatedKFold(n_splits=10, n_repeats=1)\n",
    "n_perm = 3000"
   ]
  },
  {
   "cell_type": "code",
   "execution_count": 86,
   "metadata": {},
   "outputs": [
    {
     "name": "stdout",
     "output_type": "stream",
     "text": [
      "Target: WISC_FSIQ | Alpha: 5000 | Score: 0.38\n",
      "Target: WISC_VSI | Alpha: 5000 | Score: 0.25\n",
      "Target: WISC_VCI | Alpha: 5000 | Score: 0.39\n",
      "Target: WISC_FRI | Alpha: 5000 | Score: 0.26\n",
      "Target: WISC_WMI | Alpha: 5000 | Score: 0.20\n",
      "Target: WISC_PSI | Alpha: 5000 | Score: 0.10\n",
      "CPU times: user 36.5 s, sys: 1.32 s, total: 37.8 s\n",
      "Wall time: 4.01 s\n"
     ]
    }
   ],
   "source": [
    "%%time\n",
    "# X_cv = bin_1[0]\n",
    "# y_cv = bin_1[1]\n",
    "X_cv = X\n",
    "y_cv = y\n",
    "age_group = 'all'\n",
    "\n",
    "# [a for a in range(5000, 55000, 5000)]\n",
    "estimators = [StandardScaler(), MultiOutputRegressor(\n",
    "    RidgeCV(alphas=[5000], scoring=regression_scorer, cv=rkf))]\n",
    "pipe = make_pipeline(*estimators)\n",
    "pipe.fit(X_cv, y_cv)\n",
    "ridge_cvs = pipe['multioutputregressor'].estimators_\n",
    "\n",
    "for target, ridge_cv in zip(WISC_LEVEL[5], ridge_cvs):\n",
    "    print(f'Target: {target} | Alpha: {ridge_cv.alpha_} | Score: {ridge_cv.best_score_:.2f}')"
   ]
  },
  {
   "cell_type": "markdown",
   "metadata": {},
   "source": [
    "### Run cross-validation"
   ]
  },
  {
   "cell_type": "code",
   "execution_count": 37,
   "metadata": {},
   "outputs": [
    {
     "name": "stdout",
     "output_type": "stream",
     "text": [
      "ridge_healthy_WISC_FSIQ_all\n",
      "Avg train_score: 0.996\n",
      "Avg test_score: 0.129\n",
      "CPU times: user 2.33 s, sys: 333 ms, total: 2.66 s\n",
      "Wall time: 2.72 s\n"
     ]
    }
   ],
   "source": [
    "%%time\n",
    "estimators = [StandardScaler(), Ridge(alpha=)]\n",
    "pipe = make_pipeline(*estimators)\n",
    "\n",
    "scores = cross_validate(pipe, X_cv, y_cv, cv=rkf, scoring=regression_scorer, n_jobs=-1, \n",
    "                        return_train_score=True, return_estimator=True)\n",
    "\n",
    "coefs = np.array([estimator['ridge'].coef_ for estimator in scores['estimator']])\n",
    "avg_coef = np.mean(coefs, axis=0)\n",
    "intercepts = np.array([estimator['ridge'].intercept_ for estimator in scores['estimator']])\n",
    "avg_inte = np.mean(intercepts, axis=0)\n",
    "\n",
    "print(f'ridge_{population}_{selected_target}_{age_group}')\n",
    "for metric in scoring:\n",
    "    metric_values = scores[metric]\n",
    "    print(f'Avg {metric}: {np.mean(metric_values):.3f}')"
   ]
  },
  {
   "cell_type": "code",
   "execution_count": 38,
   "metadata": {},
   "outputs": [],
   "source": [
    "from os.path import join\n",
    "from common.paths import RIDGE_WEIGHTS\n",
    "\n",
    "coef_fn = f'ridge_{population}_{selected_target}_{age_group}_coef.npy'\n",
    "inte_fn = f'ridge_{population}_{selected_target}_{age_group}_inte.npy'\n",
    "\n",
    "np.save(join(RIDGE_WEIGHTS, coef_fn), avg_coef)\n",
    "np.save(join(RIDGE_WEIGHTS, inte_fn), avg_inte)"
   ]
  },
  {
   "cell_type": "markdown",
   "metadata": {},
   "source": [
    "### Transfer model weights"
   ]
  },
  {
   "cell_type": "code",
   "execution_count": null,
   "metadata": {},
   "outputs": [],
   "source": [
    "from os.path import join\n",
    "from common.paths import RIDGE_WEIGHTS\n",
    "\n",
    "weight_pop = 'adhd'\n",
    "weight_tar = 'WISC_FSIQ'\n",
    "weight_age = 'all'\n",
    "coef_fn = f'ridge_{weight_pop}_{weight_tar}_{weight_age}_coef.npy'\n",
    "inte_fn = f'ridge_{weight_pop}_{weight_tar}_{weight_age}_inte.npy'\n",
    "\n",
    "alpha = 5000\n",
    "intercept = 108.534744\n",
    "\n",
    "ridge = Ridge(alpha=alpha)\n",
    "ridge.coef_ = np.load(join(RIDGE_WEIGHTS, coef_fn))\n",
    "ridge.intercept_ = np.load(join(RIDGE_WEIGHTS, inte_fn))\n",
    "\n",
    "print('Score:', regression_scorer(ridge, X, y))"
   ]
  },
  {
   "cell_type": "markdown",
   "metadata": {},
   "source": [
    "#### ICC"
   ]
  },
  {
   "cell_type": "code",
   "execution_count": 34,
   "metadata": {},
   "outputs": [
    {
     "data": {
      "text/html": [
       "<div>\n",
       "<style scoped>\n",
       "    .dataframe tbody tr th:only-of-type {\n",
       "        vertical-align: middle;\n",
       "    }\n",
       "\n",
       "    .dataframe tbody tr th {\n",
       "        vertical-align: top;\n",
       "    }\n",
       "\n",
       "    .dataframe thead th {\n",
       "        text-align: right;\n",
       "    }\n",
       "</style>\n",
       "<table border=\"1\" class=\"dataframe\">\n",
       "  <thead>\n",
       "    <tr style=\"text-align: right;\">\n",
       "      <th></th>\n",
       "      <th>Description</th>\n",
       "      <th>ICC</th>\n",
       "      <th>F</th>\n",
       "      <th>df1</th>\n",
       "      <th>df2</th>\n",
       "      <th>pval</th>\n",
       "      <th>CI95%</th>\n",
       "    </tr>\n",
       "    <tr>\n",
       "      <th>Type</th>\n",
       "      <th></th>\n",
       "      <th></th>\n",
       "      <th></th>\n",
       "      <th></th>\n",
       "      <th></th>\n",
       "      <th></th>\n",
       "      <th></th>\n",
       "    </tr>\n",
       "  </thead>\n",
       "  <tbody>\n",
       "    <tr>\n",
       "      <th>ICC1</th>\n",
       "      <td>Single raters absolute</td>\n",
       "      <td>0.897</td>\n",
       "      <td>873.76</td>\n",
       "      <td>34715</td>\n",
       "      <td>3436884</td>\n",
       "      <td>0.0</td>\n",
       "      <td>[0.9, 0.9]</td>\n",
       "    </tr>\n",
       "    <tr>\n",
       "      <th>ICC2</th>\n",
       "      <td>Single random raters</td>\n",
       "      <td>0.897</td>\n",
       "      <td>873.88</td>\n",
       "      <td>34715</td>\n",
       "      <td>3436785</td>\n",
       "      <td>0.0</td>\n",
       "      <td>[0.9, 0.9]</td>\n",
       "    </tr>\n",
       "    <tr>\n",
       "      <th>ICC3</th>\n",
       "      <td>Single fixed raters</td>\n",
       "      <td>0.897</td>\n",
       "      <td>873.88</td>\n",
       "      <td>34715</td>\n",
       "      <td>3436785</td>\n",
       "      <td>0.0</td>\n",
       "      <td>[0.9, 0.9]</td>\n",
       "    </tr>\n",
       "    <tr>\n",
       "      <th>ICC1k</th>\n",
       "      <td>Average raters absolute</td>\n",
       "      <td>0.999</td>\n",
       "      <td>873.76</td>\n",
       "      <td>34715</td>\n",
       "      <td>3436884</td>\n",
       "      <td>0.0</td>\n",
       "      <td>[1.0, 1.0]</td>\n",
       "    </tr>\n",
       "    <tr>\n",
       "      <th>ICC2k</th>\n",
       "      <td>Average random raters</td>\n",
       "      <td>0.999</td>\n",
       "      <td>873.88</td>\n",
       "      <td>34715</td>\n",
       "      <td>3436785</td>\n",
       "      <td>0.0</td>\n",
       "      <td>[1.0, 1.0]</td>\n",
       "    </tr>\n",
       "    <tr>\n",
       "      <th>ICC3k</th>\n",
       "      <td>Average fixed raters</td>\n",
       "      <td>0.999</td>\n",
       "      <td>873.88</td>\n",
       "      <td>34715</td>\n",
       "      <td>3436785</td>\n",
       "      <td>0.0</td>\n",
       "      <td>[1.0, 1.0]</td>\n",
       "    </tr>\n",
       "  </tbody>\n",
       "</table>\n",
       "</div>"
      ],
      "text/plain": [
       "                   Description    ICC       F    df1      df2  pval  \\\n",
       "Type                                                                  \n",
       "ICC1    Single raters absolute  0.897  873.76  34715  3436884   0.0   \n",
       "ICC2      Single random raters  0.897  873.88  34715  3436785   0.0   \n",
       "ICC3       Single fixed raters  0.897  873.88  34715  3436785   0.0   \n",
       "ICC1k  Average raters absolute  0.999  873.76  34715  3436884   0.0   \n",
       "ICC2k    Average random raters  0.999  873.88  34715  3436785   0.0   \n",
       "ICC3k     Average fixed raters  0.999  873.88  34715  3436785   0.0   \n",
       "\n",
       "            CI95%  \n",
       "Type               \n",
       "ICC1   [0.9, 0.9]  \n",
       "ICC2   [0.9, 0.9]  \n",
       "ICC3   [0.9, 0.9]  \n",
       "ICC1k  [1.0, 1.0]  \n",
       "ICC2k  [1.0, 1.0]  \n",
       "ICC3k  [1.0, 1.0]  "
      ]
     },
     "execution_count": 34,
     "metadata": {},
     "output_type": "execute_result"
    }
   ],
   "source": [
    "%%time\n",
    "import pingouin as pg\n",
    "\n",
    "icc_data = pd.DataFrame(coefs).melt(var_name='connection', value_name='weight', ignore_index=False)\n",
    "icc_data['cv_run_num'] = icc_data.index\n",
    "icc = pg.intraclass_corr(data=icc_data, targets='connection', raters='cv_run_num', ratings='weight').round(3)\n",
    "icc.set_index(\"Type\")"
   ]
  },
  {
   "cell_type": "markdown",
   "metadata": {},
   "source": [
    "### Run permutation statistic"
   ]
  },
  {
   "cell_type": "code",
   "execution_count": 37,
   "metadata": {},
   "outputs": [
    {
     "name": "stdout",
     "output_type": "stream",
     "text": [
      "ridge_healthy_WISC_PSI_all\n",
      "Alpha: 5000 | Score: -0.04 | p-value: 0.6268\n",
      "CPU times: user 1min 13s, sys: 2.12 s, total: 1min 15s\n",
      "Wall time: 1h 5min 49s\n"
     ]
    }
   ],
   "source": [
    "%%time\n",
    "score, _, pvalue = permutation_test_score(\n",
    "    pipe, X_cv, y_cv, cv=rkf, scoring=regression_scorer, n_permutations=n_perm, n_jobs=-1)\n",
    "\n",
    "print(f'ridge_{population}_{selected_target}_{age_group}')\n",
    "print(f'Alpha: {ridge_cv.alpha_} | Score: {score:.2f} | p-value: {pvalue:.4f}')"
   ]
  },
  {
   "cell_type": "markdown",
   "metadata": {},
   "source": [
    "## Run for all targets, all age bins"
   ]
  },
  {
   "cell_type": "code",
   "execution_count": null,
   "metadata": {},
   "outputs": [
    {
     "name": "stdout",
     "output_type": "stream",
     "text": [
      "{'Model': 'ridge', 'Population': 'adhd', 'Target': 'WISC_FSIQ', 'Bin': 'All  ', 'Alpha': 16000, 'Score': 0.37091336391988167, 'P-value': 0.0003332222592469177}\n",
      "{'Model': 'ridge', 'Population': 'adhd', 'Target': 'WISC_FSIQ', 'Bin': 'Bin 1', 'Alpha': 1000, 'Score': 0.1735052160991861, 'P-value': 0.07630789736754415}\n",
      "{'Model': 'ridge', 'Population': 'adhd', 'Target': 'WISC_FSIQ', 'Bin': 'Bin 2', 'Alpha': 5000, 'Score': 0.34779987507031157, 'P-value': 0.0003332222592469177}\n",
      "{'Model': 'ridge', 'Population': 'adhd', 'Target': 'WISC_FSIQ', 'Bin': 'Bin 3', 'Alpha': 1000, 'Score': 0.0789517941358648, 'P-value': 0.242919026991003}\n"
     ]
    }
   ],
   "source": [
    "%%time\n",
    "from common.binning import bin_by_age\n",
    "from common.wisc import FSIQ, PRIMARY_INDICES\n",
    "from common.paths import RIDGE_RESULTS\n",
    "\n",
    "results = []\n",
    "targets = FSIQ + PRIMARY_INDICES\n",
    "\n",
    "for target in targets:\n",
    "    y = Y[target]\n",
    "    bins = bin_by_age(X, y, ages, y)\n",
    "    bin_1, bin_2, bin_3 = bins[0], bins[1], bins[2]\n",
    "    X_all = [X, bin_1[0], bin_2[0], bin_3[0]]\n",
    "    y_all = [y, bin_1[1], bin_2[1], bin_3[1]]\n",
    "    bin_labels = [\"All  \", \"Bin 1\", \"Bin 2\", \"Bin 3\"]\n",
    "#     X_all = [X]\n",
    "#     y_all = [y]\n",
    "#     bin_labels = [\"All  \"]\n",
    "    \n",
    "    for X_cv, y_cv, bin_label in zip(X_all, y_all, bin_labels):\n",
    "        # Find best alpha\n",
    "        estimators = [StandardScaler(), RidgeCV(alphas=[a for a in range(1000, 21000, 1000)], \n",
    "                                        scoring=regression_scorer, cv=rkf)]\n",
    "        pipe = make_pipeline(*estimators).fit(X_cv, y_cv)\n",
    "        ridge_cv = pipe['ridgecv']\n",
    "        \n",
    "        # Do permutation test\n",
    "        estimators = [StandardScaler(), Ridge(alpha=ridge_cv.alpha_)]\n",
    "        pipe = make_pipeline(*estimators)\n",
    "        \n",
    "        score, _, pvalue = permutation_test_score(\n",
    "            pipe, X_cv, y_cv, cv=rkf, scoring=regression_scorer, n_permutations=n_perm, n_jobs=-1)\n",
    "        results.append({    \n",
    "            'Model': 'ridge',\n",
    "            'Population': population,\n",
    "            'Target': target,\n",
    "            'Bin': bin_label,\n",
    "            'Alpha': ridge_cv.alpha_,\n",
    "            'Score': score,\n",
    "            'P-value': pvalue,\n",
    "        })\n",
    "        print(results[-1])\n",
    "        \n",
    "results_df = pd.DataFrame(results)\n",
    "display(results_df)\n",
    "results_df.to_csv(RIDGE_RESULTS)"
   ]
  },
  {
   "cell_type": "code",
   "execution_count": null,
   "metadata": {},
   "outputs": [],
   "source": []
  }
 ],
 "metadata": {
  "kernelspec": {
   "display_name": "venv",
   "language": "python",
   "name": "venv"
  },
  "language_info": {
   "codemirror_mode": {
    "name": "ipython",
    "version": 3
   },
   "file_extension": ".py",
   "mimetype": "text/x-python",
   "name": "python",
   "nbconvert_exporter": "python",
   "pygments_lexer": "ipython3",
   "version": "3.7.10"
  }
 },
 "nbformat": 4,
 "nbformat_minor": 4
}
