{
 "cells": [
  {
   "cell_type": "markdown",
   "metadata": {},
   "source": [
    "# Ridge\n",
    "\n",
    "This script trains and tests the Ridge regression model. The general workflow is to search for the optimal alpha hyperparameter and then cross-validate the model. The model can also undergo permutation testing to obtain a p-value (significance) for the model's testing score."
   ]
  },
  {
   "cell_type": "code",
   "execution_count": 1,
   "metadata": {},
   "outputs": [],
   "source": [
    "import pandas as pd\n",
    "import numpy as np\n",
    "\n",
    "%load_ext autoreload\n",
    "%autoreload 2\n",
    "\n",
    "import matplotlib.pyplot as plt\n",
    "%matplotlib inline\n",
    "\n",
    "import seaborn as sns\n",
    "sns.set_theme(\n",
    "    context=\"paper\",\n",
    "    style=\"whitegrid\",\n",
    "    font_scale=1.2,\n",
    "    rc={'figure.figsize': (10, 10), 'figure.dpi': 300}\n",
    ")"
   ]
  },
  {
   "cell_type": "markdown",
   "metadata": {},
   "source": [
    "## Get Data"
   ]
  },
  {
   "cell_type": "code",
   "execution_count": 2,
   "metadata": {},
   "outputs": [
    {
     "name": "stdout",
     "output_type": "stream",
     "text": [
      "X: (373, 34716) | Y: 6 | Age: (373,) | Population: adhd\n"
     ]
    }
   ],
   "source": [
    "from common.data import get_data\n",
    "from common.paths import HEALTHY, ADHD\n",
    "\n",
    "X, Y, demographics, population = get_data(label_path=ADHD)\n",
    "ages, sexes = demographics['Age'], demographics['Sex']\n",
    "\n",
    "print(f'X: {X.shape} | Y: {len(Y.keys())} | Age: {ages.shape} | Population: {population}')"
   ]
  },
  {
   "cell_type": "code",
   "execution_count": 3,
   "metadata": {},
   "outputs": [
    {
     "name": "stdout",
     "output_type": "stream",
     "text": [
      "y: (373,)\n"
     ]
    }
   ],
   "source": [
    "selected_target = \"WISC_FSIQ\"\n",
    "y = Y[selected_target]\n",
    "\n",
    "print(f'y: {y.shape}')"
   ]
  },
  {
   "cell_type": "code",
   "execution_count": 4,
   "metadata": {},
   "outputs": [
    {
     "name": "stdout",
     "output_type": "stream",
     "text": [
      "Bin 1: (114, 34716)\n",
      "Bin 2: (147, 34716)\n",
      "Bin 3: (112, 34716)\n"
     ]
    }
   ],
   "source": [
    "from common.binning import bin_data\n",
    "\n",
    "X_bins, y_bins, bin_labels = bin_data(X, y, ages, False, 3)\n",
    "\n",
    "for age_bin, bin_label in zip(X_bins, bin_labels):\n",
    "    print(f'{bin_label}: {age_bin.shape}')"
   ]
  },
  {
   "cell_type": "code",
   "execution_count": 5,
   "metadata": {},
   "outputs": [
    {
     "name": "stdout",
     "output_type": "stream",
     "text": [
      "(113, 34716) (113,)\n"
     ]
    }
   ],
   "source": [
    "# Randomly subsample Bin 2 to match number of samples\n",
    "from common.binning import subsample_bin\n",
    "\n",
    "X_bins[1], y_bins[1] = subsample_bin(X_bins[1], y_bins[1], 113)\n",
    "bin_labels[1] = 'Bin 2 Equal'\n",
    "\n",
    "print(X_bins[1].shape, y_bins[1].shape)"
   ]
  },
  {
   "cell_type": "markdown",
   "metadata": {},
   "source": [
    "## Run for one target, one age bin"
   ]
  },
  {
   "cell_type": "code",
   "execution_count": 3,
   "metadata": {},
   "outputs": [],
   "source": [
    "from common.scoring import unimetric_scorer, multimetric_scorer, N_PERM, SCORING, RKF_10_10\n",
    "from sklearn.linear_model import Ridge, RidgeCV\n",
    "from sklearn.model_selection import cross_validate, permutation_test_score\n",
    "from sklearn.preprocessing import StandardScaler\n",
    "from sklearn.pipeline import make_pipeline"
   ]
  },
  {
   "cell_type": "markdown",
   "metadata": {},
   "source": [
    "### Set up the model pipeline, metrics, and cross-validation approach"
   ]
  },
  {
   "cell_type": "code",
   "execution_count": 6,
   "metadata": {},
   "outputs": [
    {
     "name": "stdout",
     "output_type": "stream",
     "text": [
      "Target: WISC_FSIQ | Alpha: 9001 | Score: 0.36\n",
      "CPU times: user 9min 8s, sys: 21.5 s, total: 9min 29s\n",
      "Wall time: 57.5 s\n"
     ]
    }
   ],
   "source": [
    "%%time\n",
    "\n",
    "X_cv = X_bins[0]\n",
    "y_cv = y_bins[0]\n",
    "# X_cv = X\n",
    "# y_cv = y\n",
    "age_group = 'Bin 1'\n",
    "model = 'ridge'\n",
    "\n",
    "estimators = [StandardScaler(), RidgeCV(alphas=[a for a in range(1, 10000, 100)], \n",
    "                                        scoring=unimetric_scorer, cv=RKF_10_10)]\n",
    "pipe = make_pipeline(*estimators)\n",
    "pipe.fit(X_cv, y_cv)\n",
    "ridge_cv = pipe['ridgecv']\n",
    "\n",
    "print(f'Target: {selected_target} | Alpha: {ridge_cv.alpha_} | Score: {ridge_cv.best_score_:.2f}')"
   ]
  },
  {
   "cell_type": "markdown",
   "metadata": {},
   "source": [
    "### Run cross-validation"
   ]
  },
  {
   "cell_type": "code",
   "execution_count": 9,
   "metadata": {},
   "outputs": [
    {
     "name": "stdout",
     "output_type": "stream",
     "text": [
      "ridge_adhd_WISC_PSI_Bin 2\n",
      "Avg test score: 0.64697580295615\n",
      "CPU times: user 570 ms, sys: 280 ms, total: 850 ms\n",
      "Wall time: 2.47 s\n"
     ]
    }
   ],
   "source": [
    "%%time\n",
    "\n",
    "estimators = [StandardScaler(), Ridge(alpha=ridge_cv.alpha_)]\n",
    "pipe = make_pipeline(*estimators)\n",
    "\n",
    "scores = cross_validate(pipe, X_cv, y_cv, cv=RKF_10_10, scoring=unimetric_scorer, n_jobs=-1, \n",
    "                        return_train_score=True, return_estimator=True)\n",
    "\n",
    "coefs = np.array([estimator['ridge'].coef_ for estimator in scores['estimator']])\n",
    "avg_coef = np.mean(coefs, axis=0)\n",
    "intercepts = np.array([estimator['ridge'].intercept_ for estimator in scores['estimator']])\n",
    "avg_inte = np.mean(intercepts, axis=0)\n",
    "\n",
    "print(f'ridge_{population}_{selected_target}_{age_group}')\n",
    "print(f'Avg test score: {np.mean(scores[\"test_score\"])}')"
   ]
  },
  {
   "cell_type": "markdown",
   "metadata": {},
   "source": [
    "### Save model weights"
   ]
  },
  {
   "cell_type": "code",
   "execution_count": 38,
   "metadata": {},
   "outputs": [],
   "source": [
    "from os.path import join\n",
    "from common.paths import RIDGE_WEIGHTS\n",
    "\n",
    "coef_fn = f'ridge_{population}_{selected_target}_{age_group}_coef.npy'\n",
    "inte_fn = f'ridge_{population}_{selected_target}_{age_group}_inte.npy'\n",
    "\n",
    "np.save(join(RIDGE_WEIGHTS, coef_fn), avg_coef)\n",
    "np.save(join(RIDGE_WEIGHTS, inte_fn), avg_inte)"
   ]
  },
  {
   "cell_type": "markdown",
   "metadata": {},
   "source": [
    "### Run permutation test statistic (pts)"
   ]
  },
  {
   "cell_type": "code",
   "execution_count": 11,
   "metadata": {
    "collapsed": true,
    "jupyter": {
     "outputs_hidden": true
    }
   },
   "outputs": [
    {
     "name": "stdout",
     "output_type": "stream",
     "text": [
      "ridge_adhd_WISC_FSIQ_Bin 2\n",
      "Alpha: 9901 | Score: 0.33 | p-value: 0.0100\n",
      "CPU times: user 56.9 s, sys: 1.5 s, total: 58.4 s\n",
      "Wall time: 15min 57s\n"
     ]
    }
   ],
   "source": [
    "%%time\n",
    "estimators = [StandardScaler(), Ridge(alpha=ridge_cv.alpha_)]\n",
    "pipe = make_pipeline(*estimators)\n",
    "\n",
    "score, permutation_scores, pvalue = permutation_test_score(\n",
    "    pipe, X_cv, y_cv, cv=RKF_10_10, scoring=unimetric_scorer, n_permutations=N_PERM, n_jobs=-1)\n",
    "\n",
    "print(f'ridge_{population}_{selected_target}_{age_group}')\n",
    "print(f'Alpha: {ridge_cv.alpha_} | Score: {score:.2f} | p-value: {pvalue:.4f}')"
   ]
  },
  {
   "cell_type": "markdown",
   "metadata": {},
   "source": [
    "## Run for all targets, all age bins"
   ]
  },
  {
   "cell_type": "markdown",
   "metadata": {},
   "source": [
    "### Run cross-validation"
   ]
  },
  {
   "cell_type": "code",
   "execution_count": 7,
   "metadata": {
    "tags": []
   },
   "outputs": [
    {
     "name": "stdout",
     "output_type": "stream",
     "text": [
      "{'Model': 'ridge', 'Population': 'healthy', 'Target': 'WISC_FSIQ', 'Bin': 'All', 'Alpha': 1, 'Score': 0.03649812587586866}\n",
      "{'Model': 'ridge', 'Population': 'healthy', 'Target': 'WISC_VSI', 'Bin': 'All', 'Alpha': 1, 'Score': 0.12715840734542766}\n",
      "{'Model': 'ridge', 'Population': 'healthy', 'Target': 'WISC_VCI', 'Bin': 'All', 'Alpha': 9901, 'Score': 0.24395247322565755}\n",
      "{'Model': 'ridge', 'Population': 'healthy', 'Target': 'WISC_FRI', 'Bin': 'All', 'Alpha': 1, 'Score': -0.06909279808880493}\n",
      "{'Model': 'ridge', 'Population': 'healthy', 'Target': 'WISC_WMI', 'Bin': 'All', 'Alpha': 9901, 'Score': 0.1193958291669926}\n",
      "{'Model': 'ridge', 'Population': 'healthy', 'Target': 'WISC_PSI', 'Bin': 'All', 'Alpha': 1, 'Score': -0.048414619120956175}\n"
     ]
    },
    {
     "data": {
      "text/html": [
       "<div>\n",
       "<style scoped>\n",
       "    .dataframe tbody tr th:only-of-type {\n",
       "        vertical-align: middle;\n",
       "    }\n",
       "\n",
       "    .dataframe tbody tr th {\n",
       "        vertical-align: top;\n",
       "    }\n",
       "\n",
       "    .dataframe thead th {\n",
       "        text-align: right;\n",
       "    }\n",
       "</style>\n",
       "<table border=\"1\" class=\"dataframe\">\n",
       "  <thead>\n",
       "    <tr style=\"text-align: right;\">\n",
       "      <th></th>\n",
       "      <th>Model</th>\n",
       "      <th>Population</th>\n",
       "      <th>Target</th>\n",
       "      <th>Bin</th>\n",
       "      <th>Alpha</th>\n",
       "      <th>Score</th>\n",
       "    </tr>\n",
       "  </thead>\n",
       "  <tbody>\n",
       "    <tr>\n",
       "      <th>0</th>\n",
       "      <td>ridge</td>\n",
       "      <td>healthy</td>\n",
       "      <td>WISC_FSIQ</td>\n",
       "      <td>All</td>\n",
       "      <td>1</td>\n",
       "      <td>0.0365</td>\n",
       "    </tr>\n",
       "    <tr>\n",
       "      <th>1</th>\n",
       "      <td>ridge</td>\n",
       "      <td>healthy</td>\n",
       "      <td>WISC_VSI</td>\n",
       "      <td>All</td>\n",
       "      <td>1</td>\n",
       "      <td>0.1272</td>\n",
       "    </tr>\n",
       "    <tr>\n",
       "      <th>2</th>\n",
       "      <td>ridge</td>\n",
       "      <td>healthy</td>\n",
       "      <td>WISC_VCI</td>\n",
       "      <td>All</td>\n",
       "      <td>9901</td>\n",
       "      <td>0.2440</td>\n",
       "    </tr>\n",
       "    <tr>\n",
       "      <th>3</th>\n",
       "      <td>ridge</td>\n",
       "      <td>healthy</td>\n",
       "      <td>WISC_FRI</td>\n",
       "      <td>All</td>\n",
       "      <td>1</td>\n",
       "      <td>-0.0691</td>\n",
       "    </tr>\n",
       "    <tr>\n",
       "      <th>4</th>\n",
       "      <td>ridge</td>\n",
       "      <td>healthy</td>\n",
       "      <td>WISC_WMI</td>\n",
       "      <td>All</td>\n",
       "      <td>9901</td>\n",
       "      <td>0.1194</td>\n",
       "    </tr>\n",
       "    <tr>\n",
       "      <th>5</th>\n",
       "      <td>ridge</td>\n",
       "      <td>healthy</td>\n",
       "      <td>WISC_PSI</td>\n",
       "      <td>All</td>\n",
       "      <td>1</td>\n",
       "      <td>-0.0484</td>\n",
       "    </tr>\n",
       "  </tbody>\n",
       "</table>\n",
       "</div>"
      ],
      "text/plain": [
       "   Model Population     Target  Bin  Alpha   Score\n",
       "0  ridge    healthy  WISC_FSIQ  All      1  0.0365\n",
       "1  ridge    healthy   WISC_VSI  All      1  0.1272\n",
       "2  ridge    healthy   WISC_VCI  All   9901  0.2440\n",
       "3  ridge    healthy   WISC_FRI  All      1 -0.0691\n",
       "4  ridge    healthy   WISC_WMI  All   9901  0.1194\n",
       "5  ridge    healthy   WISC_PSI  All      1 -0.0484"
      ]
     },
     "metadata": {},
     "output_type": "display_data"
    },
    {
     "name": "stdout",
     "output_type": "stream",
     "text": [
      "CPU times: user 1min 28s, sys: 20.9 s, total: 1min 49s\n",
      "Wall time: 2min 5s\n"
     ]
    }
   ],
   "source": [
    "%%time\n",
    "\n",
    "from os.path import join\n",
    "from common.binning import bin_data\n",
    "from common.wisc import WISC_LEVEL\n",
    "from common.paths import RIDGE_WEIGHTS, RIDGE_RESULTS\n",
    "from common.results import save_results\n",
    "\n",
    "results = []\n",
    "targets = WISC_LEVEL[5]\n",
    "ages = None if population == 'healthy' else ages\n",
    "\n",
    "# alphas = {\n",
    "#     'WISC_FSIQ': {\"All\": 9901, \"Bin 1\": 701, \"Bin 2\": 5701, \"Bin 3\": 1 },\n",
    "#     'WISC_VSI': {\"All\": 9901, \"Bin 1\": 9901, \"Bin 2\": 9901, \"Bin 3\": 9901 },\n",
    "#     'WISC_VCI': {\"All\": 9601, \"Bin 1\": 1, \"Bin 2\": 9901, \"Bin 3\": 7101 },\n",
    "#     'WISC_FRI': {\"All\": 9901, \"Bin 1\": 2301, \"Bin 2\": 8401, \"Bin 3\": 1 },\n",
    "#     'WISC_WMI': {\"All\": 5501, \"Bin 1\": 1, \"Bin 2\": 4401, \"Bin 3\": 9901 },\n",
    "#     'WISC_PSI': {\"All\": 9901, \"Bin 1\": 9901, \"Bin 2\": 4401, \"Bin 3\": 1 },\n",
    "# }\n",
    "\n",
    "alphas = {\n",
    "    'WISC_FSIQ': {\"All\": 1},\n",
    "    'WISC_VSI': {\"All\": 1},\n",
    "    'WISC_VCI': {\"All\": 9901},\n",
    "    'WISC_FRI': {\"All\": 1},\n",
    "    'WISC_WMI': {\"All\": 9901},\n",
    "    'WISC_PSI': {\"All\": 1},\n",
    "}\n",
    "\n",
    "for target in targets:\n",
    "    y = Y[target]\n",
    "    X_all, y_all, bin_labels = bin_data(X, y, ages, include_all=True)\n",
    "    \n",
    "    for X_cv, y_cv, bin_label in zip(X_all, y_all, bin_labels):\n",
    "        # Find best alpha\n",
    "        best_alpha = alphas[target][bin_label]\n",
    "        \n",
    "        # Do cross-validation\n",
    "        estimators = [StandardScaler(), Ridge(alpha=best_alpha)]\n",
    "        pipe = make_pipeline(*estimators)\n",
    "        \n",
    "        scores = cross_validate(pipe, X_cv, y_cv, cv=RKF_10_10, \n",
    "                                scoring=unimetric_scorer, n_jobs=-1, \n",
    "                                return_train_score=False, \n",
    "                                return_estimator=True)\n",
    "        coefs = np.array([estimator['ridge'].coef_ for estimator in scores['estimator']])\n",
    "        avg_coef = np.mean(coefs, axis=0)\n",
    "        intercepts = np.array([estimator['ridge'].intercept_ for estimator in scores['estimator']])\n",
    "        avg_inte = np.mean(intercepts, axis=0)\n",
    "        \n",
    "        results.append({    \n",
    "            'Model': 'ridge',\n",
    "            'Population': population,\n",
    "            'Target': target,\n",
    "            'Bin': bin_label,\n",
    "            'Alpha': best_alpha,\n",
    "            'Score': np.mean(scores['test_score']),\n",
    "        })\n",
    "        print(results[-1])\n",
    "        \n",
    "        coef_fn = f'ridge_{population}_{target}_{bin_label}_coef.npy'\n",
    "        inte_fn = f'ridge_{population}_{target}_{bin_label}_inte.npy'\n",
    "        np.save(join(RIDGE_WEIGHTS, coef_fn), avg_coef)\n",
    "        np.save(join(RIDGE_WEIGHTS, inte_fn), avg_inte)\n",
    "\n",
    "results_df = pd.DataFrame(results)\n",
    "display(results_df.round(4))"
   ]
  },
  {
   "cell_type": "code",
   "execution_count": 8,
   "metadata": {},
   "outputs": [
    {
     "data": {
      "text/plain": [
       "'/home/bpho/Documents/MSc_Research-Project/scratch_data/model_results/Ridge/ridge_cv_healthy.csv'"
      ]
     },
     "execution_count": 8,
     "metadata": {},
     "output_type": "execute_result"
    }
   ],
   "source": [
    "filename = f'ridge_cv_{population}'\n",
    "save_results(results_df, filename, RIDGE_RESULTS)"
   ]
  },
  {
   "cell_type": "markdown",
   "metadata": {},
   "source": [
    "### Run permutation test statistic (pts)"
   ]
  },
  {
   "cell_type": "code",
   "execution_count": 13,
   "metadata": {},
   "outputs": [
    {
     "name": "stdout",
     "output_type": "stream",
     "text": [
      "{'Model': 'ridge', 'Population': 'healthy', 'Target': 'WISC_FSIQ', 'Bin': 'All', 'Alpha': 1, 'Score': 0.03979761025110626, 'P-value': 0.4171656686626746}\n",
      "{'Model': 'ridge', 'Population': 'healthy', 'Target': 'WISC_VSI', 'Bin': 'All', 'Alpha': 1, 'Score': 0.16181370001187687, 'P-value': 0.10778443113772455}\n",
      "{'Model': 'ridge', 'Population': 'healthy', 'Target': 'WISC_VCI', 'Bin': 'All', 'Alpha': 9901, 'Score': 0.196704856115268, 'P-value': 0.05189620758483034}\n",
      "{'Model': 'ridge', 'Population': 'healthy', 'Target': 'WISC_FRI', 'Bin': 'All', 'Alpha': 1, 'Score': -0.07283880181186352, 'P-value': 0.7345309381237525}\n",
      "{'Model': 'ridge', 'Population': 'healthy', 'Target': 'WISC_WMI', 'Bin': 'All', 'Alpha': 9901, 'Score': 0.11698659032521132, 'P-value': 0.21357285429141717}\n",
      "{'Model': 'ridge', 'Population': 'healthy', 'Target': 'WISC_PSI', 'Bin': 'All', 'Alpha': 1, 'Score': -0.05608048819314832, 'P-value': 0.6986027944111777}\n"
     ]
    },
    {
     "data": {
      "text/html": [
       "<div>\n",
       "<style scoped>\n",
       "    .dataframe tbody tr th:only-of-type {\n",
       "        vertical-align: middle;\n",
       "    }\n",
       "\n",
       "    .dataframe tbody tr th {\n",
       "        vertical-align: top;\n",
       "    }\n",
       "\n",
       "    .dataframe thead th {\n",
       "        text-align: right;\n",
       "    }\n",
       "</style>\n",
       "<table border=\"1\" class=\"dataframe\">\n",
       "  <thead>\n",
       "    <tr style=\"text-align: right;\">\n",
       "      <th></th>\n",
       "      <th>Model</th>\n",
       "      <th>Population</th>\n",
       "      <th>Target</th>\n",
       "      <th>Bin</th>\n",
       "      <th>Alpha</th>\n",
       "      <th>Score</th>\n",
       "      <th>P-value</th>\n",
       "    </tr>\n",
       "  </thead>\n",
       "  <tbody>\n",
       "    <tr>\n",
       "      <th>0</th>\n",
       "      <td>ridge</td>\n",
       "      <td>healthy</td>\n",
       "      <td>WISC_FSIQ</td>\n",
       "      <td>All</td>\n",
       "      <td>1</td>\n",
       "      <td>0.0398</td>\n",
       "      <td>0.4172</td>\n",
       "    </tr>\n",
       "    <tr>\n",
       "      <th>1</th>\n",
       "      <td>ridge</td>\n",
       "      <td>healthy</td>\n",
       "      <td>WISC_VSI</td>\n",
       "      <td>All</td>\n",
       "      <td>1</td>\n",
       "      <td>0.1618</td>\n",
       "      <td>0.1078</td>\n",
       "    </tr>\n",
       "    <tr>\n",
       "      <th>2</th>\n",
       "      <td>ridge</td>\n",
       "      <td>healthy</td>\n",
       "      <td>WISC_VCI</td>\n",
       "      <td>All</td>\n",
       "      <td>9901</td>\n",
       "      <td>0.1967</td>\n",
       "      <td>0.0519</td>\n",
       "    </tr>\n",
       "    <tr>\n",
       "      <th>3</th>\n",
       "      <td>ridge</td>\n",
       "      <td>healthy</td>\n",
       "      <td>WISC_FRI</td>\n",
       "      <td>All</td>\n",
       "      <td>1</td>\n",
       "      <td>-0.0728</td>\n",
       "      <td>0.7345</td>\n",
       "    </tr>\n",
       "    <tr>\n",
       "      <th>4</th>\n",
       "      <td>ridge</td>\n",
       "      <td>healthy</td>\n",
       "      <td>WISC_WMI</td>\n",
       "      <td>All</td>\n",
       "      <td>9901</td>\n",
       "      <td>0.1170</td>\n",
       "      <td>0.2136</td>\n",
       "    </tr>\n",
       "    <tr>\n",
       "      <th>5</th>\n",
       "      <td>ridge</td>\n",
       "      <td>healthy</td>\n",
       "      <td>WISC_PSI</td>\n",
       "      <td>All</td>\n",
       "      <td>1</td>\n",
       "      <td>-0.0561</td>\n",
       "      <td>0.6986</td>\n",
       "    </tr>\n",
       "  </tbody>\n",
       "</table>\n",
       "</div>"
      ],
      "text/plain": [
       "   Model Population     Target  Bin  Alpha   Score  P-value\n",
       "0  ridge    healthy  WISC_FSIQ  All      1  0.0398   0.4172\n",
       "1  ridge    healthy   WISC_VSI  All      1  0.1618   0.1078\n",
       "2  ridge    healthy   WISC_VCI  All   9901  0.1967   0.0519\n",
       "3  ridge    healthy   WISC_FRI  All      1 -0.0728   0.7345\n",
       "4  ridge    healthy   WISC_WMI  All   9901  0.1170   0.2136\n",
       "5  ridge    healthy   WISC_PSI  All      1 -0.0561   0.6986"
      ]
     },
     "metadata": {},
     "output_type": "display_data"
    },
    {
     "name": "stdout",
     "output_type": "stream",
     "text": [
      "CPU times: user 34min 14s, sys: 4min 45s, total: 38min 59s\n",
      "Wall time: 2h 27min 51s\n"
     ]
    }
   ],
   "source": [
    "%%time\n",
    "\n",
    "from common.binning import bin_data\n",
    "from common.wisc import WISC_LEVEL\n",
    "from common.paths import RIDGE_RESULTS, RIDGE_PSCORES\n",
    "from common.results import save_results, save_perm_score\n",
    "\n",
    "results = []\n",
    "targets = WISC_LEVEL[5]\n",
    "ages = None if population == 'healthy' else ages\n",
    "alphas = {\n",
    "    'WISC_FSIQ': {\"All\": 1},\n",
    "    'WISC_VSI': {\"All\": 1},\n",
    "    'WISC_VCI': {\"All\": 9901},\n",
    "    'WISC_FRI': {\"All\": 1},\n",
    "    'WISC_WMI': {\"All\": 9901},\n",
    "    'WISC_PSI': {\"All\": 1},\n",
    "}\n",
    "\n",
    "for target in targets:\n",
    "    y = Y[target]\n",
    "    X_bins, y_bins, bin_labels = bin_data(X, y, ages, include_all=True)\n",
    "    \n",
    "    for X_cv, y_cv, bin_label in zip(X_bins, y_bins, bin_labels):\n",
    "        # Find best alpha\n",
    "        best_alpha = alphas[target][bin_label]\n",
    "#         estimators = [StandardScaler(), RidgeCV(alphas=[a for a in range(1, 10000, 100)], \n",
    "#                                         scoring=unimetric_scorer, cv=RKF_10_10)]\n",
    "#         pipe = make_pipeline(*estimators).fit(X_cv, y_cv)\n",
    "#         ridge_cv = pipe['ridgecv']\n",
    "        \n",
    "        # Do permutation test\n",
    "        estimators = [Ridge(alpha=best_alpha)]\n",
    "#         estimators = [Ridge(alpha=ridge_cv.alpha_)]\n",
    "        pipe = make_pipeline(*estimators)\n",
    "        \n",
    "        score, permutation_scores, pvalue = permutation_test_score(\n",
    "            pipe, X_cv, y_cv, cv=RKF_10_10, scoring=unimetric_scorer, n_permutations=N_PERM, \n",
    "            n_jobs=-1)\n",
    "        results.append({    \n",
    "            'Model': 'ridge',\n",
    "            'Population': population,\n",
    "            'Target': target,\n",
    "            'Bin': bin_label,\n",
    "            'Alpha': best_alpha,\n",
    "#             'Alpha': ridge_cv.alpha_,\n",
    "            'Score': score,\n",
    "            'P-value': pvalue,\n",
    "        })\n",
    "        print(results[-1])\n",
    "        save_perm_score(permutation_scores, f'ridge_{population}_{target}_{bin_label}_perm_scores', \n",
    "                        RIDGE_PSCORES)\n",
    "\n",
    "results_df = pd.DataFrame(results)\n",
    "display(results_df.round(4))"
   ]
  },
  {
   "cell_type": "code",
   "execution_count": 16,
   "metadata": {},
   "outputs": [
    {
     "data": {
      "text/plain": [
       "'/home/bpho/Documents/MSc_Research-Project/scratch_data/model_results/Ridge/ridge_pts_healthy.csv'"
      ]
     },
     "execution_count": 16,
     "metadata": {},
     "output_type": "execute_result"
    }
   ],
   "source": [
    "filename = f'ridge_pts_{population}'\n",
    "save_results(results_df, filename, RIDGE_RESULTS)"
   ]
  },
  {
   "cell_type": "markdown",
   "metadata": {},
   "source": [
    "### Run permutation test statistic (pts) with equal sample size"
   ]
  },
  {
   "cell_type": "code",
   "execution_count": 8,
   "metadata": {},
   "outputs": [
    {
     "name": "stdout",
     "output_type": "stream",
     "text": [
      "{'Model': 'ridge', 'Population': 'adhd', 'Target': 'WISC_FSIQ', 'Bin': 'Bin 2 Equal', 'Alpha': 9901, 'Score': 0.37268582592832233, 'P-value': 0.001996007984031936}\n",
      "{'Model': 'ridge', 'Population': 'adhd', 'Target': 'WISC_VSI', 'Bin': 'Bin 2 Equal', 'Alpha': 9901, 'Score': 0.27402582973158046, 'P-value': 0.00998003992015968}\n",
      "{'Model': 'ridge', 'Population': 'adhd', 'Target': 'WISC_VCI', 'Bin': 'Bin 2 Equal', 'Alpha': 6901, 'Score': 0.36517093118210603, 'P-value': 0.001996007984031936}\n",
      "{'Model': 'ridge', 'Population': 'adhd', 'Target': 'WISC_FRI', 'Bin': 'Bin 2 Equal', 'Alpha': 9201, 'Score': 0.30226867233259, 'P-value': 0.005988023952095809}\n",
      "{'Model': 'ridge', 'Population': 'adhd', 'Target': 'WISC_WMI', 'Bin': 'Bin 2 Equal', 'Alpha': 9901, 'Score': 0.34980147754878743, 'P-value': 0.001996007984031936}\n",
      "{'Model': 'ridge', 'Population': 'adhd', 'Target': 'WISC_PSI', 'Bin': 'Bin 2 Equal', 'Alpha': 9901, 'Score': 0.04161685374305273, 'P-value': 0.3772455089820359}\n"
     ]
    },
    {
     "data": {
      "text/html": [
       "<div>\n",
       "<style scoped>\n",
       "    .dataframe tbody tr th:only-of-type {\n",
       "        vertical-align: middle;\n",
       "    }\n",
       "\n",
       "    .dataframe tbody tr th {\n",
       "        vertical-align: top;\n",
       "    }\n",
       "\n",
       "    .dataframe thead th {\n",
       "        text-align: right;\n",
       "    }\n",
       "</style>\n",
       "<table border=\"1\" class=\"dataframe\">\n",
       "  <thead>\n",
       "    <tr style=\"text-align: right;\">\n",
       "      <th></th>\n",
       "      <th>Model</th>\n",
       "      <th>Population</th>\n",
       "      <th>Target</th>\n",
       "      <th>Bin</th>\n",
       "      <th>Alpha</th>\n",
       "      <th>Score</th>\n",
       "      <th>P-value</th>\n",
       "    </tr>\n",
       "  </thead>\n",
       "  <tbody>\n",
       "    <tr>\n",
       "      <th>0</th>\n",
       "      <td>ridge</td>\n",
       "      <td>adhd</td>\n",
       "      <td>WISC_FSIQ</td>\n",
       "      <td>Bin 2 Equal</td>\n",
       "      <td>9901</td>\n",
       "      <td>0.3727</td>\n",
       "      <td>0.0020</td>\n",
       "    </tr>\n",
       "    <tr>\n",
       "      <th>1</th>\n",
       "      <td>ridge</td>\n",
       "      <td>adhd</td>\n",
       "      <td>WISC_VSI</td>\n",
       "      <td>Bin 2 Equal</td>\n",
       "      <td>9901</td>\n",
       "      <td>0.2740</td>\n",
       "      <td>0.0100</td>\n",
       "    </tr>\n",
       "    <tr>\n",
       "      <th>2</th>\n",
       "      <td>ridge</td>\n",
       "      <td>adhd</td>\n",
       "      <td>WISC_VCI</td>\n",
       "      <td>Bin 2 Equal</td>\n",
       "      <td>6901</td>\n",
       "      <td>0.3652</td>\n",
       "      <td>0.0020</td>\n",
       "    </tr>\n",
       "    <tr>\n",
       "      <th>3</th>\n",
       "      <td>ridge</td>\n",
       "      <td>adhd</td>\n",
       "      <td>WISC_FRI</td>\n",
       "      <td>Bin 2 Equal</td>\n",
       "      <td>9201</td>\n",
       "      <td>0.3023</td>\n",
       "      <td>0.0060</td>\n",
       "    </tr>\n",
       "    <tr>\n",
       "      <th>4</th>\n",
       "      <td>ridge</td>\n",
       "      <td>adhd</td>\n",
       "      <td>WISC_WMI</td>\n",
       "      <td>Bin 2 Equal</td>\n",
       "      <td>9901</td>\n",
       "      <td>0.3498</td>\n",
       "      <td>0.0020</td>\n",
       "    </tr>\n",
       "    <tr>\n",
       "      <th>5</th>\n",
       "      <td>ridge</td>\n",
       "      <td>adhd</td>\n",
       "      <td>WISC_PSI</td>\n",
       "      <td>Bin 2 Equal</td>\n",
       "      <td>9901</td>\n",
       "      <td>0.0416</td>\n",
       "      <td>0.3772</td>\n",
       "    </tr>\n",
       "  </tbody>\n",
       "</table>\n",
       "</div>"
      ],
      "text/plain": [
       "   Model Population     Target          Bin  Alpha   Score  P-value\n",
       "0  ridge       adhd  WISC_FSIQ  Bin 2 Equal   9901  0.3727   0.0020\n",
       "1  ridge       adhd   WISC_VSI  Bin 2 Equal   9901  0.2740   0.0100\n",
       "2  ridge       adhd   WISC_VCI  Bin 2 Equal   6901  0.3652   0.0020\n",
       "3  ridge       adhd   WISC_FRI  Bin 2 Equal   9201  0.3023   0.0060\n",
       "4  ridge       adhd   WISC_WMI  Bin 2 Equal   9901  0.3498   0.0020\n",
       "5  ridge       adhd   WISC_PSI  Bin 2 Equal   9901  0.0416   0.3772"
      ]
     },
     "metadata": {},
     "output_type": "display_data"
    },
    {
     "name": "stdout",
     "output_type": "stream",
     "text": [
      "CPU times: user 1h 59min 45s, sys: 1min 46s, total: 2h 1min 32s\n",
      "Wall time: 1h 16min 48s\n"
     ]
    }
   ],
   "source": [
    "%%time\n",
    "\n",
    "from os.path import join\n",
    "from common.binning import bin_data\n",
    "from common.wisc import WISC_LEVEL\n",
    "from common.paths import RIDGE_RESULTS, RIDGE_PSCORES\n",
    "from common.results import save_results, save_perm_score\n",
    "\n",
    "results = []\n",
    "targets = WISC_LEVEL[5]\n",
    "ages = None if population == 'healthy' else ages\n",
    "bin_label = 'Bin 2 Equal'\n",
    "bin_2_subsample_indices = np.random.choice(147, 113, replace=False)\n",
    "\n",
    "for target in targets:\n",
    "    y = Y[target]\n",
    "    X_bins, y_bins, bin_labels = bin_data(X, y, ages, False)\n",
    "    X_bin_2, y_bin_2 = X_bins[1][bin_2_subsample_indices], y_bins[1][bin_2_subsample_indices]\n",
    "        \n",
    "    # Find best alpha\n",
    "    estimators = [StandardScaler(), RidgeCV(alphas=[a for a in range(1, 10000, 100)], \n",
    "                                    scoring=unimetric_scorer, cv=RKF_10_10)]\n",
    "    pipe = make_pipeline(*estimators).fit(X_bin_2, y_bin_2)\n",
    "    ridge_cv_alpha = pipe['ridgecv'].alpha_\n",
    "\n",
    "    # Do permutation test\n",
    "    estimators = [StandardScaler(), Ridge(alpha=ridge_cv_alpha)]\n",
    "    pipe = make_pipeline(*estimators)\n",
    "\n",
    "    score, permutation_scores, pvalue = permutation_test_score(\n",
    "        pipe, X_bin_2, y_bin_2, cv=RKF_10_10, scoring=unimetric_scorer, n_permutations=N_PERM, \n",
    "        n_jobs=-1)\n",
    "    results.append({    \n",
    "        'Model': 'ridge',\n",
    "        'Population': population,\n",
    "        'Target': target,\n",
    "        'Bin': bin_label,\n",
    "        'Alpha': ridge_cv_alpha,\n",
    "        'Score': score,\n",
    "        'P-value': pvalue,\n",
    "    })\n",
    "    print(results[-1])\n",
    "    save_perm_score(permutation_scores, f'ridge_{population}_{target}_{bin_label}_perm_scores', \n",
    "                    RIDGE_PSCORES)\n",
    "        \n",
    "results_df = pd.DataFrame(results)\n",
    "display(results_df.round(4))"
   ]
  },
  {
   "cell_type": "code",
   "execution_count": null,
   "metadata": {},
   "outputs": [],
   "source": [
    "filename = f'ridge_pts_{population}_bin_two_equal_samples.csv'\n",
    "results_df.to_csv(join(RIDGE_RESULTS, filename))"
   ]
  },
  {
   "cell_type": "code",
   "execution_count": null,
   "metadata": {},
   "outputs": [],
   "source": []
  }
 ],
 "metadata": {
  "kernelspec": {
   "display_name": "venv",
   "language": "python",
   "name": "venv"
  },
  "language_info": {
   "codemirror_mode": {
    "name": "ipython",
    "version": 3
   },
   "file_extension": ".py",
   "mimetype": "text/x-python",
   "name": "python",
   "nbconvert_exporter": "python",
   "pygments_lexer": "ipython3",
   "version": "3.8.13"
  }
 },
 "nbformat": 4,
 "nbformat_minor": 4
}
