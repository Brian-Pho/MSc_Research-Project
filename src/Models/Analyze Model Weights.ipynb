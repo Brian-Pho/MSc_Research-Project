{
 "cells": [
  {
   "cell_type": "markdown",
   "metadata": {},
   "source": [
    "# Analyze Model Weights"
   ]
  },
  {
   "cell_type": "code",
   "execution_count": 1,
   "metadata": {},
   "outputs": [],
   "source": [
    "import pandas as pd\n",
    "import numpy as np\n",
    "\n",
    "%load_ext autoreload\n",
    "%autoreload 2\n",
    "\n",
    "import matplotlib as mpl\n",
    "import matplotlib.pyplot as plt\n",
    "%matplotlib inline\n",
    "\n",
    "import seaborn as sns\n",
    "sns.set_theme(\n",
    "    context=\"paper\", \n",
    "    style=\"whitegrid\", \n",
    "    font_scale=1.2,\n",
    "    rc={'figure.figsize': (20, 20), 'figure.dpi': 300}\n",
    ")"
   ]
  },
  {
   "cell_type": "markdown",
   "metadata": {},
   "source": [
    "## Load Weights"
   ]
  },
  {
   "cell_type": "code",
   "execution_count": 18,
   "metadata": {},
   "outputs": [
    {
     "name": "stdout",
     "output_type": "stream",
     "text": [
      "(34716,) (34716,)\n"
     ]
    }
   ],
   "source": [
    "from common.data import get_model_weight\n",
    "\n",
    "population = 'adhd'\n",
    "measure = 'WISC_PSI'\n",
    "age_group = 'all'\n",
    "\n",
    "pls_weights = get_model_weight('pls', population, measure, age_group)\n",
    "ridge_weights = get_model_weight('ridge', population, measure, age_group)\n",
    "\n",
    "print(pls_weights.shape, ridge_weights.shape)"
   ]
  },
  {
   "cell_type": "markdown",
   "metadata": {},
   "source": [
    "## Intraclass Correlation (ICC)"
   ]
  },
  {
   "cell_type": "code",
   "execution_count": 19,
   "metadata": {},
   "outputs": [
    {
     "name": "stdout",
     "output_type": "stream",
     "text": [
      "pls_adhd_WISC_PSI_all (2, 34716)\n",
      "CPU times: user 29.9 s, sys: 160 ms, total: 30.1 s\n",
      "Wall time: 30.1 s\n"
     ]
    },
    {
     "data": {
      "text/html": [
       "<div>\n",
       "<style scoped>\n",
       "    .dataframe tbody tr th:only-of-type {\n",
       "        vertical-align: middle;\n",
       "    }\n",
       "\n",
       "    .dataframe tbody tr th {\n",
       "        vertical-align: top;\n",
       "    }\n",
       "\n",
       "    .dataframe thead th {\n",
       "        text-align: right;\n",
       "    }\n",
       "</style>\n",
       "<table border=\"1\" class=\"dataframe\">\n",
       "  <thead>\n",
       "    <tr style=\"text-align: right;\">\n",
       "      <th></th>\n",
       "      <th>Description</th>\n",
       "      <th>ICC</th>\n",
       "      <th>F</th>\n",
       "      <th>df1</th>\n",
       "      <th>df2</th>\n",
       "      <th>pval</th>\n",
       "      <th>CI95%</th>\n",
       "    </tr>\n",
       "    <tr>\n",
       "      <th>Type</th>\n",
       "      <th></th>\n",
       "      <th></th>\n",
       "      <th></th>\n",
       "      <th></th>\n",
       "      <th></th>\n",
       "      <th></th>\n",
       "      <th></th>\n",
       "    </tr>\n",
       "  </thead>\n",
       "  <tbody>\n",
       "    <tr>\n",
       "      <th>ICC1</th>\n",
       "      <td>Single raters absolute</td>\n",
       "      <td>0.821</td>\n",
       "      <td>10.169</td>\n",
       "      <td>34715</td>\n",
       "      <td>34716</td>\n",
       "      <td>0.0</td>\n",
       "      <td>[0.82, 0.82]</td>\n",
       "    </tr>\n",
       "    <tr>\n",
       "      <th>ICC2</th>\n",
       "      <td>Single random raters</td>\n",
       "      <td>0.821</td>\n",
       "      <td>10.170</td>\n",
       "      <td>34715</td>\n",
       "      <td>34715</td>\n",
       "      <td>0.0</td>\n",
       "      <td>[0.82, 0.82]</td>\n",
       "    </tr>\n",
       "    <tr>\n",
       "      <th>ICC3</th>\n",
       "      <td>Single fixed raters</td>\n",
       "      <td>0.821</td>\n",
       "      <td>10.170</td>\n",
       "      <td>34715</td>\n",
       "      <td>34715</td>\n",
       "      <td>0.0</td>\n",
       "      <td>[0.82, 0.82]</td>\n",
       "    </tr>\n",
       "    <tr>\n",
       "      <th>ICC1k</th>\n",
       "      <td>Average raters absolute</td>\n",
       "      <td>0.902</td>\n",
       "      <td>10.169</td>\n",
       "      <td>34715</td>\n",
       "      <td>34716</td>\n",
       "      <td>0.0</td>\n",
       "      <td>[0.9, 0.9]</td>\n",
       "    </tr>\n",
       "    <tr>\n",
       "      <th>ICC2k</th>\n",
       "      <td>Average random raters</td>\n",
       "      <td>0.902</td>\n",
       "      <td>10.170</td>\n",
       "      <td>34715</td>\n",
       "      <td>34715</td>\n",
       "      <td>0.0</td>\n",
       "      <td>[0.9, 0.9]</td>\n",
       "    </tr>\n",
       "    <tr>\n",
       "      <th>ICC3k</th>\n",
       "      <td>Average fixed raters</td>\n",
       "      <td>0.902</td>\n",
       "      <td>10.170</td>\n",
       "      <td>34715</td>\n",
       "      <td>34715</td>\n",
       "      <td>0.0</td>\n",
       "      <td>[0.9, 0.9]</td>\n",
       "    </tr>\n",
       "  </tbody>\n",
       "</table>\n",
       "</div>"
      ],
      "text/plain": [
       "                   Description    ICC       F    df1    df2  pval  \\\n",
       "Type                                                                \n",
       "ICC1    Single raters absolute  0.821  10.169  34715  34716   0.0   \n",
       "ICC2      Single random raters  0.821  10.170  34715  34715   0.0   \n",
       "ICC3       Single fixed raters  0.821  10.170  34715  34715   0.0   \n",
       "ICC1k  Average raters absolute  0.902  10.169  34715  34716   0.0   \n",
       "ICC2k    Average random raters  0.902  10.170  34715  34715   0.0   \n",
       "ICC3k     Average fixed raters  0.902  10.170  34715  34715   0.0   \n",
       "\n",
       "              CI95%  \n",
       "Type                 \n",
       "ICC1   [0.82, 0.82]  \n",
       "ICC2   [0.82, 0.82]  \n",
       "ICC3   [0.82, 0.82]  \n",
       "ICC1k    [0.9, 0.9]  \n",
       "ICC2k    [0.9, 0.9]  \n",
       "ICC3k    [0.9, 0.9]  "
      ]
     },
     "execution_count": 19,
     "metadata": {},
     "output_type": "execute_result"
    }
   ],
   "source": [
    "%%time\n",
    "import pingouin as pg\n",
    "\n",
    "coefs = np.array([pls_weights, ridge_weights])\n",
    "print(f'pls_{population}_{measure}_{age_group}', coefs.shape)\n",
    "\n",
    "icc_data = pd.DataFrame(coefs).melt(var_name='connection', value_name='weight', ignore_index=False)\n",
    "icc_data['cv_run_num'] = icc_data.index\n",
    "icc = pg.intraclass_corr(data=icc_data, targets='connection', raters='cv_run_num', ratings='weight').round(3)\n",
    "icc.set_index(\"Type\")"
   ]
  },
  {
   "cell_type": "code",
   "execution_count": null,
   "metadata": {},
   "outputs": [],
   "source": []
  }
 ],
 "metadata": {
  "kernelspec": {
   "display_name": "venv",
   "language": "python",
   "name": "venv"
  },
  "language_info": {
   "codemirror_mode": {
    "name": "ipython",
    "version": 3
   },
   "file_extension": ".py",
   "mimetype": "text/x-python",
   "name": "python",
   "nbconvert_exporter": "python",
   "pygments_lexer": "ipython3",
   "version": "3.7.10"
  }
 },
 "nbformat": 4,
 "nbformat_minor": 4
}
