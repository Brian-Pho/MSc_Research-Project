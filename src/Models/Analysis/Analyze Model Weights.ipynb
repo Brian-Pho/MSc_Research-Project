{
 "cells": [
  {
   "cell_type": "markdown",
   "metadata": {},
   "source": [
    "# Analyze Model Weights"
   ]
  },
  {
   "cell_type": "code",
   "execution_count": 1,
   "metadata": {},
   "outputs": [],
   "source": [
    "import pandas as pd\n",
    "import numpy as np\n",
    "\n",
    "%load_ext autoreload\n",
    "%autoreload 2\n",
    "\n",
    "import matplotlib as mpl\n",
    "import matplotlib.pyplot as plt\n",
    "%matplotlib inline\n",
    "\n",
    "import seaborn as sns\n",
    "sns.set_theme(\n",
    "    context=\"paper\", \n",
    "    style=\"whitegrid\", \n",
    "    font_scale=1.2,\n",
    "    rc={'figure.figsize': (20, 20), 'figure.dpi': 300}\n",
    ")"
   ]
  },
  {
   "cell_type": "markdown",
   "metadata": {},
   "source": [
    "## Load Weights"
   ]
  },
  {
   "cell_type": "code",
   "execution_count": 18,
   "metadata": {},
   "outputs": [
    {
     "name": "stdout",
     "output_type": "stream",
     "text": [
      "(34716,) (34716,)\n"
     ]
    }
   ],
   "source": [
    "from common.data import get_model_weight\n",
    "\n",
    "population = 'adhd'\n",
    "measure = 'WISC_PSI'\n",
    "age_group = 'all'\n",
    "\n",
    "pls_weights = get_model_weight('pls', population, measure, age_group)\n",
    "ridge_weights = get_model_weight('ridge', population, measure, age_group)\n",
    "\n",
    "print(pls_weights.shape, ridge_weights.shape)"
   ]
  },
  {
   "cell_type": "code",
   "execution_count": 9,
   "metadata": {},
   "outputs": [],
   "source": [
    "from os.path import join\n",
    "from common.paths import RIDGE_WEIGHTS\n",
    "\n",
    "weight_pop = 'adhd'\n",
    "weight_tar = 'WISC_FSIQ'\n",
    "weight_age = 'all'\n",
    "s1_f = f'ridge_{weight_pop}_{weight_tar}_{weight_age}_set_2.npy'\n",
    "s2_f = f'ridge_healthy_{weight_tar}_{weight_age}_set_1.npy'\n",
    "\n",
    "s1 = np.load(join(RIDGE_WEIGHTS, s1_f))\n",
    "s2 = np.load(join(RIDGE_WEIGHTS, s2_f))"
   ]
  },
  {
   "cell_type": "markdown",
   "metadata": {},
   "source": [
    "## Intraclass Correlation (ICC)"
   ]
  },
  {
   "cell_type": "code",
   "execution_count": 10,
   "metadata": {},
   "outputs": [
    {
     "name": "stdout",
     "output_type": "stream",
     "text": [
      "CPU times: user 29.7 s, sys: 196 ms, total: 29.9 s\n",
      "Wall time: 29.9 s\n"
     ]
    },
    {
     "data": {
      "text/html": [
       "<div>\n",
       "<style scoped>\n",
       "    .dataframe tbody tr th:only-of-type {\n",
       "        vertical-align: middle;\n",
       "    }\n",
       "\n",
       "    .dataframe tbody tr th {\n",
       "        vertical-align: top;\n",
       "    }\n",
       "\n",
       "    .dataframe thead th {\n",
       "        text-align: right;\n",
       "    }\n",
       "</style>\n",
       "<table border=\"1\" class=\"dataframe\">\n",
       "  <thead>\n",
       "    <tr style=\"text-align: right;\">\n",
       "      <th></th>\n",
       "      <th>Description</th>\n",
       "      <th>ICC</th>\n",
       "      <th>F</th>\n",
       "      <th>df1</th>\n",
       "      <th>df2</th>\n",
       "      <th>pval</th>\n",
       "      <th>CI95%</th>\n",
       "    </tr>\n",
       "    <tr>\n",
       "      <th>Type</th>\n",
       "      <th></th>\n",
       "      <th></th>\n",
       "      <th></th>\n",
       "      <th></th>\n",
       "      <th></th>\n",
       "      <th></th>\n",
       "      <th></th>\n",
       "    </tr>\n",
       "  </thead>\n",
       "  <tbody>\n",
       "    <tr>\n",
       "      <th>ICC1</th>\n",
       "      <td>Single raters absolute</td>\n",
       "      <td>0.121</td>\n",
       "      <td>1.276</td>\n",
       "      <td>34715</td>\n",
       "      <td>34716</td>\n",
       "      <td>0.0</td>\n",
       "      <td>[0.11, 0.13]</td>\n",
       "    </tr>\n",
       "    <tr>\n",
       "      <th>ICC2</th>\n",
       "      <td>Single random raters</td>\n",
       "      <td>0.121</td>\n",
       "      <td>1.277</td>\n",
       "      <td>34715</td>\n",
       "      <td>34715</td>\n",
       "      <td>0.0</td>\n",
       "      <td>[0.11, 0.13]</td>\n",
       "    </tr>\n",
       "    <tr>\n",
       "      <th>ICC3</th>\n",
       "      <td>Single fixed raters</td>\n",
       "      <td>0.122</td>\n",
       "      <td>1.277</td>\n",
       "      <td>34715</td>\n",
       "      <td>34715</td>\n",
       "      <td>0.0</td>\n",
       "      <td>[0.11, 0.13]</td>\n",
       "    </tr>\n",
       "    <tr>\n",
       "      <th>ICC1k</th>\n",
       "      <td>Average raters absolute</td>\n",
       "      <td>0.216</td>\n",
       "      <td>1.276</td>\n",
       "      <td>34715</td>\n",
       "      <td>34716</td>\n",
       "      <td>0.0</td>\n",
       "      <td>[0.2, 0.23]</td>\n",
       "    </tr>\n",
       "    <tr>\n",
       "      <th>ICC2k</th>\n",
       "      <td>Average random raters</td>\n",
       "      <td>0.217</td>\n",
       "      <td>1.277</td>\n",
       "      <td>34715</td>\n",
       "      <td>34715</td>\n",
       "      <td>0.0</td>\n",
       "      <td>[0.2, 0.23]</td>\n",
       "    </tr>\n",
       "    <tr>\n",
       "      <th>ICC3k</th>\n",
       "      <td>Average fixed raters</td>\n",
       "      <td>0.217</td>\n",
       "      <td>1.277</td>\n",
       "      <td>34715</td>\n",
       "      <td>34715</td>\n",
       "      <td>0.0</td>\n",
       "      <td>[0.2, 0.23]</td>\n",
       "    </tr>\n",
       "  </tbody>\n",
       "</table>\n",
       "</div>"
      ],
      "text/plain": [
       "                   Description    ICC      F    df1    df2  pval         CI95%\n",
       "Type                                                                          \n",
       "ICC1    Single raters absolute  0.121  1.276  34715  34716   0.0  [0.11, 0.13]\n",
       "ICC2      Single random raters  0.121  1.277  34715  34715   0.0  [0.11, 0.13]\n",
       "ICC3       Single fixed raters  0.122  1.277  34715  34715   0.0  [0.11, 0.13]\n",
       "ICC1k  Average raters absolute  0.216  1.276  34715  34716   0.0   [0.2, 0.23]\n",
       "ICC2k    Average random raters  0.217  1.277  34715  34715   0.0   [0.2, 0.23]\n",
       "ICC3k     Average fixed raters  0.217  1.277  34715  34715   0.0   [0.2, 0.23]"
      ]
     },
     "execution_count": 10,
     "metadata": {},
     "output_type": "execute_result"
    }
   ],
   "source": [
    "%%time\n",
    "import pingouin as pg\n",
    "\n",
    "# coefs = np.array([pls_weights, ridge_weights])\n",
    "coefs = np.array([s1, s2])\n",
    "# print(f'{population}_{measure}_{age_group}', coefs.shape)\n",
    "\n",
    "icc_data = pd.DataFrame(coefs).melt(var_name='connection', value_name='weight', ignore_index=False)\n",
    "icc_data['cv_run_num'] = icc_data.index\n",
    "icc = pg.intraclass_corr(data=icc_data, targets='connection', raters='cv_run_num', ratings='weight').round(3)\n",
    "icc.set_index(\"Type\")"
   ]
  },
  {
   "cell_type": "markdown",
   "metadata": {},
   "source": [
    "## Plot Weights"
   ]
  },
  {
   "cell_type": "code",
   "execution_count": null,
   "metadata": {},
   "outputs": [],
   "source": [
    "from common.plotting import create_power_fc_matrix, plot_connections\n",
    "from mne.viz import circular_layout, plot_connectivity_circle"
   ]
  },
  {
   "cell_type": "markdown",
   "metadata": {},
   "source": [
    "### Nilearn"
   ]
  },
  {
   "cell_type": "code",
   "execution_count": null,
   "metadata": {},
   "outputs": [],
   "source": [
    "plot_connections(selected_features, -0.035, 0.035, True)"
   ]
  },
  {
   "cell_type": "markdown",
   "metadata": {},
   "source": [
    "### MNE"
   ]
  },
  {
   "cell_type": "code",
   "execution_count": null,
   "metadata": {},
   "outputs": [],
   "source": [
    "from operator import itemgetter\n",
    "from common.paths import POWER\n",
    "\n",
    "power_labels = pd.read_csv(POWER, index_col='ROI')\n",
    "node_names = [str(node_num) for node_num in range(1, 265)]\n",
    "node_labels = list(zip(node_names, power_labels['Assignment']))\n",
    "node_labels.sort(key=itemgetter(1))\n",
    "node_order = [node[0] for node in node_labels]\n",
    "\n",
    "num_nodes_per_system = power_labels['Assignment'].value_counts().sort_index()\n",
    "group_boundaries = np.array(np.cumsum(num_nodes_per_system.values)[:-1])\n",
    "\n",
    "node_colors = power_labels['Color'].values.tolist()\n",
    "\n",
    "node_angles = circular_layout(node_names, node_order, group_boundaries=group_boundaries,\n",
    "                              group_sep=0)"
   ]
  },
  {
   "cell_type": "code",
   "execution_count": null,
   "metadata": {},
   "outputs": [],
   "source": [
    "matrix = create_power_fc_matrix(selected_features)\n",
    "\n",
    "# plot_connectivity_circle(matrix, node_names, n_lines=300, node_angles=node_angles, \n",
    "#                          fontsize_names=4, padding=0, colormap='bwr', linewidth=1, show=True,\n",
    "#                          node_colors=node_colors)\n",
    "node_names = [\"\" for node_num in range(1, 265)]\n",
    "fig, _ = plot_connectivity_circle(matrix, node_names, n_lines=300, node_angles=node_angles, \n",
    "                         fontsize_names=4, padding=0, colormap='bwr', linewidth=1, show=True,\n",
    "                         node_colors=node_colors, facecolor=(0, 0, 0, 0), node_edgecolor=(0, 0, 0, 0),\n",
    "                         colorbar=True, node_width=0.9)\n",
    "fig.savefig('/home/bpho/Documents/MSc_Research-Project/images/demo.png', transparent=True)"
   ]
  },
  {
   "cell_type": "markdown",
   "metadata": {},
   "source": [
    "## Analyze Nodes"
   ]
  },
  {
   "cell_type": "code",
   "execution_count": null,
   "metadata": {},
   "outputs": [],
   "source": [
    "from nilearn import plotting, datasets\n",
    "from common.calculation import get_k_argmax\n",
    "from common.plotting import create_power_fc_matrix, convert_fc_to_node_strength\n",
    "\n",
    "power = datasets.fetch_coords_power_2011()\n",
    "coords = np.vstack((power.rois['x'], power.rois['y'], power.rois['z'])).T\n",
    "matrix = create_power_fc_matrix(pls_coef)\n",
    "\n",
    "# clip connectivity matrix to preserve positive and negative edges\n",
    "positive_edges = np.clip(matrix, 0, matrix.max())\n",
    "negative_edges = np.clip(matrix, matrix.min(), 0)\n",
    "\n",
    "# calculate strength for positive edges\n",
    "node_strength_positive = convert_fc_to_node_strength(positive_edges)\n",
    "\n",
    "# calculate strength for negative edges\n",
    "node_strength_negative = convert_fc_to_node_strength(negative_edges)\n",
    "\n",
    "print(node_strength_positive.shape, node_strength_negative.shape)\n",
    "top_pos_nodes = get_k_argmax(node_strength_positive, 10)\n",
    "top_neg_nodes = get_k_argmax(node_strength_negative, 10)\n",
    "\n",
    "print(coords[top_pos_nodes], node_strength_positive[top_pos_nodes])\n",
    "print(coords[top_neg_nodes], node_strength_negative[top_neg_nodes])\n",
    "\n",
    "plotting.plot_markers(node_strength_positive[top_pos_nodes], coords[top_pos_nodes],\n",
    "                      node_vmin=0, node_vmax=1, node_cmap=\"YlOrRd\")\n",
    "plotting.plot_markers(node_strength_negative[top_neg_nodes], coords[top_neg_nodes],\n",
    "                      node_vmin=0, node_vmax=1, node_cmap=\"PuBu\")"
   ]
  }
 ],
 "metadata": {
  "kernelspec": {
   "display_name": "venv",
   "language": "python",
   "name": "venv"
  },
  "language_info": {
   "codemirror_mode": {
    "name": "ipython",
    "version": 3
   },
   "file_extension": ".py",
   "mimetype": "text/x-python",
   "name": "python",
   "nbconvert_exporter": "python",
   "pygments_lexer": "ipython3",
   "version": "3.7.10"
  }
 },
 "nbformat": 4,
 "nbformat_minor": 4
}
