{
 "cells": [
  {
   "cell_type": "markdown",
   "metadata": {},
   "source": [
    "# Age and Sex Prediction"
   ]
  },
  {
   "cell_type": "code",
   "execution_count": 1,
   "metadata": {},
   "outputs": [],
   "source": [
    "import pandas as pd\n",
    "import numpy as np\n",
    "\n",
    "%load_ext autoreload\n",
    "%autoreload 2\n",
    "\n",
    "import matplotlib.pyplot as plt\n",
    "%matplotlib inline\n",
    "\n",
    "import seaborn as sns\n",
    "sns.set_theme(\n",
    "    context=\"paper\", \n",
    "    style=\"whitegrid\", \n",
    "    font_scale=1.2,\n",
    "    rc={'figure.figsize': (10, 10), 'figure.dpi': 300}\n",
    ")\n",
    "\n",
    "from sklearn.model_selection import cross_validate\n",
    "from sklearn.preprocessing import StandardScaler\n",
    "from sklearn.pipeline import make_pipeline"
   ]
  },
  {
   "cell_type": "markdown",
   "metadata": {},
   "source": [
    "## Get Data"
   ]
  },
  {
   "cell_type": "code",
   "execution_count": 14,
   "metadata": {},
   "outputs": [
    {
     "name": "stdout",
     "output_type": "stream",
     "text": [
      "X: (373, 34716) | Y: 6 | Age: (373,) | Population: adhd\n"
     ]
    }
   ],
   "source": [
    "from common.data import get_data\n",
    "from common.paths import HEALTHY, ADHD\n",
    "\n",
    "X, Y, demographics, population = get_data(label_path=ADHD)\n",
    "ages, sexes = demographics['Age'], demographics['Sex']\n",
    "\n",
    "print(f'X: {X.shape} | Y: {len(Y.keys())} | Age: {ages.shape} | Population: {population}')"
   ]
  },
  {
   "cell_type": "markdown",
   "metadata": {},
   "source": [
    "## Age"
   ]
  },
  {
   "cell_type": "code",
   "execution_count": 9,
   "metadata": {},
   "outputs": [],
   "source": [
    "from sklearn.linear_model import Ridge, RidgeCV\n",
    "from sklearn.model_selection import permutation_test_score\n",
    "\n",
    "from common.scoring import RKF_10_10\n",
    "from common.paths import RIDGE_RESULTS, RIDGE_PSCORES\n",
    "from common.results import save_results, save_perm_score"
   ]
  },
  {
   "cell_type": "markdown",
   "metadata": {},
   "source": [
    "### Ridge"
   ]
  },
  {
   "cell_type": "code",
   "execution_count": 15,
   "metadata": {},
   "outputs": [
    {
     "name": "stdout",
     "output_type": "stream",
     "text": [
      "ridge_adhd_age_all\n",
      "best score: 0.46, best alpha: 4501\n",
      "CPU times: user 1h 22min 38s, sys: 2min 16s, total: 1h 24min 54s\n",
      "Wall time: 8min 29s\n"
     ]
    }
   ],
   "source": [
    "%%time\n",
    "\n",
    "selected_target = \"age\"\n",
    "age_group = 'all'\n",
    "\n",
    "pipe = make_pipeline(StandardScaler(), RidgeCV(alphas=[a for a in range(1, 10000, 100)],\n",
    "                                                       scoring='r2', cv=RKF_10_10))\n",
    "pipe.fit(X, ages)\n",
    "\n",
    "print(f'ridge_{population}_{selected_target}_{age_group}')\n",
    "print(f'best score: {pipe[\"ridgecv\"].best_score_:.2f}, best alpha: {pipe[\"ridgecv\"].alpha_}')"
   ]
  },
  {
   "cell_type": "code",
   "execution_count": 16,
   "metadata": {},
   "outputs": [
    {
     "data": {
      "text/html": [
       "<div>\n",
       "<style scoped>\n",
       "    .dataframe tbody tr th:only-of-type {\n",
       "        vertical-align: middle;\n",
       "    }\n",
       "\n",
       "    .dataframe tbody tr th {\n",
       "        vertical-align: top;\n",
       "    }\n",
       "\n",
       "    .dataframe thead th {\n",
       "        text-align: right;\n",
       "    }\n",
       "</style>\n",
       "<table border=\"1\" class=\"dataframe\">\n",
       "  <thead>\n",
       "    <tr style=\"text-align: right;\">\n",
       "      <th></th>\n",
       "      <th>Model</th>\n",
       "      <th>Population</th>\n",
       "      <th>Target</th>\n",
       "      <th>Bin</th>\n",
       "      <th>Alpha</th>\n",
       "      <th>Score</th>\n",
       "      <th>P-value</th>\n",
       "    </tr>\n",
       "  </thead>\n",
       "  <tbody>\n",
       "    <tr>\n",
       "      <th>0</th>\n",
       "      <td>ridge</td>\n",
       "      <td>adhd</td>\n",
       "      <td>age</td>\n",
       "      <td>all</td>\n",
       "      <td>1</td>\n",
       "      <td>0.445012</td>\n",
       "      <td>0.009901</td>\n",
       "    </tr>\n",
       "  </tbody>\n",
       "</table>\n",
       "</div>"
      ],
      "text/plain": [
       "   Model Population Target  Bin  Alpha     Score   P-value\n",
       "0  ridge       adhd    age  all      1  0.445012  0.009901"
      ]
     },
     "metadata": {},
     "output_type": "display_data"
    },
    {
     "name": "stdout",
     "output_type": "stream",
     "text": [
      "CPU times: user 5h 22min 32s, sys: 7min 33s, total: 5h 30min 6s\n",
      "Wall time: 34min 2s\n"
     ]
    },
    {
     "data": {
      "text/plain": [
       "'/home/bpho/Documents/MSc_Research-Project/scratch_data/model_results/Ridge/ridge_pts_adhd_age.csv'"
      ]
     },
     "execution_count": 16,
     "metadata": {},
     "output_type": "execute_result"
    }
   ],
   "source": [
    "%%time\n",
    "\n",
    "selected_target = \"age\"\n",
    "age_group = 'all'\n",
    "best_alpha = 1\n",
    "\n",
    "pipe = make_pipeline(StandardScaler(), Ridge(alpha=best_alpha))\n",
    "score, perm_scores, pvalue = permutation_test_score(pipe, X, ages, scoring='r2', cv=RKF_10_10)\n",
    "results = pd.DataFrame([{    \n",
    "            'Model': 'ridge',\n",
    "            'Population': population,\n",
    "            'Target': selected_target,\n",
    "            'Bin': age_group,\n",
    "            'Alpha': best_alpha,\n",
    "            'Score': score,\n",
    "            'P-value': pvalue,\n",
    "        }])\n",
    "save_perm_score(perm_scores, f'ridge_{population}_{selected_target}_{age_group}_perm_scores', \n",
    "                RIDGE_PSCORES)\n",
    "display(results)\n",
    "\n",
    "filename = f'ridge_pts_{population}_{selected_target}'\n",
    "save_results(results, filename, RIDGE_RESULTS)"
   ]
  },
  {
   "cell_type": "markdown",
   "metadata": {},
   "source": [
    "## Sex"
   ]
  },
  {
   "cell_type": "code",
   "execution_count": 37,
   "metadata": {},
   "outputs": [],
   "source": [
    "from sklearn.linear_model import RidgeClassifierCV\n",
    "from scipy.stats import binom\n",
    "from common.scoring import RKF_10_10"
   ]
  },
  {
   "cell_type": "markdown",
   "metadata": {},
   "source": [
    "### Ridge"
   ]
  },
  {
   "cell_type": "code",
   "execution_count": 33,
   "metadata": {},
   "outputs": [
    {
     "name": "stdout",
     "output_type": "stream",
     "text": [
      "ridge_adhd_sex_all\n",
      "best score: 0.74\n",
      "CPU times: user 3h 28min 51s, sys: 14min 21s, total: 3h 43min 13s\n",
      "Wall time: 22min 20s\n"
     ]
    }
   ],
   "source": [
    "%%time\n",
    "\n",
    "selected_target = \"sex\"\n",
    "age_group = 'all'\n",
    "\n",
    "pipe = make_pipeline(StandardScaler(), RidgeClassifierCV(alphas=[a for a in range(1, 10000, 100)],\n",
    "                                                         class_weight='balanced', cv=RKF_10_10))\n",
    "pipe.fit(X, sexes)\n",
    "\n",
    "print(f'ridge_{population}_{selected_target}_{age_group}')\n",
    "print(f'best score: {pipe[\"ridgeclassifiercv\"].best_score_:.2f}')\n",
    "print(f'best alpha: {pipe[\"ridgeclassifiercv\"].alpha_}')"
   ]
  },
  {
   "cell_type": "code",
   "execution_count": 36,
   "metadata": {},
   "outputs": [
    {
     "name": "stdout",
     "output_type": "stream",
     "text": [
      "(373,) 2301\n"
     ]
    }
   ],
   "source": [
    "print(sexes.shape, pipe[\"ridgeclassifiercv\"].alpha_)"
   ]
  },
  {
   "cell_type": "code",
   "execution_count": null,
   "metadata": {},
   "outputs": [],
   "source": [
    "%%time\n",
    "\n",
    "selected_target = \"sex\"\n",
    "age_group = 'all'\n",
    "\n",
    "pipe = make_pipeline(StandardScaler(), RidgeClassifier(alpha=2301, class_weight='balanced', \n",
    "                                                       cv=RKF_10_10))\n",
    "pipe.fit(X, sexes)\n",
    "\n",
    "print(f'ridge_{population}_{selected_target}_{age_group}')\n",
    "print(f'best score: {pipe[\"ridgeclassifiercv\"].best_score_:.2f}')"
   ]
  },
  {
   "cell_type": "code",
   "execution_count": 58,
   "metadata": {},
   "outputs": [
    {
     "name": "stdout",
     "output_type": "stream",
     "text": [
      "61.0\n",
      "0.007389705258519119\n"
     ]
    }
   ],
   "source": [
    "q, n, p = 0.95, 106, 0.5\n",
    "print(binom.ppf(q, n, p))\n",
    "print(1 - binom.cdf(65, n, p))"
   ]
  },
  {
   "cell_type": "code",
   "execution_count": null,
   "metadata": {},
   "outputs": [],
   "source": []
  }
 ],
 "metadata": {
  "kernelspec": {
   "display_name": "venv",
   "language": "python",
   "name": "venv"
  },
  "language_info": {
   "codemirror_mode": {
    "name": "ipython",
    "version": 3
   },
   "file_extension": ".py",
   "mimetype": "text/x-python",
   "name": "python",
   "nbconvert_exporter": "python",
   "pygments_lexer": "ipython3",
   "version": "3.7.10"
  }
 },
 "nbformat": 4,
 "nbformat_minor": 4
}
