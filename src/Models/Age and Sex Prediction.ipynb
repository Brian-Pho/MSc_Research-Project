{
 "cells": [
  {
   "cell_type": "markdown",
   "metadata": {},
   "source": [
    "# Age and Sex Prediction"
   ]
  },
  {
   "cell_type": "code",
   "execution_count": 1,
   "metadata": {},
   "outputs": [],
   "source": [
    "import pandas as pd\n",
    "import numpy as np\n",
    "\n",
    "%load_ext autoreload\n",
    "%autoreload 2\n",
    "\n",
    "import matplotlib.pyplot as plt\n",
    "%matplotlib inline\n",
    "\n",
    "import seaborn as sns\n",
    "sns.set_theme(\n",
    "    context=\"paper\", \n",
    "    style=\"whitegrid\", \n",
    "    font_scale=1.2,\n",
    "    rc={'figure.figsize': (10, 10), 'figure.dpi': 300}\n",
    ")\n",
    "\n",
    "from sklearn.model_selection import cross_validate\n",
    "from sklearn.preprocessing import StandardScaler\n",
    "from sklearn.pipeline import make_pipeline"
   ]
  },
  {
   "cell_type": "markdown",
   "metadata": {},
   "source": [
    "## Get Data"
   ]
  },
  {
   "cell_type": "code",
   "execution_count": 2,
   "metadata": {},
   "outputs": [
    {
     "name": "stdout",
     "output_type": "stream",
     "text": [
      "X: (106, 34716) | Y: 6 | Age: (106,) | Population: healthy\n"
     ]
    }
   ],
   "source": [
    "from common.data import get_data\n",
    "from common.paths import HEALTHY, ADHD\n",
    "\n",
    "X, Y, demographics, population = get_data(label_path=HEALTHY)\n",
    "ages, sexes = demographics['Age'], demographics['Sex']\n",
    "\n",
    "print(f'X: {X.shape} | Y: {len(Y.keys())} | Age: {ages.shape} | Population: {population}')"
   ]
  },
  {
   "cell_type": "markdown",
   "metadata": {},
   "source": [
    "## Age"
   ]
  },
  {
   "cell_type": "code",
   "execution_count": 6,
   "metadata": {},
   "outputs": [],
   "source": [
    "from common.scoring import RKF_10_10\n",
    "from sklearn.cross_decomposition import PLSRegression\n",
    "from sklearn.linear_model import RidgeCV\n",
    "from sklearn.metrics import r2_score"
   ]
  },
  {
   "cell_type": "code",
   "execution_count": 4,
   "metadata": {},
   "outputs": [],
   "source": [
    "def r2(model, X, y):\n",
    "    return r2_score(y, model.predict(X))"
   ]
  },
  {
   "cell_type": "markdown",
   "metadata": {},
   "source": [
    "### PLS"
   ]
  },
  {
   "cell_type": "code",
   "execution_count": null,
   "metadata": {
    "jupyter": {
     "source_hidden": true
    }
   },
   "outputs": [],
   "source": [
    "# UNUSED\n",
    "scores = []\n",
    "\n",
    "for _ in range(100):\n",
    "    subsample_idx = np.random.choice(len(X), 106)\n",
    "    X_sub, ages_sub = X[subsample_idx], ages[subsample_idx]\n",
    "    \n",
    "    pipe = make_pipeline(StandardScaler(), PLSRegression(n_components=4))\n",
    "    score = cross_validate(pipe, X_sub, ages_sub, cv=RKF_10_10, scoring=r2, n_jobs=-1, \n",
    "                           return_train_score=False, return_estimator=False)\n",
    "    scores.append(np.mean(score['test_score']))\n",
    "\n",
    "print(f'PLS age prediction: {np.mean(scores)}')"
   ]
  },
  {
   "cell_type": "markdown",
   "metadata": {},
   "source": [
    "### Ridge"
   ]
  },
  {
   "cell_type": "code",
   "execution_count": 9,
   "metadata": {},
   "outputs": [
    {
     "name": "stdout",
     "output_type": "stream",
     "text": [
      "ridge_healthy_age_all\n",
      "0.19233819888661383\n"
     ]
    }
   ],
   "source": [
    "X_cv = X\n",
    "y_cv = ages\n",
    "selected_target = \"age\"\n",
    "age_group = 'all'\n",
    "scores = []\n",
    "\n",
    "pipe = make_pipeline(StandardScaler(), RidgeCV(alphas=[a for a in range(1, 10000, 100)],\n",
    "                                                       scoring=r2, cv=RKF_10_10))\n",
    "if population == 'adhd':\n",
    "\n",
    "    for _ in range(100):\n",
    "        subsample_idx = np.random.choice(len(X_cv), 106)\n",
    "        X_cv_sub, y_cv_sub = X_cv[subsample_idx], y_cv[subsample_idx]\n",
    "\n",
    "        pipe.fit(X_cv_sub, y_cv_sub)\n",
    "        score = pipe['ridgecv'].best_score_\n",
    "        scores.append(score)\n",
    "else:\n",
    "    pipe.fit(X_cv, y_cv)\n",
    "    scores.append(pipe['ridgecv'].best_score_)\n",
    "\n",
    "print(f'ridge_{population}_{selected_target}_{age_group}')\n",
    "print(np.mean(scores))"
   ]
  },
  {
   "cell_type": "markdown",
   "metadata": {},
   "source": [
    "## Sex"
   ]
  },
  {
   "cell_type": "code",
   "execution_count": 10,
   "metadata": {},
   "outputs": [],
   "source": [
    "from sklearn.linear_model import RidgeClassifierCV"
   ]
  },
  {
   "cell_type": "markdown",
   "metadata": {},
   "source": [
    "### Ridge"
   ]
  },
  {
   "cell_type": "code",
   "execution_count": 11,
   "metadata": {},
   "outputs": [
    {
     "name": "stdout",
     "output_type": "stream",
     "text": [
      "ridge_healthy_sex_all\n",
      "0.5899090909090909\n",
      "CPU times: user 54min 48s, sys: 1min 47s, total: 56min 35s\n",
      "Wall time: 6min 2s\n"
     ]
    }
   ],
   "source": [
    "%%time\n",
    "\n",
    "X_cv = X\n",
    "y_cv = sexes\n",
    "selected_target = \"sex\"\n",
    "age_group = 'all'\n",
    "scores = []\n",
    "\n",
    "pipe = make_pipeline(StandardScaler(), RidgeClassifierCV(alphas=[a for a in range(1, 10000, 100)],\n",
    "                                                         class_weight='balanced', cv=RKF_10_10))\n",
    "if population == 'adhd':\n",
    "\n",
    "    for _ in range(100):\n",
    "        subsample_idx = np.random.choice(len(X_cv), 106)\n",
    "        X_cv_sub, y_cv_sub = X_cv[subsample_idx], y_cv[subsample_idx]\n",
    "\n",
    "        pipe.fit(X_cv_sub, y_cv_sub)\n",
    "        score = pipe['ridgeclassifiercv'].best_score_\n",
    "        scores.append(score)\n",
    "else:\n",
    "    pipe.fit(X_cv, y_cv)\n",
    "    scores.append(pipe['ridgeclassifiercv'].best_score_)\n",
    "\n",
    "print(f'ridge_{population}_{selected_target}_{age_group}')\n",
    "print(np.mean(scores))"
   ]
  },
  {
   "cell_type": "code",
   "execution_count": null,
   "metadata": {},
   "outputs": [],
   "source": []
  }
 ],
 "metadata": {
  "kernelspec": {
   "display_name": "venv",
   "language": "python",
   "name": "venv"
  },
  "language_info": {
   "codemirror_mode": {
    "name": "ipython",
    "version": 3
   },
   "file_extension": ".py",
   "mimetype": "text/x-python",
   "name": "python",
   "nbconvert_exporter": "python",
   "pygments_lexer": "ipython3",
   "version": "3.7.10"
  }
 },
 "nbformat": 4,
 "nbformat_minor": 4
}
