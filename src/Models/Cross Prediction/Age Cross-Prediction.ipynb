{
 "cells": [
  {
   "cell_type": "markdown",
   "metadata": {},
   "source": [
    "# Age Cross-Prediction"
   ]
  },
  {
   "cell_type": "code",
   "execution_count": 1,
   "metadata": {},
   "outputs": [],
   "source": [
    "import pandas as pd\n",
    "import numpy as np\n",
    "\n",
    "%load_ext autoreload\n",
    "%autoreload 2\n",
    "\n",
    "import matplotlib.pyplot as plt\n",
    "%matplotlib inline\n",
    "\n",
    "import seaborn as sns\n",
    "sns.set_theme(\n",
    "    context=\"paper\", \n",
    "    style=\"whitegrid\", \n",
    "    font_scale=1.2,\n",
    "    rc={'figure.figsize': (10, 10), 'figure.dpi': 300}\n",
    ")"
   ]
  },
  {
   "cell_type": "markdown",
   "metadata": {},
   "source": [
    "## Get Data"
   ]
  },
  {
   "cell_type": "code",
   "execution_count": 28,
   "metadata": {},
   "outputs": [
    {
     "name": "stdout",
     "output_type": "stream",
     "text": [
      "X: (373, 34716) | Y: 6 | Age: (373,) | Population: adhd\n"
     ]
    }
   ],
   "source": [
    "from common.data import get_data\n",
    "from common.paths import ADHD\n",
    "\n",
    "X, Y, demographics, population = get_data(wisc_level=5, label_path=ADHD)\n",
    "ages = demographics['Age']\n",
    "\n",
    "print(f'X: {X.shape} | Y: {len(Y.keys())} | Age: {ages.shape} | Population: {population}')"
   ]
  },
  {
   "cell_type": "code",
   "execution_count": 29,
   "metadata": {},
   "outputs": [],
   "source": [
    "from common.binning import bin_by_age, ONLY_BIN_LABELS\n",
    "from common.cross_prediction import get_group_cv_splits, get_group_order\n",
    "from common.paths import CROSS_PRED_RESULTS\n",
    "from common.results import CVResult, save_results\n",
    "from common.scoring import (unimetric_scorer, \n",
    "                            cross_prediction_permutation_test_score, \n",
    "                            N_PERM, SCORING, RKF_10_10)\n",
    "from sklearn.linear_model import Ridge\n",
    "from sklearn.model_selection import cross_validate\n",
    "from sklearn.preprocessing import StandardScaler\n",
    "from sklearn.pipeline import make_pipeline"
   ]
  },
  {
   "cell_type": "markdown",
   "metadata": {},
   "source": [
    "## Run for one target, one age bin"
   ]
  },
  {
   "cell_type": "code",
   "execution_count": 30,
   "metadata": {},
   "outputs": [
    {
     "name": "stdout",
     "output_type": "stream",
     "text": [
      "WISC_PSI: (373,)\n"
     ]
    }
   ],
   "source": [
    "selected_target = \"WISC_PSI\"\n",
    "y = Y[selected_target]\n",
    "\n",
    "print(f'{selected_target}: {y.shape}')"
   ]
  },
  {
   "cell_type": "code",
   "execution_count": 31,
   "metadata": {},
   "outputs": [
    {
     "name": "stdout",
     "output_type": "stream",
     "text": [
      "Bin 1: (114, 34716) | Bin 2: (147, 34716) | Bin 3: (112, 34716)\n",
      "bin_1_cv: 100 | bin_2_cv: 100 | bin_3_cv: 100\n"
     ]
    }
   ],
   "source": [
    "bins = bin_by_age(X, y, ages)\n",
    "bins_cv = get_group_cv_splits(bins, RKF_10_10)\n",
    "\n",
    "print(f'Bin 1: {bins[0][0].shape} | Bin 2: {bins[1][0].shape} | Bin 3: {bins[2][0].shape}')\n",
    "print(f'bin_1_cv: {len(bins_cv[0])} | bin_2_cv: {len(bins_cv[1])} | bin_3_cv: {len(bins_cv[2])}')"
   ]
  },
  {
   "cell_type": "markdown",
   "metadata": {},
   "source": [
    "### Run permutation-test (train bin, test bin)"
   ]
  },
  {
   "cell_type": "code",
   "execution_count": 32,
   "metadata": {},
   "outputs": [
    {
     "name": "stdout",
     "output_type": "stream",
     "text": [
      "Train Group: Bin 1\n",
      "Train Group: Bin 2\n",
      "Train Group: Bin 3\n"
     ]
    },
    {
     "data": {
      "text/html": [
       "<div>\n",
       "<style scoped>\n",
       "    .dataframe tbody tr th:only-of-type {\n",
       "        vertical-align: middle;\n",
       "    }\n",
       "\n",
       "    .dataframe tbody tr th {\n",
       "        vertical-align: top;\n",
       "    }\n",
       "\n",
       "    .dataframe thead th {\n",
       "        text-align: right;\n",
       "    }\n",
       "</style>\n",
       "<table border=\"1\" class=\"dataframe\">\n",
       "  <thead>\n",
       "    <tr style=\"text-align: right;\">\n",
       "      <th></th>\n",
       "      <th>Model</th>\n",
       "      <th>Target</th>\n",
       "      <th>Train</th>\n",
       "      <th>Test</th>\n",
       "      <th>Score</th>\n",
       "      <th>P-value</th>\n",
       "      <th>Population</th>\n",
       "      <th>Num Permutations</th>\n",
       "    </tr>\n",
       "  </thead>\n",
       "  <tbody>\n",
       "    <tr>\n",
       "      <th>0</th>\n",
       "      <td>ridge</td>\n",
       "      <td>WISC_PSI</td>\n",
       "      <td>Bin 1</td>\n",
       "      <td>Bin 1</td>\n",
       "      <td>-0.0791</td>\n",
       "      <td>0.7226</td>\n",
       "      <td>adhd</td>\n",
       "      <td>500</td>\n",
       "    </tr>\n",
       "    <tr>\n",
       "      <th>1</th>\n",
       "      <td>ridge</td>\n",
       "      <td>WISC_PSI</td>\n",
       "      <td>Bin 1</td>\n",
       "      <td>Bin 2</td>\n",
       "      <td>0.0662</td>\n",
       "      <td>0.1756</td>\n",
       "      <td>adhd</td>\n",
       "      <td>500</td>\n",
       "    </tr>\n",
       "    <tr>\n",
       "      <th>2</th>\n",
       "      <td>ridge</td>\n",
       "      <td>WISC_PSI</td>\n",
       "      <td>Bin 1</td>\n",
       "      <td>Bin 3</td>\n",
       "      <td>-0.0291</td>\n",
       "      <td>0.6427</td>\n",
       "      <td>adhd</td>\n",
       "      <td>500</td>\n",
       "    </tr>\n",
       "    <tr>\n",
       "      <th>3</th>\n",
       "      <td>ridge</td>\n",
       "      <td>WISC_PSI</td>\n",
       "      <td>Bin 2</td>\n",
       "      <td>Bin 2</td>\n",
       "      <td>0.0424</td>\n",
       "      <td>0.3433</td>\n",
       "      <td>adhd</td>\n",
       "      <td>500</td>\n",
       "    </tr>\n",
       "    <tr>\n",
       "      <th>4</th>\n",
       "      <td>ridge</td>\n",
       "      <td>WISC_PSI</td>\n",
       "      <td>Bin 2</td>\n",
       "      <td>Bin 3</td>\n",
       "      <td>-0.0533</td>\n",
       "      <td>0.7465</td>\n",
       "      <td>adhd</td>\n",
       "      <td>500</td>\n",
       "    </tr>\n",
       "    <tr>\n",
       "      <th>5</th>\n",
       "      <td>ridge</td>\n",
       "      <td>WISC_PSI</td>\n",
       "      <td>Bin 2</td>\n",
       "      <td>Bin 1</td>\n",
       "      <td>0.0256</td>\n",
       "      <td>0.3952</td>\n",
       "      <td>adhd</td>\n",
       "      <td>500</td>\n",
       "    </tr>\n",
       "    <tr>\n",
       "      <th>6</th>\n",
       "      <td>ridge</td>\n",
       "      <td>WISC_PSI</td>\n",
       "      <td>Bin 3</td>\n",
       "      <td>Bin 3</td>\n",
       "      <td>0.0918</td>\n",
       "      <td>0.2236</td>\n",
       "      <td>adhd</td>\n",
       "      <td>500</td>\n",
       "    </tr>\n",
       "    <tr>\n",
       "      <th>7</th>\n",
       "      <td>ridge</td>\n",
       "      <td>WISC_PSI</td>\n",
       "      <td>Bin 3</td>\n",
       "      <td>Bin 1</td>\n",
       "      <td>0.0279</td>\n",
       "      <td>0.4152</td>\n",
       "      <td>adhd</td>\n",
       "      <td>500</td>\n",
       "    </tr>\n",
       "    <tr>\n",
       "      <th>8</th>\n",
       "      <td>ridge</td>\n",
       "      <td>WISC_PSI</td>\n",
       "      <td>Bin 3</td>\n",
       "      <td>Bin 2</td>\n",
       "      <td>-0.0630</td>\n",
       "      <td>0.7924</td>\n",
       "      <td>adhd</td>\n",
       "      <td>500</td>\n",
       "    </tr>\n",
       "  </tbody>\n",
       "</table>\n",
       "</div>"
      ],
      "text/plain": [
       "   Model    Target  Train   Test   Score  P-value Population  Num Permutations\n",
       "0  ridge  WISC_PSI  Bin 1  Bin 1 -0.0791   0.7226       adhd               500\n",
       "1  ridge  WISC_PSI  Bin 1  Bin 2  0.0662   0.1756       adhd               500\n",
       "2  ridge  WISC_PSI  Bin 1  Bin 3 -0.0291   0.6427       adhd               500\n",
       "3  ridge  WISC_PSI  Bin 2  Bin 2  0.0424   0.3433       adhd               500\n",
       "4  ridge  WISC_PSI  Bin 2  Bin 3 -0.0533   0.7465       adhd               500\n",
       "5  ridge  WISC_PSI  Bin 2  Bin 1  0.0256   0.3952       adhd               500\n",
       "6  ridge  WISC_PSI  Bin 3  Bin 3  0.0918   0.2236       adhd               500\n",
       "7  ridge  WISC_PSI  Bin 3  Bin 1  0.0279   0.4152       adhd               500\n",
       "8  ridge  WISC_PSI  Bin 3  Bin 2 -0.0630   0.7924       adhd               500"
      ]
     },
     "metadata": {},
     "output_type": "display_data"
    },
    {
     "name": "stdout",
     "output_type": "stream",
     "text": [
      "Results saved to: /home/bpho/Documents/MSc_Research-Project/scratch_data/model_results/Cross Prediction/ridge_pts_age_cross_prediction.csv\n",
      "CPU times: user 1d 3h 28min 41s, sys: 28min 26s, total: 1d 3h 57min 7s\n",
      "Wall time: 2h 47min 50s\n"
     ]
    }
   ],
   "source": [
    "%%time\n",
    "\n",
    "bin_alphas = [9901, 4401, 1]  # From previous results\n",
    "\n",
    "bin_order, bin_cv_order, bin_labels = get_group_order(bins, bins_cv, ONLY_BIN_LABELS)\n",
    "results = []\n",
    "perm_scores = []\n",
    "\n",
    "for bin_alpha, bins, bins_cv, labels in zip(bin_alphas, bin_order, bin_cv_order, bin_labels):\n",
    "    train_bin, test_bin_one, test_bin_two = bins[0], bins[1], bins[2]\n",
    "    train_bin_cv, test_bin_one_cv, test_bin_two_cv = bins_cv[0], bins_cv[1], bins_cv[2]\n",
    "    \n",
    "    pipe = make_pipeline(StandardScaler(), Ridge(alpha=bin_alpha))\n",
    "    rs, perms, ps = custom_permutation_test_score(\n",
    "        pipe, train_bin, test_bin_one, test_bin_two, \n",
    "        train_bin_cv, test_bin_one_cv, test_bin_two_cv, N_PERM, unimetric_scorer)\n",
    "    \n",
    "    train_group = labels[0]\n",
    "    for r, p, test_group in zip(rs, ps, labels):\n",
    "        results.append(\n",
    "            CVResult('ridge', selected_target, train_group, test_group, r, p, population, N_PERM)\n",
    "        )\n",
    "    perm_scores.append(perms)\n",
    "    print(f'Train Group: {train_group}')\n",
    "\n",
    "results_df = pd.DataFrame([r.to_dict() for r in results])\n",
    "display(results_df.round(4))\n",
    "filename = 'ridge_pts_age_cross_prediction'\n",
    "results_fp = save_results(results_df, filename, CROSS_PRED_RESULTS)\n",
    "print('Results saved to:', results_fp)"
   ]
  },
  {
   "cell_type": "code",
   "execution_count": null,
   "metadata": {},
   "outputs": [],
   "source": []
  }
 ],
 "metadata": {
  "kernelspec": {
   "display_name": "venv",
   "language": "python",
   "name": "venv"
  },
  "language_info": {
   "codemirror_mode": {
    "name": "ipython",
    "version": 3
   },
   "file_extension": ".py",
   "mimetype": "text/x-python",
   "name": "python",
   "nbconvert_exporter": "python",
   "pygments_lexer": "ipython3",
   "version": "3.7.10"
  }
 },
 "nbformat": 4,
 "nbformat_minor": 4
}
