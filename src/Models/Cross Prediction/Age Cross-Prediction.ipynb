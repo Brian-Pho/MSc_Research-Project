{
 "cells": [
  {
   "cell_type": "markdown",
   "metadata": {},
   "source": [
    "# Age Cross-Prediction"
   ]
  },
  {
   "cell_type": "code",
   "execution_count": 1,
   "metadata": {},
   "outputs": [],
   "source": [
    "import pandas as pd\n",
    "import numpy as np\n",
    "\n",
    "%load_ext autoreload\n",
    "%autoreload 2\n",
    "\n",
    "import matplotlib.pyplot as plt\n",
    "%matplotlib inline\n",
    "\n",
    "import seaborn as sns\n",
    "sns.set_theme(\n",
    "    context=\"paper\", \n",
    "    style=\"whitegrid\", \n",
    "    font_scale=1.2,\n",
    "    rc={'figure.figsize': (10, 10), 'figure.dpi': 300}\n",
    ")"
   ]
  },
  {
   "cell_type": "markdown",
   "metadata": {},
   "source": [
    "## Get Data"
   ]
  },
  {
   "cell_type": "code",
   "execution_count": 23,
   "metadata": {},
   "outputs": [
    {
     "name": "stdout",
     "output_type": "stream",
     "text": [
      "X: (373, 34716) | Y: 6 | Age: (373,) | Population: adhd\n"
     ]
    }
   ],
   "source": [
    "from common.data import get_data\n",
    "from common.paths import ADHD\n",
    "\n",
    "X, Y, demographics, population = get_data(wisc_level=5, label_path=ADHD)\n",
    "ages = demographics['Age']\n",
    "\n",
    "print(f'X: {X.shape} | Y: {len(Y.keys())} | Age: {ages.shape} | Population: {population}')"
   ]
  },
  {
   "cell_type": "code",
   "execution_count": 15,
   "metadata": {},
   "outputs": [],
   "source": [
    "from common.binning import bin_data\n",
    "from common.cross_prediction import get_group_cv_splits, get_group_order\n",
    "from common.paths import CROSS_PRED_RESULTS, CROSS_PRED_PSCORES\n",
    "from common.results import CVResult, save_results, save_perm_score\n",
    "from common.scoring import (unimetric_scorer, \n",
    "                            cross_prediction_permutation_test_score, \n",
    "                            N_PERM, SCORING, RKF_10_10)\n",
    "from sklearn.linear_model import Ridge\n",
    "from sklearn.model_selection import cross_validate\n",
    "from sklearn.preprocessing import StandardScaler\n",
    "from sklearn.pipeline import make_pipeline"
   ]
  },
  {
   "cell_type": "markdown",
   "metadata": {},
   "source": [
    "## Run for one target, one age bin"
   ]
  },
  {
   "cell_type": "code",
   "execution_count": 24,
   "metadata": {},
   "outputs": [
    {
     "name": "stdout",
     "output_type": "stream",
     "text": [
      "WISC_VCI: (373,)\n"
     ]
    }
   ],
   "source": [
    "selected_target = \"WISC_VCI\"\n",
    "y = Y[selected_target]\n",
    "\n",
    "print(f'{selected_target}: {y.shape}')"
   ]
  },
  {
   "cell_type": "code",
   "execution_count": 25,
   "metadata": {},
   "outputs": [
    {
     "name": "stdout",
     "output_type": "stream",
     "text": [
      "Bin 1: (114, 34716)\n",
      "Bin 2: (147, 34716)\n",
      "Bin 3: (112, 34716)\n"
     ]
    }
   ],
   "source": [
    "from common.binning import bin_data\n",
    "\n",
    "X_bins, y_bins, bin_labels = bin_data(X, y, ages, False, 3)\n",
    "\n",
    "for age_bin, bin_label in zip(X_bins, bin_labels):\n",
    "    print(f'{bin_label}: {age_bin.shape}')"
   ]
  },
  {
   "cell_type": "code",
   "execution_count": 26,
   "metadata": {},
   "outputs": [
    {
     "name": "stdout",
     "output_type": "stream",
     "text": [
      "(113, 34716) (113,)\n"
     ]
    }
   ],
   "source": [
    "bin_2_subsample_indices = np.random.choice(147, 113, replace=False)\n",
    "X_bins[1] = X_bins[1][bin_2_subsample_indices]\n",
    "y_bins[1] = y_bins[1][bin_2_subsample_indices]\n",
    "bin_labels[1] = 'Bin 2 Equal'\n",
    "\n",
    "print(X_bins[1].shape, y_bins[1].shape)"
   ]
  },
  {
   "cell_type": "code",
   "execution_count": 27,
   "metadata": {},
   "outputs": [
    {
     "name": "stdout",
     "output_type": "stream",
     "text": [
      "Bin 1: (114, 34716) | Bin 2: (113, 34716) | Bin 3: (112, 34716)\n",
      "bin_1_cv: 100 | bin_2_cv: 100 | bin_3_cv: 100\n"
     ]
    }
   ],
   "source": [
    "bins = [(X_bin, y_bin) for X_bin, y_bin in zip(X_bins, y_bins)]\n",
    "bins_cv = get_group_cv_splits(bins, RKF_10_10)\n",
    "\n",
    "print(f'Bin 1: {bins[0][0].shape} | Bin 2: {bins[1][0].shape} | Bin 3: {bins[2][0].shape}')\n",
    "print(f'bin_1_cv: {len(bins_cv[0])} | bin_2_cv: {len(bins_cv[1])} | bin_3_cv: {len(bins_cv[2])}')"
   ]
  },
  {
   "cell_type": "markdown",
   "metadata": {},
   "source": [
    "### Run permutation-test (train bin, test bin)"
   ]
  },
  {
   "cell_type": "code",
   "execution_count": 28,
   "metadata": {},
   "outputs": [
    {
     "name": "stdout",
     "output_type": "stream",
     "text": [
      "Train Group: Bin 1\n",
      "Train Group: Bin 2 Equal\n",
      "Train Group: Bin 3\n"
     ]
    },
    {
     "data": {
      "text/html": [
       "<div>\n",
       "<style scoped>\n",
       "    .dataframe tbody tr th:only-of-type {\n",
       "        vertical-align: middle;\n",
       "    }\n",
       "\n",
       "    .dataframe tbody tr th {\n",
       "        vertical-align: top;\n",
       "    }\n",
       "\n",
       "    .dataframe thead th {\n",
       "        text-align: right;\n",
       "    }\n",
       "</style>\n",
       "<table border=\"1\" class=\"dataframe\">\n",
       "  <thead>\n",
       "    <tr style=\"text-align: right;\">\n",
       "      <th></th>\n",
       "      <th>Model</th>\n",
       "      <th>Target</th>\n",
       "      <th>Train</th>\n",
       "      <th>Test</th>\n",
       "      <th>Score</th>\n",
       "      <th>P-value</th>\n",
       "      <th>Population</th>\n",
       "      <th>Num Permutations</th>\n",
       "    </tr>\n",
       "  </thead>\n",
       "  <tbody>\n",
       "    <tr>\n",
       "      <th>0</th>\n",
       "      <td>ridge</td>\n",
       "      <td>WISC_VCI</td>\n",
       "      <td>Bin 1</td>\n",
       "      <td>Bin 1</td>\n",
       "      <td>0.2024</td>\n",
       "      <td>0.0639</td>\n",
       "      <td>adhd</td>\n",
       "      <td>500</td>\n",
       "    </tr>\n",
       "    <tr>\n",
       "      <th>1</th>\n",
       "      <td>ridge</td>\n",
       "      <td>WISC_VCI</td>\n",
       "      <td>Bin 1</td>\n",
       "      <td>Bin 2 Equal</td>\n",
       "      <td>0.3986</td>\n",
       "      <td>0.0020</td>\n",
       "      <td>adhd</td>\n",
       "      <td>500</td>\n",
       "    </tr>\n",
       "    <tr>\n",
       "      <th>2</th>\n",
       "      <td>ridge</td>\n",
       "      <td>WISC_VCI</td>\n",
       "      <td>Bin 1</td>\n",
       "      <td>Bin 3</td>\n",
       "      <td>0.2543</td>\n",
       "      <td>0.0020</td>\n",
       "      <td>adhd</td>\n",
       "      <td>500</td>\n",
       "    </tr>\n",
       "    <tr>\n",
       "      <th>3</th>\n",
       "      <td>ridge</td>\n",
       "      <td>WISC_VCI</td>\n",
       "      <td>Bin 2 Equal</td>\n",
       "      <td>Bin 2 Equal</td>\n",
       "      <td>0.3769</td>\n",
       "      <td>0.0020</td>\n",
       "      <td>adhd</td>\n",
       "      <td>500</td>\n",
       "    </tr>\n",
       "    <tr>\n",
       "      <th>4</th>\n",
       "      <td>ridge</td>\n",
       "      <td>WISC_VCI</td>\n",
       "      <td>Bin 2 Equal</td>\n",
       "      <td>Bin 3</td>\n",
       "      <td>0.2042</td>\n",
       "      <td>0.0220</td>\n",
       "      <td>adhd</td>\n",
       "      <td>500</td>\n",
       "    </tr>\n",
       "    <tr>\n",
       "      <th>5</th>\n",
       "      <td>ridge</td>\n",
       "      <td>WISC_VCI</td>\n",
       "      <td>Bin 2 Equal</td>\n",
       "      <td>Bin 1</td>\n",
       "      <td>0.3056</td>\n",
       "      <td>0.0020</td>\n",
       "      <td>adhd</td>\n",
       "      <td>500</td>\n",
       "    </tr>\n",
       "    <tr>\n",
       "      <th>6</th>\n",
       "      <td>ridge</td>\n",
       "      <td>WISC_VCI</td>\n",
       "      <td>Bin 3</td>\n",
       "      <td>Bin 3</td>\n",
       "      <td>0.0589</td>\n",
       "      <td>0.3313</td>\n",
       "      <td>adhd</td>\n",
       "      <td>500</td>\n",
       "    </tr>\n",
       "    <tr>\n",
       "      <th>7</th>\n",
       "      <td>ridge</td>\n",
       "      <td>WISC_VCI</td>\n",
       "      <td>Bin 3</td>\n",
       "      <td>Bin 1</td>\n",
       "      <td>0.3591</td>\n",
       "      <td>0.0020</td>\n",
       "      <td>adhd</td>\n",
       "      <td>500</td>\n",
       "    </tr>\n",
       "    <tr>\n",
       "      <th>8</th>\n",
       "      <td>ridge</td>\n",
       "      <td>WISC_VCI</td>\n",
       "      <td>Bin 3</td>\n",
       "      <td>Bin 2 Equal</td>\n",
       "      <td>0.2807</td>\n",
       "      <td>0.0040</td>\n",
       "      <td>adhd</td>\n",
       "      <td>500</td>\n",
       "    </tr>\n",
       "  </tbody>\n",
       "</table>\n",
       "</div>"
      ],
      "text/plain": [
       "   Model    Target        Train         Test   Score  P-value Population  \\\n",
       "0  ridge  WISC_VCI        Bin 1        Bin 1  0.2024   0.0639       adhd   \n",
       "1  ridge  WISC_VCI        Bin 1  Bin 2 Equal  0.3986   0.0020       adhd   \n",
       "2  ridge  WISC_VCI        Bin 1        Bin 3  0.2543   0.0020       adhd   \n",
       "3  ridge  WISC_VCI  Bin 2 Equal  Bin 2 Equal  0.3769   0.0020       adhd   \n",
       "4  ridge  WISC_VCI  Bin 2 Equal        Bin 3  0.2042   0.0220       adhd   \n",
       "5  ridge  WISC_VCI  Bin 2 Equal        Bin 1  0.3056   0.0020       adhd   \n",
       "6  ridge  WISC_VCI        Bin 3        Bin 3  0.0589   0.3313       adhd   \n",
       "7  ridge  WISC_VCI        Bin 3        Bin 1  0.3591   0.0020       adhd   \n",
       "8  ridge  WISC_VCI        Bin 3  Bin 2 Equal  0.2807   0.0040       adhd   \n",
       "\n",
       "   Num Permutations  \n",
       "0               500  \n",
       "1               500  \n",
       "2               500  \n",
       "3               500  \n",
       "4               500  \n",
       "5               500  \n",
       "6               500  \n",
       "7               500  \n",
       "8               500  "
      ]
     },
     "metadata": {},
     "output_type": "display_data"
    },
    {
     "name": "stdout",
     "output_type": "stream",
     "text": [
      "Results saved to: /home/bpho/Documents/MSc_Research-Project/scratch_data/model_results/Cross Prediction/ridge_pts_age_cross_prediction_bin_two_equal_samples.csv\n",
      "CPU times: user 22h 30min 11s, sys: 20min 13s, total: 22h 50min 24s\n",
      "Wall time: 2h 17min 10s\n"
     ]
    }
   ],
   "source": [
    "%%time\n",
    "\n",
    "bin_alphas = [1, 6901, 7101]  # From previous results\n",
    "\n",
    "bin_order, cv_order, label_order = get_group_order(bins, bins_cv, bin_labels)\n",
    "results = []\n",
    "# perm_scores = []\n",
    "\n",
    "for bin_alpha, bins, bins_cv, labels in zip(bin_alphas, bin_order, cv_order, label_order):\n",
    "    train_bin, test_bin_one, test_bin_two = bins[0], bins[1], bins[2]\n",
    "    train_bin_cv, test_bin_one_cv, test_bin_two_cv = bins_cv[0], bins_cv[1], bins_cv[2]\n",
    "    \n",
    "    pipe = make_pipeline(StandardScaler(), Ridge(alpha=bin_alpha))\n",
    "    rs, perms, ps = cross_prediction_permutation_test_score(\n",
    "        pipe, train_bin, test_bin_one, test_bin_two, \n",
    "        train_bin_cv, test_bin_one_cv, test_bin_two_cv, N_PERM, unimetric_scorer)\n",
    "    \n",
    "    train_group = labels[0]\n",
    "    for r, p, test_group in zip(rs, ps, labels):\n",
    "        results.append(\n",
    "            CVResult('ridge', selected_target, train_group, test_group, r, p, population, N_PERM)\n",
    "        )\n",
    "#     perm_scores.append(perms)\n",
    "    print(f'Train Group: {train_group}')\n",
    "    save_perm_score(perms, f'ridge_{population}_{selected_target}_{train_group}_cross_prediction_perm_scores', CROSS_PRED_PSCORES)\n",
    "\n",
    "results_df = pd.DataFrame([r.to_dict() for r in results])\n",
    "display(results_df.round(4))\n",
    "filename = 'ridge_pts_age_cross_prediction_bin_two_equal_samples'\n",
    "results_fp = save_results(results_df, filename, CROSS_PRED_RESULTS)\n",
    "print('Results saved to:', results_fp)"
   ]
  },
  {
   "cell_type": "code",
   "execution_count": null,
   "metadata": {},
   "outputs": [],
   "source": []
  }
 ],
 "metadata": {
  "kernelspec": {
   "display_name": "venv",
   "language": "python",
   "name": "venv"
  },
  "language_info": {
   "codemirror_mode": {
    "name": "ipython",
    "version": 3
   },
   "file_extension": ".py",
   "mimetype": "text/x-python",
   "name": "python",
   "nbconvert_exporter": "python",
   "pygments_lexer": "ipython3",
   "version": "3.7.10"
  }
 },
 "nbformat": 4,
 "nbformat_minor": 4
}
