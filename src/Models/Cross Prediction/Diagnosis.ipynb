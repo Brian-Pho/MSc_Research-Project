{
 "cells": [
  {
   "cell_type": "markdown",
   "metadata": {},
   "source": [
    "# Diagnosis Cross-Prediction"
   ]
  },
  {
   "cell_type": "code",
   "execution_count": 1,
   "metadata": {},
   "outputs": [],
   "source": [
    "import pandas as pd\n",
    "import numpy as np\n",
    "\n",
    "%load_ext autoreload\n",
    "%autoreload 2\n",
    "\n",
    "import matplotlib.pyplot as plt\n",
    "%matplotlib inline\n",
    "\n",
    "import seaborn as sns\n",
    "sns.set_theme(\n",
    "    context=\"paper\", \n",
    "    style=\"whitegrid\", \n",
    "    font_scale=1.2,\n",
    "    rc={'figure.figsize': (10, 10), 'figure.dpi': 300}\n",
    ")"
   ]
  },
  {
   "cell_type": "markdown",
   "metadata": {},
   "source": [
    "## Get Data"
   ]
  },
  {
   "cell_type": "code",
   "execution_count": 2,
   "metadata": {},
   "outputs": [
    {
     "name": "stdout",
     "output_type": "stream",
     "text": [
      "X_healthy: (106, 34716) | X_adhd_one: (190, 34716) | X_adhd_two: (190, 34716)\n"
     ]
    }
   ],
   "source": [
    "from os.path import join\n",
    "from common.data import get_data\n",
    "from common.paths import BIOBANK_LABELS\n",
    "\n",
    "healthy = join(BIOBANK_LABELS, 'Subjects_with_WISC (healthy).csv')\n",
    "X_healthy, Y_healthy, demographics, population = get_data(5, healthy)\n",
    "\n",
    "adhd_group_one = join(BIOBANK_LABELS, 'Subjects_with_WISC (adhd 1).csv')\n",
    "X_adhd_one, Y_adhd_one, demographics, population = get_data(5, adhd_group_one)\n",
    "\n",
    "adhd_group_two = join(BIOBANK_LABELS, 'Subjects_with_WISC (adhd 2).csv')\n",
    "X_adhd_two, Y_adhd_two, demographics, population = get_data(5, adhd_group_two)\n",
    "\n",
    "print(f'X_healthy: {X_healthy.shape} | X_adhd_one: {X_adhd_one.shape} | X_adhd_two: {X_adhd_two.shape}')\n",
    "# print(Y_adhd_one[\"WISC_FSIQ\"][:5])\n",
    "# print(Y_adhd_two[\"WISC_FSIQ\"][:5])"
   ]
  },
  {
   "cell_type": "code",
   "execution_count": 3,
   "metadata": {},
   "outputs": [],
   "source": [
    "from os.path import exists\n",
    "from common.paths import CROSS_PRED_RESULTS\n",
    "from common.scoring import (unimetric_scorer, \n",
    "                            custom_permutation_test_score, \n",
    "                            N_PERM, SCORING, RKF_10_10)\n",
    "from sklearn.linear_model import Ridge\n",
    "from sklearn.model_selection import cross_validate\n",
    "from sklearn.preprocessing import StandardScaler\n",
    "from sklearn.pipeline import make_pipeline"
   ]
  },
  {
   "cell_type": "markdown",
   "metadata": {},
   "source": [
    "## Run for one target, one age bin"
   ]
  },
  {
   "cell_type": "code",
   "execution_count": 5,
   "metadata": {},
   "outputs": [
    {
     "name": "stdout",
     "output_type": "stream",
     "text": [
      "WISC_FSIQ: (106,), (190,), (190,)\n"
     ]
    }
   ],
   "source": [
    "selected_target = \"WISC_FSIQ\"\n",
    "y_healthy = Y_healthy[selected_target]\n",
    "y_adhd_one = Y_adhd_one[selected_target]\n",
    "y_adhd_two = Y_adhd_two[selected_target]\n",
    "\n",
    "print(f'{selected_target}: {y_healthy.shape}, {y_adhd_one.shape}, {y_adhd_two.shape}')"
   ]
  },
  {
   "cell_type": "code",
   "execution_count": 6,
   "metadata": {},
   "outputs": [],
   "source": [
    "healthy = (X_healthy, y_healthy)\n",
    "adhd_one = (X_adhd_one, y_adhd_one)\n",
    "adhd_two = (X_adhd_two, y_adhd_two)\n",
    "\n",
    "healthy_cv = [(train, test) for train, test in RKF_10_10.split(healthy[0])]\n",
    "adhd_one_cv = [(train, test) for train, test in RKF_10_10.split(adhd_one[0])]\n",
    "adhd_two_cv = [(train, test) for train, test in RKF_10_10.split(adhd_two[0])]"
   ]
  },
  {
   "cell_type": "markdown",
   "metadata": {},
   "source": [
    "### Run permutation-test (train group, test group)"
   ]
  },
  {
   "cell_type": "code",
   "execution_count": null,
   "metadata": {},
   "outputs": [],
   "source": [
    "%%time\n",
    "# From previous results\n",
    "diag_alphas = [5000, 15000, 15000]\n",
    "diag_labels = [\n",
    "    ['Healthy', 'ADHD_One', 'ADHD_Two'],\n",
    "    ['ADHD_One', 'ADHD_Two', 'Healthy'],\n",
    "    ['ADHD_Two', 'Healthy', 'ADHD_One']\n",
    "]\n",
    "diag_order = [\n",
    "    [healthy, adhd_one, adhd_two], \n",
    "    [adhd_one, adhd_two, healthy], \n",
    "    [adhd_two, healthy, adhd_one]\n",
    "]\n",
    "diag_cv_order = [\n",
    "    [healthy_cv, adhd_one_cv, adhd_two_cv], \n",
    "    [adhd_one_cv, adhd_two_cv, healthy_cv], \n",
    "    [adhd_two_cv, healthy_cv, adhd_one_cv]\n",
    "]\n",
    "results = []\n",
    "\n",
    "for diag_alpha, diags, diags_cv, label in zip(diag_alphas, diag_order, diag_cv_order, diag_labels):\n",
    "    train_diag, test_diag_one, test_diag_two = diags[0], diags[1], diags[2]\n",
    "    train_diag_cv, test_diag_one_cv, test_diag_two_cv = diags_cv[0], diags_cv[1], diags_cv[2]\n",
    "    \n",
    "    pipe = make_pipeline(StandardScaler(), Ridge(alpha=diag_alpha))\n",
    "    result = custom_permutation_test_score(\n",
    "        pipe, train_diag, test_diag_one, test_diag_two, \n",
    "        train_diag_cv, test_diag_one_cv, test_diag_two_cv, N_PERM, unimetric_scorer)\n",
    "    \n",
    "    for r, p, group in zip(result[0], result[2], label):\n",
    "        results.append({\n",
    "            'Model': 'ridge',\n",
    "            'Target': selected_target,\n",
    "            'Num Permutations': N_PERM,\n",
    "            'Train Group': label[0],\n",
    "            'Test Group': group,\n",
    "            'Score': r,\n",
    "            'P-value': p,\n",
    "        })\n",
    "#     print(results[-3:])\n",
    "    print(f'Train Group: {label[0]}')\n",
    "\n",
    "results_df = pd.DataFrame(results)\n",
    "display(results_df.round(4))\n",
    "filename = f'ridge_pts_diagnosis_cross_prediction.csv'\n",
    "output_path = join(CROSS_PRED_RESULTS, filename)\n",
    "mode = 'a' if exists(output_path) else 'w'\n",
    "results_df.to_csv(output_path, mode=mode, header=not exists(output_path))"
   ]
  },
  {
   "cell_type": "markdown",
   "metadata": {},
   "source": [
    "### Visualize permutation results"
   ]
  },
  {
   "cell_type": "code",
   "execution_count": null,
   "metadata": {},
   "outputs": [],
   "source": []
  }
 ],
 "metadata": {
  "kernelspec": {
   "display_name": "venv",
   "language": "python",
   "name": "venv"
  },
  "language_info": {
   "codemirror_mode": {
    "name": "ipython",
    "version": 3
   },
   "file_extension": ".py",
   "mimetype": "text/x-python",
   "name": "python",
   "nbconvert_exporter": "python",
   "pygments_lexer": "ipython3",
   "version": "3.7.10"
  }
 },
 "nbformat": 4,
 "nbformat_minor": 4
}
