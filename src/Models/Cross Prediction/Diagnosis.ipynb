{
 "cells": [
  {
   "cell_type": "markdown",
   "metadata": {},
   "source": [
    "# Diagnosis Cross-Prediction"
   ]
  },
  {
   "cell_type": "code",
   "execution_count": 1,
   "metadata": {},
   "outputs": [],
   "source": [
    "import pandas as pd\n",
    "import numpy as np\n",
    "\n",
    "%load_ext autoreload\n",
    "%autoreload 2\n",
    "\n",
    "import matplotlib.pyplot as plt\n",
    "%matplotlib inline\n",
    "\n",
    "import seaborn as sns\n",
    "sns.set_theme(\n",
    "    context=\"paper\", \n",
    "    style=\"whitegrid\", \n",
    "    font_scale=1.2,\n",
    "    rc={'figure.figsize': (10, 10), 'figure.dpi': 300}\n",
    ")"
   ]
  },
  {
   "cell_type": "markdown",
   "metadata": {},
   "source": [
    "## Get Data"
   ]
  },
  {
   "cell_type": "code",
   "execution_count": 2,
   "metadata": {},
   "outputs": [
    {
     "name": "stdout",
     "output_type": "stream",
     "text": [
      "X_healthy: (106, 34716) | X_adhd_one: (106, 34716) | X_adhd_two: (106, 34716)\n"
     ]
    }
   ],
   "source": [
    "from os.path import join\n",
    "from common.data import get_data\n",
    "from common.paths import HEALTHY, ADHD_ONE, ADHD_TWO\n",
    "\n",
    "X_healthy, Y_healthy, healthy_demo, healthy_pop = get_data(5, HEALTHY)\n",
    "X_adhd_one, Y_adhd_one, adhd_one_demo, adhd_one_pop = get_data(5, ADHD_ONE)\n",
    "X_adhd_two, Y_adhd_two, adhd_two_demo, adhd_two_pop = get_data(5, ADHD_TWO)\n",
    "\n",
    "print(f'X_healthy: {X_healthy.shape} | X_adhd_one: {X_adhd_one.shape} | X_adhd_two: {X_adhd_two.shape}')"
   ]
  },
  {
   "cell_type": "code",
   "execution_count": 3,
   "metadata": {},
   "outputs": [
    {
     "name": "stdout",
     "output_type": "stream",
     "text": [
      "0.056671523 0.059738882 0.06267111\n",
      "0.03862412 0.041490708 0.043794744\n",
      "0.049966704 0.05083683 0.052254844\n"
     ]
    }
   ],
   "source": [
    "print(np.var(X_healthy), np.var(X_adhd_one), np.var(X_adhd_two))\n",
    "print(np.mean(np.var(X_healthy, axis=0)), np.mean(np.var(X_adhd_one, axis=0)), np.mean(np.var(X_adhd_two, axis=0)))\n",
    "print(np.mean(np.var(X_healthy, axis=1)), np.mean(np.var(X_adhd_one, axis=1)), np.mean(np.var(X_adhd_two, axis=1)))"
   ]
  },
  {
   "cell_type": "code",
   "execution_count": 4,
   "metadata": {},
   "outputs": [],
   "source": [
    "from common.cross_prediction import get_group_cv_splits, get_group_order\n",
    "from common.paths import CROSS_PRED_RESULTS\n",
    "from common.results import CVResult, save_results\n",
    "from common.scoring import (unimetric_scorer, \n",
    "                            custom_permutation_test_score, \n",
    "                            N_PERM, SCORING, RKF_10_10)\n",
    "from sklearn.linear_model import Ridge\n",
    "from sklearn.model_selection import cross_validate\n",
    "from sklearn.preprocessing import StandardScaler\n",
    "from sklearn.pipeline import make_pipeline"
   ]
  },
  {
   "cell_type": "markdown",
   "metadata": {},
   "source": [
    "## Run for one target, one age bin"
   ]
  },
  {
   "cell_type": "code",
   "execution_count": 5,
   "metadata": {},
   "outputs": [
    {
     "name": "stdout",
     "output_type": "stream",
     "text": [
      "WISC_FSIQ: (106,), (106,), (106,)\n"
     ]
    }
   ],
   "source": [
    "selected_target = \"WISC_FSIQ\"\n",
    "y_healthy = Y_healthy[selected_target]\n",
    "y_adhd_one = Y_adhd_one[selected_target]\n",
    "y_adhd_two = Y_adhd_two[selected_target]\n",
    "\n",
    "print(f'{selected_target}: {y_healthy.shape}, {y_adhd_one.shape}, {y_adhd_two.shape}')"
   ]
  },
  {
   "cell_type": "code",
   "execution_count": 7,
   "metadata": {},
   "outputs": [
    {
     "name": "stdout",
     "output_type": "stream",
     "text": [
      "X_healthy: (106, 34716) | X_adhd_one: (106, 34716) | X_adhd_two: (106, 34716)\n"
     ]
    }
   ],
   "source": [
    "from common.data import generate_fake_data\n",
    "\n",
    "X_healthy, y_healthy = generate_fake_data(X_healthy, y_healthy)\n",
    "X_adhd_one, y_adhd_one = generate_fake_data(X_adhd_one, y_adhd_one)\n",
    "X_adhd_two, y_adhd_two = generate_fake_data(X_adhd_two, y_adhd_two)\n",
    "\n",
    "print(f'X_healthy: {X_healthy.shape} | X_adhd_one: {X_adhd_one.shape} | X_adhd_two: {X_adhd_two.shape}')"
   ]
  },
  {
   "cell_type": "code",
   "execution_count": 22,
   "metadata": {},
   "outputs": [
    {
     "name": "stdout",
     "output_type": "stream",
     "text": [
      "Healthy: (106, 34716) | ADHD_ONE: (106, 34716) | ADHD_TWO: (106, 34716)\n",
      "healthy_cv: 100 | adhd_one_cv: 100 | adhd_two_cv: 100\n"
     ]
    }
   ],
   "source": [
    "healthy = (X_healthy, y_healthy)\n",
    "adhd_one = (X_adhd_one, y_adhd_one)\n",
    "adhd_two = (X_adhd_two, y_adhd_two)\n",
    "\n",
    "# From previous results\n",
    "diag_alphas = [5000, 5000, 5000]\n",
    "diag_labels = ['Healthy', 'ADHD_One', 'ADHD_Two']\n",
    "diags = [healthy, adhd_one, adhd_two]\n",
    "diags_cv = get_group_cv_splits(diags, RKF_10_10)\n",
    "\n",
    "print(f'Healthy: {healthy[0].shape} | ADHD_ONE: {adhd_one[0].shape} | ADHD_TWO: {adhd_two[0].shape}')\n",
    "print(f'healthy_cv: {len(diags_cv[0])} | adhd_one_cv: {len(diags_cv[1])} | adhd_two_cv: {len(diags_cv[2])}')"
   ]
  },
  {
   "cell_type": "markdown",
   "metadata": {},
   "source": [
    "### Run stats between the two ADHD groups"
   ]
  },
  {
   "cell_type": "code",
   "execution_count": 6,
   "metadata": {
    "collapsed": true,
    "jupyter": {
     "outputs_hidden": true,
     "source_hidden": true
    }
   },
   "outputs": [
    {
     "name": "stdout",
     "output_type": "stream",
     "text": [
      "(array([0, 1]), array([74, 32]))\n",
      "(array([0, 1]), array([76, 30]))\n"
     ]
    }
   ],
   "source": [
    "adhd_one_sex_counts = np.unique(adhd_one_demo['Sex'], return_counts=True)\n",
    "adhd_two_sex_counts = np.unique(adhd_two_demo['Sex'], return_counts=True)\n",
    "print(adhd_one_sex_counts)\n",
    "print(adhd_two_sex_counts)"
   ]
  },
  {
   "cell_type": "code",
   "execution_count": 17,
   "metadata": {
    "collapsed": true,
    "jupyter": {
     "outputs_hidden": true,
     "source_hidden": true
    }
   },
   "outputs": [
    {
     "name": "stdout",
     "output_type": "stream",
     "text": [
      "WISC_FSIQ t-test: -0.95, p-value: 0.34\n",
      "Age t-test: 0.41, p-value: 0.68\n",
      "Sex chi-square: 0.05, p-value: 0.82\n"
     ]
    }
   ],
   "source": [
    "from scipy import stats\n",
    "\n",
    "target_t_stat, target_p = stats.ttest_ind(y_adhd_one, y_adhd_two)\n",
    "age_t_stat, age_p = stats.ttest_ind(adhd_one_demo['Age'], adhd_two_demo['Age'])\n",
    "sex_chisq, sex_p, _, _ = stats.chi2_contingency([adhd_one_sex_counts[1], adhd_two_sex_counts[1]])\n",
    "\n",
    "print(f'{selected_target} t-test: {target_t_stat:.2f}, p-value: {target_p:.2f}')\n",
    "print(f'Age t-test: {age_t_stat:.2f}, p-value: {age_p:.2f}')\n",
    "print(f'Sex chi-square: {sex_chisq:.2f}, p-value: {sex_p:.2f}')"
   ]
  },
  {
   "cell_type": "markdown",
   "metadata": {},
   "source": [
    "### Run permutation-test (train group, test group)"
   ]
  },
  {
   "cell_type": "code",
   "execution_count": 9,
   "metadata": {},
   "outputs": [
    {
     "name": "stdout",
     "output_type": "stream",
     "text": [
      "Train Group: Healthy\n",
      "Train Group: ADHD_One\n",
      "Train Group: ADHD_Two\n"
     ]
    },
    {
     "data": {
      "text/html": [
       "<div>\n",
       "<style scoped>\n",
       "    .dataframe tbody tr th:only-of-type {\n",
       "        vertical-align: middle;\n",
       "    }\n",
       "\n",
       "    .dataframe tbody tr th {\n",
       "        vertical-align: top;\n",
       "    }\n",
       "\n",
       "    .dataframe thead th {\n",
       "        text-align: right;\n",
       "    }\n",
       "</style>\n",
       "<table border=\"1\" class=\"dataframe\">\n",
       "  <thead>\n",
       "    <tr style=\"text-align: right;\">\n",
       "      <th></th>\n",
       "      <th>Model</th>\n",
       "      <th>Target</th>\n",
       "      <th>Train</th>\n",
       "      <th>Test</th>\n",
       "      <th>Score</th>\n",
       "      <th>P-value</th>\n",
       "      <th>Population</th>\n",
       "      <th>Num Permutations</th>\n",
       "    </tr>\n",
       "  </thead>\n",
       "  <tbody>\n",
       "    <tr>\n",
       "      <th>0</th>\n",
       "      <td>ridge</td>\n",
       "      <td>WISC_FSIQ</td>\n",
       "      <td>Healthy</td>\n",
       "      <td>Healthy</td>\n",
       "      <td>0.0438</td>\n",
       "      <td>0.3373</td>\n",
       "      <td>Healthy</td>\n",
       "      <td>500</td>\n",
       "    </tr>\n",
       "    <tr>\n",
       "      <th>1</th>\n",
       "      <td>ridge</td>\n",
       "      <td>WISC_FSIQ</td>\n",
       "      <td>Healthy</td>\n",
       "      <td>ADHD_One</td>\n",
       "      <td>0.0943</td>\n",
       "      <td>0.1397</td>\n",
       "      <td>Healthy</td>\n",
       "      <td>500</td>\n",
       "    </tr>\n",
       "    <tr>\n",
       "      <th>2</th>\n",
       "      <td>ridge</td>\n",
       "      <td>WISC_FSIQ</td>\n",
       "      <td>Healthy</td>\n",
       "      <td>ADHD_Two</td>\n",
       "      <td>0.0717</td>\n",
       "      <td>0.2335</td>\n",
       "      <td>Healthy</td>\n",
       "      <td>500</td>\n",
       "    </tr>\n",
       "    <tr>\n",
       "      <th>3</th>\n",
       "      <td>ridge</td>\n",
       "      <td>WISC_FSIQ</td>\n",
       "      <td>ADHD_One</td>\n",
       "      <td>ADHD_One</td>\n",
       "      <td>0.1015</td>\n",
       "      <td>0.2435</td>\n",
       "      <td>ADHD_One</td>\n",
       "      <td>500</td>\n",
       "    </tr>\n",
       "    <tr>\n",
       "      <th>4</th>\n",
       "      <td>ridge</td>\n",
       "      <td>WISC_FSIQ</td>\n",
       "      <td>ADHD_One</td>\n",
       "      <td>ADHD_Two</td>\n",
       "      <td>0.1681</td>\n",
       "      <td>0.0379</td>\n",
       "      <td>ADHD_One</td>\n",
       "      <td>500</td>\n",
       "    </tr>\n",
       "    <tr>\n",
       "      <th>5</th>\n",
       "      <td>ridge</td>\n",
       "      <td>WISC_FSIQ</td>\n",
       "      <td>ADHD_One</td>\n",
       "      <td>Healthy</td>\n",
       "      <td>0.0915</td>\n",
       "      <td>0.1437</td>\n",
       "      <td>ADHD_One</td>\n",
       "      <td>500</td>\n",
       "    </tr>\n",
       "    <tr>\n",
       "      <th>6</th>\n",
       "      <td>ridge</td>\n",
       "      <td>WISC_FSIQ</td>\n",
       "      <td>ADHD_Two</td>\n",
       "      <td>ADHD_Two</td>\n",
       "      <td>-0.0230</td>\n",
       "      <td>0.5709</td>\n",
       "      <td>ADHD_Two</td>\n",
       "      <td>500</td>\n",
       "    </tr>\n",
       "    <tr>\n",
       "      <th>7</th>\n",
       "      <td>ridge</td>\n",
       "      <td>WISC_FSIQ</td>\n",
       "      <td>ADHD_Two</td>\n",
       "      <td>Healthy</td>\n",
       "      <td>0.0611</td>\n",
       "      <td>0.2635</td>\n",
       "      <td>ADHD_Two</td>\n",
       "      <td>500</td>\n",
       "    </tr>\n",
       "    <tr>\n",
       "      <th>8</th>\n",
       "      <td>ridge</td>\n",
       "      <td>WISC_FSIQ</td>\n",
       "      <td>ADHD_Two</td>\n",
       "      <td>ADHD_One</td>\n",
       "      <td>0.1381</td>\n",
       "      <td>0.0459</td>\n",
       "      <td>ADHD_Two</td>\n",
       "      <td>500</td>\n",
       "    </tr>\n",
       "  </tbody>\n",
       "</table>\n",
       "</div>"
      ],
      "text/plain": [
       "   Model     Target     Train      Test   Score  P-value Population  \\\n",
       "0  ridge  WISC_FSIQ   Healthy   Healthy  0.0438   0.3373    Healthy   \n",
       "1  ridge  WISC_FSIQ   Healthy  ADHD_One  0.0943   0.1397    Healthy   \n",
       "2  ridge  WISC_FSIQ   Healthy  ADHD_Two  0.0717   0.2335    Healthy   \n",
       "3  ridge  WISC_FSIQ  ADHD_One  ADHD_One  0.1015   0.2435   ADHD_One   \n",
       "4  ridge  WISC_FSIQ  ADHD_One  ADHD_Two  0.1681   0.0379   ADHD_One   \n",
       "5  ridge  WISC_FSIQ  ADHD_One   Healthy  0.0915   0.1437   ADHD_One   \n",
       "6  ridge  WISC_FSIQ  ADHD_Two  ADHD_Two -0.0230   0.5709   ADHD_Two   \n",
       "7  ridge  WISC_FSIQ  ADHD_Two   Healthy  0.0611   0.2635   ADHD_Two   \n",
       "8  ridge  WISC_FSIQ  ADHD_Two  ADHD_One  0.1381   0.0459   ADHD_Two   \n",
       "\n",
       "   Num Permutations  \n",
       "0               500  \n",
       "1               500  \n",
       "2               500  \n",
       "3               500  \n",
       "4               500  \n",
       "5               500  \n",
       "6               500  \n",
       "7               500  \n",
       "8               500  "
      ]
     },
     "metadata": {},
     "output_type": "display_data"
    },
    {
     "name": "stdout",
     "output_type": "stream",
     "text": [
      "Results saved to: /home/bpho/Documents/MSc_Research-Project/scratch_data/model_results/Cross Prediction/ridge_pts_random_diagnosis_cross_prediction.csv\n",
      "CPU times: user 1d 4h 17min 27s, sys: 30min 32s, total: 1d 4h 48min\n",
      "Wall time: 2h 52min 48s\n"
     ]
    }
   ],
   "source": [
    "%%time\n",
    "\n",
    "diag_order, diag_cv_order, diag_labels = get_group_order(diags, diags_cv, diag_labels)\n",
    "results = []\n",
    "perm_scores = []\n",
    "\n",
    "for diag_alpha, diags, diags_cv, labels in zip(diag_alphas, diag_order, diag_cv_order, diag_labels):\n",
    "    train_diag, test_diag_one, test_diag_two = diags[0], diags[1], diags[2]\n",
    "    train_diag_cv, test_diag_one_cv, test_diag_two_cv = diags_cv[0], diags_cv[1], diags_cv[2]\n",
    "    \n",
    "    pipe = make_pipeline(StandardScaler(), Ridge(alpha=diag_alpha))\n",
    "    rs, perms, ps = custom_permutation_test_score(\n",
    "        pipe, train_diag, test_diag_one, test_diag_two, \n",
    "        train_diag_cv, test_diag_one_cv, test_diag_two_cv, N_PERM, unimetric_scorer)\n",
    "    \n",
    "    train_group = labels[0]\n",
    "    for r, p, test_group in zip(rs, ps, labels):\n",
    "        results.append(\n",
    "            CVResult('ridge', selected_target, train_group, test_group, r, p, train_group, N_PERM)\n",
    "        )\n",
    "    perm_scores.append(perms)\n",
    "    print(f'Train Group: {train_group}')\n",
    "\n",
    "results_df = pd.DataFrame([r.to_dict() for r in results])\n",
    "display(results_df.round(4))\n",
    "# filename = f'ridge_pts_diagnosis_cross_prediction.csv'\n",
    "filename = f'ridge_pts_random_diagnosis_cross_prediction.csv'\n",
    "results_fp = save_results(results_df, filename, CROSS_PRED_RESULTS)\n",
    "print('Results saved to:', results_fp)"
   ]
  },
  {
   "cell_type": "code",
   "execution_count": null,
   "metadata": {},
   "outputs": [],
   "source": []
  }
 ],
 "metadata": {
  "kernelspec": {
   "display_name": "venv",
   "language": "python",
   "name": "venv"
  },
  "language_info": {
   "codemirror_mode": {
    "name": "ipython",
    "version": 3
   },
   "file_extension": ".py",
   "mimetype": "text/x-python",
   "name": "python",
   "nbconvert_exporter": "python",
   "pygments_lexer": "ipython3",
   "version": "3.7.10"
  }
 },
 "nbformat": 4,
 "nbformat_minor": 4
}
