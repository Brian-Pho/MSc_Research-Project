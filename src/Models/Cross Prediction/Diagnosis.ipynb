{
 "cells": [
  {
   "cell_type": "markdown",
   "metadata": {},
   "source": [
    "# Diagnosis Cross-Prediction"
   ]
  },
  {
   "cell_type": "code",
   "execution_count": 1,
   "metadata": {},
   "outputs": [],
   "source": [
    "import pandas as pd\n",
    "import numpy as np\n",
    "\n",
    "%load_ext autoreload\n",
    "%autoreload 2\n",
    "\n",
    "import matplotlib.pyplot as plt\n",
    "%matplotlib inline\n",
    "\n",
    "import seaborn as sns\n",
    "sns.set_theme(\n",
    "    context=\"paper\", \n",
    "    style=\"whitegrid\", \n",
    "    font_scale=1.2,\n",
    "    rc={'figure.figsize': (10, 10), 'figure.dpi': 300}\n",
    ")"
   ]
  },
  {
   "cell_type": "markdown",
   "metadata": {},
   "source": [
    "## Get Data"
   ]
  },
  {
   "cell_type": "code",
   "execution_count": 2,
   "metadata": {},
   "outputs": [
    {
     "name": "stdout",
     "output_type": "stream",
     "text": [
      "X_healthy: (106, 34716) | X_adhd_one: (190, 34716) | X_adhd_two: (190, 34716)\n"
     ]
    }
   ],
   "source": [
    "from os.path import join\n",
    "from common.data import get_data\n",
    "from common.paths import BIOBANK_LABELS\n",
    "\n",
    "healthy = join(BIOBANK_LABELS, 'Subjects_with_WISC (healthy).csv')\n",
    "X_healthy, Y_healthy, demographics, population = get_data(5, healthy)\n",
    "\n",
    "adhd_group_one = join(BIOBANK_LABELS, 'Subjects_with_WISC (adhd 1).csv')\n",
    "X_adhd_one, Y_adhd_one, demographics, population = get_data(5, adhd_group_one)\n",
    "\n",
    "adhd_group_two = join(BIOBANK_LABELS, 'Subjects_with_WISC (adhd 2).csv')\n",
    "X_adhd_two, Y_adhd_two, demographics, population = get_data(5, adhd_group_two)\n",
    "\n",
    "print(f'X_healthy: {X_healthy.shape} | X_adhd_one: {X_adhd_one.shape} | X_adhd_two: {X_adhd_two.shape}')"
   ]
  },
  {
   "cell_type": "code",
   "execution_count": 3,
   "metadata": {},
   "outputs": [],
   "source": [
    "from common.cross_prediction import get_group_cv_splits, get_group_order\n",
    "from common.paths import CROSS_PRED_RESULTS\n",
    "from common.results import CVResult, save_results\n",
    "from common.scoring import (unimetric_scorer, \n",
    "                            custom_permutation_test_score, \n",
    "                            N_PERM, SCORING, RKF_10_10)\n",
    "from sklearn.linear_model import Ridge\n",
    "from sklearn.model_selection import cross_validate\n",
    "from sklearn.preprocessing import StandardScaler\n",
    "from sklearn.pipeline import make_pipeline"
   ]
  },
  {
   "cell_type": "markdown",
   "metadata": {},
   "source": [
    "## Run for one target, one age bin"
   ]
  },
  {
   "cell_type": "code",
   "execution_count": 7,
   "metadata": {},
   "outputs": [
    {
     "name": "stdout",
     "output_type": "stream",
     "text": [
      "WISC_PSI: (106,), (190,), (190,)\n"
     ]
    }
   ],
   "source": [
    "selected_target = \"WISC_FSIQ\"\n",
    "y_healthy = Y_healthy[selected_target]\n",
    "y_adhd_one = Y_adhd_one[selected_target]\n",
    "y_adhd_two = Y_adhd_two[selected_target]\n",
    "\n",
    "print(f'{selected_target}: {y_healthy.shape}, {y_adhd_one.shape}, {y_adhd_two.shape}')"
   ]
  },
  {
   "cell_type": "code",
   "execution_count": 8,
   "metadata": {},
   "outputs": [],
   "source": [
    "healthy = (X_healthy, y_healthy)\n",
    "adhd_one = (X_adhd_one, y_adhd_one)\n",
    "adhd_two = (X_adhd_two, y_adhd_two)\n",
    "\n",
    "diags = [healthy, adhd_one, adhd_two]\n",
    "diags_cv = get_group_cv_splits(diags, RKF_10_10)\n",
    "\n",
    "print(f'Healthy: {healthy[0].shape} | ADHD_ONE: {adhd_one[0].shape} | ADHD_TWO: {adhd_two[0].shape}')\n",
    "print(f'healthy_cv: {len(diags_cv[0])} | adhd_one_cv: {len(diags_cv[1])} | adhd_two_cv: {len(diags_cv[2])}')"
   ]
  },
  {
   "cell_type": "markdown",
   "metadata": {},
   "source": [
    "### Run permutation-test (train group, test group)"
   ]
  },
  {
   "cell_type": "code",
   "execution_count": 9,
   "metadata": {},
   "outputs": [
    {
     "name": "stdout",
     "output_type": "stream",
     "text": [
      "Train Group: Healthy\n",
      "Train Group: ADHD_One\n",
      "Train Group: ADHD_Two\n"
     ]
    },
    {
     "data": {
      "text/html": [
       "<div>\n",
       "<style scoped>\n",
       "    .dataframe tbody tr th:only-of-type {\n",
       "        vertical-align: middle;\n",
       "    }\n",
       "\n",
       "    .dataframe tbody tr th {\n",
       "        vertical-align: top;\n",
       "    }\n",
       "\n",
       "    .dataframe thead th {\n",
       "        text-align: right;\n",
       "    }\n",
       "</style>\n",
       "<table border=\"1\" class=\"dataframe\">\n",
       "  <thead>\n",
       "    <tr style=\"text-align: right;\">\n",
       "      <th></th>\n",
       "      <th>Model</th>\n",
       "      <th>Target</th>\n",
       "      <th>Num Permutations</th>\n",
       "      <th>Train Group</th>\n",
       "      <th>Test Group</th>\n",
       "      <th>Score</th>\n",
       "      <th>P-value</th>\n",
       "    </tr>\n",
       "  </thead>\n",
       "  <tbody>\n",
       "    <tr>\n",
       "      <th>0</th>\n",
       "      <td>ridge</td>\n",
       "      <td>WISC_PSI</td>\n",
       "      <td>500</td>\n",
       "      <td>Healthy</td>\n",
       "      <td>Healthy</td>\n",
       "      <td>-0.0356</td>\n",
       "      <td>0.5828</td>\n",
       "    </tr>\n",
       "    <tr>\n",
       "      <th>1</th>\n",
       "      <td>ridge</td>\n",
       "      <td>WISC_PSI</td>\n",
       "      <td>500</td>\n",
       "      <td>Healthy</td>\n",
       "      <td>ADHD_One</td>\n",
       "      <td>0.0758</td>\n",
       "      <td>0.1098</td>\n",
       "    </tr>\n",
       "    <tr>\n",
       "      <th>2</th>\n",
       "      <td>ridge</td>\n",
       "      <td>WISC_PSI</td>\n",
       "      <td>500</td>\n",
       "      <td>Healthy</td>\n",
       "      <td>ADHD_Two</td>\n",
       "      <td>0.0085</td>\n",
       "      <td>0.4551</td>\n",
       "    </tr>\n",
       "    <tr>\n",
       "      <th>3</th>\n",
       "      <td>ridge</td>\n",
       "      <td>WISC_PSI</td>\n",
       "      <td>500</td>\n",
       "      <td>ADHD_One</td>\n",
       "      <td>ADHD_One</td>\n",
       "      <td>0.0156</td>\n",
       "      <td>0.4571</td>\n",
       "    </tr>\n",
       "    <tr>\n",
       "      <th>4</th>\n",
       "      <td>ridge</td>\n",
       "      <td>WISC_PSI</td>\n",
       "      <td>500</td>\n",
       "      <td>ADHD_One</td>\n",
       "      <td>ADHD_Two</td>\n",
       "      <td>0.0538</td>\n",
       "      <td>0.2076</td>\n",
       "    </tr>\n",
       "    <tr>\n",
       "      <th>5</th>\n",
       "      <td>ridge</td>\n",
       "      <td>WISC_PSI</td>\n",
       "      <td>500</td>\n",
       "      <td>ADHD_One</td>\n",
       "      <td>Healthy</td>\n",
       "      <td>0.0281</td>\n",
       "      <td>0.3972</td>\n",
       "    </tr>\n",
       "    <tr>\n",
       "      <th>6</th>\n",
       "      <td>ridge</td>\n",
       "      <td>WISC_PSI</td>\n",
       "      <td>500</td>\n",
       "      <td>ADHD_Two</td>\n",
       "      <td>ADHD_Two</td>\n",
       "      <td>0.0027</td>\n",
       "      <td>0.5230</td>\n",
       "    </tr>\n",
       "    <tr>\n",
       "      <th>7</th>\n",
       "      <td>ridge</td>\n",
       "      <td>WISC_PSI</td>\n",
       "      <td>500</td>\n",
       "      <td>ADHD_Two</td>\n",
       "      <td>Healthy</td>\n",
       "      <td>0.0525</td>\n",
       "      <td>0.2834</td>\n",
       "    </tr>\n",
       "    <tr>\n",
       "      <th>8</th>\n",
       "      <td>ridge</td>\n",
       "      <td>WISC_PSI</td>\n",
       "      <td>500</td>\n",
       "      <td>ADHD_Two</td>\n",
       "      <td>ADHD_One</td>\n",
       "      <td>0.0773</td>\n",
       "      <td>0.1138</td>\n",
       "    </tr>\n",
       "  </tbody>\n",
       "</table>\n",
       "</div>"
      ],
      "text/plain": [
       "   Model    Target  Num Permutations Train Group Test Group   Score  P-value\n",
       "0  ridge  WISC_PSI               500     Healthy    Healthy -0.0356   0.5828\n",
       "1  ridge  WISC_PSI               500     Healthy   ADHD_One  0.0758   0.1098\n",
       "2  ridge  WISC_PSI               500     Healthy   ADHD_Two  0.0085   0.4551\n",
       "3  ridge  WISC_PSI               500    ADHD_One   ADHD_One  0.0156   0.4571\n",
       "4  ridge  WISC_PSI               500    ADHD_One   ADHD_Two  0.0538   0.2076\n",
       "5  ridge  WISC_PSI               500    ADHD_One    Healthy  0.0281   0.3972\n",
       "6  ridge  WISC_PSI               500    ADHD_Two   ADHD_Two  0.0027   0.5230\n",
       "7  ridge  WISC_PSI               500    ADHD_Two    Healthy  0.0525   0.2834\n",
       "8  ridge  WISC_PSI               500    ADHD_Two   ADHD_One  0.0773   0.1138"
      ]
     },
     "metadata": {},
     "output_type": "display_data"
    },
    {
     "name": "stdout",
     "output_type": "stream",
     "text": [
      "CPU times: user 1d 9h 31min 11s, sys: 36min 4s, total: 1d 10h 7min 15s\n",
      "Wall time: 3h 24min 43s\n"
     ]
    }
   ],
   "source": [
    "%%time\n",
    "# From previous results\n",
    "diag_alphas = [5000, 35000, 35000]\n",
    "diag_labels = ['Healthy', 'ADHD_One', 'ADHD_Two']\n",
    "\n",
    "diag_order, diag_cv_order, diag_labels = get_group_order(diags, diags_cv, diag_labels)\n",
    "results = []\n",
    "perm_scores = []\n",
    "\n",
    "for diag_alpha, diags, diags_cv, labels in zip(diag_alphas, diag_order, diag_cv_order, diag_labels):\n",
    "    train_diag, test_diag_one, test_diag_two = diags[0], diags[1], diags[2]\n",
    "    train_diag_cv, test_diag_one_cv, test_diag_two_cv = diags_cv[0], diags_cv[1], diags_cv[2]\n",
    "    \n",
    "    pipe = make_pipeline(StandardScaler(), Ridge(alpha=diag_alpha))\n",
    "    rs, perms, ps = custom_permutation_test_score(\n",
    "        pipe, train_diag, test_diag_one, test_diag_two, \n",
    "        train_diag_cv, test_diag_one_cv, test_diag_two_cv, N_PERM, unimetric_scorer)\n",
    "    \n",
    "    train_group = labels[0]\n",
    "    for r, p, test_group in zip(rs, ps, labels):\n",
    "        results.append(\n",
    "            CVResult('ridge', selected_target, train_group, test_group, r, p, train_group, N_PERM)\n",
    "        )\n",
    "    perm_scores.append(perms)\n",
    "    print(f'Train Group: {train_group}')\n",
    "\n",
    "results_df = pd.DataFrame([r.to_dict() for r in results])\n",
    "display(results_df.round(4))\n",
    "filename = f'ridge_pts_diagnosis_cross_prediction.csv'\n",
    "results_fp = save_results(results_df, filename, CROSS_PRED_RESULTS)\n",
    "print('Results saved to:', results_fp)"
   ]
  },
  {
   "cell_type": "markdown",
   "metadata": {},
   "source": [
    "### Visualize permutation results"
   ]
  },
  {
   "cell_type": "code",
   "execution_count": null,
   "metadata": {},
   "outputs": [],
   "source": []
  }
 ],
 "metadata": {
  "kernelspec": {
   "display_name": "venv",
   "language": "python",
   "name": "venv"
  },
  "language_info": {
   "codemirror_mode": {
    "name": "ipython",
    "version": 3
   },
   "file_extension": ".py",
   "mimetype": "text/x-python",
   "name": "python",
   "nbconvert_exporter": "python",
   "pygments_lexer": "ipython3",
   "version": "3.7.10"
  }
 },
 "nbformat": 4,
 "nbformat_minor": 4
}
