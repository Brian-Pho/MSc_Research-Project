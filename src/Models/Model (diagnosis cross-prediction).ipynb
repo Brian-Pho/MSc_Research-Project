{
 "cells": [
  {
   "cell_type": "markdown",
   "metadata": {},
   "source": [
    "# Model Diagnosis Cross-Prediction"
   ]
  },
  {
   "cell_type": "code",
   "execution_count": 11,
   "metadata": {},
   "outputs": [
    {
     "name": "stdout",
     "output_type": "stream",
     "text": [
      "The autoreload extension is already loaded. To reload it, use:\n",
      "  %reload_ext autoreload\n"
     ]
    }
   ],
   "source": [
    "import pandas as pd\n",
    "import numpy as np\n",
    "\n",
    "%load_ext autoreload\n",
    "%autoreload 2\n",
    "\n",
    "import matplotlib.pyplot as plt\n",
    "%matplotlib inline\n",
    "\n",
    "import seaborn as sns\n",
    "sns.set_theme(\n",
    "    context=\"paper\", \n",
    "    style=\"whitegrid\", \n",
    "    font_scale=1.2,\n",
    "    rc={'figure.figsize': (10, 10), 'figure.dpi': 300}\n",
    ")"
   ]
  },
  {
   "cell_type": "markdown",
   "metadata": {},
   "source": [
    "## Get Data"
   ]
  },
  {
   "cell_type": "code",
   "execution_count": 12,
   "metadata": {},
   "outputs": [
    {
     "name": "stdout",
     "output_type": "stream",
     "text": [
      "X_adhd_one: (195, 34716) | X_adhd_two: (195, 34716) | X_healthy: (106, 34716)\n"
     ]
    }
   ],
   "source": [
    "from os.path import join\n",
    "from common.data import get_data\n",
    "from common.paths import BIOBANK_LABELS\n",
    "\n",
    "adhd_group_one = join(BIOBANK_LABELS, 'Subjects_with_WISC (adhd 1).csv')\n",
    "X_adhd_one, Y_adhd_one, demographics, population = get_data(5, adhd_group_one)\n",
    "\n",
    "adhd_group_two = join(BIOBANK_LABELS, 'Subjects_with_WISC (adhd 2).csv')\n",
    "X_adhd_two, Y_adhd_two, demographics, population = get_data(5, adhd_group_two)\n",
    "\n",
    "healthy = join(BIOBANK_LABELS, 'Subjects_with_WISC (healthy).csv')\n",
    "X_healthy, Y_healthy, demographics, population = get_data(5, healthy)\n",
    "\n",
    "print(f'X_adhd_one: {X_adhd_one.shape} | X_adhd_two: {X_adhd_two.shape} | X_healthy: {X_healthy.shape}')"
   ]
  },
  {
   "cell_type": "code",
   "execution_count": 13,
   "metadata": {},
   "outputs": [],
   "source": [
    "from scipy import stats\n",
    "from sklearn.cross_decomposition import PLSRegression\n",
    "from sklearn.linear_model import Ridge, RidgeCV\n",
    "from sklearn.model_selection import RepeatedKFold, cross_validate, permutation_test_score\n",
    "from sklearn.preprocessing import StandardScaler\n",
    "from sklearn.pipeline import make_pipeline"
   ]
  },
  {
   "cell_type": "markdown",
   "metadata": {},
   "source": [
    "## Run for one target, one age bin"
   ]
  },
  {
   "cell_type": "code",
   "execution_count": 14,
   "metadata": {},
   "outputs": [
    {
     "name": "stdout",
     "output_type": "stream",
     "text": [
      "WISC_FSIQ: (195,), (195,), (106,)\n"
     ]
    }
   ],
   "source": [
    "age_group = 'all'\n",
    "selected_target = \"WISC_FSIQ\"\n",
    "y_adhd_one = Y_adhd_one[selected_target]\n",
    "y_adhd_two = Y_adhd_two[selected_target]\n",
    "y_healthy = Y_healthy[selected_target]\n",
    "\n",
    "print(f'{selected_target}: {y_adhd_one.shape}, {y_adhd_two.shape}, {y_healthy.shape}')"
   ]
  },
  {
   "cell_type": "code",
   "execution_count": 15,
   "metadata": {},
   "outputs": [],
   "source": [
    "X = X_healthy\n",
    "y = y_healthy\n",
    "X_out_group_one = X_adhd_one\n",
    "y_out_group_one = y_adhd_one\n",
    "X_out_group_two = X_adhd_two\n",
    "y_out_group_two = y_adhd_two"
   ]
  },
  {
   "cell_type": "code",
   "execution_count": 20,
   "metadata": {},
   "outputs": [],
   "source": [
    "X = X_adhd_one\n",
    "y = y_adhd_one\n",
    "X_out_group_one = X_healthy\n",
    "y_out_group_one = y_healthy\n",
    "X_out_group_two = X_adhd_two\n",
    "y_out_group_two = y_adhd_two"
   ]
  },
  {
   "cell_type": "code",
   "execution_count": 25,
   "metadata": {},
   "outputs": [],
   "source": [
    "X = X_adhd_two\n",
    "y = y_adhd_two\n",
    "X_out_group_one = X_adhd_one\n",
    "y_out_group_one = y_adhd_one\n",
    "X_out_group_two = X_healthy\n",
    "y_out_group_two = y_healthy"
   ]
  },
  {
   "cell_type": "markdown",
   "metadata": {},
   "source": [
    "### Set up the model pipeline, metrics, and cross-validation approach"
   ]
  },
  {
   "cell_type": "code",
   "execution_count": 26,
   "metadata": {},
   "outputs": [],
   "source": [
    "def regression_scorer(reg, X, y):\n",
    "    y_pred = reg.predict(X)\n",
    "#     y_pred = reg.predict(X)[:, 0]\n",
    "    return stats.pearsonr(y, y_pred)[0]\n",
    "\n",
    "rkf = RepeatedKFold(n_splits=5, n_repeats=10)\n",
    "n_perm = 3000"
   ]
  },
  {
   "cell_type": "code",
   "execution_count": 27,
   "metadata": {},
   "outputs": [
    {
     "name": "stdout",
     "output_type": "stream",
     "text": [
      "Target: WISC_FSIQ | Alpha: 25000 | Score: 0.35\n",
      "CPU times: user 1min 37s, sys: 2.03 s, total: 1min 39s\n",
      "Wall time: 10 s\n"
     ]
    }
   ],
   "source": [
    "%%time\n",
    "\n",
    "estimators = [StandardScaler(), RidgeCV(alphas=[a for a in range(5000, 55000, 5000)], \n",
    "                                        scoring=regression_scorer, cv=rkf)]\n",
    "pipe = make_pipeline(*estimators)\n",
    "pipe.fit(X, y)\n",
    "ridge_cv = pipe['ridgecv']\n",
    "best_alpha = ridge_cv.alpha_\n",
    "\n",
    "print(f'Target: {selected_target} | Alpha: {best_alpha} | Score: {ridge_cv.best_score_:.2f}')"
   ]
  },
  {
   "cell_type": "markdown",
   "metadata": {},
   "source": [
    "### Run cross-validation"
   ]
  },
  {
   "cell_type": "code",
   "execution_count": 28,
   "metadata": {},
   "outputs": [
    {
     "name": "stdout",
     "output_type": "stream",
     "text": [
      "healthy_WISC_FSIQ_all\n",
      "0.93\n",
      "0.35\n",
      "0.23\n",
      "0.25\n",
      "CPU times: user 1min 23s, sys: 1.63 s, total: 1min 24s\n",
      "Wall time: 8.49 s\n"
     ]
    }
   ],
   "source": [
    "%%time\n",
    "train_scores, test_scores, out_group_one, out_group_two = [], [], [], []\n",
    "coefs, inters = [], []\n",
    "\n",
    "for train_index, test_index in rkf.split(X):\n",
    "    X_train, X_test = X[train_index], X[test_index]\n",
    "    y_train, y_test = y[train_index], y[test_index]\n",
    "    \n",
    "    pipe = make_pipeline(StandardScaler(), Ridge(alpha=best_alpha))\n",
    "#     pipe = make_pipeline(StandardScaler(), PLSRegression(n_components=4))\n",
    "    pipe.fit(X_train, y_train)\n",
    "    y_train_pred = pipe.predict(X_train)\n",
    "    y_test_pred = pipe.predict(X_test)\n",
    "    \n",
    "    train_scores.append(regression_scorer(pipe, X_train, y_train))\n",
    "    test_scores.append(regression_scorer(pipe, X_test, y_test))\n",
    "    out_group_one.append(regression_scorer(pipe, X_out_group_one, y_out_group_one))\n",
    "    out_group_two.append(regression_scorer(pipe, X_out_group_two, y_out_group_two))\n",
    "\n",
    "    coefs.append(pipe['ridge'].coef_)\n",
    "    inters.append(pipe['ridge'].intercept_)\n",
    "\n",
    "avg_coef = np.mean(coefs, axis=0)\n",
    "avg_inte = np.mean(inters, axis=0)\n",
    "\n",
    "print(f'{population}_{selected_target}_{age_group}')\n",
    "for metric in [train_scores, test_scores, out_group_one, out_group_two]:\n",
    "    print(f'{np.mean(metric):.2f}')"
   ]
  },
  {
   "cell_type": "code",
   "execution_count": 24,
   "metadata": {},
   "outputs": [],
   "source": [
    "adhd_one_coefs = coefs.copy()"
   ]
  },
  {
   "cell_type": "code",
   "execution_count": 29,
   "metadata": {},
   "outputs": [],
   "source": [
    "adhd_two_coefs = coefs.copy()"
   ]
  },
  {
   "cell_type": "code",
   "execution_count": 19,
   "metadata": {},
   "outputs": [],
   "source": [
    "healthy_coefs = coefs.copy()"
   ]
  },
  {
   "cell_type": "markdown",
   "metadata": {},
   "source": [
    "### Transfer model weights"
   ]
  },
  {
   "cell_type": "markdown",
   "metadata": {},
   "source": [
    "#### ICC"
   ]
  },
  {
   "cell_type": "code",
   "execution_count": 34,
   "metadata": {},
   "outputs": [
    {
     "name": "stdout",
     "output_type": "stream",
     "text": [
      "CPU times: user 32.2 s, sys: 228 ms, total: 32.4 s\n",
      "Wall time: 32.4 s\n"
     ]
    },
    {
     "data": {
      "text/html": [
       "<div>\n",
       "<style scoped>\n",
       "    .dataframe tbody tr th:only-of-type {\n",
       "        vertical-align: middle;\n",
       "    }\n",
       "\n",
       "    .dataframe tbody tr th {\n",
       "        vertical-align: top;\n",
       "    }\n",
       "\n",
       "    .dataframe thead th {\n",
       "        text-align: right;\n",
       "    }\n",
       "</style>\n",
       "<table border=\"1\" class=\"dataframe\">\n",
       "  <thead>\n",
       "    <tr style=\"text-align: right;\">\n",
       "      <th></th>\n",
       "      <th>Description</th>\n",
       "      <th>ICC</th>\n",
       "      <th>F</th>\n",
       "      <th>df1</th>\n",
       "      <th>df2</th>\n",
       "      <th>pval</th>\n",
       "      <th>CI95%</th>\n",
       "    </tr>\n",
       "    <tr>\n",
       "      <th>Type</th>\n",
       "      <th></th>\n",
       "      <th></th>\n",
       "      <th></th>\n",
       "      <th></th>\n",
       "      <th></th>\n",
       "      <th></th>\n",
       "      <th></th>\n",
       "    </tr>\n",
       "  </thead>\n",
       "  <tbody>\n",
       "    <tr>\n",
       "      <th>ICC1</th>\n",
       "      <td>Single raters absolute</td>\n",
       "      <td>0.091</td>\n",
       "      <td>1.2</td>\n",
       "      <td>34715</td>\n",
       "      <td>34716</td>\n",
       "      <td>0.0</td>\n",
       "      <td>[0.08, 0.1]</td>\n",
       "    </tr>\n",
       "    <tr>\n",
       "      <th>ICC2</th>\n",
       "      <td>Single random raters</td>\n",
       "      <td>0.091</td>\n",
       "      <td>1.2</td>\n",
       "      <td>34715</td>\n",
       "      <td>34715</td>\n",
       "      <td>0.0</td>\n",
       "      <td>[0.08, 0.1]</td>\n",
       "    </tr>\n",
       "    <tr>\n",
       "      <th>ICC3</th>\n",
       "      <td>Single fixed raters</td>\n",
       "      <td>0.091</td>\n",
       "      <td>1.2</td>\n",
       "      <td>34715</td>\n",
       "      <td>34715</td>\n",
       "      <td>0.0</td>\n",
       "      <td>[0.08, 0.1]</td>\n",
       "    </tr>\n",
       "    <tr>\n",
       "      <th>ICC1k</th>\n",
       "      <td>Average raters absolute</td>\n",
       "      <td>0.167</td>\n",
       "      <td>1.2</td>\n",
       "      <td>34715</td>\n",
       "      <td>34716</td>\n",
       "      <td>0.0</td>\n",
       "      <td>[0.15, 0.18]</td>\n",
       "    </tr>\n",
       "    <tr>\n",
       "      <th>ICC2k</th>\n",
       "      <td>Average random raters</td>\n",
       "      <td>0.167</td>\n",
       "      <td>1.2</td>\n",
       "      <td>34715</td>\n",
       "      <td>34715</td>\n",
       "      <td>0.0</td>\n",
       "      <td>[0.15, 0.18]</td>\n",
       "    </tr>\n",
       "    <tr>\n",
       "      <th>ICC3k</th>\n",
       "      <td>Average fixed raters</td>\n",
       "      <td>0.167</td>\n",
       "      <td>1.2</td>\n",
       "      <td>34715</td>\n",
       "      <td>34715</td>\n",
       "      <td>0.0</td>\n",
       "      <td>[0.15, 0.18]</td>\n",
       "    </tr>\n",
       "  </tbody>\n",
       "</table>\n",
       "</div>"
      ],
      "text/plain": [
       "                   Description    ICC    F    df1    df2  pval         CI95%\n",
       "Type                                                                        \n",
       "ICC1    Single raters absolute  0.091  1.2  34715  34716   0.0   [0.08, 0.1]\n",
       "ICC2      Single random raters  0.091  1.2  34715  34715   0.0   [0.08, 0.1]\n",
       "ICC3       Single fixed raters  0.091  1.2  34715  34715   0.0   [0.08, 0.1]\n",
       "ICC1k  Average raters absolute  0.167  1.2  34715  34716   0.0  [0.15, 0.18]\n",
       "ICC2k    Average random raters  0.167  1.2  34715  34715   0.0  [0.15, 0.18]\n",
       "ICC3k     Average fixed raters  0.167  1.2  34715  34715   0.0  [0.15, 0.18]"
      ]
     },
     "execution_count": 34,
     "metadata": {},
     "output_type": "execute_result"
    }
   ],
   "source": [
    "%%time\n",
    "import pingouin as pg\n",
    "\n",
    "group_one = pd.DataFrame(adhd_one_coefs)\n",
    "group_one['group'] = 'g1'\n",
    "\n",
    "group_two = pd.DataFrame(healthy_coefs)\n",
    "group_two['group'] = 'g2'\n",
    "\n",
    "group_one_two = pd.concat([group_one, group_two])\n",
    "icc_data = pd.melt(group_one_two, id_vars='group', var_name='connection', \n",
    "                   value_name='weight', ignore_index=False)\n",
    "# display(icc_data)\n",
    "\n",
    "icc = pg.intraclass_corr(data=icc_data, targets='connection', raters='group', ratings='weight').round(3)\n",
    "icc.set_index(\"Type\")"
   ]
  },
  {
   "cell_type": "code",
   "execution_count": null,
   "metadata": {},
   "outputs": [],
   "source": []
  }
 ],
 "metadata": {
  "kernelspec": {
   "display_name": "venv",
   "language": "python",
   "name": "venv"
  },
  "language_info": {
   "codemirror_mode": {
    "name": "ipython",
    "version": 3
   },
   "file_extension": ".py",
   "mimetype": "text/x-python",
   "name": "python",
   "nbconvert_exporter": "python",
   "pygments_lexer": "ipython3",
   "version": "3.7.10"
  }
 },
 "nbformat": 4,
 "nbformat_minor": 4
}
