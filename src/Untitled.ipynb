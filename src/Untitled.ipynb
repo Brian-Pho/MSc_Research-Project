{
 "cells": [
  {
   "cell_type": "code",
   "execution_count": 7,
   "metadata": {},
   "outputs": [
    {
     "name": "stdout",
     "output_type": "stream",
     "text": [
      "The autoreload extension is already loaded. To reload it, use:\n",
      "  %reload_ext autoreload\n"
     ]
    }
   ],
   "source": [
    "import pandas as pd\n",
    "import numpy as np\n",
    "\n",
    "%load_ext autoreload\n",
    "%autoreload 2\n",
    "\n",
    "import matplotlib.pyplot as plt\n",
    "%matplotlib inline\n",
    "\n",
    "import seaborn as sns\n",
    "sns.set_theme(\n",
    "    context=\"paper\", \n",
    "    style=\"whitegrid\", \n",
    "    font_scale=1.2,\n",
    "    rc={'figure.figsize': (10, 10), 'figure.dpi': 300}\n",
    ")"
   ]
  },
  {
   "cell_type": "code",
   "execution_count": 10,
   "metadata": {},
   "outputs": [
    {
     "name": "stdout",
     "output_type": "stream",
     "text": [
      "69\n"
     ]
    }
   ],
   "source": [
    "import os\n",
    "import scipy.io\n",
    "\n",
    "spike_fn = 'spikesandMspikes.mat'\n",
    "healthy_listspikes_folder = '/imaging3/owenlab/wilson/Healthy/BioBank_Analysis_All/aamod_listspikes_00001'\n",
    "\n",
    "listspikes_subjects = [folder for folder in os.listdir(healthy_listspikes_folder) if folder.startswith(\"sub-\")]\n",
    "print(len(listspikes_subjects))"
   ]
  },
  {
   "cell_type": "code",
   "execution_count": 33,
   "metadata": {},
   "outputs": [
    {
     "name": "stdout",
     "output_type": "stream",
     "text": [
      "Subjects with num spikes > 175: 13\n",
      "sub-NDAREW661NZJ\n",
      "sub-NDARGD507TDZ\n",
      "sub-NDARKN509RP9\n",
      "sub-NDARBW268XPY\n",
      "sub-NDARLJ886BFK\n",
      "sub-NDARAP522AFK\n",
      "sub-NDARTC527WPZ\n",
      "sub-NDARCW963FP9\n",
      "sub-NDARKT811ATJ\n",
      "sub-NDARMF508PA2\n",
      "sub-NDARBK082PDD\n",
      "sub-NDARUY549PGQ\n",
      "sub-NDAREX065KJU\n"
     ]
    }
   ],
   "source": [
    "bad_subjects = []\n",
    "\n",
    "for subject in listspikes_subjects:\n",
    "    subject_path = os.path.join(healthy_listspikes_folder, subject, spike_fn)\n",
    "    mat = scipy.io.loadmat(subject_path)\n",
    "    if mat['Mspikes'].shape[0] > 175:\n",
    "        bad_subjects.append(subject)\n",
    "\n",
    "print('Subjects with num spikes > 175:', len(bad_subjects))\n",
    "_ = [print(subject) for subject in bad_subjects]"
   ]
  },
  {
   "cell_type": "code",
   "execution_count": null,
   "metadata": {},
   "outputs": [],
   "source": [
    "from fitter import Fitter\n",
    "f = Fitter(y, distributions=['gamma', 'norm', 'beta'])\n",
    "f.fit()\n",
    "f.summary()\n",
    "print(f.fitted_param['norm'])\n",
    "print(np.mean(y), np.std(y))"
   ]
  }
 ],
 "metadata": {
  "kernelspec": {
   "display_name": "venv",
   "language": "python",
   "name": "venv"
  },
  "language_info": {
   "codemirror_mode": {
    "name": "ipython",
    "version": 3
   },
   "file_extension": ".py",
   "mimetype": "text/x-python",
   "name": "python",
   "nbconvert_exporter": "python",
   "pygments_lexer": "ipython3",
   "version": "3.7.10"
  }
 },
 "nbformat": 4,
 "nbformat_minor": 4
}
