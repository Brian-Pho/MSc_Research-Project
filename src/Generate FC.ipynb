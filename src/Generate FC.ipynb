{
 "cells": [
  {
   "cell_type": "markdown",
   "metadata": {},
   "source": [
    "# Generate Functional Connectivities\n",
    "This script performs further processing on the data by generating the functional connectivities from the preprocessed data. We take in data from the final output of AA in the `aamod_firstlevel_modelestimate_saveresids_00001` folder and generate functional connectivity from the NIfTI files."
   ]
  },
  {
   "cell_type": "markdown",
   "metadata": {},
   "source": [
    "## Set up imports"
   ]
  },
  {
   "cell_type": "code",
   "execution_count": 21,
   "metadata": {},
   "outputs": [],
   "source": [
    "from os import listdir, makedirs\n",
    "from os.path import isfile, join, exists\n",
    "\n",
    "from nilearn import plotting, image, datasets\n",
    "from nilearn.input_data import NiftiSpheresMasker\n",
    "from nilearn.connectome import ConnectivityMeasure\n",
    "import numpy as np"
   ]
  },
  {
   "cell_type": "markdown",
   "metadata": {},
   "source": [
    "## Set up input and output"
   ]
  },
  {
   "cell_type": "code",
   "execution_count": 28,
   "metadata": {},
   "outputs": [],
   "source": [
    "age_dir = '/imaging3/owenlab/wilson/MovieData/Release8/Age11'\n",
    "aa_folder = 'BioBank_Analysis_All/'\n",
    "saveresids_folder = 'aamod_firstlevel_modelestimate_saveresids_00001/'\n",
    "python_fc_folder = 'python_power_fc'\n",
    "\n",
    "input_path = join(age_dir, aa_folder, saveresids_folder)\n",
    "output_path = join(age_dir, aa_folder, python_fc_folder)\n",
    "\n",
    "# Grab all subjects\n",
    "subjects = [folder for folder in listdir(input_path) if folder.startswith(\"sub-\")]"
   ]
  },
  {
   "cell_type": "markdown",
   "metadata": {},
   "source": [
    "## Set up FC functions"
   ]
  },
  {
   "cell_type": "code",
   "execution_count": 30,
   "metadata": {},
   "outputs": [],
   "source": [
    "power = datasets.fetch_coords_power_2011()\n",
    "coords = np.vstack((power.rois['x'], power.rois['y'], power.rois['z'])).T\n",
    "\n",
    "spheres_masker = NiftiSpheresMasker(\n",
    "    seeds=coords, smoothing_fwhm=6, radius=5.,\n",
    "    detrend=True, standardize=True, low_pass=0.1, high_pass=0.01, t_r=2)\n",
    "\n",
    "def generate_power_fc(file):\n",
    "    time_series = spheres_masker.fit_transform(file)\n",
    "    \n",
    "    correlation_measure = ConnectivityMeasure(kind='correlation')\n",
    "    correlation_matrix = correlation_measure.fit_transform([time_series])[0]\n",
    "    \n",
    "    return correlation_matrix"
   ]
  },
  {
   "cell_type": "code",
   "execution_count": 5,
   "metadata": {},
   "outputs": [],
   "source": [
    "def visualize_corr_matrix(corr_matrix):\n",
    "    np.fill_diagonal(corr_matrix, 0)\n",
    "    plotting.plot_matrix(corr_matrix, vmin=-1., vmax=1., colorbar=True, figure=(20, 20),\n",
    "                     title='Power correlation matrix')\n",
    "#     plotting.plot_connectome(corr_matrix, coords, title='Power correlation graph',\n",
    "#                          edge_threshold='98.0%', node_size=20, colorbar=True)"
   ]
  },
  {
   "cell_type": "markdown",
   "metadata": {},
   "source": [
    "## Generate FCs"
   ]
  },
  {
   "cell_type": "code",
   "execution_count": 31,
   "metadata": {},
   "outputs": [
    {
     "name": "stdout",
     "output_type": "stream",
     "text": [
      "Processing subject: sub-NDAREF074ZAQ\n",
      "(264, 264)\n"
     ]
    },
    {
     "ename": "FileExistsError",
     "evalue": "[Errno 17] File exists: '/imaging3/owenlab/wilson/MovieData/Release8/Age11/BioBank_Analysis_All/python_power_fc/sub-NDAREF074ZAQ'",
     "output_type": "error",
     "traceback": [
      "\u001b[0;31m---------------------------------------------------------------------------\u001b[0m",
      "\u001b[0;31mFileExistsError\u001b[0m                           Traceback (most recent call last)",
      "\u001b[0;32m<ipython-input-31-5e071904e633>\u001b[0m in \u001b[0;36m<module>\u001b[0;34m\u001b[0m\n\u001b[1;32m     15\u001b[0m     \u001b[0msubject_corr_matrix\u001b[0m \u001b[0;34m=\u001b[0m \u001b[0mgenerate_power_fc\u001b[0m\u001b[0;34m(\u001b[0m\u001b[0msubject_concat_image\u001b[0m\u001b[0;34m)\u001b[0m\u001b[0;34m\u001b[0m\u001b[0;34m\u001b[0m\u001b[0m\n\u001b[1;32m     16\u001b[0m \u001b[0;34m\u001b[0m\u001b[0m\n\u001b[0;32m---> 17\u001b[0;31m     \u001b[0mmakedirs\u001b[0m\u001b[0;34m(\u001b[0m\u001b[0msubject_output_path\u001b[0m\u001b[0;34m)\u001b[0m\u001b[0;34m\u001b[0m\u001b[0;34m\u001b[0m\u001b[0m\n\u001b[0m\u001b[1;32m     18\u001b[0m     \u001b[0msubject_corr_filename\u001b[0m \u001b[0;34m=\u001b[0m \u001b[0mjoin\u001b[0m\u001b[0;34m(\u001b[0m\u001b[0msubject_output_path\u001b[0m\u001b[0;34m,\u001b[0m \u001b[0;34m'power_fc.npy'\u001b[0m\u001b[0;34m)\u001b[0m\u001b[0;34m\u001b[0m\u001b[0;34m\u001b[0m\u001b[0m\n\u001b[1;32m     19\u001b[0m     \u001b[0mnp\u001b[0m\u001b[0;34m.\u001b[0m\u001b[0msave\u001b[0m\u001b[0;34m(\u001b[0m\u001b[0msubject_corr_filename\u001b[0m\u001b[0;34m,\u001b[0m \u001b[0msubject_corr_matrix\u001b[0m\u001b[0;34m)\u001b[0m\u001b[0;34m\u001b[0m\u001b[0;34m\u001b[0m\u001b[0m\n",
      "\u001b[0;32m~/.conda/envs/venv/lib/python3.7/os.py\u001b[0m in \u001b[0;36mmakedirs\u001b[0;34m(name, mode, exist_ok)\u001b[0m\n\u001b[1;32m    221\u001b[0m             \u001b[0;32mreturn\u001b[0m\u001b[0;34m\u001b[0m\u001b[0;34m\u001b[0m\u001b[0m\n\u001b[1;32m    222\u001b[0m     \u001b[0;32mtry\u001b[0m\u001b[0;34m:\u001b[0m\u001b[0;34m\u001b[0m\u001b[0;34m\u001b[0m\u001b[0m\n\u001b[0;32m--> 223\u001b[0;31m         \u001b[0mmkdir\u001b[0m\u001b[0;34m(\u001b[0m\u001b[0mname\u001b[0m\u001b[0;34m,\u001b[0m \u001b[0mmode\u001b[0m\u001b[0;34m)\u001b[0m\u001b[0;34m\u001b[0m\u001b[0;34m\u001b[0m\u001b[0m\n\u001b[0m\u001b[1;32m    224\u001b[0m     \u001b[0;32mexcept\u001b[0m \u001b[0mOSError\u001b[0m\u001b[0;34m:\u001b[0m\u001b[0;34m\u001b[0m\u001b[0;34m\u001b[0m\u001b[0m\n\u001b[1;32m    225\u001b[0m         \u001b[0;31m# Cannot rely on checking for EEXIST, since the operating system\u001b[0m\u001b[0;34m\u001b[0m\u001b[0;34m\u001b[0m\u001b[0;34m\u001b[0m\u001b[0m\n",
      "\u001b[0;31mFileExistsError\u001b[0m: [Errno 17] File exists: '/imaging3/owenlab/wilson/MovieData/Release8/Age11/BioBank_Analysis_All/python_power_fc/sub-NDAREF074ZAQ'"
     ]
    }
   ],
   "source": [
    "for subject in subjects[:1]:\n",
    "    print(\"Processing subject:\", subject)\n",
    "    subject_input_path = join(input_path, subject)\n",
    "    subject_output_path = join(output_path, subject)\n",
    "    \n",
    "    # Check if we've already generated the FC for this subject\n",
    "#     if exists(subject_output_path):\n",
    "#         print(\"Skipping subject due to already generated FC.\")\n",
    "#         continue\n",
    "    \n",
    "    subject_niftis = [join(subject_input_path, f) for f in listdir(subject_input_path) \n",
    "                      if isfile(join(subject_input_path, f)) and f.startswith('ResI')]\n",
    "    subject_concat_image = image.concat_imgs(subject_niftis)\n",
    "    \n",
    "    subject_corr_matrix = generate_power_fc(subject_concat_image)\n",
    "    \n",
    "    makedirs(subject_output_path)\n",
    "    subject_corr_filename = join(subject_output_path, 'power_fc.npy')\n",
    "    np.save(subject_corr_filename, subject_corr_matrix)\n",
    "#     visualize_corr_matrix(subject_corr_matrix)"
   ]
  },
  {
   "cell_type": "code",
   "execution_count": null,
   "metadata": {},
   "outputs": [],
   "source": []
  }
 ],
 "metadata": {
  "kernelspec": {
   "display_name": "Python (venv)",
   "language": "python",
   "name": "venv"
  },
  "language_info": {
   "codemirror_mode": {
    "name": "ipython",
    "version": 3
   },
   "file_extension": ".py",
   "mimetype": "text/x-python",
   "name": "python",
   "nbconvert_exporter": "python",
   "pygments_lexer": "ipython3",
   "version": "3.7.9"
  }
 },
 "nbformat": 4,
 "nbformat_minor": 4
}
