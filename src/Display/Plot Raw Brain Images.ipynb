{
 "cells": [
  {
   "cell_type": "markdown",
   "metadata": {},
   "source": [
    "# Plot Raw Brain Images\n",
    "This script plots/displays multiple structural and functional MRI files for quick and easy checking. For my use-case, I'm checking the structural images for distortions and motion, and the functional images for alignment. The plots can also be interactive using the function: `view_img()`."
   ]
  },
  {
   "cell_type": "code",
   "execution_count": 1,
   "metadata": {},
   "outputs": [],
   "source": [
    "from os import listdir, makedirs\n",
    "from os.path import isfile, join, exists\n",
    "\n",
    "import numpy as np\n",
    "from nilearn import plotting, image"
   ]
  },
  {
   "cell_type": "markdown",
   "metadata": {},
   "source": [
    "## Plot Structural Images"
   ]
  },
  {
   "cell_type": "code",
   "execution_count": 2,
   "metadata": {},
   "outputs": [
    {
     "name": "stdout",
     "output_type": "stream",
     "text": [
      "Num desired subjects: 0\n"
     ]
    }
   ],
   "source": [
    "release = 7\n",
    "age = 5\n",
    "age_dir = f'/imaging3/owenlab/wilson/MovieData/Release{release}/Age{age}'\n",
    "\n",
    "# This list filters all subjects so we can only view the bad subjects\n",
    "desired_subjects = [\n",
    "    'sub-NDARAB055BPR',\n",
    "    'sub-NDARBE912PB0',\n",
    "    'sub-NDAREB953UMY',\n",
    "    'sub-NDARGK442YHH',\n",
    "    'sub-NDARJJ216EGT',\n",
    "    'sub-NDARRN047XHC',\n",
    "    'sub-NDARTV119WJK',\n",
    "    'sub-NDARTW456RAG',\n",
    "    'sub-NDARTY533VXQ',\n",
    "    'sub-NDARXK303DDB',\n",
    "]\n",
    "\n",
    "# Grab all subjects\n",
    "subjects = [folder for folder in listdir(age_dir) if folder.startswith(\"sub-\")]\n",
    "filtered_subjects = [subject for subject in subjects if subject in desired_subjects]\n",
    "print(\"Num subjects:\", len(filtered_subjects))"
   ]
  },
  {
   "cell_type": "code",
   "execution_count": null,
   "metadata": {},
   "outputs": [],
   "source": [
    "# For each subject, display their T1w scan\n",
    "for subject in filtered_subjects:\n",
    "    subject_path = join(age_dir, subject, \"sub-*_T1w.nii\")\n",
    "    img = image.load_img(subject_path)\n",
    "    plotting.plot_anat(img, title=subject, cut_coords=(0, 0, 0), \n",
    "                       dim=-1, cmap='magma')"
   ]
  },
  {
   "cell_type": "markdown",
   "metadata": {},
   "source": [
    "## Plot Functional Images"
   ]
  },
  {
   "cell_type": "code",
   "execution_count": 52,
   "metadata": {},
   "outputs": [
    {
     "name": "stdout",
     "output_type": "stream",
     "text": [
      "Num subjects: 2\n"
     ]
    }
   ],
   "source": [
    "release = 8\n",
    "age = 16\n",
    "norm_write_dir = f'/imaging3/owenlab/wilson/MovieData/Release{release}/Age{age}/BioBank_Analysis_All/aamod_norm_write_00001'\n",
    "subjects = [folder for folder in listdir(norm_write_dir) \n",
    "            if folder.startswith(\"sub-\")]\n",
    "print(\"Num subjects:\", len(subjects))"
   ]
  },
  {
   "cell_type": "code",
   "execution_count": 53,
   "metadata": {},
   "outputs": [
    {
     "name": "stdout",
     "output_type": "stream",
     "text": [
      "Subject: sub-NDARDW178AC6\n",
      "Subject: sub-NDARWE818UA6\n"
     ]
    }
   ],
   "source": [
    "start, end = 0, 25\n",
    "for subject in subjects[start:end]:\n",
    "    print(subject)"
   ]
  },
  {
   "cell_type": "code",
   "execution_count": null,
   "metadata": {},
   "outputs": [],
   "source": [
    "# For each subject, display their normalized fMRI\n",
    "nifti_file_num = 10  # Just a random number\n",
    "\n",
    "for subject in subjects[start:end]:\n",
    "    subject_path = join(norm_write_dir, subject)\n",
    "    \n",
    "    subject_nifti = [join(subject_path, f) for f in listdir(subject_path) \n",
    "                          if isfile(join(subject_path, f)) and f.startswith('wrsub')][nifti_file_num]\n",
    "    \n",
    "    plotting.plot_glass_brain(subject_nifti, title=subject, threshold=None, display_mode='lzr')"
   ]
  },
  {
   "cell_type": "markdown",
   "metadata": {},
   "source": [
    "### Display single fMRI"
   ]
  },
  {
   "cell_type": "code",
   "execution_count": null,
   "metadata": {},
   "outputs": [],
   "source": [
    "subject_path = '/imaging3/owenlab/wilson/MovieData/Release8/Age10/BioBank_Analysis_All/aamod_norm_write_00001/sub-NDARPL406KX4'\n",
    "\n",
    "files = [join(subject_path, f) for f in listdir(subject_path) if isfile(join(subject_path, f)) and f.startswith('wrsub') and f.endswith('.nii')]\n",
    "concat_file = image.concat_imgs(files)\n",
    "print(files[0])"
   ]
  },
  {
   "cell_type": "code",
   "execution_count": 12,
   "metadata": {},
   "outputs": [],
   "source": [
    "selected_volumes = image.index_img(concat_file, slice(3, 5))\n",
    "\n",
    "for img in image.iter_img(selected_volumes):\n",
    "    plotting.view_img(img)"
   ]
  },
  {
   "cell_type": "code",
   "execution_count": null,
   "metadata": {},
   "outputs": [],
   "source": [
    "plotting.plot_glass_brain(image.mean_img(concat_file), threshold=None, display_mode='lzr')"
   ]
  }
 ],
 "metadata": {
  "kernelspec": {
   "display_name": "venv",
   "language": "python",
   "name": "venv"
  },
  "language_info": {
   "codemirror_mode": {
    "name": "ipython",
    "version": 3
   },
   "file_extension": ".py",
   "mimetype": "text/x-python",
   "name": "python",
   "nbconvert_exporter": "python",
   "pygments_lexer": "ipython3",
   "version": "3.7.10"
  }
 },
 "nbformat": 4,
 "nbformat_minor": 4
}
